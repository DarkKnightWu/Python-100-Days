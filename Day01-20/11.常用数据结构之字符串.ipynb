{
 "cells": [
  {
   "cell_type": "markdown",
   "id": "835321b8",
   "metadata": {},
   "source": [
    "## 常用数据结构之字符串\n",
    "\n",
    "第二次世界大战促使了现代电子计算机的诞生，世界上的第一台通用电子计算机名叫 ENIAC（电子数值积分计算机），诞生于美国的宾夕法尼亚大学，占地167平米，重量约27吨，每秒钟大约能够完成约5000次浮点运算，如下图所示。ENIAC 诞生之后被应用于导弹弹道的计算，而数值计算也是现代电子计算机最为重要的一项功能。\n",
    "\n",
    "<img src=\"res/day11/eniac.jpg\" style=\"zoom:50%;\">\n",
    "\n",
    "随着时间的推移，虽然数值运算仍然是计算机日常工作中最为重要的组成部分，但是今天的计算机还要处理大量的以文本形式存在的信息。如果我们希望通过 Python 程序来操作本这些文本信息，就必须要先了解字符串这种数据类型以及与它相关的运算和方法。\n",
    "\n",
    "### 字符串的定义\n",
    "\n",
    "所谓**字符串**，就是**由零个或多个字符组成的有限序列**，一般记为：\n",
    "\n",
    "$$\n",
    "s = a_1a_2 \\cdots a_n \\,\\,\\,\\,\\, (0 \\le n \\le \\infty)\n",
    "$$\n",
    "\n",
    "在 Python 程序中，我们把单个或多个字符用单引号或者双引号包围起来，就可以表示一个字符串。字符串中的字符可以是特殊符号、英文字母、中文字符、日文的平假名或片假名、希腊字母、Emoji 字符（如：💩、🐷、🀄️）等。"
   ]
  },
  {
   "cell_type": "code",
   "execution_count": null,
   "id": "6cc32d35",
   "metadata": {},
   "outputs": [],
   "source": [
    "s1 = 'hello, world!'\n",
    "s2 = \"你好，世界！❤️\"\n",
    "s3 = '''hello,\n",
    "wonderful\n",
    "world!'''\n",
    "print(s1)\n",
    "print(s2)\n",
    "print(s3)"
   ]
  },
  {
   "cell_type": "markdown",
   "id": "a3b0d3c8",
   "metadata": {},
   "source": [
    "#### 转义字符\n",
    "\n",
    "我们可以在字符串中使用`\\`（反斜杠）来表示转义，也就是说`\\`后面的字符不再是它原来的意义，例如：`\\n`不是代表字符`\\`和字符`n`，而是表示换行；`\\t`也不是代表字符`\\`和字符`t`，而是表示制表符。所以如果字符串本身又包含了`'`、`\"`、`\\`这些特殊的字符，必须要通过`\\`进行转义处理。例如要输出一个带单引号或反斜杠的字符串，需要用如下所示的方法。"
   ]
  },
  {
   "cell_type": "code",
   "execution_count": null,
   "id": "cfd84021",
   "metadata": {},
   "outputs": [],
   "source": [
    "s1 = '\\'hello, world!\\''\n",
    "s2 = '\\\\hello, world!\\\\'\n",
    "print(s1)\n",
    "print(s2)"
   ]
  },
  {
   "cell_type": "markdown",
   "id": "bb64854e",
   "metadata": {},
   "source": [
    "#### 原始字符串\n",
    "\n",
    "Python 中有一种以`r`或`R`开头的字符串，这种字符串被称为原始字符串，意思是字符串中的每个字符都是它本来的含义，没有所谓的转义字符。例如，在字符串`'hello\\n'`中，`\\n`表示换行；而在`r'hello\\n'`中，`\\n`不再表示换行，就是字符`\\`和字符`n`。大家可以运行下面的代码，看看会输出什么。"
   ]
  },
  {
   "cell_type": "code",
   "execution_count": null,
   "id": "7b367012",
   "metadata": {},
   "outputs": [],
   "source": [
    "s1 = '\\it \\is \\time \\to \\read \\now'\n",
    "s2 = r'\\it \\is \\time \\to \\read \\now'\n",
    "print(s1)\n",
    "print(s2)"
   ]
  },
  {
   "cell_type": "markdown",
   "id": "4764b07e",
   "metadata": {},
   "source": [
    "> **说明**：上面的变量`s1`中，`\\t`、`\\r`和`\\n`都是转义字符。`\\t`是制表符（table），`\\n`是换行符（new line），`\\r`是回车符（carriage return）相当于让输出回到了行首。对比一下两个`print`函数的输出，看看到底有什么区别！\n",
    "\n",
    "#### 字符的特殊表示\n",
    "\n",
    "Python 中还允许在`\\`后面还可以跟一个八进制或者十六进制数来表示字符，例如`\\141`和`\\x61`都代表小写字母`a`，前者是八进制的表示法，后者是十六进制的表示法。另外一种表示字符的方式是在`\\u`后面跟 Unicode 字符编码，例如`\\u9a86\\u660a`代表的是中文“骆昊”。运行下面的代码，看看输出了什么。"
   ]
  },
  {
   "cell_type": "code",
   "execution_count": null,
   "id": "93f28fa4",
   "metadata": {},
   "outputs": [],
   "source": [
    "s1 = '\\141\\142\\143\\x61\\x62\\x63'\n",
    "s2 = '\\u9a86\\u660a'\n",
    "print(s1)\n",
    "print(s2)"
   ]
  },
  {
   "cell_type": "markdown",
   "id": "8d36a65e",
   "metadata": {},
   "source": [
    "### 字符串的运算\n",
    "\n",
    "Python 语言为字符串类型提供了非常丰富的运算符，有很多运算符跟列表类型的运算符作用类似。例如，我们可以使用`+`运算符来实现字符串的拼接，可以使用`*`运算符来重复一个字符串的内容，可以使用`in`和`not in`来判断一个字符串是否包含另外一个字符串，我们也可以用`[]`和`[:]`运算符从字符串取出某个字符或某些字符。\n",
    "\n",
    "#### 拼接和重复\n",
    "\n",
    "下面的例子演示了使用`+`和`*`运算符来实现字符串的拼接和重复操作。"
   ]
  },
  {
   "cell_type": "code",
   "execution_count": null,
   "id": "cea081ea",
   "metadata": {},
   "outputs": [],
   "source": [
    "s1 = 'hello' + ', ' + 'world'\n",
    "print(s1)    # hello, world\n",
    "s2 = '!' * 3\n",
    "print(s2)    # !!!\n",
    "s1 += s2\n",
    "print(s1)    # hello, world!!!\n",
    "s1 *= 2\n",
    "print(s1)    # hello, world!!!hello, world!!!"
   ]
  },
  {
   "cell_type": "markdown",
   "id": "1329b4d4",
   "metadata": {},
   "source": [
    "用`*`实现字符串的重复是非常有意思的一个运算符，在很多编程语言中，要表示一个有10个`a`的字符串，你只能写成`'aaaaaaaaaa'`，但是在 Python 中，你可以写成`'a' * 10`。你可能觉得`'aaaaaaaaaa'`这种写法也没有什么不方便的，但是请想一想，如果字符`a`要重复100次或者1000次又会如何呢？\n",
    "\n",
    "#### 比较运算\n",
    "\n",
    "对于两个字符串类型的变量，可以直接使用比较运算符来判断两个字符串的相等性或比较大小。需要说明的是，因为字符串在计算机内存中也是以二进制形式存在的，那么字符串的大小比较比的是每个字符对应的编码的大小。例如`A`的编码是`65`， 而`a`的编码是`97`，所以`'A' < 'a'`的结果相当于就是`65 < 97`的结果，这里很显然是`True`；而`'boy' < 'bad'`，因为第一个字符都是`'b'`比不出大小，所以实际比较的是第二个字符的大小，显然`'o' < 'a'`的结果是`False`，所以`'boy' < 'bad'`的结果是`False`。如果不清楚两个字符对应的编码到底是多少，可以使用`ord`函数来获得，之前我们有提到过这个函数。例如`ord('A')`的值是`65`，而`ord('昊')`的值是`26122`。下面的代码展示了字符串的比较运算，请大家仔细看看。"
   ]
  },
  {
   "cell_type": "code",
   "execution_count": null,
   "id": "1be2f5b2",
   "metadata": {},
   "outputs": [],
   "source": [
    "s1 = 'a whole new world'\n",
    "s2 = 'hello world'\n",
    "print(s1 == s2)             # False\n",
    "print(s1 < s2)              # True\n",
    "print(s1 == 'hello world')  # False\n",
    "print(s2 == 'hello world')  # True\n",
    "print(s2 != 'Hello world')  # True\n",
    "s3 = '骆昊'\n",
    "print(ord('骆'))            # 39558\n",
    "print(ord('昊'))            # 26122\n",
    "s4 = '王大锤'\n",
    "print(ord('王'))            # 29579\n",
    "print(ord('大'))            # 22823\n",
    "print(ord('锤'))            # 38180\n",
    "print(s3 >= s4)             # True\n",
    "print(s3 != s4)             # True"
   ]
  },
  {
   "cell_type": "markdown",
   "id": "a205e457",
   "metadata": {},
   "source": [
    "#### 成员运算\n",
    "\n",
    "Python 中可以用`in`和`not in`判断一个字符串中是否包含另外一个字符或字符串，跟列表类型一样，`in`和`not in`称为成员运算符，会产生布尔值`True`或`False`，代码如下所示。"
   ]
  },
  {
   "cell_type": "code",
   "execution_count": null,
   "id": "a36350ea",
   "metadata": {},
   "outputs": [],
   "source": [
    "s1 = 'hello, world'\n",
    "s2 = 'goodbye, world'\n",
    "print('wo' in s1)      # True\n",
    "print('wo' not in s2)  # False\n",
    "print(s2 in s1)        # False"
   ]
  },
  {
   "cell_type": "markdown",
   "id": "a594ac14",
   "metadata": {},
   "source": [
    "#### 获取字符串长度\n",
    "\n",
    "获取字符串长度跟获取列表元素个数一样，使用内置函数`len`，代码如下所示。"
   ]
  },
  {
   "cell_type": "code",
   "execution_count": null,
   "id": "2cb78b7f",
   "metadata": {},
   "outputs": [],
   "source": [
    "s = 'hello, world'\n",
    "print(len(s))                 # 12\n",
    "print(len('goodbye, world'))  # 14"
   ]
  },
  {
   "cell_type": "markdown",
   "id": "c0d9949c",
   "metadata": {},
   "source": [
    "#### 索引和切片\n",
    "\n",
    "字符串的索引和切片操作跟列表、元组几乎没有区别，因为字符串也是一种有序序列，可以通过正向或反向的整数索引访问其中的元素。但是有一点需要注意，因为**字符串是不可变类型**，所以**不能通过索引运算修改字符串中的字符**。"
   ]
  },
  {
   "cell_type": "code",
   "execution_count": null,
   "id": "b5b15209",
   "metadata": {},
   "outputs": [],
   "source": [
    "s = 'abc123456'\n",
    "n = len(s)\n",
    "print(s[0], s[-n])    # a a\n",
    "print(s[n-1], s[-1])  # 6 6\n",
    "print(s[2], s[-7])    # c c\n",
    "print(s[5], s[-4])    # 3 3\n",
    "print(s[2:5])         # c12\n",
    "print(s[-7:-4])       # c12\n",
    "print(s[2:])          # c123456\n",
    "print(s[:2])          # ab\n",
    "print(s[::2])         # ac246\n",
    "print(s[::-1])        # 654321cba"
   ]
  },
  {
   "cell_type": "markdown",
   "id": "b8f7cebe",
   "metadata": {},
   "source": [
    "需要再次提醒大家注意的是，在进行索引运算时，如果索引越界，会引发`IndexError`异常，错误提示信息为：`string index out of range`（字符串索引超出范围）。\n",
    "\n",
    "### 字符的遍历\n",
    "\n",
    "如果希望遍历字符串中的每个字符，可以使用`for-in`循环，有如下所示的两种方式。\n",
    "\n",
    "方式一："
   ]
  },
  {
   "cell_type": "code",
   "execution_count": null,
   "id": "9a129292",
   "metadata": {},
   "outputs": [],
   "source": [
    "s = 'hello'\n",
    "for i in range(len(s)):\n",
    "    print(s[i])"
   ]
  },
  {
   "cell_type": "markdown",
   "id": "82ad0e16",
   "metadata": {},
   "source": [
    "方式二："
   ]
  },
  {
   "cell_type": "code",
   "execution_count": null,
   "id": "177a7d77",
   "metadata": {},
   "outputs": [],
   "source": [
    "s = 'hello'\n",
    "for elem in s:\n",
    "    print(elem)"
   ]
  },
  {
   "cell_type": "markdown",
   "id": "881a7a30",
   "metadata": {},
   "source": [
    "### 字符串的方法\n",
    "\n",
    "在 Python 中，我们可以通过字符串类型自带的方法对字符串进行操作和处理，假设我们有名为`foo`的字符串，字符串有名为`bar`的方法，那么使用字符串方法的语法是：`foo.bar()`，这是一种通过对象引用调用对象方法的语法，跟前面使用列表方法的语法是一样的。\n",
    "\n",
    "#### 大小写相关操作\n",
    "\n",
    "下面的代码演示了和字符串大小写变换相关的方法。"
   ]
  },
  {
   "cell_type": "code",
   "execution_count": null,
   "id": "25989ab5",
   "metadata": {},
   "outputs": [],
   "source": [
    "s1 = 'hello, world!'\n",
    "# 字符串首字母大写\n",
    "print(s1.capitalize())  # Hello, world!\n",
    "# 字符串每个单词首字母大写\n",
    "print(s1.title())       # Hello, World!\n",
    "# 字符串变大写\n",
    "print(s1.upper())       # HELLO, WORLD!\n",
    "s2 = 'GOODBYE'\n",
    "# 字符串变小写\n",
    "print(s2.lower())       # goodbye\n",
    "# 检查s1和s2的值\n",
    "print(s1)               # hello, world\n",
    "print(s2)               # GOODBYE"
   ]
  },
  {
   "cell_type": "markdown",
   "id": "2630bad0",
   "metadata": {},
   "source": [
    "> **说明**：由于字符串是不可变类型，使用字符串的方法对字符串进行操作会产生新的字符串，但是原来变量的值并没有发生变化。所以上面的代码中，当我们最后检查`s1`和`s2`两个变量的值时，`s1`和`s2` 的值并没有发生变化。\n",
    "\n",
    "#### 查找操作\n",
    "\n",
    "如果想在一个字符串中从前向后查找有没有另外一个字符串，可以使用字符串的`find`或`index`方法。在使用`find`和`index`方法时还可以通过方法的参数来指定查找的范围，也就是查找不必从索引为`0`的位置开始。"
   ]
  },
  {
   "cell_type": "code",
   "execution_count": null,
   "id": "b866b28e",
   "metadata": {},
   "outputs": [],
   "source": [
    "s = 'hello, world!'\n",
    "print(s.find('or'))      # 8\n",
    "print(s.find('or', 9))   # -1\n",
    "print(s.find('of'))      # -1\n",
    "print(s.index('or'))     # 8\n",
    "print(s.index('or', 9))  # ValueError: substring not found"
   ]
  },
  {
   "cell_type": "markdown",
   "id": "5a1d2b0b",
   "metadata": {},
   "source": [
    ">**说明**：`find`方法找不到指定的字符串会返回`-1`，`index`方法找不到指定的字符串会引发`ValueError`错误。\n",
    "\n",
    "`find`和`index`方法还有逆向查找（从后向前查找）的版本，分别是`rfind`和`rindex`，代码如下所示。"
   ]
  },
  {
   "cell_type": "code",
   "execution_count": null,
   "id": "2b8a3726",
   "metadata": {},
   "outputs": [],
   "source": [
    "s = 'hello world!'\n",
    "print(s.find('o'))       # 4\n",
    "print(s.rfind('o'))      # 7\n",
    "print(s.rindex('o'))     # 7\n",
    "# print(s.rindex('o', 8))  # ValueError: substring not found"
   ]
  },
  {
   "cell_type": "markdown",
   "id": "af61e0f9",
   "metadata": {},
   "source": [
    "#### 性质判断\n",
    "\n",
    "可以通过字符串的`startswith`、`endswith`来判断字符串是否以某个字符串开头和结尾；还可以用`is`开头的方法判断字符串的特征，这些方法都返回布尔值，代码如下所示。"
   ]
  },
  {
   "cell_type": "code",
   "execution_count": null,
   "id": "75a0d0de",
   "metadata": {},
   "outputs": [],
   "source": [
    "s1 = 'hello, world!'\n",
    "print(s1.startswith('He'))   # False\n",
    "print(s1.startswith('hel'))  # True\n",
    "print(s1.endswith('!'))      # True\n",
    "s2 = 'abc123456'\n",
    "print(s2.isdigit())  # False\n",
    "print(s2.isalpha())  # False\n",
    "print(s2.isalnum())  # True"
   ]
  },
  {
   "cell_type": "markdown",
   "id": "8da94c37",
   "metadata": {},
   "source": [
    "> **说明**：上面的`isdigit`用来判断字符串是不是完全由数字构成的，`isalpha`用来判断字符串是不是完全由字母构成的，这里的字母指的是 Unicode 字符但不包含 Emoji 字符，`isalnum`用来判断字符串是不是由字母和数字构成的。\n",
    "\n",
    "#### 格式化\n",
    "\n",
    "在 Python 中，字符串类型可以通过`center`、`ljust`、`rjust`方法做居中、左对齐和右对齐的处理。如果要在字符串的左侧补零，也可以使用`zfill`方法。"
   ]
  },
  {
   "cell_type": "code",
   "execution_count": null,
   "id": "44e038f2",
   "metadata": {},
   "outputs": [],
   "source": [
    "s = 'hello, world'\n",
    "print(s.center(20, '*'))  # ****hello, world****\n",
    "print(s.rjust(20))        #         hello, world\n",
    "print(s.ljust(20, '~'))   # hello, world~~~~~~~~\n",
    "print('33'.zfill(5))      # 00033\n",
    "print('-33'.zfill(5))     # -0033"
   ]
  },
  {
   "cell_type": "markdown",
   "id": "22402389",
   "metadata": {},
   "source": [
    "我们之前讲过，在用`print`函数输出字符串时，可以用下面的方式对字符串进行格式化。"
   ]
  },
  {
   "cell_type": "code",
   "execution_count": null,
   "id": "10ea1362",
   "metadata": {},
   "outputs": [],
   "source": [
    "a = 321\n",
    "b = 123\n",
    "print('%d * %d = %d' % (a, b, a * b))"
   ]
  },
  {
   "cell_type": "markdown",
   "id": "3665a5ce",
   "metadata": {},
   "source": [
    "当然，我们也可以用字符串的`format`方法来完成字符串的格式，代码如下所示。"
   ]
  },
  {
   "cell_type": "code",
   "execution_count": null,
   "id": "cae87a22",
   "metadata": {},
   "outputs": [],
   "source": [
    "a = 321\n",
    "b = 123\n",
    "print('{0} * {1} = {2}'.format(a, b, a * b))"
   ]
  },
  {
   "cell_type": "markdown",
   "id": "bdb21e5d",
   "metadata": {},
   "source": [
    "从 Python 3.6 开始，格式化字符串还有更为简洁的书写方式，就是在字符串前加上`f`来格式化字符串，在这种以`f`打头的字符串中，`{变量名}`是一个占位符，会被变量对应的值将其替换掉，代码如下所示。"
   ]
  },
  {
   "cell_type": "code",
   "execution_count": null,
   "id": "98c5f59c",
   "metadata": {},
   "outputs": [],
   "source": [
    "a = 321\n",
    "b = 123\n",
    "print(f'{a} * {b} = {a * b}')"
   ]
  },
  {
   "cell_type": "markdown",
   "id": "da6c8f32",
   "metadata": {},
   "source": [
    "如果需要进一步控制格式化语法中变量值的形式，可以参照下面的表格来进行字符串格式化操作。\n",
    "\n",
    "| 变量值      | 占位符     | 格式化结果    | 说明 |\n",
    "| ----------- | ---------- | ------------- | ---- |\n",
    "| `3.1415926` | `{:.2f}`   | `'3.14'`      | 保留小数点后两位 |\n",
    "| `3.1415926` | `{:+.2f}`  | `'+3.14'`       | 带符号保留小数点后两位 |\n",
    "| `-1`        | `{:+.2f}`  | `'-1.00'` | 带符号保留小数点后两位 |\n",
    "| `3.1415926` | `{:.0f}`   | `'3'` | 不带小数 |\n",
    "| `123`       | `{:0>10d}` | `'0000000123'` | 左边补`0`，补够10位 |\n",
    "| `123`       | `{:x<10d}` | `'123xxxxxxx'` | 右边补`x` ，补够10位 |\n",
    "| `123`       | `{:>10d}`  | `'       123'` | 左边补空格，补够10位 |\n",
    "| `123`       | `{:<10d}` | `'123       '` | 右边补空格，补够10位 |\n",
    "| `123456789` | `{:,}`     | `'123,456,789'` | 逗号分隔格式 |\n",
    "| `0.123`     | `{:.2%}`   | `'12.30%'`    | 百分比格式 |\n",
    "| `123456789` | `{:.2e}`   | `'1.23e+08'`  | 科学计数法格式 |\n",
    "\n",
    "#### 修剪操作\n",
    "\n",
    "字符串的`strip`方法可以帮我们获得将原字符串修剪掉左右两端指定字符之后的字符串，默认是修剪空格字符。这个方法非常有实用价值，可以用来将用户输入时不小心键入的头尾空格等去掉，`strip`方法还有`lstrip`和`rstrip`两个版本，相信从名字大家已经猜出来这两个方法是做什么用的。"
   ]
  },
  {
   "cell_type": "code",
   "execution_count": null,
   "id": "6e17eb7a",
   "metadata": {},
   "outputs": [],
   "source": [
    "s1 = '   jackfrued@126.com  '\n",
    "print(s1.strip())      # jackfrued@126.com\n",
    "s2 = '~你好，世界~'\n",
    "print(s2.lstrip('~'))  # 你好，世界~\n",
    "print(s2.rstrip('~'))  # ~你好，世界"
   ]
  },
  {
   "cell_type": "markdown",
   "id": "f5f76ead",
   "metadata": {},
   "source": [
    "#### 替换操作\n",
    "\n",
    "如果希望用新的内容替换字符串中指定的内容，可以使用`replace`方法，代码如下所示。`replace`方法的第一个参数是被替换的内容，第二个参数是替换后的内容，还可以通过第三个参数指定替换的次数。"
   ]
  },
  {
   "cell_type": "code",
   "execution_count": null,
   "id": "fe2ce065",
   "metadata": {},
   "outputs": [],
   "source": [
    "s = 'hello, good world'\n",
    "print(s.replace('o', '@'))     # hell@, g@@d w@rld\n",
    "print(s.replace('o', '@', 1))  # hell@, good world"
   ]
  },
  {
   "cell_type": "markdown",
   "id": "8eee0f9b",
   "metadata": {},
   "source": [
    "#### 拆分与合并\n",
    "\n",
    "可以使用字符串的`split`方法将一个字符串拆分为多个字符串（放在一个列表中），也可以使用字符串的`join`方法将列表中的多个字符串连接成一个字符串，代码如下所示。"
   ]
  },
  {
   "cell_type": "code",
   "execution_count": null,
   "id": "e2bf402a",
   "metadata": {},
   "outputs": [],
   "source": [
    "s = 'I love you'\n",
    "words = s.split()\n",
    "print(words)            # ['I', 'love', 'you']\n",
    "print('~'.join(words))  # I~love~you"
   ]
  },
  {
   "cell_type": "markdown",
   "id": "3a778016",
   "metadata": {},
   "source": [
    "需要说明的是，`split`方法默认使用空格进行拆分，我们也可以指定其他的字符来拆分字符串，而且还可以指定最大拆分次数来控制拆分的效果，代码如下所示。"
   ]
  },
  {
   "cell_type": "code",
   "execution_count": null,
   "id": "ee3e6506",
   "metadata": {},
   "outputs": [],
   "source": [
    "s = 'I#love#you#so#much'\n",
    "words = s.split('#')\n",
    "print(words)  # ['I', 'love', 'you', 'so', 'much']\n",
    "words = s.split('#', 2)\n",
    "print(words)  # ['I', 'love', 'you#so#much']"
   ]
  },
  {
   "cell_type": "markdown",
   "id": "21644173",
   "metadata": {},
   "source": [
    "#### 编码和解码\n",
    "\n",
    "Python 中除了字符串`str`类型外，还有一种表示二进制数据的字节串类型（`bytes`）。所谓字节串，就是**由零个或多个字节组成的有限序列**。通过字符串的`encode`方法，我们可以按照某种编码方式将字符串编码为字节串，我们也可以使用字节串的`decode`方法，将字节串解码为字符串，代码如下所示。"
   ]
  },
  {
   "cell_type": "code",
   "execution_count": null,
   "id": "59909139",
   "metadata": {},
   "outputs": [],
   "source": [
    "a = '骆昊'\n",
    "b = a.encode('utf-8')\n",
    "c = a.encode('gbk')\n",
    "print(b)                  # b'\\xe9\\xaa\\x86\\xe6\\x98\\x8a'\n",
    "print(c)                  # b'\\xc2\\xe6\\xea\\xbb'\n",
    "print(b.decode('utf-8'))  # 骆昊\n",
    "print(c.decode('gbk'))    # 骆昊"
   ]
  },
  {
   "cell_type": "markdown",
   "id": "d3be3f33",
   "metadata": {},
   "source": [
    "注意，如果编码和解码的方式不一致，会导致乱码问题（无法再现原始的内容）或引发`UnicodeDecodeError`错误，导致程序崩溃。\n",
    "\n",
    "#### 其他方法\n",
    "\n",
    "对于字符串类型来说，还有一个常用的操作是对字符串进行匹配检查，即检查字符串是否满足某种特定的模式。例如，一个网站对用户注册信息中用户名和邮箱的检查，就属于模式匹配检查。实现模式匹配检查的工具叫做正则表达式，Python 语言通过标准库中的`re`模块提供了对正则表达式的支持，我们会在后续的课程中为大家讲解这个知识点。\n",
    "\n",
    "### 总结\n",
    "\n",
    "知道如何表示和操作字符串对程序员来说是非常重要的，因为我们经常需要处理文本信息，Python 中操作字符串可以用拼接、索引、切片等运算符，也可以使用字符串类型提供的非常丰富的方法。"
   ]
  }
 ],
 "metadata": {},
 "nbformat": 4,
 "nbformat_minor": 5
}
