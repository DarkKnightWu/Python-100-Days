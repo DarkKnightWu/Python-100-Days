{
 "cells": [
  {
   "cell_type": "markdown",
   "id": "2684cc79",
   "metadata": {},
   "source": [
    "## 分支和循环结构实战\n",
    "\n",
    "通过前面两节课的学习，大家对 Python 中的分支结构和循环结构已经有了初步的认知。**分支结构和循环结构是构造程序逻辑的基础**，它们的重要性不言而喻，但是对于初学者来说这也是比较困难的部分。很多人对分支结构和循环结构的语法是能够理解的，但是遇到实际问题的时候又无法下手；**看懂别人的代码很容易，但是要自己写出类似的代码却又很难**。如果你也有同样的问题和困惑，千万不要沮丧，这只是因为你的编程之旅才刚刚开始，**你的练习量还没有达到让你可以随心所欲写出代码的程度**，只要加强编程练习，通过量的积累来产生质的变化，这个问题迟早都会解决的。\n",
    "\n",
    "### 例子1：100以内的素数\n",
    "\n",
    "> **说明**：素数指的是只能被 1 和自身整除的正整数（不包括 1），之前我们写过判断素数的代码，这里相当于是一个升级版本。"
   ]
  },
  {
   "cell_type": "code",
   "execution_count": null,
   "id": "f6d8dbc9",
   "metadata": {},
   "outputs": [],
   "source": [
    "\"\"\"\n",
    "输出100以内的素数\n",
    "\n",
    "Version: 1.0\n",
    "Author: 骆昊\n",
    "\"\"\"\n",
    "for num in range(2, 100):\n",
    "    is_prime = True\n",
    "    for i in range(2, int(num ** 0.5) + 1):\n",
    "        if num % i == 0:\n",
    "            is_prime = False\n",
    "            break\n",
    "    if is_prime:\n",
    "        print(num)"
   ]
  },
  {
   "cell_type": "markdown",
   "id": "ba82a91d",
   "metadata": {},
   "source": [
    "### 例子2：斐波那契数列\n",
    "\n",
    "要求：输出斐波那契数列中的前 20 个数。\n",
    "\n",
    "> **说明**：斐波那契数列（Fibonacci sequence），通常也被称作黄金分割数列，是意大利数学家莱昂纳多·斐波那契（Leonardoda Fibonacci）在《计算之书》中研究理想假设条件下兔子成长率问题而引入的数列，因此这个数列也常被戏称为“兔子数列”。斐波那契数列的特点是数列的前两个数都是 1，从第三个数开始，每个数都是它前面两个数的和。按照这个规律，斐波那契数列的前 10 个数是：`1, 1, 2, 3, 5, 8, 13, 21, 34, 55`。斐波那契数列在现代物理、准晶体结构、化学等领域都有直接的应用。"
   ]
  },
  {
   "cell_type": "code",
   "execution_count": null,
   "id": "57c02483",
   "metadata": {},
   "outputs": [],
   "source": [
    "\"\"\"\n",
    "输出斐波那契数列中的前20个数\n",
    "\n",
    "Version: 1.0\n",
    "Author: 骆昊\n",
    "\"\"\"\n",
    "\n",
    "a, b = 0, 1\n",
    "for _ in range(20):\n",
    "    a, b = b, a + b\n",
    "    print(a)"
   ]
  },
  {
   "cell_type": "markdown",
   "id": "7a87e642",
   "metadata": {},
   "source": [
    "> **说明**：上面循环中的`a, b = b, a + b`表示将变量`b`的值赋给`a`，把`a + b`的值赋给`b`。通过这个递推公式，我们可以依次获得斐波那契数列中的数。\n",
    "\n",
    "### 例子3：寻找水仙花数\n",
    "\n",
    "要求：找出 100 到 999 范围内的所有水仙花数。\n",
    "\n",
    "> **提示**：在数论中，水仙花数（narcissistic number）也被称为超完全数字不变数、自恋数、自幂数、阿姆斯特朗数，它是一个 $\\small{N}$ 位非负整数，其各位数字的 $\\small{N}$ 次方和刚好等于该数本身，例如： $\\small{153 = 1^{3} + 5^{3} + 3^{3}}$ ，所以 153 是一个水仙花数； $\\small{1634 = 1^{4} + 6^{4} + 3^{4} + 4^{4}}$ ，所以 1634 也是一个水仙花数。对于三位数，解题的关键是将它拆分为个位、十位、百位，再判断是否满足水仙花数的要求，这一点利用 Python 中的`//`和`%`运算符其实很容易做到。"
   ]
  },
  {
   "cell_type": "code",
   "execution_count": null,
   "id": "9772c450",
   "metadata": {},
   "outputs": [],
   "source": [
    "\"\"\"\n",
    "找出100到999范围内的水仙花数\n",
    "\n",
    "Version: 1.0\n",
    "Author: 骆昊\n",
    "\"\"\"\n",
    "for num in range(100, 1000):\n",
    "    low = num % 10\n",
    "    mid = num // 10 % 10\n",
    "    high = num // 100\n",
    "    if num == low ** 3 + mid ** 3 + high ** 3:\n",
    "        print(num)"
   ]
  },
  {
   "cell_type": "markdown",
   "id": "b119af91",
   "metadata": {},
   "source": [
    "上面利用`//`和`%`拆分一个数的小技巧在写代码的时候还是很常用的。我们要将一个不知道有多少位的正整数进行反转，例如将 12389 变成 98321，也可以利用这两个运算来实现，代码如下所示。"
   ]
  },
  {
   "cell_type": "code",
   "execution_count": null,
   "id": "669940bd",
   "metadata": {},
   "outputs": [],
   "source": [
    "\"\"\"\n",
    "正整数的反转\n",
    "\n",
    "Version: 1.0\n",
    "Author: 骆昊\n",
    "\"\"\"\n",
    "num = int(input('num = '))\n",
    "reversed_num = 0\n",
    "while num > 0:\n",
    "    reversed_num = reversed_num * 10 + num % 10\n",
    "    num //= 10\n",
    "print(reversed_num)"
   ]
  },
  {
   "cell_type": "markdown",
   "id": "a750f590",
   "metadata": {},
   "source": [
    "### 例子4：百钱百鸡问题\n",
    "\n",
    "> **说明**：百钱百鸡是我国古代数学家张丘建在《算经》一书中提出的数学问题：鸡翁一值钱五，鸡母一值钱三，鸡雏三值钱一。百钱买百鸡，问鸡翁、鸡母、鸡雏各几何？翻译成现代文是：公鸡 5 元一只，母鸡 3 元一只，小鸡 1 元三只，用 100 块钱买一百只鸡，问公鸡、母鸡、小鸡各有多少只？"
   ]
  },
  {
   "cell_type": "code",
   "execution_count": null,
   "id": "a9927364",
   "metadata": {},
   "outputs": [],
   "source": [
    "\"\"\"\n",
    "百钱百鸡问题\n",
    "\n",
    "Version: 1.0\n",
    "Author: 骆昊\n",
    "\"\"\"\n",
    "for x in range(0, 21):\n",
    "    for y in range(0, 34):\n",
    "        for z in range(0, 100, 3):\n",
    "            if x + y + z == 100 and 5 * x + 3 * y + z // 3 == 100:\n",
    "                print(f'公鸡: {x}只, 母鸡: {y}只, 小鸡: {z}只')"
   ]
  },
  {
   "cell_type": "markdown",
   "id": "7ad178f0",
   "metadata": {},
   "source": [
    "上面使用的方法叫做**穷举法**，也称为**暴力搜索法**，这种方法通过一项一项的列举备选解决方案中所有可能的候选项，并检查每个候选项是否符合问题的描述，最终得到问题的解。上面的代码中，我们使用了嵌套的循环结构，假设公鸡有`x`只，显然`x`的取值范围是 0 到 20，假设母鸡有`y`只，它的取值范围是 0 到 33，假设小鸡有`z`只，它的取值范围是 0 到 99 且取值是 3 的倍数。这样，我们设置好 100 只鸡的条件`x + y + z == 100`，设置好 100 块钱的条件`5 * x + 3 * y + z // 3 == 100`，当两个条件同时满足时，就是问题的正确答案，我们用`print`函数输出它。这种方法看起来比较笨拙，但对于运算能力非常强大的计算机来说，通常都是一个可行的甚至是不错的选择，只要问题的解存在就能够找到它。\n",
    "\n",
    "事实上，上面的代码还有更好的写法，既然我们已经假设公鸡有`x`只，母鸡有`y`只，那么小鸡的数量就应该是`100 - x - y`，这样减少一个条件，我们就可以把上面三层嵌套的`for-in`循环改写为两层嵌套的`for-in`循环。循环次数减少了，代码的执行效率就有了显著的提升，如下所示。"
   ]
  },
  {
   "cell_type": "code",
   "execution_count": null,
   "id": "3aa216f6",
   "metadata": {},
   "outputs": [],
   "source": [
    "\"\"\"\n",
    "百钱百鸡问题\n",
    "\n",
    "Version: 1.1\n",
    "Author: 骆昊\n",
    "\"\"\"\n",
    "for x in range(0, 21):\n",
    "    for y in range(0, 34):\n",
    "        z = 100 - x - y\n",
    "        if z % 3 == 0 and 5 * x + 3 * y + z // 3 == 100:\n",
    "            print(f'公鸡: {x}只, 母鸡: {y}只, 小鸡: {z}只')"
   ]
  },
  {
   "cell_type": "markdown",
   "id": "12a06525",
   "metadata": {},
   "source": [
    "> **说明**：上面代码中的`z % 3 == 0`是为了确保小鸡的数量是 3 的倍数。\n",
    "\n",
    "### 例子5：CRAPS赌博游戏\n",
    "\n",
    "> **说明**：CRAPS又称花旗骰，是美国拉斯维加斯非常受欢迎的一种的桌上赌博游戏。该游戏使用两粒骰子，玩家通过摇两粒骰子获得点数进行游戏。简化后的规则是：玩家第一次摇骰子如果摇出了 7 点或 11 点，玩家胜；玩家第一次如果摇出 2 点、3 点或 12 点，庄家胜；玩家如果摇出其他点数则游戏继续，玩家重新摇骰子，如果玩家摇出了 7 点，庄家胜；如果玩家摇出了第一次摇的点数，玩家胜；其他点数玩家继续摇骰子，直到分出胜负。为了增加代码的趣味性，我们设定游戏开始时玩家有 1000 元的赌注，每局游戏开始之前，玩家先下注，如果玩家获胜就可以获得对应下注金额的奖励，如果庄家获胜，玩家就会输掉自己下注的金额。游戏结束的条件是玩家破产（输光所有的赌注）。"
   ]
  },
  {
   "cell_type": "code",
   "execution_count": null,
   "id": "d1f345e6",
   "metadata": {},
   "outputs": [],
   "source": [
    "\"\"\"\n",
    "Craps赌博游戏\n",
    "\n",
    "Version: 1.0\n",
    "Author: 骆昊\n",
    "\"\"\"\n",
    "import random\n",
    "\n",
    "money = 1000\n",
    "while money > 0:\n",
    "    print(f'你的总资产为: {money}元')\n",
    "    # 下注金额必须大于0且小于等于玩家的总资产\n",
    "    while True:\n",
    "        debt = int(input('请下注: '))\n",
    "        if 0 < debt <= money:\n",
    "            break\n",
    "    # 用两个1到6均匀分布的随机数相加模拟摇两颗色子得到的点数\n",
    "    first_point = random.randrange(1, 7) + random.randrange(1, 7)\n",
    "    print(f'\\n玩家摇出了{first_point}点')\n",
    "    if first_point == 7 or first_point == 11:\n",
    "        print('玩家胜!\\n')\n",
    "        money += debt\n",
    "    elif first_point == 2 or first_point == 3 or first_point == 12:\n",
    "        print('庄家胜!\\n')\n",
    "        money -= debt\n",
    "    else:\n",
    "        # 如果第一次摇色子没有分出胜负，玩家需要重新摇色子\n",
    "        while True:\n",
    "            current_point = random.randrange(1, 7) + random.randrange(1, 7)\n",
    "            print(f'玩家摇出了{current_point}点')\n",
    "            if current_point == 7:\n",
    "                print('庄家胜!\\n')\n",
    "                money -= debt\n",
    "                break\n",
    "            elif current_point == first_point:\n",
    "                print('玩家胜!\\n')\n",
    "                money += debt\n",
    "                break\n",
    "print('你破产了, 游戏结束!')"
   ]
  },
  {
   "cell_type": "markdown",
   "id": "4f953ea5",
   "metadata": {},
   "source": [
    "### 总结\n",
    "\n",
    "分支结构和循环结构都非常重要，是构造程序逻辑的基础，**一定要通过大量的练习来达到融会贯通**。我们可以用上面讲的花旗骰游戏作为一个标准，如果你能够很顺利的完成这段代码，那么分支结构和循环结构的知识你就已经很好的掌握了。"
   ]
  }
 ],
 "metadata": {},
 "nbformat": 4,
 "nbformat_minor": 5
}
