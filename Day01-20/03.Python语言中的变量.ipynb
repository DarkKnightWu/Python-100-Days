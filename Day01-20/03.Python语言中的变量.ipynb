{
 "cells": [
  {
   "cell_type": "markdown",
   "id": "5a5db61b",
   "metadata": {},
   "source": [
    "## Python语言中的变量\n",
    "\n",
    "对于想学习编程的新手来说，有两个问题可能是他们很想知道的，其一是“什么是（计算机）程序”，其二是“写（计算机）程序能做什么”。先说说我对这两个问题的理解：**程序是数据和指令的有序集合**，**写程序就是用数据和指令控制计算机做我们想让它做的事情**。今时今日，为什么有那么多人选择用 Python 语言来写程序，因为 Python 语言足够简单和强大。相较于 C、C++、Java 这样的编程语言，Python 对初学者和非专业人士更加友好，很多问题在 Python 语言中都能找到简单优雅的解决方案。接下来，我们就从最基础的语言元素开始，带大家认识和使用 Python 语言。\n",
    "\n",
    "### 一些常识\n",
    "\n",
    "在开始系统的学习 Python 编程之前，我们先来科普一些计算机的基础知识。计算机的硬件系统通常由五大部件构成，包括：**运算器**、**控制器**、**存储器**、**输入设备**和**输出设备**。其中，运算器和控制器放在一起就是我们常说的**中央处理器**（CPU），它的功能是执行各种运算和控制指令。刚才我们提到过，程序是指令的集合，写程序就是将一系列的指令按照某种方式组织到一起，然后通过这些指令去控制计算机做我们想让它做的事情。存储器可以分为**内部存储器**和**外部存储器**，前者就是我们常说的内存，它是中央处理器可以直接寻址的存储空间，程序在执行的过程中，对应的数据和指令需要加载到内存中。输入设备和输出设备经常被统称为 I/O 设备，键盘、鼠标、麦克风、摄像头是典型的输入设备，而显示器、打印机、扬声器等则是典型的输出设备。目前，我们使用的计算机基本大多是遵循“冯·诺依曼体系结构”的计算机，这种计算机有两个关键点：一是**将存储器与中央处理器分开**；二是**将数据以二进制方式编码**。\n",
    "\n",
    "二进制是一种“逢二进一”的计数法，跟人类使用的“逢十进一”的计数法本质是一样的。人类因为有十根手指，所以使用了十进制计数法，在计数时十根手指用完之后，就只能用进位的方式来表示更大的数值。当然凡事都有例外，玛雅人可能是因为长年光着脚的原因，把脚趾头也都用上了，于是他们使用了二十进制的计数法。基于这样的计数方式，玛雅人使用的历法跟我们平常使用的历法就产生了差异。按照玛雅人的历法，2012 年是上一个所谓的“太阳纪”的最后一年，而 2013 年则是新的“太阳纪”的开始。后来这件事情还被以讹传讹的方式误传为“2012 年是玛雅人预言的世界末日”的荒诞说法。今天有很多人猜测，玛雅文明之所以发展缓慢跟使用了二十进制是有关系的。对于计算机来说，二进制在物理器件上最容易实现的，因为可以用高电压表示 1，用低电压表示 0。不是所有写程序的人都需要熟悉二进制，熟悉十进制与二进制、八进制、十六进制的转换，大多数时候我们即便不了解这些知识也能写程序。但是，我们必须知道，计算机是使用二进制计数的，不管什么样的数据，到了计算机内存中都是以二进制形态存在的。\n",
    "\n",
    "> **说明**：关于二进制计数法以及它与其他进制如何相互转换，大家可以翻翻名为《计算机导论》或《计算机文化》的书，都能找到相应的知识，此处就不再进行赘述了，不清楚的读者可以自行研究。\n",
    "\n",
    "### 变量和类型\n",
    "\n",
    "要想在计算机的内存中保存数据，首先得说一说变量这个概念。在编程语言中，**变量是数据的载体**，简单的说就是一块用来保存数据的内存空间，**变量的值可以被读取和修改**，这是所有运算和控制的基础。计算机能处理的数据有很多种类型，最常见的就是数值，除了数值之外还有文本、图像、音频、视频等各种各样的数据类型。虽然数据在计算机中都是以二进制形态存在的，但是我们可以用不同类型的变量来表示数据类型的差异。Python 语言中预设了多种数据类型，也允许我们自定义新的数据类型，这一点在后面会讲到。我们首先来了解几种 Python 中最为常用的数据类型。\n",
    "\n",
    "1. 整型（`int`）：Python 中可以处理任意大小的整数，而且支持二进制（如`0b100`，换算成十进制是4）、八进制（如`0o100`，换算成十进制是64）、十进制（`100`）和十六进制（`0x100`，换算成十进制是256）的表示法。运行下面的代码，看看会输出什么。"
   ]
  },
  {
   "cell_type": "code",
   "execution_count": null,
   "id": "d6214c2d",
   "metadata": {},
   "outputs": [],
   "source": [
    "print(0b100)  # 二进制整数\n",
    "print(0o100)  # 八进制整数\n",
    "print(100)    # 十进制整数\n",
    "print(0x100)  # 十六进制整数"
   ]
  },
  {
   "cell_type": "markdown",
   "id": "9bdcab2e",
   "metadata": {},
   "source": [
    "2. 浮点型（`float`）：浮点数也就是小数，之所以称为浮点数，是因为按照科学记数法表示时，一个浮点数的小数点位置是可变的，浮点数除了数学写法（如`123.456`）之外还支持科学计数法（如`1.23456e2`，表示$\\small{1.23456 \\times 10^{2}}$）。运行下面的代码，看看会输出什么。"
   ]
  },
  {
   "cell_type": "code",
   "execution_count": 4,
   "id": "c66ec485",
   "metadata": {},
   "outputs": [
    {
     "name": "stdout",
     "output_type": "stream",
     "text": [
      "123.456\n",
      "123.456\n",
      "False\n",
      "True\n",
      "<class 'float'>\n",
      "<class 'float'>\n",
      "<class 'bool'>\n",
      "<class 'bool'>\n",
      "<class 'type'>\n"
     ]
    }
   ],
   "source": [
    "print(123.456)    # 数学写法\n",
    "print(1.23456e2)  # 科学计数法\n",
    "print(False)      # 布尔值\n",
    "print(True)       # 布尔值\n",
    "print(type(123.456))  # <class 'float'>\n",
    "print(type(1.23456e2))  # <class 'float'>\n",
    "print(type(False))  # <class 'bool'>\n",
    "print(type(True))   # <class 'bool'>\n",
    "print(type(type(True)))  # <class 'type'>"
   ]
  },
  {
   "cell_type": "markdown",
   "id": "e13e7025",
   "metadata": {},
   "source": [
    "3. 字符串型（`str`）：字符串是以单引号或双引号包裹起来的任意文本，比如`'hello'`和`\"hello\"`。\n",
    "\n",
    "4. 布尔型（`bool`）：布尔型只有`True`、`False`两种值，要么是`True`，要么是`False`，可以用来表示现实世界中的“是”和“否”，命题的“真”和“假”，状况的“好”与“坏”，水平的“高”与“低”等等。如果一个变量的值只有两种状态，我们就可以使用布尔型。\n",
    "\n",
    "### 变量命名\n",
    "\n",
    "对于每个变量，我们都需要给它取一个名字，就如同我们每个人都有自己的名字一样。在 Python 中，变量命名需要遵循以下的规则和惯例。\n",
    "\n",
    "- 规则部分：\n",
    "  - 规则1：变量名由**字母**、**数字**和**下划线**构成，数字不能开头。需要说明的是，这里说的字母指的是 Unicode 字符，Unicode 称为万国码，囊括了世界上大部分的文字系统，这也就意味着中文、日文、希腊字母等都可以作为变量名中的字符，但是一些特殊字符（如：`！`、`@`、`#`等）是不能出现在变量名中的。我们强烈建议大家把这里说的字母理解为**尽可能只使用英文字母**。\n",
    "  - 规则2：Python 是**大小写敏感**的编程语言，简单的说就是大写的`A`和小写的`a`是两个不同的变量，这一条其实并不算规则，而是需要大家注意的地方。\n",
    "  - 规则3：变量名**不要跟 Python 的关键字重名**，**尽可能避开 Python 的保留字**。这里的关键字是指在 Python 程序中有特殊含义的单词（如：`is`、`if`、`else`、`for`、`while`、`True`、`False`等），保留字主要指 Python 语言内置函数、内置模块等的名字（如：`int`、`print`、`input`、`str`、`math`、`os`等）。\n",
    "- 惯例部分：\n",
    "  - 惯例1：变量名通常使用**小写英文字母**，**多个单词用下划线进行连接**。\n",
    "  - 惯例2：受保护的变量用单个下划线开头。\n",
    "  - 惯例3：私有的变量用两个下划线开头。\n",
    "\n",
    "惯例2和惯例3大家暂时不用管，讲到后面自然会明白的。当然，作为一个专业的程序员，给变量命名时做到**见名知意**也是非常重要，这彰显了一个程序员的专业气质，很多开发岗位的面试也非常看重这一点。\n",
    "\n",
    "### 变量的使用\n",
    "\n",
    "下面通过例子来说明变量的类型和变量的使用。"
   ]
  },
  {
   "cell_type": "code",
   "execution_count": null,
   "id": "f29bcfe9",
   "metadata": {},
   "outputs": [],
   "source": [
    "\"\"\"\n",
    "使用变量保存数据并进行加减乘除运算\n",
    "\n",
    "Version: 1.0\n",
    "\n",
    "\"\"\"\n",
    "a = 45        # 定义变量a，赋值45\n",
    "b = 12        # 定义变量b，赋值12\n",
    "print(a, b)   # 45 12\n",
    "print(a + b)  # 57\n",
    "print(a - b)  # 33\n",
    "print(a * b)  # 540\n",
    "print(a / b)  # 3.75"
   ]
  },
  {
   "cell_type": "markdown",
   "id": "ad6089b2",
   "metadata": {},
   "source": [
    "在 Python 中可以使用`type`函数对变量的类型进行检查。程序设计中函数的概念跟数学上函数的概念非常类似，数学上的函数相信大家并不陌生，它包括了函数名、自变量和因变量。如果暂时不理解函数这个概念也不要紧，我们会在后续的内容中专门讲解函数的定义和使用。"
   ]
  },
  {
   "cell_type": "code",
   "execution_count": 8,
   "id": "995be5af",
   "metadata": {},
   "outputs": [
    {
     "name": "stdout",
     "output_type": "stream",
     "text": [
      "<class 'int'>\n",
      "<class 'float'>\n",
      "1234567.89\n",
      "<class 'str'>\n",
      "<class 'bool'>\n"
     ]
    }
   ],
   "source": [
    "\"\"\"\n",
    "使用type函数检查变量的类型\n",
    "\n",
    "Version: 1.0\n",
    "\n",
    "\"\"\"\n",
    "a = 100\n",
    "b = 123.45\n",
    "b1= 123.456789e4\n",
    "c = 'hello, world'\n",
    "d = True\n",
    "print(type(a))  # <class 'int'>\n",
    "print(type(b))  # <class 'float'>\n",
    "print(type(b1))  # <class 'float'>\n",
    "print(type(c))  # <class 'str'>\n",
    "print(type(d))  # <class 'bool'>"
   ]
  },
  {
   "cell_type": "markdown",
   "id": "b7ed66ea",
   "metadata": {},
   "source": [
    "可以通过 Python 内置的函数来改变变量的类型，下面是一些常用的和变量类型相关的函数。\n",
    "\n",
    "- `int()`：将一个数值或字符串转换成整数，可以指定进制。\n",
    "- `float()`：将一个字符串（在可能的情况下）转换成浮点数。\n",
    "- `str()`：将指定的对象转换成字符串形式，可以指定编码方式。\n",
    "- `chr()`：将整数（字符编码）转换成对应的（一个字符的）字符串。\n",
    "- `ord()`：将（一个字符的）字符串转换成对应的整数（字符编码）。\n",
    "\n",
    "下面的例子为大家演示了 Python 中类型转换的操作。"
   ]
  },
  {
   "cell_type": "code",
   "execution_count": 11,
   "id": "3e866d1f",
   "metadata": {},
   "outputs": [
    {
     "name": "stdout",
     "output_type": "stream",
     "text": [
      "100.0\n",
      "123\n",
      "123\n",
      "291\n",
      "4\n",
      "123.45\n",
      "True\n",
      "1\n",
      "d\n",
      "100\n"
     ]
    }
   ],
   "source": [
    "\"\"\"\n",
    "变量的类型转换操作\n",
    "\n",
    "Version: 1.0\n",
    "\n",
    "\"\"\"\n",
    "a = 100\n",
    "b = 123.45\n",
    "c = '123'\n",
    "d = '100'\n",
    "e = '123.45'\n",
    "f = 'hello, world'\n",
    "g = True\n",
    "print(float(a))         # int类型的100转成float，输出100.0\n",
    "print(int(b))           # float类型的123.45转成int，输出123\n",
    "print(int(c))           # str类型的'123'转成int，输出123\n",
    "print(int(c, base=16))  # str类型的'123'按十六进制转成int，输出291\n",
    "print(int(d, base=2))   # str类型的'100'按二进制转成int，输出4\n",
    "print(float(e))         # str类型的'123.45'转成float，输出123.45\n",
    "print(bool(f))          # str类型的'hello, world'转成bool，输出True\n",
    "print(int(g))           # bool类型的True转成int，输出1\n",
    "print(chr(a))           # int类型的100转成str，输出'd'\n",
    "print(ord('d'))         # str类型的'd'转成int，输出100"
   ]
  },
  {
   "cell_type": "markdown",
   "id": "c563c5bc",
   "metadata": {},
   "source": [
    "> **说明**：`str`类型转`int`类型时可以通过`base`参数来指定进制，可以将字符串视为对应进制的整数进行转换。`str`类型转成`bool`类型时，只要字符串有内容，不是`''`或`\"\"`，对应的布尔值都是`True`。`bool`类型转`int`类型时，`True`会变成`1`，`False`会变成`0`。在 ASCII 字符集和 Unicode 字符集中， 字符`'d'`对应的编码都是`100`。\n",
    "\n"
   ]
  },
  {
   "cell_type": "markdown",
   "id": "f2c9f4da",
   "metadata": {},
   "source": [
    "### 变量的作用域\n",
    "\n",
    "在编写程序时，我们经常会在不同的位置定义变量。变量的作用域（Scope）指的是变量在程序中可以被访问的范围。理解变量的作用域对于编写结构清晰、易于维护的代码非常重要。\n",
    "#### 1. 全局变量和局部变量\n",
    "全局变量：在函数外部定义的变量，作用域为整个模块（文件），可以在所有函数内部访问和修改（但修改时需用global声明）。\n",
    "局部变量：在函数内部定义的变量，只能在该函数内部访问，函数执行结束后，局部变量就会被销毁。\n",
    "来看一个例子："
   ]
  },
  {
   "cell_type": "code",
   "execution_count": 2,
   "id": "fc90321b",
   "metadata": {},
   "outputs": [
    {
     "name": "stdout",
     "output_type": "stream",
     "text": [
      "Hello, Python!\n",
      "你好，小明\n",
      "Hello, Python!\n",
      "张三\n"
     ]
    }
   ],
   "source": [
    "message = 'Hello, Python!'  # 全局变量\n",
    "name = '张三'  # 全局变量\n",
    "\n",
    "def greet():\n",
    "    name = '小明'  # 局部变量\n",
    "    print(message)  # 可以访问全局变量\n",
    "    print('你好，' + name)\n",
    "\n",
    "greet()\n",
    "print(message)  # 可以访问全局变量\n",
    "print(name)  # 可以访问全局变量\n",
    "# print(name)   # 这一行会报错，因为name是局部变量"
   ]
  },
  {
   "cell_type": "markdown",
   "id": "522cf522",
   "metadata": {},
   "source": [
    "#### 2. global 关键字\n",
    "\n",
    "如果你想在函数内部修改全局变量的值，需要使用global关键字进行声明："
   ]
  },
  {
   "cell_type": "code",
   "execution_count": 6,
   "id": "f3f7dc5e",
   "metadata": {},
   "outputs": [
    {
     "name": "stdout",
     "output_type": "stream",
     "text": [
      "1\n"
     ]
    }
   ],
   "source": [
    "count = 0\n",
    "\n",
    "def increase():\n",
    "    global count  # 声明要使用全局变量\n",
    "    count += 1\n",
    "\n",
    "increase()\n",
    "print(count)  # 输出1"
   ]
  },
  {
   "cell_type": "markdown",
   "id": "c211aa85",
   "metadata": {},
   "source": [
    "#### 3. 变量的生命周期\n",
    "全局变量的生命周期：从定义开始直到程序结束。\n",
    "局部变量的生命周期：从函数调用开始到函数执行结束。"
   ]
  },
  {
   "cell_type": "code",
   "execution_count": 3,
   "id": "23d17208",
   "metadata": {},
   "outputs": [
    {
     "name": "stdout",
     "output_type": "stream",
     "text": [
      "函数内部a = 10\n",
      "函数内部可以访问全局变量b = 20\n",
      "函数外部也可以访问全局变量b = 20\n"
     ]
    }
   ],
   "source": [
    "def foo():\n",
    "    a = 10  # 局部变量a，只在foo函数内部有效\n",
    "    print(\"函数内部a =\", a)\n",
    "\n",
    "foo()\n",
    "# print(a)  # 这一行会报错，因为a是局部变量，函数执行完后就被销毁\n",
    "\n",
    "b = 20  # 全局变量b\n",
    "def bar():\n",
    "    print(\"函数内部可以访问全局变量b =\", b)\n",
    "\n",
    "bar()\n",
    "print(\"函数外部也可以访问全局变量b =\", b)"
   ]
  },
  {
   "cell_type": "markdown",
   "id": "bb9ac0d5",
   "metadata": {},
   "source": [
    "\n",
    "#### 4. 嵌套函数与 nonlocal\n",
    "在函数内部还可以定义函数，这时如果要修改外层函数的变量，可以用nonlocal关键字："
   ]
  },
  {
   "cell_type": "code",
   "execution_count": 7,
   "id": "4b19ac51",
   "metadata": {},
   "outputs": [
    {
     "name": "stdout",
     "output_type": "stream",
     "text": [
      "内部x: 15\n",
      "内部y: 101\n",
      "外部x: 15\n",
      "101\n"
     ]
    }
   ],
   "source": [
    "y=100 #全局变量\n",
    "def outer():\n",
    "    x = 10 #局部变量\n",
    "    def inner():\n",
    "        nonlocal x\n",
    "        global y\n",
    "        x += 5\n",
    "        y += 1\n",
    "        print('内部x:', x)\n",
    "        print('内部y:', y)\n",
    "    inner()\n",
    "    print('外部x:', x)\n",
    "\n",
    "outer()\n",
    "print(y)"
   ]
  },
  {
   "cell_type": "markdown",
   "id": "34aa28e7",
   "metadata": {},
   "source": [
    "### 总结\n",
    "\n",
    "在 Python 程序中，我们可以**使用变量来保存数据**，**变量有不同的类型**，常用的类型有`int`、`float`、`str`和`bool`。在有需要的情况下，可以通过 Python 内置的函数对变量进行类型转换。变量是可以做运算的，这是解决很多问题的先决条件，我们会在下一课中为大家详细介绍变量的运算。"
   ]
  },
  {
   "cell_type": "markdown",
   "id": "9519c341",
   "metadata": {
    "vscode": {
     "languageId": "raw"
    }
   },
   "source": [
    "### 变量的赋值机制\n",
    "\n",
    "Python 中的变量赋值有很多灵活的方式，掌握这些赋值技巧可以让代码更加简洁优雅。\n",
    "\n",
    "#### 1. 多重赋值（序列解包）\n",
    "Python 支持同时给多个变量赋值，这种方式叫做序列解包或多重赋值：\n"
   ]
  },
  {
   "cell_type": "code",
   "execution_count": 14,
   "id": "d31207d1",
   "metadata": {},
   "outputs": [
    {
     "name": "stdout",
     "output_type": "stream",
     "text": [
      "a=1, b=2, c=3\n",
      "交换前: x=10, y=20\n",
      "交换后: x=20, y=10\n",
      "姓名: 张三, 年龄: 25\n",
      "第一个: 1\n",
      "中间的: [2, 3, 4]\n",
      "最后一个: 5\n"
     ]
    }
   ],
   "source": [
    "# 多重赋值示例\n",
    "a, b, c = 1, 2, 3\n",
    "print(f\"a={a}, b={b}, c={c}\")\n",
    "\n",
    "# 交换变量值的优雅方式\n",
    "x, y = 10, 20\n",
    "print(f\"交换前: x={x}, y={y}\")\n",
    "x, y = y, x\n",
    "print(f\"交换后: x={x}, y={y}\")\n",
    "\n",
    "# 一次性获取多个函数返回值\n",
    "def get_name_age():\n",
    "    return \"张三\", 25\n",
    "\n",
    "name, age = get_name_age()\n",
    "print(f\"姓名: {name}, 年龄: {age}\")\n",
    "\n",
    "# 使用 * 收集剩余元素\n",
    "first, *middle, last = [1, 2, 3, 4, 5]\n",
    "print(f\"第一个: {first}\")\n",
    "print(f\"中间的: {middle}\")\n",
    "print(f\"最后一个: {last}\")\n"
   ]
  },
  {
   "cell_type": "markdown",
   "id": "e2599bff",
   "metadata": {
    "vscode": {
     "languageId": "raw"
    }
   },
   "source": [
    "#### 2. 链式赋值\n",
    "可以同时给多个变量赋相同的值：\n"
   ]
  },
  {
   "cell_type": "code",
   "execution_count": 16,
   "id": "292b739f",
   "metadata": {},
   "outputs": [
    {
     "name": "stdout",
     "output_type": "stream",
     "text": [
      "a=0, b=0, c=0\n",
      "list1: [1, 1]\n",
      "list2: [1, 1]\n",
      "list3: [1, 1]\n",
      "list3: [2]\n",
      "list4: []\n"
     ]
    }
   ],
   "source": [
    "# 链式赋值示例\n",
    "a = b = c = 0\n",
    "print(f\"a={a}, b={b}, c={c}\")\n",
    "\n",
    "# 注意：对于可变对象要小心链式赋值\n",
    "list1 = list2 = []  # 两个变量指向同一个列表\n",
    "list3 = list1;\n",
    "list3.append(1)\n",
    "list1.append(1)\n",
    "print(f\"list1: {list1}\")  # [1]\n",
    "print(f\"list2: {list2}\")  # [1] - 也被修改了！\n",
    "print(f\"list3: {list3}\")  # [1] - 也被修改了！\n",
    "\n",
    "# 正确的方式\n",
    "list3 = []\n",
    "list4 = []  # 或者 list4 = list(list3) 或 list4 = list3.copy()\n",
    "list3.append(2)\n",
    "print(f\"list3: {list3}\")  # [2]\n",
    "print(f\"list4: {list4}\")  # [] - 没有被修改\n"
   ]
  },
  {
   "cell_type": "markdown",
   "id": "212b5b1f",
   "metadata": {
    "vscode": {
     "languageId": "raw"
    }
   },
   "source": [
    "#### 3. 增强赋值运算符\n",
    "Python 提供了一系列增强赋值运算符，可以让代码更加简洁：\n"
   ]
  },
  {
   "cell_type": "code",
   "execution_count": 17,
   "id": "ddfdb485",
   "metadata": {},
   "outputs": [
    {
     "name": "stdout",
     "output_type": "stream",
     "text": [
      "初始值: 10\n",
      "num += 5 后: 15\n",
      "num -= 3 后: 12\n",
      "num *= 2 后: 24\n",
      "num /= 4 后: 6.0\n",
      "num //= 2 后: 3.0\n",
      "num **= 3 后: 27.0\n",
      "字符串连接: Hello, World!\n",
      "列表扩展: [1, 2, 3, 4, 5]\n"
     ]
    }
   ],
   "source": [
    "# 增强赋值运算符示例\n",
    "num = 10\n",
    "print(f\"初始值: {num}\")\n",
    "\n",
    "num += 5    # 等价于 num = num + 5\n",
    "print(f\"num += 5 后: {num}\")\n",
    "\n",
    "num -= 3    # 等价于 num = num - 3\n",
    "print(f\"num -= 3 后: {num}\")\n",
    "\n",
    "num *= 2    # 等价于 num = num * 2\n",
    "print(f\"num *= 2 后: {num}\")\n",
    "\n",
    "num /= 4    # 等价于 num = num / 4\n",
    "print(f\"num /= 4 后: {num}\")\n",
    "\n",
    "num //= 2   # 等价于 num = num // 2（整除）\n",
    "print(f\"num //= 2 后: {num}\")\n",
    "\n",
    "num **= 3   # 等价于 num = num ** 3（幂运算）\n",
    "print(f\"num **= 3 后: {num}\")\n",
    "\n",
    "# 字符串也可以使用增强赋值运算符\n",
    "message = \"Hello\"\n",
    "message += \", World!\"\n",
    "print(f\"字符串连接: {message}\")\n",
    "\n",
    "# 列表也可以使用\n",
    "numbers = [1, 2, 3]\n",
    "numbers += [4, 5]\n",
    "print(f\"列表扩展: {numbers}\")\n"
   ]
  },
  {
   "cell_type": "markdown",
   "id": "17cded47",
   "metadata": {
    "vscode": {
     "languageId": "raw"
    }
   },
   "source": [
    "### Python的小整数缓存机制\n",
    "\n",
    "在讨论变量的内存管理之前，我们先来了解一个Python中非常重要的优化机制——**小整数缓存**。\n",
    "\n",
    "#### 什么是小整数？\n",
    "Python中的**小整数**指的是范围在 **-5 到 256** 之间的整数。Python解释器在启动时会预先创建这些整数对象并将它们缓存在内存中，这样当程序使用这些数值时，就直接使用缓存中的对象，而不是创建新的对象。\n",
    "\n",
    "#### 为什么要缓存小整数？\n",
    "1. **高频使用**：这些数字在程序中使用频率极高（如数组索引、循环计数器等）\n",
    "2. **内存节省**：避免创建大量相同的小整数对象\n",
    "3. **性能优化**：减少对象创建和销毁的开销\n"
   ]
  },
  {
   "cell_type": "code",
   "execution_count": null,
   "id": "c819fd91",
   "metadata": {},
   "outputs": [],
   "source": [
    "# 小整数缓存机制演示\n",
    "\n",
    "print(\"=== 小整数缓存范围：-5 到 256 ===\")\n",
    "\n",
    "# 1. 测试小整数缓存\n",
    "print(\"1. 小整数（-5 到 256）会被缓存：\")\n",
    "a = 100\n",
    "b = 100\n",
    "print(f\"a = 100, b = 100\")\n",
    "print(f\"a的内存地址: {id(a)}\")\n",
    "print(f\"b的内存地址: {id(b)}\")\n",
    "print(f\"a is b: {a is b}\")  # True，指向同一个对象\n",
    "print(f\"a == b: {a == b}\")  # True，值相等\n",
    "\n",
    "# 2. 测试缓存边界值\n",
    "print(\"\\n2. 测试缓存边界：\")\n",
    "# 下边界 -5\n",
    "x1, x2 = -5, -5\n",
    "print(f\"-5: x1 is x2 = {x1 is x2} (被缓存)\")\n",
    "\n",
    "# 超出下边界 -6\n",
    "y1, y2 = -6, -6\n",
    "print(f\"-6: y1 is y2 = {y1 is y2} (不被缓存)\")\n",
    "\n",
    "# 上边界 256\n",
    "z1, z2 = 256, 256\n",
    "print(f\"256: z1 is z2 = {z1 is z2} (被缓存)\")\n",
    "\n",
    "# 超出上边界 257\n",
    "w1, w2 = 257, 257\n",
    "print(f\"257: w1 is w2 = {w1 is w2} (不被缓存)\")\n",
    "\n",
    "# 3. 大整数不会被缓存\n",
    "print(\"\\n3. 大整数不会被缓存：\")\n",
    "c = 1000\n",
    "d = 1000\n",
    "print(f\"c = 1000, d = 1000\")\n",
    "print(f\"c的内存地址: {id(c)}\")\n",
    "print(f\"d的内存地址: {id(d)}\")\n",
    "print(f\"c is d: {c is d}\")  # False，创建了不同的对象\n",
    "print(f\"c == d: {c == d}\")  # True，但值相等\n",
    "\n",
    "# 4. 动态创建的小整数仍然使用缓存\n",
    "print(\"\\n4. 动态创建的小整数仍然使用缓存：\")\n",
    "e = int(\"100\")  # 字符串转换\n",
    "f = 50 + 50     # 表达式计算\n",
    "g = 200 // 2    # 整除运算\n",
    "print(f\"e = int('100'): {id(e)}\")\n",
    "print(f\"f = 50 + 50: {id(f)}\")\n",
    "print(f\"g = 200 // 2: {id(g)}\")\n",
    "print(f\"a = 100: {id(a)}\")\n",
    "print(f\"都指向同一个对象: {e is f is g is a}\")\n",
    "\n",
    "# 5. 证明缓存的存在\n",
    "print(\"\\n5. 验证缓存范围的完整性：\")\n",
    "def test_cache_range():\n",
    "    \"\"\"测试并显示哪些整数被缓存\"\"\"\n",
    "    cached = []\n",
    "    not_cached = []\n",
    "    \n",
    "    # 测试 -10 到 300 的范围\n",
    "    for i in [-10, -6, -5, 0, 1, 100, 255, 256, 257, 300]:\n",
    "        x = i\n",
    "        y = i\n",
    "        if x is y:\n",
    "            cached.append(i)\n",
    "        else:\n",
    "            not_cached.append(i)\n",
    "    \n",
    "    print(f\"被缓存的整数: {cached}\")\n",
    "    print(f\"未被缓存的整数: {not_cached}\")\n",
    "\n",
    "test_cache_range()\n",
    "\n",
    "# 6. 实际影响演示\n",
    "print(\"\\n6. 小整数缓存的实际意义：\")\n",
    "import sys\n",
    "\n",
    "# 对于小整数，多个变量共享同一个对象\n",
    "small_numbers = [100] * 1000  # 创建1000个100\n",
    "print(f\"1000个小整数100的引用计数: {sys.getrefcount(100)}\")\n",
    "\n",
    "# 对于大整数，每个变量都是独立的对象\n",
    "large_numbers = [1000 for _ in range(5)]  # 创建5个1000\n",
    "print(f\"第一个1000的引用计数: {sys.getrefcount(large_numbers[0])}\")\n",
    "print(f\"各个1000是否是同一对象: {all(large_numbers[0] is x for x in large_numbers)}\")\n",
    "\n",
    "print(\"\\n总结：小整数缓存是Python的重要优化机制！\")\n"
   ]
  },
  {
   "cell_type": "markdown",
   "id": "34d5483f",
   "metadata": {
    "vscode": {
     "languageId": "raw"
    }
   },
   "source": [
    "#### 小整数缓存的重要特点\n",
    "\n",
    "1. **缓存范围**：-5 到 256（共262个整数）\n",
    "2. **启动时创建**：Python解释器启动时就预先创建了这些对象\n",
    "3. **全局共享**：所有使用这些数值的变量都指向同一个对象\n",
    "4. **不可修改**：整数是不可变对象，不能被修改\n",
    "\n",
    "#### 实际编程中的影响\n",
    "\n",
    "1. **比较操作**：\n",
    "   - 对于小整数，`is` 和 `==` 都返回 `True`\n",
    "   - 对于大整数，`is` 返回 `False`，但 `==` 返回 `True`\n",
    "   \n",
    "2. **内存优化**：\n",
    "   - 大量使用小整数时，内存使用更高效\n",
    "   - 减少了垃圾回收的压力\n",
    "\n",
    "3. **性能提升**：\n",
    "   - 避免了重复创建对象的开销\n",
    "   - 提高了程序运行速度\n",
    "\n",
    "#### 注意事项\n",
    "\n",
    "⚠️ **重要提醒**：\n",
    "- 不要依赖 `is` 运算符来比较整数，特别是超出缓存范围的整数\n",
    "- 总是使用 `==` 来比较数值是否相等\n",
    "- `is` 运算符用于判断是否为同一个对象，`==` 用于判断值是否相等\n",
    "\n",
    "这个缓存机制是 CPython 实现的优化，其他 Python 实现（如 PyPy、Jython）可能有不同的缓存策略。\n"
   ]
  },
  {
   "cell_type": "code",
   "execution_count": null,
   "id": "e47ee5fc",
   "metadata": {},
   "outputs": [],
   "source": [
    "# 深入理解 is vs == 的区别\n",
    "\n",
    "print(\"=== is 与 == 的区别演示 ===\")\n",
    "\n",
    "# 1. 小整数比较\n",
    "print(\"1. 小整数比较：\")\n",
    "a = 42\n",
    "b = 42\n",
    "print(f\"a = 42, b = 42\")\n",
    "print(f\"a == b: {a == b} (值相等)\")\n",
    "print(f\"a is b: {a is b} (同一对象)\")\n",
    "print(f\"内存地址相同: {id(a) == id(b)}\")\n",
    "\n",
    "# 2. 大整数比较\n",
    "print(\"\\n2. 大整数比较：\")\n",
    "c = 999\n",
    "d = 999\n",
    "print(f\"c = 999, d = 999\") \n",
    "print(f\"c == d: {c == d} (值相等)\")\n",
    "print(f\"c is d: {c is d} (不是同一对象)\")\n",
    "print(f\"内存地址不同: {id(c)} != {id(d)}\")\n",
    "\n",
    "# 3. 其他缓存对象的例子\n",
    "print(\"\\n3. 其他被缓存的对象：\")\n",
    "\n",
    "# 空字符串\n",
    "str1 = \"\"\n",
    "str2 = \"\"\n",
    "print(f\"空字符串: str1 is str2 = {str1 is str2}\")\n",
    "\n",
    "# 单字符字符串 \n",
    "char1 = \"a\"\n",
    "char2 = \"a\"\n",
    "print(f\"单字符: char1 is char2 = {char1 is char2}\")\n",
    "\n",
    "# None\n",
    "none1 = None\n",
    "none2 = None\n",
    "print(f\"None: none1 is none2 = {none1 is none2}\")\n",
    "\n",
    "# True/False\n",
    "bool1 = True\n",
    "bool2 = True\n",
    "print(f\"True: bool1 is bool2 = {bool1 is bool2}\")\n",
    "\n",
    "# 4. 实际编程建议\n",
    "print(\"\\n4. 实际编程建议：\")\n",
    "\n",
    "def check_number(num):\n",
    "    \"\"\"检查数字的示例函数\"\"\"\n",
    "    # ✅ 正确的方式：使用 == 比较值\n",
    "    if num == 0:\n",
    "        return \"零\"\n",
    "    elif num == 1:\n",
    "        return \"一\"\n",
    "    elif num == -1:\n",
    "        return \"负一\"\n",
    "    else:\n",
    "        return \"其他数字\"\n",
    "\n",
    "# ❌ 错误的方式（虽然对小整数可能有效，但不推荐）\n",
    "def bad_check_number(num):\n",
    "    \"\"\"不推荐的检查方式\"\"\"\n",
    "    if num is 0:  # 不推荐！\n",
    "        return \"零\"\n",
    "    else:\n",
    "        return \"非零\"\n",
    "\n",
    "# 测试\n",
    "test_numbers = [0, 1, 42, 257, 1000]\n",
    "for num in test_numbers:\n",
    "    print(f\"数字 {num}: {check_number(num)}\")\n",
    "\n",
    "# 5. 性能测试（简单演示）\n",
    "print(\"\\n5. 简单性能对比：\")\n",
    "import time\n",
    "\n",
    "# 测试小整数的创建（实际上是从缓存获取）\n",
    "start = time.time()\n",
    "for _ in range(100000):\n",
    "    x = 100\n",
    "end = time.time()\n",
    "print(f\"创建100000个小整数(100)耗时: {end - start:.6f}秒\")\n",
    "\n",
    "# 测试大整数的创建\n",
    "start = time.time()  \n",
    "for _ in range(100000):\n",
    "    x = 999999\n",
    "end = time.time()\n",
    "print(f\"创建100000个大整数(999999)耗时: {end - start:.6f}秒\")\n",
    "\n",
    "print(\"\\n记住：在实际编程中，总是使用 == 来比较值，使用 is 来比较对象身份！\")\n"
   ]
  },
  {
   "cell_type": "markdown",
   "id": "5afa93ad",
   "metadata": {
    "vscode": {
     "languageId": "raw"
    }
   },
   "source": [
    "### 变量的内存管理\n",
    "\n",
    "理解 Python 中变量的内存管理机制对于编写高效的程序非常重要。在 Python 中，变量实际上是对象的引用。\n",
    "\n",
    "#### 1. 变量的引用机制\n",
    "Python 中的变量不直接存储数据，而是存储对象的引用（内存地址）：\n"
   ]
  },
  {
   "cell_type": "code",
   "execution_count": 21,
   "id": "f1e55e13",
   "metadata": {},
   "outputs": [
    {
     "name": "stdout",
     "output_type": "stream",
     "text": [
      "a的值: 100, 内存地址: 4383469320\n",
      "b的值: 100, 内存地址: 4383469320\n",
      "c的值: 102, 内存地址: 4383469384\n",
      "a和b是否指向同一个对象: True\n",
      "b和c的值是否相等: False\n",
      "c的值: 1000, 内存地址: 4509754256\n",
      "d的值: 1000, 内存地址: 4509755088\n",
      "c和d是否指向同一个对象: False\n",
      "str1的内存地址: 4468739456\n",
      "str2的内存地址: 4468739456\n",
      "str1和str2是否指向同一个对象: True\n",
      "list1的内存地址: 4510545216\n",
      "list2的内存地址: 4510547264\n",
      "list1和list2是否指向同一个对象: False\n",
      "list1和list2的值是否相等: True\n"
     ]
    }
   ],
   "source": [
    "# 变量引用机制示例\n",
    "# 对于小整数，Python会缓存对象\n",
    "a = 100\n",
    "b = 100\n",
    "c = b\n",
    "c = 102\n",
    "print(f\"a的值: {a}, 内存地址: {id(a)}\")\n",
    "print(f\"b的值: {b}, 内存地址: {id(b)}\")\n",
    "print(f\"c的值: {c}, 内存地址: {id(c)}\")\n",
    "print(f\"a和b是否指向同一个对象: {a is b}\")\n",
    "print(f\"b和c的值是否相等: {c is b}\")\n",
    "\n",
    "# 对于大整数，Python不会缓存对象\n",
    "c = 1000\n",
    "d = 1000\n",
    "print(f\"c的值: {c}, 内存地址: {id(c)}\")\n",
    "print(f\"d的值: {d}, 内存地址: {id(d)}\")\n",
    "print(f\"c和d是否指向同一个对象: {c is d}\")\n",
    "\n",
    "# 字符串的情况\n",
    "str1 = \"hello\"\n",
    "str2 = \"hello\"\n",
    "print(f\"str1的内存地址: {id(str1)}\")\n",
    "print(f\"str2的内存地址: {id(str2)}\")\n",
    "print(f\"str1和str2是否指向同一个对象: {str1 is str2}\")\n",
    "\n",
    "# 列表的情况（可变对象）\n",
    "list1 = [1, 2, 3]\n",
    "list2 = [1, 2, 3]\n",
    "print(f\"list1的内存地址: {id(list1)}\")\n",
    "print(f\"list2的内存地址: {id(list2)}\")\n",
    "print(f\"list1和list2是否指向同一个对象: {list1 is list2}\")\n",
    "print(f\"list1和list2的值是否相等: {list1 == list2}\")\n"
   ]
  },
  {
   "cell_type": "markdown",
   "id": "93d74bce",
   "metadata": {
    "vscode": {
     "languageId": "raw"
    }
   },
   "source": [
    "#### 2. 可变对象 vs 不可变对象\n",
    "Python 中的对象分为可变对象和不可变对象：\n",
    "\n",
    "- **不可变对象**：int、float、str、bool、tuple 等，一旦创建就不能修改\n",
    "- **可变对象**：list、dict、set 等，创建后可以修改其内容\n"
   ]
  },
  {
   "cell_type": "code",
   "execution_count": 22,
   "id": "048810a7",
   "metadata": {},
   "outputs": [
    {
     "name": "stdout",
     "output_type": "stream",
     "text": [
      "修改前 num 的 id: 4383466440\n",
      "修改后 num 的 id: 4383466472\n",
      "num 的值: 11\n",
      "修改前 text 的 id: 4505254720\n",
      "修改后 text 的 id: 4510735280\n",
      "text 的值: Hello World\n",
      "----------------------------------------\n",
      "修改前 my_list 的 id: 4510492608\n",
      "修改后 my_list 的 id: 4510492608\n",
      "my_list 的值: [1, 2, 3, 4]\n",
      "修改前 my_dict 的 id: 4510491904\n",
      "修改后 my_dict 的 id: 4510491904\n",
      "my_dict 的值: {'name': '张三', 'age': 25, 'city': '北京'}\n",
      "原始 number: 5\n",
      "函数返回值: 15\n",
      "原始 my_list2: [1, 2, 3, '新元素']\n",
      "函数返回值: [1, 2, 3, '新元素']\n"
     ]
    }
   ],
   "source": [
    "# 不可变对象示例\n",
    "num = 10\n",
    "print(f\"修改前 num 的 id: {id(num)}\")\n",
    "num += 1  # 实际上创建了一个新的对象\n",
    "print(f\"修改后 num 的 id: {id(num)}\")\n",
    "print(f\"num 的值: {num}\")\n",
    "\n",
    "# 字符串也是不可变的\n",
    "text = \"Hello\"\n",
    "print(f\"修改前 text 的 id: {id(text)}\")\n",
    "text += \" World\"  # 创建了一个新的字符串对象\n",
    "print(f\"修改后 text 的 id: {id(text)}\")\n",
    "print(f\"text 的值: {text}\")\n",
    "\n",
    "print(\"-\" * 40)\n",
    "\n",
    "# 可变对象示例\n",
    "my_list = [1, 2, 3]\n",
    "print(f\"修改前 my_list 的 id: {id(my_list)}\")\n",
    "my_list.append(4)  # 在原对象基础上修改\n",
    "print(f\"修改后 my_list 的 id: {id(my_list)}\")\n",
    "print(f\"my_list 的值: {my_list}\")\n",
    "\n",
    "# 字典也是可变的\n",
    "my_dict = {\"name\": \"张三\", \"age\": 25}\n",
    "print(f\"修改前 my_dict 的 id: {id(my_dict)}\")\n",
    "my_dict[\"city\"] = \"北京\"  # 在原对象基础上修改\n",
    "print(f\"修改后 my_dict 的 id: {id(my_dict)}\")\n",
    "print(f\"my_dict 的值: {my_dict}\")\n",
    "\n",
    "# 这种差异在函数参数传递时很重要\n",
    "def modify_immutable(x):\n",
    "    x += 10\n",
    "    return x\n",
    "\n",
    "def modify_mutable(lst):\n",
    "    lst.append(\"新元素\")\n",
    "    return lst\n",
    "\n",
    "number = 5\n",
    "result1 = modify_immutable(number)\n",
    "print(f\"原始 number: {number}\")  # 5，没有改变\n",
    "print(f\"函数返回值: {result1}\")   # 15\n",
    "\n",
    "my_list2 = [1, 2, 3]\n",
    "result2 = modify_mutable(my_list2)\n",
    "print(f\"原始 my_list2: {my_list2}\")  # [1, 2, 3, '新元素']，被修改了\n",
    "print(f\"函数返回值: {result2}\")       # [1, 2, 3, '新元素']\n"
   ]
  },
  {
   "cell_type": "markdown",
   "id": "ad823eb2",
   "metadata": {
    "vscode": {
     "languageId": "raw"
    }
   },
   "source": [
    "### 更多数据类型\n",
    "\n",
    "除了前面介绍的基本类型，Python 还有一些其他重要的数据类型：\n",
    "\n",
    "#### 1. 复数类型（complex）\n",
    "Python 支持复数运算，复数由实部和虚部组成：\n"
   ]
  },
  {
   "cell_type": "code",
   "execution_count": null,
   "id": "6c8b8e3c",
   "metadata": {},
   "outputs": [],
   "source": [
    "# 复数类型示例\n",
    "z1 = 3 + 4j  # 实部3，虚部4\n",
    "z2 = complex(2, 5)  # 实部2，虚部5\n",
    "z3 = 1j  # 纯虚数\n",
    "\n",
    "print(f\"z1 = {z1}\")\n",
    "print(f\"z2 = {z2}\")\n",
    "print(f\"z3 = {z3}\")\n",
    "\n",
    "# 访问复数的实部和虚部\n",
    "print(f\"z1 的实部: {z1.real}\")\n",
    "print(f\"z1 的虚部: {z1.imag}\")\n",
    "\n",
    "# 复数运算\n",
    "print(f\"z1 + z2 = {z1 + z2}\")\n",
    "print(f\"z1 * z2 = {z1 * z2}\")\n",
    "print(f\"z1 的共轭复数: {z1.conjugate()}\")\n",
    "\n",
    "# 复数的绝对值（模）\n",
    "print(f\"z1 的绝对值: {abs(z1)}\")\n",
    "\n",
    "print(f\"复数类型: {type(z1)}\")\n"
   ]
  },
  {
   "cell_type": "markdown",
   "id": "51385758",
   "metadata": {
    "vscode": {
     "languageId": "raw"
    }
   },
   "source": [
    "#### 2. None 类型\n",
    "`None` 表示\"空值\"或\"无值\"，是 Python 中的一个特殊值：\n"
   ]
  },
  {
   "cell_type": "code",
   "execution_count": 23,
   "id": "e01d6427",
   "metadata": {},
   "outputs": [
    {
     "name": "stdout",
     "output_type": "stream",
     "text": [
      "nothing 的值: None\n",
      "nothing 的类型: <class 'NoneType'>\n",
      "bool(None): False\n",
      "变量是 None\n",
      "函数返回值: None\n",
      "用户名: 匿名用户\n"
     ]
    }
   ],
   "source": [
    "# None 类型示例\n",
    "nothing = None\n",
    "print(f\"nothing 的值: {nothing}\")\n",
    "print(f\"nothing 的类型: {type(nothing)}\")\n",
    "\n",
    "# None 的布尔值为 False\n",
    "print(f\"bool(None): {bool(nothing)}\")\n",
    "\n",
    "# 检查变量是否为 None\n",
    "if nothing is None:\n",
    "    print(\"变量是 None\")\n",
    "\n",
    "# 函数默认返回 None\n",
    "def no_return():\n",
    "    pass\n",
    "\n",
    "result = no_return()\n",
    "print(f\"函数返回值: {result}\")\n",
    "\n",
    "# None 通常用于初始化变量\n",
    "user_name = None\n",
    "if user_name is None:\n",
    "    user_name = \"匿名用户\"\n",
    "print(f\"用户名: {user_name}\")\n"
   ]
  },
  {
   "cell_type": "markdown",
   "id": "285133ba",
   "metadata": {
    "vscode": {
     "languageId": "raw"
    }
   },
   "source": [
    "#### 3. 容器类型简介\n",
    "Python 提供了几种重要的容器类型来存储多个数据：\n",
    "\n",
    "- **列表（list）**：有序、可变的序列\n",
    "- **元组（tuple）**：有序、不可变的序列  \n",
    "- **字典（dict）**：无序的键值对集合\n",
    "- **集合（set）**：无序的不重复元素集合\n"
   ]
  },
  {
   "cell_type": "code",
   "execution_count": 25,
   "id": "249ca0a1",
   "metadata": {},
   "outputs": [
    {
     "name": "stdout",
     "output_type": "stream",
     "text": [
      "列表: [1, 2, 3, 'hello', True]\n",
      "列表类型: <class 'list'>\n",
      "列表长度: 5\n",
      "元组: (1, 2, 3, 'world', False)\n",
      "元组类型: <class 'tuple'>\n",
      "元组长度: 5\n",
      "字典: {'name': '张三', 'age': 25, 'city': '北京'}\n",
      "字典类型: <class 'dict'>\n",
      "集合: {1, 2, 3}\n",
      "集合类型: <class 'set'>\n",
      "空列表: []\n",
      "空元组: ()\n",
      "空字典: {}\n",
      "空集合: set()\n"
     ]
    }
   ],
   "source": [
    "# 容器类型基础示例\n",
    "# 列表 - 可变序列\n",
    "my_list = [1, 2, 3, \"hello\", True]\n",
    "print(f\"列表: {my_list}\")\n",
    "print(f\"列表类型: {type(my_list)}\")\n",
    "print(f\"列表长度: {len(my_list)}\")\n",
    "\n",
    "# 元组 - 不可变序列\n",
    "my_tuple = (1, 2, 3, \"world\", False)\n",
    "print(f\"元组: {my_tuple}\")\n",
    "print(f\"元组类型: {type(my_tuple)}\")\n",
    "print(f\"元组长度: {len(my_tuple)}\")\n",
    "\n",
    "# 字典 - 键值对\n",
    "my_dict = {\"name\": \"张三\", \"age\": 25, \"city\": \"北京\"}\n",
    "print(f\"字典: {my_dict}\")\n",
    "print(f\"字典类型: {type(my_dict)}\")\n",
    "\n",
    "# 集合 - 不重复元素\n",
    "my_set = {1, 2, 3, 2, 1}  # 重复元素会被自动去除\n",
    "print(f\"集合: {my_set}\")\n",
    "print(f\"集合类型: {type(my_set)}\")\n",
    "\n",
    "# 空容器的创建\n",
    "empty_list = []          # 或 list()\n",
    "empty_tuple = ()         # 或 tuple()\n",
    "empty_dict = {}          # 或 dict()\n",
    "empty_set = set()        # 注意：不能用 {} 创建空集合\n",
    "print(f\"空列表: {empty_list}\")\n",
    "print(f\"空元组: {empty_tuple}\")\n",
    "print(f\"空字典: {empty_dict}\")\n",
    "print(f\"空集合: {empty_set}\")\n"
   ]
  },
  {
   "cell_type": "markdown",
   "id": "343f3755",
   "metadata": {
    "vscode": {
     "languageId": "raw"
    }
   },
   "source": [
    "### 变量的输入\n",
    "\n",
    "在实际编程中，我们经常需要让用户输入数据来初始化变量。Python 提供了 `input()` 函数来获取用户输入。\n",
    "\n",
    "#### 1. 基本输入操作\n",
    "`input()` 函数总是返回字符串类型，需要根据实际需要进行类型转换：\n"
   ]
  },
  {
   "cell_type": "code",
   "execution_count": null,
   "id": "a091add8",
   "metadata": {},
   "outputs": [],
   "source": [
    "# 变量输入示例\n",
    "# 注意：在 Jupyter 环境中，以下代码可能需要交互式输入\n",
    "\n",
    "# 基本字符串输入\n",
    "# name = input(\"请输入您的姓名: \")\n",
    "# print(f\"您好，{name}!\")\n",
    "\n",
    "# 数值输入需要类型转换\n",
    "# age_str = input(\"请输入您的年龄: \")\n",
    "# age = int(age_str)\n",
    "# print(f\"您的年龄是 {age} 岁\")\n",
    "\n",
    "# 简化写法\n",
    "# age = int(input(\"请输入您的年龄: \"))\n",
    "# height = float(input(\"请输入您的身高(米): \"))\n",
    "\n",
    "# 输入验证示例\n",
    "def get_valid_age():\n",
    "    while True:\n",
    "        try:\n",
    "            age = int(input(\"请输入您的年龄: \"))\n",
    "            if 0 <= age <= 150:\n",
    "                return age\n",
    "            else:\n",
    "                print(\"年龄应该在 0-150 之间\")\n",
    "        except ValueError:\n",
    "            print(\"请输入有效的数字\")\n",
    "\n",
    "# 演示不同类型的输入转换\n",
    "print(\"输入转换示例:\")\n",
    "input_demo = \"123\"\n",
    "print(f\"字符串 '{input_demo}' 转为整数: {int(input_demo)}\")\n",
    "\n",
    "input_demo2 = \"45.67\"\n",
    "print(f\"字符串 '{input_demo2}' 转为浮点数: {float(input_demo2)}\")\n",
    "\n",
    "input_demo3 = \"true\"\n",
    "print(f\"字符串 '{input_demo3}' 转为布尔值: {bool(input_demo3)}\")  # 非空字符串为 True\n",
    "\n",
    "# 多个值的输入\n",
    "print(\"多个值输入示例:\")\n",
    "# 假设用户输入 \"张三 25 1.75\"\n",
    "user_input = \"张三 25 1.75\"\n",
    "name, age, height = user_input.split()\n",
    "age = int(age)\n",
    "height = float(height)\n",
    "print(f\"姓名: {name}, 年龄: {age}, 身高: {height}\")\n"
   ]
  },
  {
   "cell_type": "markdown",
   "id": "1e6aedac",
   "metadata": {
    "vscode": {
     "languageId": "raw"
    }
   },
   "source": [
    "### 变量的格式化输出\n",
    "\n",
    "Python 提供了多种方式来格式化输出变量，让输出更加美观和易读。\n",
    "\n",
    "#### 1. 格式化字符串的方法\n",
    "Python 中有三种主要的字符串格式化方法：\n"
   ]
  },
  {
   "cell_type": "code",
   "execution_count": 28,
   "id": "c06d04ec",
   "metadata": {},
   "outputs": [
    {
     "name": "stdout",
     "output_type": "stream",
     "text": [
      "=== 1. % 格式化（旧式，不推荐） ===\n",
      "姓名: 李明, 年龄: 28, 身高: 1.75米\n",
      "\n",
      "=== 2. str.format() 方法 ===\n",
      "姓名: 李明, 年龄: 28, 身高: 1.75米\n",
      "姓名: 李明, 年龄: 28, 身高: 1.75米\n",
      "姓名: 李明, 年龄: 28, 身高: 1.75米\n",
      "\n",
      "=== 3. f-string 格式化（推荐） ===\n",
      "姓名: 李明, 年龄: 28, 身高: 1.75米\n",
      "薪水: 8,500.50元\n",
      "薪水(科学计数法): 8.50e+03\n",
      "\n",
      "=== 数字格式化示例 ===\n",
      "原始数字: 1234567.89\n",
      "保留2位小数: 1234567.89\n",
      "千分位分隔: 1,234,567.89\n",
      "百分比显示: 25.000%\n",
      "科学计数法: 1.23e+06\n",
      "左对齐(宽度10): '1234567.89'\n",
      "右对齐(宽度10): '1234567.89'\n",
      "居中对齐(宽度15): '  1234567.89   '\n",
      "零填充(宽度10): '1234567.89'\n",
      "\n",
      "=== 字符串格式化示例 ===\n",
      "原始字符串: Python\n",
      "左对齐(宽度10): 'Python    '\n",
      "右对齐(宽度10): '    Python'\n",
      "居中对齐(宽度10): '  Python  '\n",
      "填充0(宽度10): 'Python0000'\n",
      "(宽度4): 'Python'\n",
      "\n",
      "=== 进制转换输出 ===\n",
      "十进制: 255\n",
      "二进制: 11111111\n",
      "八进制: 377\n",
      "十六进制: ff\n",
      "十六进制(大写): FF\n",
      "\n",
      "=== f-string 中的表达式 ===\n",
      "x + y = 30\n",
      "x * y = 200\n",
      "x > y: False\n",
      "name 的长度: 2\n",
      "name 转大写: 李明\n"
     ]
    }
   ],
   "source": [
    "# 格式化输出示例\n",
    "name = \"李明\"\n",
    "age = 28\n",
    "height = 1.75\n",
    "salary = 8500.5\n",
    "\n",
    "print(\"=== 1. % 格式化（旧式，不推荐） ===\")\n",
    "print(\"姓名: %s, 年龄: %d, 身高: %.2f米\" % (name, age, height))\n",
    "\n",
    "print(\"\\n=== 2. str.format() 方法 ===\")\n",
    "print(\"姓名: {}, 年龄: {}, 身高: {:.2f}米\".format(name, age, height))\n",
    "print(\"姓名: {0}, 年龄: {1}, 身高: {2:.2f}米\".format(name, age, height))\n",
    "print(\"姓名: {n}, 年龄: {a}, 身高: {h:.2f}米\".format(n=name, a=age, h=height))\n",
    "\n",
    "print(\"\\n=== 3. f-string 格式化（推荐） ===\")\n",
    "print(f\"姓名: {name}, 年龄: {age}, 身高: {height:.2f}米\")\n",
    "print(f\"薪水: {salary:,.2f}元\")  # 千分位分隔符\n",
    "print(f\"薪水(科学计数法): {salary:.2e}\")\n",
    "\n",
    "# 数字格式化\n",
    "number = 1234567.89\n",
    "print(f\"\\n=== 数字格式化示例 ===\")\n",
    "print(f\"原始数字: {number}\")\n",
    "print(f\"保留2位小数: {number:.2f}\")\n",
    "print(f\"千分位分隔: {number:,.2f}\")\n",
    "print(f\"百分比显示: {0.25:.3%}\")\n",
    "print(f\"科学计数法: {number:.2e}\")\n",
    "print(f\"左对齐(宽度10): '{number:<10.2f}'\")\n",
    "print(f\"右对齐(宽度10): '{number:>10.2f}'\")\n",
    "print(f\"居中对齐(宽度15): '{number:^15.2f}'\")\n",
    "print(f\"零填充(宽度10): '{number:010.2f}'\")\n",
    "\n",
    "# 字符串格式化\n",
    "text = \"Python\"\n",
    "print(f\"\\n=== 字符串格式化示例 ===\")\n",
    "print(f\"原始字符串: {text}\")\n",
    "print(f\"左对齐(宽度10): '{text:<10}'\")\n",
    "print(f\"右对齐(宽度10): '{text:>10}'\")\n",
    "print(f\"居中对齐(宽度10): '{text:^10}'\")\n",
    "print(f\"填充0(宽度10): '{text:010}'\")\n",
    "print(f\"(宽度4): '{text:<4}'\")\n",
    "\n",
    "# 进制转换输出\n",
    "num = 255\n",
    "print(f\"\\n=== 进制转换输出 ===\")\n",
    "print(f\"十进制: {num}\")\n",
    "print(f\"二进制: {num:b}\")\n",
    "print(f\"八进制: {num:o}\")\n",
    "print(f\"十六进制: {num:x}\")\n",
    "print(f\"十六进制(大写): {num:X}\")\n",
    "\n",
    "# 表达式在 f-string 中\n",
    "x, y = 10, 20\n",
    "print(f\"\\n=== f-string 中的表达式 ===\")\n",
    "print(f\"x + y = {x + y}\")\n",
    "print(f\"x * y = {x * y}\")\n",
    "print(f\"x > y: {x > y}\")\n",
    "print(f\"name 的长度: {len(name)}\")\n",
    "print(f\"name 转大写: {name.upper()}\")\n"
   ]
  },
  {
   "cell_type": "markdown",
   "id": "896fd192",
   "metadata": {
    "vscode": {
     "languageId": "raw"
    }
   },
   "source": [
    "### 常量的概念\n",
    "\n",
    "虽然 Python 没有真正的常量（无法在语言层面阻止修改），但有一些约定和最佳实践：\n",
    "\n",
    "#### 1. 常量的命名约定\n",
    "按照约定，常量使用全大写字母和下划线命名：\n"
   ]
  },
  {
   "cell_type": "code",
   "execution_count": null,
   "id": "d9291eb2",
   "metadata": {},
   "outputs": [],
   "source": [
    "# 常量示例\n",
    "# 数学常量\n",
    "PI = 3.14159265359\n",
    "E = 2.71828182846\n",
    "\n",
    "# 配置常量\n",
    "MAX_USERS = 1000\n",
    "DEFAULT_TIMEOUT = 30\n",
    "DATABASE_URL = \"sqlite:///myapp.db\"\n",
    "\n",
    "# 状态常量\n",
    "SUCCESS = 0\n",
    "ERROR = -1\n",
    "WARNING = 1\n",
    "\n",
    "print(f\"圆周率: {PI}\")\n",
    "print(f\"自然常数: {E}\")\n",
    "print(f\"最大用户数: {MAX_USERS}\")\n",
    "\n",
    "# Python 内置常量\n",
    "print(f\"\\\\n=== Python 内置常量 ===\")\n",
    "print(f\"True: {True}\")\n",
    "print(f\"False: {False}\")\n",
    "print(f\"None: {None}\")\n",
    "\n",
    "# 其他常用常量（需要导入相应模块）\n",
    "import math\n",
    "print(f\"math.pi: {math.pi}\")\n",
    "print(f\"math.e: {math.e}\")\n",
    "\n",
    "# 注意：Python 中的\"常量\"实际上可以被修改（但不应该这样做）\n",
    "print(f\"\\\\n修改前的 PI: {PI}\")\n",
    "PI = 3.14  # 不推荐这样做！\n",
    "print(f\"修改后的 PI: {PI}\")\n",
    "\n",
    "# 使用枚举创建真正的常量（需要 Python 3.4+）\n",
    "from enum import Enum\n",
    "\n",
    "class Color(Enum):\n",
    "    RED = 1\n",
    "    GREEN = 2\n",
    "    BLUE = 3\n",
    "\n",
    "print(f\"\\\\n=== 使用枚举的常量 ===\")\n",
    "print(f\"红色: {Color.RED}\")\n",
    "print(f\"红色的值: {Color.RED.value}\")\n",
    "\n",
    "# 枚举成员不能被修改\n",
    "try:\n",
    "    Color.RED = 10\n",
    "except AttributeError as e:\n",
    "    print(f\"尝试修改枚举常量时出错: {e}\")\n"
   ]
  },
  {
   "cell_type": "markdown",
   "id": "53412eb7",
   "metadata": {
    "vscode": {
     "languageId": "raw"
    }
   },
   "source": [
    "### 变量的删除\n",
    "\n",
    "Python 提供了 `del` 语句来删除变量，释放内存空间：\n"
   ]
  },
  {
   "cell_type": "code",
   "execution_count": null,
   "id": "2e29664f",
   "metadata": {},
   "outputs": [],
   "source": [
    "# 变量删除示例\n",
    "x = 100\n",
    "y = [1, 2, 3, 4, 5]\n",
    "z = {\"name\": \"Python\", \"version\": 3.12}\n",
    "\n",
    "print(f\"删除前 x = {x}\")\n",
    "print(f\"删除前 y = {y}\")\n",
    "print(f\"删除前 z = {z}\")\n",
    "\n",
    "# 删除单个变量\n",
    "del x\n",
    "try:\n",
    "    print(x)  # 这会引发 NameError\n",
    "except NameError as e:\n",
    "    print(f\"访问已删除的变量 x 时出错: {e}\")\n",
    "\n",
    "# 删除多个变量\n",
    "del y, z\n",
    "try:\n",
    "    print(y)\n",
    "except NameError as e:\n",
    "    print(f\"访问已删除的变量 y 时出错: {e}\")\n",
    "\n",
    "# 删除容器中的元素\n",
    "my_list = [1, 2, 3, 4, 5]\n",
    "my_dict = {\"a\": 1, \"b\": 2, \"c\": 3}\n",
    "\n",
    "print(f\"\\\\n删除前 my_list: {my_list}\")\n",
    "del my_list[0]  # 删除第一个元素\n",
    "print(f\"删除索引0后 my_list: {my_list}\")\n",
    "\n",
    "del my_list[1:3]  # 删除切片\n",
    "print(f\"删除切片[1:3]后 my_list: {my_list}\")\n",
    "\n",
    "print(f\"\\\\n删除前 my_dict: {my_dict}\")\n",
    "del my_dict[\"b\"]  # 删除键值对\n",
    "print(f\"删除键'b'后 my_dict: {my_dict}\")\n",
    "\n",
    "# 注意：del 只是删除变量名，不是删除对象\n",
    "a = [1, 2, 3]\n",
    "b = a  # b 和 a 指向同一个列表对象\n",
    "print(f\"\\\\n删除前 a: {a}\")\n",
    "print(f\"删除前 b: {b}\")\n",
    "\n",
    "del a\n",
    "print(f\"删除 a 后，b 仍然存在: {b}\")  # 对象还在，因为 b 还在引用它\n"
   ]
  },
  {
   "cell_type": "markdown",
   "id": "0dd1d301",
   "metadata": {
    "vscode": {
     "languageId": "raw"
    }
   },
   "source": [
    "### 变量的调试和检查\n",
    "\n",
    "Python 提供了多个内置函数来帮助我们检查和调试变量：\n"
   ]
  },
  {
   "cell_type": "code",
   "execution_count": 1,
   "id": "b56eaff7",
   "metadata": {},
   "outputs": [
    {
     "name": "stdout",
     "output_type": "stream",
     "text": [
      "=== 基本变量信息检查 ===\n",
      "变量 name 的类型: <class 'str'>\n",
      "变量 name 的值: Python\n",
      "变量 name 的内存地址: 4343187304\n",
      "变量 name 的大小(字节): 47\n",
      "\n",
      "=== 变量存在性检查 ===\n",
      "'name' 在局部变量中: True\n",
      "'name' 在全局变量中: True\n",
      "\n",
      "=== 当前局部变量 ===\n"
     ]
    },
    {
     "ename": "RuntimeError",
     "evalue": "dictionary changed size during iteration",
     "output_type": "error",
     "traceback": [
      "\u001b[31m---------------------------------------------------------------------------\u001b[39m",
      "\u001b[31mRuntimeError\u001b[39m                              Traceback (most recent call last)",
      "\u001b[36mCell\u001b[39m\u001b[36m \u001b[39m\u001b[32mIn[1]\u001b[39m\u001b[32m, line 24\u001b[39m\n\u001b[32m     22\u001b[39m \u001b[38;5;28mprint\u001b[39m(\u001b[33m\"\u001b[39m\u001b[38;5;130;01m\\n\u001b[39;00m\u001b[33m=== 当前局部变量 ===\u001b[39m\u001b[33m\"\u001b[39m)\n\u001b[32m     23\u001b[39m local_vars = \u001b[38;5;28mlocals\u001b[39m()\n\u001b[32m---> \u001b[39m\u001b[32m24\u001b[39m \u001b[38;5;28;43;01mfor\u001b[39;49;00m\u001b[43m \u001b[49m\u001b[43mvar_name\u001b[49m\u001b[43m,\u001b[49m\u001b[43m \u001b[49m\u001b[43mvar_value\u001b[49m\u001b[43m \u001b[49m\u001b[38;5;129;43;01min\u001b[39;49;00m\u001b[43m \u001b[49m\u001b[43mlocal_vars\u001b[49m\u001b[43m.\u001b[49m\u001b[43mitems\u001b[49m\u001b[43m(\u001b[49m\u001b[43m)\u001b[49m\u001b[43m:\u001b[49m\n\u001b[32m     25\u001b[39m \u001b[43m    \u001b[49m\u001b[38;5;28;43;01mif\u001b[39;49;00m\u001b[43m \u001b[49m\u001b[38;5;129;43;01mnot\u001b[39;49;00m\u001b[43m \u001b[49m\u001b[43mvar_name\u001b[49m\u001b[43m.\u001b[49m\u001b[43mstartswith\u001b[49m\u001b[43m(\u001b[49m\u001b[33;43m'\u001b[39;49m\u001b[33;43m_\u001b[39;49m\u001b[33;43m'\u001b[39;49m\u001b[43m)\u001b[49m\u001b[43m:\u001b[49m\u001b[43m  \u001b[49m\u001b[38;5;66;43;03m# 过滤掉内部变量\u001b[39;49;00m\n\u001b[32m     26\u001b[39m \u001b[43m        \u001b[49m\u001b[38;5;28;43mprint\u001b[39;49m\u001b[43m(\u001b[49m\u001b[33;43mf\u001b[39;49m\u001b[33;43m\"\u001b[39;49m\u001b[38;5;132;43;01m{\u001b[39;49;00m\u001b[43mvar_name\u001b[49m\u001b[38;5;132;43;01m}\u001b[39;49;00m\u001b[33;43m: \u001b[39;49m\u001b[38;5;132;43;01m{\u001b[39;49;00m\u001b[43mvar_value\u001b[49m\u001b[38;5;132;43;01m}\u001b[39;49;00m\u001b[33;43m (\u001b[39;49m\u001b[38;5;132;43;01m{\u001b[39;49;00m\u001b[38;5;28;43mtype\u001b[39;49m\u001b[43m(\u001b[49m\u001b[43mvar_value\u001b[49m\u001b[43m)\u001b[49m\u001b[43m.\u001b[49m\u001b[34;43m__name__\u001b[39;49m\u001b[38;5;132;43;01m}\u001b[39;49;00m\u001b[33;43m)\u001b[39;49m\u001b[33;43m\"\u001b[39;49m\u001b[43m)\u001b[49m\n",
      "\u001b[31mRuntimeError\u001b[39m: dictionary changed size during iteration"
     ]
    }
   ],
   "source": [
    "# 变量调试和检查示例\n",
    "import sys\n",
    "\n",
    "# 创建一些变量用于演示\n",
    "name = \"Python\"\n",
    "version = 3.12\n",
    "features = [\"面向对象\", \"动态类型\", \"解释执行\"]\n",
    "is_popular = True\n",
    "\n",
    "print(\"=== 基本变量信息检查 ===\")\n",
    "print(f\"变量 name 的类型: {type(name)}\")\n",
    "print(f\"变量 name 的值: {name}\")\n",
    "print(f\"变量 name 的内存地址: {id(name)}\")\n",
    "print(f\"变量 name 的大小(字节): {sys.getsizeof(name)}\")\n",
    "\n",
    "print(\"\\n=== 变量存在性检查 ===\")\n",
    "# 检查变量是否存在\n",
    "print(f\"'name' 在局部变量中: {'name' in locals()}\")\n",
    "print(f\"'name' 在全局变量中: {'name' in globals()}\")\n",
    "\n",
    "# 使用 vars() 函数\n",
    "print(\"\\n=== 当前局部变量 ===\")\n",
    "local_vars = locals()\n",
    "for var_name, var_value in local_vars.items():\n",
    "    if not var_name.startswith('_'):  # 过滤掉内部变量\n",
    "        print(f\"{var_name}: {var_value} ({type(var_value).__name__})\")\n",
    "\n",
    "# 使用 dir() 查看对象的属性和方法\n",
    "print(\"\\n=== 字符串对象的方法 ===\")\n",
    "string_methods = [method for method in dir(name) if not method.startswith('_')]\n",
    "print(f\"字符串 '{name}' 有 {len(string_methods)} 个公共方法\")\n",
    "print(f\"部分方法: {string_methods[:5]}\")\n",
    "\n",
    "# 检查对象是否有某个属性\n",
    "print(\"\\n=== 属性检查 ===\")\n",
    "print(f\"字符串是否有 'upper' 方法: {hasattr(name, 'upper')}\")\n",
    "print(f\"字符串是否有 'fly' 方法: {hasattr(name, 'fly')}\")\n",
    "\n",
    "# 获取对象属性的值\n",
    "if hasattr(name, 'upper'):\n",
    "    upper_method = getattr(name, 'upper')\n",
    "    print(f\"调用 upper 方法: {upper_method()}\")\n",
    "\n",
    "# 使用 isinstance() 检查类型\n",
    "print(\"\\n=== 类型检查 ===\")\n",
    "print(f\"name 是字符串类型: {isinstance(name, str)}\")\n",
    "print(f\"version 是数字类型: {isinstance(version, (int, float))}\")\n",
    "print(f\"features 是列表类型: {isinstance(features, list)}\")\n",
    "print(f\"is_popular 是布尔类型: {isinstance(is_popular, bool)}\")\n",
    "\n",
    "# 检查变量的真值\n",
    "print(\"\\n=== 真值检查 ===\")\n",
    "test_values = [name, version, features, is_popular, \"\", 0, [], None]\n",
    "for value in test_values:\n",
    "    print(f\"{repr(value)} 的布尔值: {bool(value)}\")\n",
    "\n",
    "# 内存引用计数（仅在 CPython 中有效）\n",
    "print(\"\\n=== 内存引用计数 ===\")\n",
    "print(f\"name 的引用计数: {sys.getrefcount(name)}\")\n",
    "print(f\"features 的引用计数: {sys.getrefcount(features)}\")\n",
    "\n",
    "# 创建另一个引用\n",
    "another_name = name\n",
    "print(f\"创建 another_name 后，name 的引用计数: {sys.getrefcount(name)}\")\n",
    "\n",
    "# 调试函数\n",
    "def debug_variable(var_name, var_value):\n",
    "    \"\"\"调试变量的详细信息\"\"\"\n",
    "    print(f\"变量名: {var_name}\")\n",
    "    print(f\"变量值: {repr(var_value)}\")\n",
    "    print(f\"变量类型: {type(var_value)}\")\n",
    "    print(f\"内存地址: {id(var_value)}\")\n",
    "    print(f\"内存大小: {sys.getsizeof(var_value)} 字节\")\n",
    "    print(f\"布尔值: {bool(var_value)}\")\n",
    "    print(\"-\" * 30)\n",
    "\n",
    "print(\"\\n=== 使用调试函数 ===\")\n",
    "debug_variable(\"name\", name)\n",
    "debug_variable(\"features\", features)\n"
   ]
  },
  {
   "cell_type": "markdown",
   "id": "a67f251f",
   "metadata": {
    "vscode": {
     "languageId": "raw"
    }
   },
   "source": [
    "### 变量使用的最佳实践\n",
    "\n",
    "掌握了变量的基本概念后，我们来了解一些变量使用的最佳实践：\n",
    "\n",
    "#### 1. 命名规范\n",
    "- 使用有意义的变量名，见名知意\n",
    "- 变量名应该能够描述其存储的数据\n",
    "- 避免使用缩写，除非是广泛认可的缩写\n"
   ]
  },
  {
   "cell_type": "code",
   "execution_count": null,
   "id": "29b330bc",
   "metadata": {},
   "outputs": [],
   "source": [
    "# 变量命名最佳实践示例\n",
    "\n",
    "# ❌ 不好的命名\n",
    "a = 18\n",
    "b = \"张三\"\n",
    "c = 1.75\n",
    "d = [85, 90, 78, 92]\n",
    "\n",
    "# ✅ 好的命名\n",
    "student_age = 18\n",
    "student_name = \"张三\"\n",
    "student_height = 1.75\n",
    "exam_scores = [85, 90, 78, 92]\n",
    "\n",
    "print(\"=== 好的命名让代码更易读 ===\")\n",
    "print(f\"学生姓名: {student_name}\")\n",
    "print(f\"学生年龄: {student_age}\")\n",
    "print(f\"学生身高: {student_height}米\")\n",
    "print(f\"考试成绩: {exam_scores}\")\n",
    "\n",
    "# ❌ 避免的命名方式\n",
    "# x = 10  # 不知道 x 代表什么\n",
    "# data = []  # 太笼统，不知道存储什么数据\n",
    "# temp = \"hello\"  # temp 通常用于临时变量\n",
    "\n",
    "# ✅ 推荐的命名方式\n",
    "max_retry_count = 10\n",
    "user_email_list = []\n",
    "welcome_message = \"hello\"\n",
    "\n",
    "# 常量命名\n",
    "MAX_FILE_SIZE = 1024 * 1024  # 1MB\n",
    "DEFAULT_ENCODING = \"utf-8\"\n",
    "API_BASE_URL = \"https://api.example.com\"\n",
    "\n",
    "# 布尔值命名建议\n",
    "is_valid = True\n",
    "has_permission = False\n",
    "can_edit = True\n",
    "should_save = False\n",
    "\n",
    "print(\"\\n=== 布尔值命名示例 ===\")\n",
    "if is_valid:\n",
    "    print(\"数据有效\")\n",
    "    \n",
    "if has_permission:\n",
    "    print(\"有权限\")\n",
    "else:\n",
    "    print(\"权限不足\")\n",
    "\n",
    "# 使用类型提示（Python 3.6+）\n",
    "def calculate_average(scores: list[int]) -> float:\n",
    "    \"\"\"计算平均分\"\"\"\n",
    "    if not scores:\n",
    "        return 0.0\n",
    "    return sum(scores) / len(scores)\n",
    "\n",
    "average_score: float = calculate_average(exam_scores)\n",
    "print(f\"平均成绩: {average_score:.2f}\")\n",
    "\n",
    "# 使用解构赋值让代码更清晰\n",
    "user_info = (\"Alice\", 25, \"alice@example.com\")\n",
    "name, age, email = user_info  # 比用索引访问更清晰\n",
    "print(f\"用户信息: 姓名={name}, 年龄={age}, 邮箱={email}\")\n"
   ]
  },
  {
   "cell_type": "markdown",
   "id": "d67d8972",
   "metadata": {
    "vscode": {
     "languageId": "raw"
    }
   },
   "source": [
    "### 补充总结\n",
    "\n",
    "在 Python 程序中，变量是编程的基础，我们已经学习了变量的方方面面：\n",
    "\n",
    "#### 核心概念回顾\n",
    "1. **变量定义**：变量是数据的载体，用于在内存中存储数据\n",
    "2. **数据类型**：Python 提供了丰富的数据类型（int、float、str、bool、complex、None 等）\n",
    "3. **类型转换**：使用内置函数在不同类型间转换\n",
    "4. **作用域**：理解全局变量和局部变量的区别\n",
    "\n",
    "#### 高级特性\n",
    "1. **赋值机制**：多重赋值、链式赋值、增强赋值运算符\n",
    "2. **内存管理**：引用机制、可变vs不可变对象\n",
    "3. **输入输出**：input()获取用户输入，格式化输出美化显示\n",
    "4. **调试技巧**：使用内置函数检查变量状态\n",
    "\n",
    "#### 最佳实践\n",
    "1. **命名规范**：见名知意，使用描述性名称\n",
    "2. **类型提示**：增强代码可读性和维护性\n",
    "3. **常量约定**：使用大写字母表示常量\n",
    "4. **代码清晰**：优先考虑代码的可读性\n",
    "\n",
    "掌握这些知识点后，你已经具备了使用 Python 变量进行编程的扎实基础。变量是所有编程概念的基石，在后续学习中会不断用到这些知识。\n",
    "\n",
    "#### 练习建议\n",
    "1. 尝试使用不同类型的变量解决实际问题\n",
    "2. 练习变量的格式化输出，让程序输出更美观\n",
    "3. 编写小程序时注意变量命名规范\n",
    "4. 理解变量的作用域，避免不必要的全局变量使用\n"
   ]
  }
 ],
 "metadata": {
  "kernelspec": {
   "display_name": "venv",
   "language": "python",
   "name": "python3"
  },
  "language_info": {
   "codemirror_mode": {
    "name": "ipython",
    "version": 3
   },
   "file_extension": ".py",
   "mimetype": "text/x-python",
   "name": "python",
   "nbconvert_exporter": "python",
   "pygments_lexer": "ipython3",
   "version": "3.12.11"
  }
 },
 "nbformat": 4,
 "nbformat_minor": 5
}
