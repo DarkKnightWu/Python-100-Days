{
 "cells": [
  {
   "cell_type": "markdown",
   "id": "23243d46",
   "metadata": {},
   "source": [
    "## 补充内容\n",
    "\n",
    "之前没有来得及安排，准备后面补充的内容：\n",
    "\n",
    "1. **面试**相关资源请移步到[“Python面试宝典”](https://github.com/jackfrued/Python-Interview-Bible)项目。\n",
    "    - Python 面试宝典\n",
    "    - 商业分析面试宝典\n",
    "    - 数据分析师 SQL 面试宝典\n",
    "    - 机器学习面试宝典\n",
    "2. **数学基础**相关资源请移步到[“机器学习数学基础知识”](https://github.com/jackfrued/Math_for_ML)项目。\n",
    "    - 线性代数\n",
    "    - 概率论和统计学\n",
    "    - 高等数学\n",
    "    - 信息论\n",
    "3. **深度学习**相关内容请移步到[“深度学习就是大力出奇迹”](https://github.com/jackfrued/Deep-Learning-Is-Nothing)项目。"
   ]
  }
 ],
 "metadata": {},
 "nbformat": 4,
 "nbformat_minor": 5
}
