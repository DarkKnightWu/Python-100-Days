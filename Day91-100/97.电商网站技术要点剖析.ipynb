{
 "cells": [
  {
   "cell_type": "markdown",
   "id": "404db58b",
   "metadata": {},
   "source": [
    "## 电商网站技术要点剖析\n",
    "\n",
    "### 商业模式\n",
    "\n",
    "1. B2B - 商家对商家，交易双方都是企业（商家），最典型的案例就是阿里巴巴。\n",
    "2. C2C - 个人对个人，例如：淘宝、人人车。\n",
    "3. B2C - 商家对个人，例如：唯品会，聚美优品。\n",
    "4. C2B - 个人对商家，先有消费者提出需求，后有商家按需求组织生产，例如： 尚品宅配。\n",
    "5. O2O - 线上到线下，将线下的商务机会与互联网结合，让互联网成为线下交易的平台，例如：美团外卖、饿了么。\n",
    "6. B2B2C - 商家对商家对个人，例如：天猫、京东。\n",
    "\n",
    "### 需求要点\n",
    "\n",
    "1. 用户端\n",
    "   - 首页（商品分类、广告轮播、滚动快讯、瀑布加载、推荐、折扣、热销、……）\n",
    "\n",
    "   - 用户（登录（第三方登录）、注册、注销、自服务（个人信息、浏览历史、收货地址、……））\n",
    "\n",
    "   - 商品（分类、列表、详情、搜索、热门搜索、搜索历史、添加到购物车、收藏、关注、评论、……）\n",
    "   - 购物车（查看、编辑（修改数量、删除商品、清空））\n",
    "   - 订单（提交订单（支付）、历史订单、订单详情、订单评价、……）\n",
    "2. 管理端\n",
    "   - 核心业务实体的CRUD\n",
    "   - 定时任务（周期性和非周期性，如处理未支付订单、采集数据对异常事件报警、……）\n",
    "   - 报表功能（导入导出Excel、PDF等以及前端ECharts统计图表展示）\n",
    "   - 权限控制（RBAC、白名单、黑名单、……）\n",
    "   - 业务流转（如发起退款流程，常用流程引擎有：Activity、Airflow、Spiff等）\n",
    "   - 三方服务（接入地图、短信、物流、支付、实名认证、天气、监控、云存储、……）\n",
    "\n",
    "### 物理模型设计\n",
    "\n",
    "首先要搞清楚两个概念：SPU（Standard Product Unit）和SKU（Stock Keeping Unit）。\n",
    "\n",
    "- SPU：iPhone 6s\n",
    "- SKU：iPhone 6s 64G 土豪金\n",
    "\n",
    "![](./res/shopping-pdm.png)\n",
    "\n",
    "### 第三方登录\n",
    "\n",
    "第三方登录是指利用第三方网站（通常是知名社交网站）的账号进行登录验证（主要是通过知名第三方网站获取到用户相关信息），比如国内的 QQ、微博，国外的Google、Facebook等。第三方登录大部分都是使用[OAuth](<https://en.wikipedia.org/wiki/OAuth>)协议，它是一个关于授权的开放网络标准（**数据的所有者告诉系统，同意授权第三方应用进入系统，获取这些数据。系统从而产生一个短期的进入令牌，用来代替密码，供第三方应用使用**），得到了广泛的应用，目前通常使用的是2.0版本。关于OAuth的基础知识，可以阅读阮一峰老师的[《理解OAuth 2.0》](http://www.ruanyifeng.com/blog/2014/05/oauth_2_0.html)。关于**令牌**和**密码**的区别，我们可以简单总结出以下三点差异：\n",
    "\n",
    "1. 令牌是短期的，到期会自动失效，用户自己无法修改。密码一般长期有效，用户不修改，就不会发生变化。\n",
    "2. 令牌可以被数据所有者撤销，会立即失效。以上例而言，屋主可以随时取消快递员的令牌。密码一般不允许被他人撤销。\n",
    "3. 令牌有权限范围（scope），比如只能进小区的二号门。对于网络服务来说，只读令牌就比读写令牌更安全。密码一般是完整权限。\n",
    "\n",
    "所以，通过令牌既可以让第三方应用获得权限，同时又随时可控，不会危及系统安全。这就是OAuth协议的优势。\n",
    "\n",
    "#### OAuth 2.0授权流程\n",
    "\n",
    "1. 用户打开客户端以后，客户端要求用户（资源所有者）给予授权。\n",
    "2. 用户（资源所有者）同意给予客户端授权。\n",
    "3. 客户端使用上一步获得的授权，向认证服务器申请访问令牌。\n",
    "4. 认证服务器对客户端进行认证以后，发放访问令牌。\n",
    "5. 客户端使用访问令牌向资源服务器申请获取资源。\n",
    "6. 资源服务器确认访问令牌无误，同意向客户端开放资源。\n",
    "\n",
    "![](./res/oauth2.png)\n",
    "\n",
    "如果使用微博登录进行接入，其具体步骤可以参考微博开放平台上的[“微博登录接入”](http://open.weibo.com/wiki/Connect/login)文档。使用QQ登录进行接入，需要首先注册成为QQ互联开发者并通过审核，具体的步骤可以参考QQ互联上的[“接入指南”](http://wiki.connect.qq.com/)，具体的步骤可以参考[“网站开发流程”](http://wiki.connect.qq.com/%E5%87%86%E5%A4%87%E5%B7%A5%E4%BD%9C_oauth2-0)。\n",
    "\n",
    "> 提示：在Gitbook上面有一本名为[《Django博客入门》](https://shenxgan.gitbooks.io/django/content/publish/2015-08-10-django-oauth-login.html)的书以Github为例介绍了第三方账号登录，有兴趣的可以自行阅读。\n",
    "\n",
    "通常电商网站在使用第三方登录时，会要求与网站账号进行绑定或者根据获取到的第三方账号信息（如：手机号）自动完成账号绑定。\n",
    "\n",
    "### 缓存预热和查询缓存\n",
    "\n",
    "#### 缓存预热\n",
    "\n",
    "所谓缓存预热，是指在启动服务器时将数据提前加载到缓存中，为此可以在Django应用的`apps.py`模块中编写`AppConfig`的子类并重写`ready()`方法，代码如下所示。"
   ]
  },
  {
   "cell_type": "code",
   "execution_count": null,
   "id": "b3eb5370",
   "metadata": {
    "attributes": {
     "classes": [
      "Python"
     ],
     "id": ""
    }
   },
   "outputs": [],
   "source": [
    "import pymysql\n",
    "\n",
    "from django.apps import AppConfig\n",
    "from django.core.cache import cache\n",
    "\n",
    "SELECT_PROVINCE_SQL = 'select distid, name from tb_district where pid is null'\n",
    "\n",
    "\n",
    "class CommonConfig(AppConfig):\n",
    "    name = 'common'\n",
    "\n",
    "    def ready(self):\n",
    "        conn = pymysql.connect(host='1.2.3.4', port=3306,\n",
    "                               user='root', password='pass',\n",
    "                               database='db', charset='utf8',\n",
    "                               cursorclass=pymysql.cursors.DictCursor)\n",
    "        try:\n",
    "            with conn.cursor() as cursor:\n",
    "                cursor.execute(SELECT_PROVINCE_SQL)\n",
    "                provinces = cursor.fetchall()\n",
    "                cache.set('provinces', provinces)\n",
    "        finally:\n",
    "            conn.close()"
   ]
  },
  {
   "cell_type": "markdown",
   "id": "0c253cd6",
   "metadata": {},
   "source": [
    "接下来，还需要在应用的`__init__.py`中编写下面的代码。"
   ]
  },
  {
   "cell_type": "code",
   "execution_count": null,
   "id": "c86530c4",
   "metadata": {
    "attributes": {
     "classes": [
      "Python"
     ],
     "id": ""
    }
   },
   "outputs": [],
   "source": [
    "default_app_config = 'common.apps.CommonConfig'"
   ]
  },
  {
   "cell_type": "markdown",
   "id": "db715d67",
   "metadata": {},
   "source": [
    "或者在项目的`settings.py`文件中注册应用。"
   ]
  },
  {
   "cell_type": "code",
   "execution_count": null,
   "id": "ca968e49",
   "metadata": {
    "attributes": {
     "classes": [
      "Python"
     ],
     "id": ""
    }
   },
   "outputs": [],
   "source": [
    "INSTALLED_APPS = [\n",
    "    ...\n",
    "    'common.apps.CommonConfig',\n",
    "    ...\n",
    "]"
   ]
  },
  {
   "cell_type": "markdown",
   "id": "7e7ec5bf",
   "metadata": {},
   "source": [
    "#### 查询缓存\n",
    "\n",
    "自定义装饰器实现查询结果的缓存。"
   ]
  },
  {
   "cell_type": "code",
   "execution_count": null,
   "id": "9e07b72e",
   "metadata": {
    "attributes": {
     "classes": [
      "Python"
     ],
     "id": ""
    }
   },
   "outputs": [],
   "source": [
    "from pickle import dumps, loads\n",
    "\n",
    "from django.core.cache import caches\n",
    "\n",
    "MODEL_CACHE_KEY = 'project:modelcache:%s'\n",
    "\n",
    "\n",
    "def my_model_cache(key, section='default', timeout=None):\n",
    "    \"\"\"实现模型缓存的装饰器\"\"\"\n",
    "\n",
    "    def wrapper1(func):\n",
    "\n",
    "        def wrapper2(*args, **kwargs):\n",
    "            real_key = '%s:%s' % (MODEL_CACHE_KEY % key, ':'.join(map(str, args)))\n",
    "            serialized_data = caches[section].get(real_key)\n",
    "            if serialized_data:\n",
    "                data = loads(serialized_data)\n",
    "            else:\n",
    "                data = func(*args, **kwargs)\n",
    "                cache.set(real_key, dumps(data), timeout=timeout)\n",
    "            return data\n",
    "\n",
    "        return wrapper2\n",
    "\n",
    "    return wrapper1"
   ]
  },
  {
   "cell_type": "code",
   "execution_count": null,
   "id": "2268a994",
   "metadata": {
    "attributes": {
     "classes": [
      "Python"
     ],
     "id": ""
    }
   },
   "outputs": [],
   "source": [
    "@my_model_cache(key='provinces')\n",
    "def get_all_provinces():\n",
    "    return list(Province.objects.all())"
   ]
  },
  {
   "cell_type": "markdown",
   "id": "5af0314f",
   "metadata": {},
   "source": [
    "### 购物车实现\n",
    "\n",
    "问题一：已登录用户的购物车放在哪里？未登录用户的购物车放在哪里？"
   ]
  },
  {
   "cell_type": "code",
   "execution_count": null,
   "id": "69a6c936",
   "metadata": {
    "attributes": {
     "classes": [
      "Python"
     ],
     "id": ""
    }
   },
   "outputs": [],
   "source": [
    "class CartItem(object):\n",
    "    \"\"\"购物车中的商品项\"\"\"\n",
    "\n",
    "    def __init__(self, sku, amount=1, selected=False):\n",
    "        self.sku = sku\n",
    "        self.amount = amount\n",
    "        self.selected = selected\n",
    "\n",
    "    @property\n",
    "    def total(self):\n",
    "        return self.sku.price * self.amount\n",
    "\n",
    "\n",
    "class ShoppingCart(object):\n",
    "    \"\"\"购物车\"\"\"\n",
    "\n",
    "    def __init__(self):\n",
    "        self.items = {}\n",
    "        self.index = 0\n",
    "\n",
    "    def add_item(self, item):\n",
    "        if item.sku.id in self.items:\n",
    "            self.items[item.sku.id].amount += item.amount\n",
    "        else:\n",
    "            self.items[item.sku.id] = item\n",
    "\n",
    "    def remove_item(self, sku_id):\n",
    "        if sku_id in self.items:\n",
    "            self.items.remove(sku_id)\n",
    "\n",
    "    def clear_all_items(self):\n",
    "        self.items.clear()\n",
    "\n",
    "    @property\n",
    "    def cart_items(self):\n",
    "        return self.items.values()\n",
    "\n",
    "    @property\n",
    "    def cart_total(self):\n",
    "        total = 0\n",
    "        for item in self.items.values():\n",
    "            total += item.total\n",
    "        return total"
   ]
  },
  {
   "cell_type": "markdown",
   "id": "8a96373f",
   "metadata": {},
   "source": [
    "已登录用户的购物车可以放在数据库中（可以先在Redis中缓存）；未登录用户的购物车可以保存在Cookie、localStorage或sessionStorage中（减少服务器端内存开销）。"
   ]
  },
  {
   "cell_type": "code",
   "execution_count": null,
   "id": "69e37b18",
   "metadata": {
    "attributes": {
     "classes": [
      "JSON"
     ],
     "id": ""
    }
   },
   "outputs": [],
   "source": [
    "{\n",
    "    '1001': {sku: {...}, 'amount': 1, 'selected': True}, \n",
    "    '1002': {sku: {...}, 'amount': 2, 'selected': False},\n",
    "    '1003': {sku: {...}, 'amount': 3, 'selected': True},\n",
    "}"
   ]
  },
  {
   "cell_type": "code",
   "execution_count": null,
   "id": "4f1c385f",
   "metadata": {
    "attributes": {
     "classes": [
      "Python"
     ],
     "id": ""
    }
   },
   "outputs": [],
   "source": [
    "request.get_signed_cookie('cart')\n",
    "\n",
    "cart_base64 = base64.base64encode(pickle.dumps(cart))\n",
    "response.set_signed_cookie('cart', cart_base64)"
   ]
  },
  {
   "cell_type": "markdown",
   "id": "3a13865b",
   "metadata": {},
   "source": [
    "问题二：用户登录之后，如何合并购物车？（目前电商应用的购物车几乎都做了持久化处理，主要是方便在多个终端之间共享数据）\n",
    "\n",
    "### 集成支付功能\n",
    "\n",
    "问题一：支付信息如何持久化？（必须保证每笔交易都有记录）\n",
    "\n",
    "问题二：如何接入支付宝？（接入其他平台基本类似）\n",
    "\n",
    "1. [蚂蚁金服开放平台](https://open.alipay.com/platform/home.htm)。\n",
    "2. [入驻平台](https://open.alipay.com/platform/homeRoleSelection.htm)。\n",
    "3. [开发者中心](https://openhome.alipay.com/platform/appManage.htm#/apps)。\n",
    "4. [文档中心](https://docs.open.alipay.com/270/105899/)。\n",
    "5. [SDK集成](https://docs.open.alipay.com/54/103419) - [PYPI链接](https://pypi.org/project/alipay-sdk-python/)。\n",
    "6. [API列表](https://docs.open.alipay.com/270/105900/)。\n",
    "\n",
    "![](./res/alipay_web_developer.png)\n",
    "\n",
    "配置文件："
   ]
  },
  {
   "cell_type": "code",
   "execution_count": null,
   "id": "cc791034",
   "metadata": {
    "attributes": {
     "classes": [
      "Python"
     ],
     "id": ""
    }
   },
   "outputs": [],
   "source": [
    "ALIPAY_APPID = '......'\n",
    "ALIPAY_URL = 'https://openapi.alipaydev.com/gateway.do'\n",
    "ALIPAY_DEBUG = False"
   ]
  },
  {
   "cell_type": "markdown",
   "id": "3a1458f3",
   "metadata": {},
   "source": [
    "获得支付链接（发起支付）："
   ]
  },
  {
   "cell_type": "code",
   "execution_count": null,
   "id": "ef486075",
   "metadata": {
    "attributes": {
     "classes": [
      "Python"
     ],
     "id": ""
    }
   },
   "outputs": [],
   "source": [
    "# 创建调用支付宝的对象\n",
    "alipay = AliPay(\n",
    "    # 在线创建应用时分配的ID\n",
    "    appid=settings.ALIPAY_APPID,\n",
    "    app_notify_url=None,\n",
    "    # 自己应用的私钥\n",
    "    app_private_key_path=os.path.join(\n",
    "        os.path.dirname(os.path.abspath(__file__)), \n",
    "        'keys/app_private_key.pem'),\n",
    "    # 支付宝的公钥\n",
    "    alipay_public_key_path=os.path.join(\n",
    "        os.path.dirname(os.path.abspath(__file__)), \n",
    "        'keys/alipay_public_key.pem'),\n",
    "    sign_type='RSA2',\n",
    "    debug=settings.ALIPAY_DEBUG\n",
    ")\n",
    "# 调用获取支付页面操作\n",
    "order_info = alipay.api_alipay_trade_page_pay(\n",
    "    out_trade_no='...',\n",
    "    total_amount='...',\n",
    "    subject='...',\n",
    "    return_url='http://...'\n",
    ")\n",
    "# 生成完整的支付页面URL\n",
    "alipay_url = settings.ALIPAY_URL + '?' + order_info\n",
    "return JsonResponse({'alipay_url': alipay_url})"
   ]
  },
  {
   "cell_type": "markdown",
   "id": "26f07640",
   "metadata": {},
   "source": [
    "通过上面返回的链接可以进入支付页面，支付完成后会自动跳转回上面代码中设定好的项目页面，在该页面中可以获得订单号（out_trade_no）、支付流水号（trade_no）、交易金额（total_amount）和对应的签名（sign）并请求后端验证和保存交易结果，代码如下所示："
   ]
  },
  {
   "cell_type": "code",
   "execution_count": null,
   "id": "910df11d",
   "metadata": {
    "attributes": {
     "classes": [
      "Python"
     ],
     "id": ""
    }
   },
   "outputs": [],
   "source": [
    "# 创建调用支付宝的对象\n",
    "alipay = AliPay(\n",
    "    # 在线创建应用时分配的ID\n",
    "    appid=settings.ALIPAY_APPID,\n",
    "    app_notify_url=None,\n",
    "    # 自己应用的私钥\n",
    "    app_private_key_path=os.path.join(\n",
    "        os.path.dirname(os.path.abspath(__file__)), \n",
    "        'keys/app_private_key.pem'),\n",
    "    # 支付宝的公钥\n",
    "    alipay_public_key_path=os.path.join(\n",
    "        os.path.dirname(os.path.abspath(__file__)), \n",
    "        'keys/alipay_public_key.pem'),\n",
    "    sign_type='RSA2',\n",
    "    debug=settings.ALIPAY_DEBUG\n",
    ")\n",
    "# 请求参数（假设是POST请求）中包括订单号、支付流水号、交易金额和签名\n",
    "params = request.POST.dict()\n",
    "# 调用验证操作\n",
    "if alipay.verify(params, params.pop('sign')):\n",
    "    # 对交易进行持久化操作"
   ]
  },
  {
   "cell_type": "markdown",
   "id": "9faa9907",
   "metadata": {},
   "source": [
    "支付宝的支付API还提供了交易查询、交易结算、退款、退款查询等一系列的接口，可以根据业务需要进行调用，此处不再进行赘述。\n",
    "\n",
    "### 秒杀和超卖\n",
    "\n",
    "1. 秒杀：秒杀是通常意味着要在很短的时间处理极高的并发，系统在短时间需要承受平时百倍以上的流量，因此秒杀架构是一个比较复杂的问题，其核心思路是流量控制和性能优化，需要从前端（通过JavaScript实现倒计时、避免重复提交和限制频繁刷新）到后台各个环节的配合。流量控制主要是限制只有少部分流量进入服务后端（毕竟最终只有少部分用户能够秒杀成功），同时在物理架构上使用缓存（一方面是因为读操作多写操作少；另外可以将库存放在Redis中，利用DECR原语实现减库存；同时也可以利用Redis来进行限流，道理跟限制频繁发送手机验证码是一样的）和消息队列（消息队列最为重要的作用就是“削峰”和“上下游节点解耦合”）来进行优化；此外还要采用无状态服务设计，这样才便于进行水平扩展（通过增加设备来为系统扩容）。\n",
    "2. 超卖现象：比如某商品的库存为1，此时用户1和用户2并发购买该商品，用户1提交订单后该商品的库存被修改为0，而此时用户2并不知道的情况下提交订单，该商品的库存再次被修改为-1这就是超卖现象。解决超卖现象有三种常见的思路：\n",
    "   - 悲观锁控制：查询商品数量的时候就用`select ... for update`对数据加锁，这样的话用户1查询库存时，用户2因无法读取库存数量被阻塞，直到用户1提交或者回滚了更新库存的操作后才能继续，从而解决了超卖问题。但是这种做法对并发访问量很高的商品来说性能太过糟糕，实际开发中可以在库存小于某个值时才考虑加锁，但是总的来说这种做法不太可取。\n",
    "   - 乐观锁控制：查询商品数量不用加锁，更新库存的时候设定商品数量必须与之前查询数量相同才能更新，否则说明其他事务已经更新了库存，必须重新发出请求。\n",
    "   - 尝试减库存：将上面的查询（`select`）和更新（`update`）操作合并为一条SQL操作，更新库存的时候，在`where`筛选条件中加上`库存>=购买数量`或`库存-购买数量>=0`的条件，这种做法要求事务隔离级别为读提交（read committed）。\n",
    "\n",
    "> 提示：有兴趣的可以自己在知乎上看看关于这类问题的讨论。\n",
    "\n",
    "### 静态资源管理\n",
    "\n",
    "静态资源的管理可以自己架设文件服务器或者分布式文件服务器（FastDFS），但是一般的项目中没有必要这样做而且效果未必是最好的，我们建议使用云存储服务来管理网站的静态资源，国内外的云服务提供商如[亚马逊](<https://amazonaws-china.com/cn/>)、[阿里云](<https://www.aliyun.com/product/oss>)、[七牛](<https://www.qiniu.com/products/kodo>)、[LeanCloud](<https://leancloud.cn/storage/>)、[Bmob](<https://www.bmob.cn/cloud>)等都提供了非常优质的云存储服务，而且价格也是一般公司可以接受的，具体的操作可以参考官方文档，例如：阿里云的[对象存储 OSS开发人员指南](https://www.alibabacloud.com/zh/support/developer-resources)。\n",
    "\n",
    "### 全文检索\n",
    "\n",
    "####  方案选择\n",
    "\n",
    "1. 使用数据库的模糊查询功能 - 效率低，每次需要全表扫描，不支持分词。\n",
    "2. 使用数据库的全文检索功能 - MySQL 5.6以前只适用于MyISAM引擎，检索操作和其他的DML操作耦合在数据库中，可能导致检索操作非常缓慢，数据量达到百万级性能显著下降，查询时间很长。\n",
    "3. 使用开源搜索引擎 - 索引数据和原始数据分离，可以使用ElasticSearch或Solr来提供外置索引服务，如果不考虑高并发的全文检索需求，纯Python的Whoosh也可以考虑。\n",
    "\n",
    "#### ElasticSearch\n",
    "\n",
    "ElasticSearch既是一个分布式文档数据库又是一个高可扩展的开源全文搜索和分析引擎，它允许存储、搜索和分析大量的数据，并且这个过程是近实时的。它通常被用作底层引擎和技术，为复杂的搜索功能和要求提供动力，大家熟知的维基百科、Stack-Overflow、Github都使用了ElasticSearch。\n",
    "\n",
    "ElasticSearch的底层是开源搜索引擎[Lucene](https://lucene.apache.org/)，但是直接用Lucene会非常麻烦，必须自己编写代码去调用它的接口而且只支持Java语言。ElasticSearch相当于对Lucene进行了一次全面的封装，提供了REST风格的API接口，通过基于HTTP协议的访问方式屏蔽了编程语言的差异。ElasticSearch会为数据构建[倒排索引](https://zh.wikipedia.org/zh-hans/%E5%80%92%E6%8E%92%E7%B4%A2%E5%BC%95)，但是ElasticSearch内置的分词器对中文分词的支持几乎为零，因此需要通过安装elasticsearch-analysis-ik插件来提供中文分词服务。\n",
    "\n",
    "ElasticSearch的安装和配置可以参考[《ElasticSearch之Docker安装》](https://blog.csdn.net/jinyidong/article/details/80475320)。除了ElasticSearch之外，也可以使用Solr、Whoosh等来提供搜索引擎服务，基本上Django项目中可以考虑如下几种方案：\n",
    "\n",
    "- haystack（django-haystack / drf-haystack） + whoosh + Jieba\n",
    "- haystack （django-haystack / drf-haystack）+ elasticsearch\n",
    "- requests + elasticsearch\n",
    "- django-elasticsearch-dsl\n",
    "\n",
    "####安装和使用ElasticSearch\n",
    "\n",
    "1. 使用Docker安装ElasticSearch。\n",
    "\n",
    "   ```Shell\n",
    "   docker pull elasticsearch:7.6.0\n",
    "   docker run -d -p 9200:9200 -p 9300:9300 -e \"discovery.type=single-node\" -e ES_JAVA_OPTS=\"-Xms512m -Xmx512m\" --name es elasticsearch:7.6.0\n",
    "   ```\n",
    "\n",
    "   > 说明：上面创建容器时通过`-e`参数指定了使用单机模式和Java虚拟机最小最大可用堆空间的大小，堆空间大小可以根据服务器实际能够提供给ElasticSearch的内存大小来决定，默认为2G。\n",
    "\n",
    "2. 创建数据库。\n",
    "\n",
    "   请求：PUT - `http://1.2.3.4:9200/demo/`\n",
    "\n",
    "   响应："
   ]
  },
  {
   "cell_type": "code",
   "execution_count": null,
   "id": "60c93721",
   "metadata": {},
   "outputs": [],
   "source": [
    "```JSON\n",
    "   {\n",
    "   \"acknowledged\": true,\n",
    "   \"shards_acknowledged\": true,\n",
    "   \"index\": \"demo\"\n",
    "   }\n",
    "```"
   ]
  },
  {
   "cell_type": "markdown",
   "id": "55fddb05",
   "metadata": {},
   "source": [
    "3. 查看创建的数据库。\n",
    "\n",
    "   请求：GET - `http://1.2.3.4:9200/demo/`\n",
    "\n",
    "   响应：\n",
    "\n",
    "   ```JSON\n",
    "   {\n",
    "       \"demo\": {\n",
    "           \"aliases\": {},\n",
    "           \"mappings\": {},\n",
    "           \"settings\": {\n",
    "               \"index\": {\n",
    "                   \"creation_date\": \"1552213970199\",\n",
    "                   \"number_of_shards\": \"5\",\n",
    "                   \"number_of_replicas\": \"1\",\n",
    "                   \"uuid\": \"ny3rCn10SAmCsqW6xPP1gw\",\n",
    "                   \"version\": {\n",
    "                       \"created\": \"6050399\"\n",
    "                   },\n",
    "                   \"provided_name\": \"demo\"\n",
    "               }\n",
    "           }\n",
    "       }\n",
    "   }\n",
    "   ```\n",
    "\n",
    "4. 插入数据。\n",
    "\n",
    "   请求：POST - `http://1.2.3.4:9200/demo/goods/1/`\n",
    "\n",
    "   请求头：Content-Type: application/json\n",
    "\n",
    "   参数：\n",
    "\n",
    "   ```JSON\n",
    "   {\n",
    "       \"no\": \"5089253\",\n",
    "       \"title\": \"Apple iPhone X (A1865) 64GB 深空灰色 移动联通电信4G手机\",\n",
    "       \"brand\": \"Apple\",\n",
    "       \"name\": \"Apple iPhone X\",\n",
    "       \"product\": \"中国大陆\",\n",
    "       \"resolution\": \"2436 x 1125\",\n",
    "       \"intro\": \"一直以来，Apple都心存一个设想，期待能够打造出这样一部iPhone：它有整面屏幕，能让你在使用时，完全沉浸其中，仿佛忘了它的存在。它是如此智能，哪怕轻轻一瞥，都能得到它心有灵犀的回应。而这个设想，终于随着iPhone X的到来成为了现实。现在，就跟未来见个面吧。\"\n",
    "   }\n",
    "   ```\n",
    "\n",
    "   响应：\n",
    "\n",
    "   ```JSON\n",
    "   {\n",
    "       \"_index\": \"demo\",\n",
    "       \"_type\": \"goods\",\n",
    "       \"_id\": \"1\",\n",
    "       \"_version\": 4,\n",
    "       \"result\": \"created\",\n",
    "       \"_shards\": {\n",
    "           \"total\": 2,\n",
    "           \"successful\": 1,\n",
    "           \"failed\": 0\n",
    "       },\n",
    "       \"_seq_no\": 3,\n",
    "       \"_primary_term\": 1\n",
    "   }\n",
    "   ```\n",
    "\n",
    "5. 删除数据。\n",
    "\n",
    "   请求：DELETE -  `http://1.2.3.4:9200/demo/goods/1/`\n",
    "\n",
    "   响应：\n",
    "\n",
    "   ```JSON\n",
    "   {\n",
    "       \"_index\": \"demo\",\n",
    "       \"_type\": \"goods\",\n",
    "       \"_id\": \"1\",\n",
    "       \"_version\": 2,\n",
    "       \"result\": \"deleted\",\n",
    "       \"_shards\": {\n",
    "           \"total\": 2,\n",
    "           \"successful\": 1,\n",
    "           \"failed\": 0\n",
    "       },\n",
    "       \"_seq_no\": 1,\n",
    "       \"_primary_term\": 1\n",
    "   }\n",
    "   ```\n",
    "\n",
    "6. 更新数据。\n",
    "\n",
    "   请求：PUT - `http://1.2.3.4:9200/demo/goods/1/_update`\n",
    "\n",
    "   请求头：Content-Type: application/json\n",
    "\n",
    "   参数：\n",
    "\n",
    "   ```JSON\n",
    "   {\n",
    "   \t\"doc\": {\n",
    "   \t\t\"no\": \"5089253\",\n",
    "       \t\"title\": \"Apple iPhone X (A1865) 64GB 深空灰色 移动联通电信4G手机\",\n",
    "       \t\"brand\": \"Apple(苹果)\",\n",
    "       \t\"name\": \"Apple iPhone X\",\n",
    "       \t\"product\": \"美国\",\n",
    "       \t\"resolution\": \"2436 x 1125\",\n",
    "       \t\"intro\": \"一直以来，Apple都心存一个设想，期待能够打造出这样一部iPhone：它有整面屏幕，能让你在使用时，完全沉浸其中，仿佛忘了它的存在。它是如此智能，哪怕轻轻一瞥，都能得到它心有灵犀的回应。而这个设想，终于随着iPhone X的到来成为了现实。现在，就跟未来见个面吧。\"\n",
    "       }\n",
    "   }\n",
    "   ```\n",
    "\n",
    "   响应：\n",
    "\n",
    "   ```JSON\n",
    "   {\n",
    "       \"_index\": \"demo\",\n",
    "       \"_type\": \"goods\",\n",
    "       \"_id\": \"1\",\n",
    "       \"_version\": 10,\n",
    "       \"result\": \"updated\",\n",
    "       \"_shards\": {\n",
    "           \"total\": 2,\n",
    "           \"successful\": 1,\n",
    "           \"failed\": 0\n",
    "       },\n",
    "       \"_seq_no\": 9,\n",
    "       \"_primary_term\": 1\n",
    "   }\n",
    "   ```\n",
    "\n",
    "7. 查询数据。\n",
    "\n",
    "   请求：GET - `http://1.2.3.4:9200/demo/goods/1/`\n",
    "\n",
    "   响应：\n",
    "\n",
    "   ```JSON\n",
    "   {\n",
    "       \"_index\": \"demo\",\n",
    "       \"_type\": \"goods\",\n",
    "       \"_id\": \"1\",\n",
    "       \"_version\": 10,\n",
    "       \"found\": true,\n",
    "       \"_source\": {\n",
    "           \"doc\": {\n",
    "               \"no\": \"5089253\",\n",
    "               \"title\": \"Apple iPhone X (A1865) 64GB 深空灰色 移动联通电信4G手机\",\n",
    "               \"brand\": \"Apple(苹果)\",\n",
    "               \"name\": \"Apple iPhone X\",\n",
    "               \"product\": \"美国\",\n",
    "               \"resolution\": \"2436 x 1125\",\n",
    "               \"intro\": \"一直以来，Apple都心存一个设想，期待能够打造出这样一部iPhone：它有整面屏幕，能让你在使用时，完全沉浸其中，仿佛忘了它的存在。它是如此智能，哪怕轻轻一瞥，都能得到它心有灵犀的回应。而这个设想，终于随着iPhone X的到来成为了现实。现在，就跟未来见个面吧。\"\n",
    "           }\n",
    "       }\n",
    "   }\n",
    "   ```\n",
    "\n",
    "#### 配置中文分词和拼音插件\n",
    "\n",
    "1. 进入Docker容器的plugins目录。\n",
    "\n",
    "   ```Shell\n",
    "   docker exec -it es /bin/bash\n",
    "   ```\n",
    "\n",
    "2. 下载和ElasticSearch版本对应的[ik](https://github.com/medcl/elasticsearch-analysis-ik)和[pinyin](https://github.com/medcl/elasticsearch-analysis-pinyin)插件。\n",
    "\n",
    "   ```Shell\n",
    "   yum install -y wget\n",
    "   cd plugins/\n",
    "   mkdir ik\n",
    "   cd ik\n",
    "   wget https://github.com/medcl/elasticsearch-analysis-ik/releases/download/v7.6.0/elasticsearch-analysis-ik-7.6.0.zip\n",
    "   unzip elasticsearch-analysis-ik-7.6.0.zip\n",
    "   rm -f elasticsearch-analysis-ik-7.6.0.zip\n",
    "   cd ..\n",
    "   mkdir pinyin\n",
    "   cd pinyin\n",
    "   wget https://github.com/medcl/elasticsearch-analysis-pinyin/releases/download/v7.6.0/elasticsearch-analysis-pinyin-7.6.0.zip\n",
    "   unzip elasticsearch-analysis-pinyin-7.6.0.zip\n",
    "   rm -f elasticsearch-analysis-pinyin-7.6.0.zip\n",
    "   ```\n",
    "\n",
    "3. 退出容器，重启ElasticSearch。\n",
    "\n",
    "   ```Shell\n",
    "   docker restart es\n",
    "   ```\n",
    "\n",
    "4. 测试中文分词效果。\n",
    "\n",
    "   请求：POST - `http://1.2.3.4:9200/_analyze`\n",
    "\n",
    "   请求头：Content-Type: application/json\n",
    "\n",
    "   参数：\n",
    "\n",
    "   ```JSON\n",
    "   {\n",
    "     \"analyzer\": \"ik_smart\",\n",
    "     \"text\": \"中国男足在2022年卡塔尔世界杯预选赛中勇夺小组最后一名\"\n",
    "   }\n",
    "   ```\n",
    "\n",
    "   响应：\n",
    "\n",
    "   ```JSON\n",
    "   {\n",
    "       \"tokens\": [\n",
    "           {\n",
    "               \"token\": \"中国\",\n",
    "               \"start_offset\": 0,\n",
    "               \"end_offset\": 2,\n",
    "               \"type\": \"CN_WORD\",\n",
    "               \"position\": 0\n",
    "           },\n",
    "           {\n",
    "               \"token\": \"男足\",\n",
    "               \"start_offset\": 2,\n",
    "               \"end_offset\": 4,\n",
    "               \"type\": \"CN_WORD\",\n",
    "               \"position\": 1\n",
    "           },\n",
    "           {\n",
    "               \"token\": \"在\",\n",
    "               \"start_offset\": 4,\n",
    "               \"end_offset\": 5,\n",
    "               \"type\": \"CN_CHAR\",\n",
    "               \"position\": 2\n",
    "           },\n",
    "           {\n",
    "               \"token\": \"2022年\",\n",
    "               \"start_offset\": 5,\n",
    "               \"end_offset\": 10,\n",
    "               \"type\": \"TYPE_CQUAN\",\n",
    "               \"position\": 3\n",
    "           },\n",
    "           {\n",
    "               \"token\": \"卡塔尔\",\n",
    "               \"start_offset\": 10,\n",
    "               \"end_offset\": 13,\n",
    "               \"type\": \"CN_WORD\",\n",
    "               \"position\": 4\n",
    "           },\n",
    "           {\n",
    "               \"token\": \"世界杯\",\n",
    "               \"start_offset\": 13,\n",
    "               \"end_offset\": 16,\n",
    "               \"type\": \"CN_WORD\",\n",
    "               \"position\": 5\n",
    "           },\n",
    "           {\n",
    "               \"token\": \"预选赛\",\n",
    "               \"start_offset\": 16,\n",
    "               \"end_offset\": 19,\n",
    "               \"type\": \"CN_WORD\",\n",
    "               \"position\": 6\n",
    "           },\n",
    "           {\n",
    "               \"token\": \"中\",\n",
    "               \"start_offset\": 19,\n",
    "               \"end_offset\": 20,\n",
    "               \"type\": \"CN_CHAR\",\n",
    "               \"position\": 7\n",
    "           },\n",
    "           {\n",
    "               \"token\": \"勇夺\",\n",
    "               \"start_offset\": 20,\n",
    "               \"end_offset\": 22,\n",
    "               \"type\": \"CN_WORD\",\n",
    "               \"position\": 8\n",
    "           },\n",
    "           {\n",
    "               \"token\": \"小组\",\n",
    "               \"start_offset\": 22,\n",
    "               \"end_offset\": 24,\n",
    "               \"type\": \"CN_WORD\",\n",
    "               \"position\": 9\n",
    "           },\n",
    "           {\n",
    "               \"token\": \"最后\",\n",
    "               \"start_offset\": 24,\n",
    "               \"end_offset\": 26,\n",
    "               \"type\": \"CN_WORD\",\n",
    "               \"position\": 10\n",
    "           },\n",
    "           {\n",
    "               \"token\": \"一名\",\n",
    "               \"start_offset\": 26,\n",
    "               \"end_offset\": 28,\n",
    "               \"type\": \"CN_WORD\",\n",
    "               \"position\": 11\n",
    "           }\n",
    "       ]\n",
    "   }\n",
    "   ```\n",
    "\n",
    "5. 测试拼音分词效果。\n",
    "\n",
    "   请求：POST - `http://1.2.3.4:9200/_analyze`\n",
    "\n",
    "   请求头：Content-Type: application/json\n",
    "\n",
    "   参数：\n",
    "\n",
    "   ```JSON\n",
    "   {\n",
    "     \"analyzer\": \"pinyin\",\n",
    "     \"text\": \"张学友\"\n",
    "   }\n",
    "   ```\n",
    "\n",
    "   响应：\n",
    "\n",
    "   ```JSON\n",
    "   {\n",
    "       \"tokens\": [\n",
    "           {\n",
    "               \"token\": \"zhang\",\n",
    "               \"start_offset\": 0,\n",
    "               \"end_offset\": 0,\n",
    "               \"type\": \"word\",\n",
    "               \"position\": 0\n",
    "           },\n",
    "           {\n",
    "               \"token\": \"zxy\",\n",
    "               \"start_offset\": 0,\n",
    "               \"end_offset\": 0,\n",
    "               \"type\": \"word\",\n",
    "               \"position\": 0\n",
    "           },\n",
    "           {\n",
    "               \"token\": \"xue\",\n",
    "               \"start_offset\": 0,\n",
    "               \"end_offset\": 0,\n",
    "               \"type\": \"word\",\n",
    "               \"position\": 1\n",
    "           },\n",
    "           {\n",
    "               \"token\": \"you\",\n",
    "               \"start_offset\": 0,\n",
    "               \"end_offset\": 0,\n",
    "               \"type\": \"word\",\n",
    "               \"position\": 2\n",
    "           }\n",
    "       ]\n",
    "   }\n",
    "   ```\n",
    "\n",
    "#### 全文检索功能\n",
    "\n",
    "可以通过GET或者POST请求进行搜索，下面演示了搜索有“未来”关键词商品。\n",
    "\n",
    "1. GET - `http://120.77.222.217:9200/demo/goods/_search?q=未来`\n",
    "\n",
    "   > 注意：URL中的中文应该要处理成百分号编码。\n",
    "\n",
    "   ```JSON\n",
    "   {\n",
    "       \"took\": 19,\n",
    "       \"timed_out\": false,\n",
    "       \"_shards\": {\n",
    "           \"total\": 5,\n",
    "           \"successful\": 5,\n",
    "           \"skipped\": 0,\n",
    "           \"failed\": 0\n",
    "       },\n",
    "       \"hits\": {\n",
    "           \"total\": 2,\n",
    "           \"max_score\": 0.73975396,\n",
    "           \"hits\": [\n",
    "               {\n",
    "                   \"_index\": \"demo\",\n",
    "                   \"_type\": \"goods\",\n",
    "                   \"_id\": \"1\",\n",
    "                   \"_score\": 0.73975396,\n",
    "                   \"_source\": {\n",
    "                       \"doc\": {\n",
    "                           \"no\": \"5089253\",\n",
    "                           \"title\": \"Apple iPhone X (A1865) 64GB 深空灰色 移动联通电信4G手机\",\n",
    "                           \"brand\": \"Apple(苹果)\",\n",
    "                           \"name\": \"Apple iPhone X\",\n",
    "                           \"product\": \"美国\",\n",
    "                           \"resolution\": \"2436*1125\",\n",
    "                           \"intro\": \"一直以来，Apple都心存一个设想，期待能够打造出这样一部iPhone：它有整面屏幕，能让你在使用时，完全沉浸其中，仿佛忘了它的存在。它是如此智能，哪怕轻轻一瞥，都能得到它心有灵犀的回应。而这个设想，终于随着iPhone X的到来成为了现实。现在，就跟未来见个面吧。\"\n",
    "                       }\n",
    "                   }\n",
    "               },\n",
    "               {\n",
    "                   \"_index\": \"demo\",\n",
    "                   \"_type\": \"goods\",\n",
    "                   \"_id\": \"3\",\n",
    "                   \"_score\": 0.68324494,\n",
    "                   \"_source\": {\n",
    "                       \"no\": \"42417956432\",\n",
    "                       \"title\": \"小米9 透明尊享版 手机 透明尊享 全网通(12GB + 256GB)\",\n",
    "                       \"brand\": \"小米（MI）\",\n",
    "                       \"name\": \"小米（MI）小米9透明\",\n",
    "                       \"product\": \"中国大陆\",\n",
    "                       \"resolution\": \"2340*1080\",\n",
    "                       \"intro\": \"全面透明机身，独特科幻机甲风，来自未来的设计。\"\n",
    "                   }\n",
    "               }\n",
    "           ]\n",
    "       }\n",
    "   }\n",
    "   ```\n",
    "\n",
    "   URL中可用的搜索参数如下表所示：\n",
    "\n",
    "   | 参数             | 说明                                              |\n",
    "   | ---------------- | ------------------------------------------------- |\n",
    "   | q                | 查询字符串                                        |\n",
    "   | analyzer         | 分析查询字符串使用的分词器                        |\n",
    "   | analyze_wildcard | 通配符或者前缀查询是否被分析，默认为false         |\n",
    "   | default_operator | 多个条件之间的关系，默认为OR，可以修改为AND       |\n",
    "   | explain          | 在返回的结果中包含评分机制的解释                  |\n",
    "   | fields           | 只返回索引中指定的列，多个列中间用逗号隔开        |\n",
    "   | sort             | 排序参考的字段，可以用:asc和:desc来指定升序和降序 |\n",
    "   | timeout          | 超时时间                                          |\n",
    "   | from             | 匹配结果的开始值，默认为0                         |\n",
    "   | size             | 匹配结果的条数，默认为10                          |\n",
    "\n",
    "2. POST - `http://120.77.222.217:9200/demo/goods/_search`\n",
    "\n",
    "   请求头：Content-Type: application/json\n",
    "\n",
    "   参数：\n",
    "\n",
    "   ```JSON\n",
    "   {\n",
    "       \"query\": {\n",
    "           \"term\": {\n",
    "               \"type\": \"\"\n",
    "           }\n",
    "       }\n",
    "   }\n",
    "   ```\n",
    "\n",
    "   POST搜索是基于DSL的。\n",
    "\n",
    "\n",
    "#### Django对接ElasticSearch\n",
    "\n",
    "Python对接ElasticSearch的第三方库是HayStack，在Django项目中可以使用django-haystack，通过HayStack可以在不修改代码对接多种搜索引擎服务。"
   ]
  },
  {
   "cell_type": "code",
   "execution_count": null,
   "id": "ccb87302",
   "metadata": {
    "attributes": {
     "classes": [
      "shell"
     ],
     "id": ""
    }
   },
   "outputs": [],
   "source": [
    "pip install django-haystack elasticsearch"
   ]
  },
  {
   "cell_type": "markdown",
   "id": "1aefafbc",
   "metadata": {},
   "source": [
    "配置文件："
   ]
  },
  {
   "cell_type": "code",
   "execution_count": null,
   "id": "7c4a6d76",
   "metadata": {
    "attributes": {
     "classes": [
      "Python"
     ],
     "id": ""
    }
   },
   "outputs": [],
   "source": [
    "INSTALLED_APPS = [\n",
    "    ...\n",
    "    'haystack',\n",
    "    ...\n",
    "]\n",
    "\n",
    "HAYSTACK_CONNECTIONS = {\n",
    "    'default': {\n",
    "        # 引擎配置\n",
    "        'ENGINE': 'haystack.backends.elasticsearch_backend.ElasticsearchSearchEngine',\n",
    "        # 搜索引擎服务的URL\n",
    "        'URL': 'http://1.2.3.4:9200',\n",
    "        # 索引库的名称\n",
    "        'INDEX_NAME': 'goods',\n",
    "    },\n",
    "}\n",
    "\n",
    "# 添加/删除/更新数据时自动生成索引\n",
    "HAYSTACK_SIGNAL_PROCESSOR = 'haystack.signals.RealtimeSignalProcessor'"
   ]
  },
  {
   "cell_type": "markdown",
   "id": "955e3409",
   "metadata": {},
   "source": [
    "索引类："
   ]
  },
  {
   "cell_type": "code",
   "execution_count": null,
   "id": "ee3c7069",
   "metadata": {
    "attributes": {
     "classes": [
      "Python"
     ],
     "id": ""
    }
   },
   "outputs": [],
   "source": [
    "from haystack import indexes\n",
    "\n",
    "\n",
    "class GoodsIndex(indexes.SearchIndex, indexes.Indexable):\n",
    "    text = indexes.CharField(document=True, use_template=True)\n",
    "\n",
    "    def get_model(self):\n",
    "        return Goods\n",
    "\n",
    "    def index_queryset(self, using=None):\n",
    "        return self.get_model().objects.all()"
   ]
  },
  {
   "cell_type": "markdown",
   "id": "6721a418",
   "metadata": {},
   "source": [
    "编辑text字段的模板（需要放在templates/search/indexes/demo/goods_text.txt）："
   ]
  },
  {
   "cell_type": "code",
   "execution_count": null,
   "id": "07405093",
   "metadata": {},
   "outputs": [],
   "source": [
    "{{object.title}}\n",
    "{{object.intro}}"
   ]
  },
  {
   "cell_type": "markdown",
   "id": "8ca74215",
   "metadata": {},
   "source": [
    "配置URL："
   ]
  },
  {
   "cell_type": "code",
   "execution_count": null,
   "id": "3208eb8a",
   "metadata": {
    "attributes": {
     "classes": [
      "Python"
     ],
     "id": ""
    }
   },
   "outputs": [],
   "source": [
    "urlpatterns = [\n",
    "    # ...\n",
    "    url('search/', include('haystack.urls')),\n",
    "]"
   ]
  },
  {
   "cell_type": "markdown",
   "id": "0895604b",
   "metadata": {},
   "source": [
    "生成初始索引："
   ]
  },
  {
   "cell_type": "code",
   "execution_count": null,
   "id": "d70242fc",
   "metadata": {
    "attributes": {
     "classes": [
      "Shell"
     ],
     "id": ""
    }
   },
   "outputs": [],
   "source": [
    "python manage.py rebuild_index"
   ]
  },
  {
   "cell_type": "markdown",
   "id": "a5cea659",
   "metadata": {},
   "source": [
    ">  说明：可以参考[《Django Haystack 全文检索与关键词高亮》](https://www.zmrenwu.com/post/45/)一文来更深入的了解基于Haystack的全文检索操作。"
   ]
  }
 ],
 "metadata": {},
 "nbformat": 4,
 "nbformat_minor": 5
}
