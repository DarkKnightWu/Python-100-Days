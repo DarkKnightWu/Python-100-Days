{
 "cells": [
  {
   "cell_type": "markdown",
   "id": "382e794c",
   "metadata": {},
   "source": [
    "## Python接入MySQL数据库\n",
    "\n",
    "在 Python3 中，我们可以使用`mysqlclient`或者`pymysql`三方库来接入 MySQL 数据库并实现数据持久化操作。二者的用法完全相同，只是导入的模块名不一样。我们推荐大家使用纯 Python 的三方库`pymysql`，因为它更容易安装成功。下面我们仍然以之前创建的名为`hrs`的数据库为例，为大家演示如何通过 Python 程序操作 MySQL 数据库实现数据持久化操作。\n",
    "\n",
    "### 接入MySQL\n",
    "\n",
    "首先，我们可以在命令行或者 PyCharm 的终端中通过下面的命令安装`pymysql`，如果需要接入 MySQL 8，还需要安装一个名为`cryptography`的三方库来支持 MySQL 8 的密码认证方式。"
   ]
  },
  {
   "cell_type": "code",
   "execution_count": null,
   "id": "7ba4b4eb",
   "metadata": {
    "attributes": {
     "classes": [
      "Shell"
     ],
     "id": ""
    }
   },
   "outputs": [],
   "source": [
    "pip install pymysql cryptography"
   ]
  },
  {
   "cell_type": "markdown",
   "id": "0d93ec0d",
   "metadata": {},
   "source": [
    "使用`pymysql`操作 MySQL 的步骤如下所示：\n",
    "\n",
    "1. 创建连接。MySQL 服务器启动后，提供了基于 TCP （传输控制协议）的网络服务。我们可以通过`pymysql`模块的`connect`函数连接 MySQL 服务器。在调用`connect`函数时，需要指定主机（`host`）、端口（`port`）、用户名（`user`）、口令（`password`）、数据库（`database`）、字符集（`charset`）等参数，该函数会返回一个`Connection`对象。\n",
    "2. 获取游标。连接 MySQL 服务器成功后，接下来要做的就是向数据库服务器发送 SQL 语句，MySQL 会执行接收到的 SQL 并将执行结果通过网络返回。要实现这项操作，需要先通过连接对象的`cursor`方法获取游标（`Cursor`）对象。\n",
    "3. 发出 SQL。通过游标对象的`execute`方法，我们可以向数据库发出 SQL 语句。\n",
    "4. 如果执行`insert`、`delete`或`update`操作，需要根据实际情况提交或回滚事务。因为创建连接时，默认开启了事务环境，在操作完成后，需要使用连接对象的`commit`或`rollback`方法，实现事务的提交或回滚，`rollback`方法通常会放在异常捕获代码块`except`中。如果执行`select`操作，需要通过游标对象抓取查询的结果，对应的方法有三个，分别是：`fetchone`、`fetchmany`和`fetchall`。其中`fetchone`方法会抓取到一条记录，并以元组或字典的方式返回；`fetchmany`和`fetchall`方法会抓取到多条记录，以嵌套元组或列表装字典的方式返回。\n",
    "5. 关闭连接。在完成持久化操作后，请不要忘记关闭连接，释放外部资源。我们通常会在`finally`代码块中使用连接对象的`close`方法来关闭连接。\n",
    "\n",
    "### 代码实操\n",
    "\n",
    "下面，我们通过代码实操的方式为大家演示上面说的五个步骤。\n",
    "\n",
    "#### 插入数据"
   ]
  },
  {
   "cell_type": "code",
   "execution_count": null,
   "id": "16c9a72b",
   "metadata": {
    "attributes": {
     "classes": [
      "Python"
     ],
     "id": ""
    }
   },
   "outputs": [],
   "source": [
    "import pymysql\n",
    "\n",
    "no = int(input('部门编号: '))\n",
    "name = input('部门名称: ')\n",
    "location = input('部门所在地: ')\n",
    "\n",
    "# 1. 创建连接（Connection）\n",
    "conn = pymysql.connect(host='127.0.0.1', port=3306,\n",
    "                       user='guest', password='Guest.618',\n",
    "                       database='hrs', charset='utf8mb4')\n",
    "try:\n",
    "    # 2. 获取游标对象（Cursor）\n",
    "    with conn.cursor() as cursor:\n",
    "        # 3. 通过游标对象向数据库服务器发出SQL语句\n",
    "        affected_rows = cursor.execute(\n",
    "            'insert into `tb_dept` values (%s, %s, %s)',\n",
    "            (no, name, location)\n",
    "        )\n",
    "        if affected_rows == 1:\n",
    "            print('新增部门成功!!!')\n",
    "    # 4. 提交事务（transaction）\n",
    "    conn.commit()\n",
    "except pymysql.MySQLError as err:\n",
    "    # 4. 回滚事务\n",
    "    conn.rollback()\n",
    "    print(type(err), err)\n",
    "finally:\n",
    "    # 5. 关闭连接释放资源\n",
    "    conn.close()"
   ]
  },
  {
   "cell_type": "markdown",
   "id": "4cfc1d02",
   "metadata": {},
   "source": [
    "> **说明**：上面的`127.0.0.1`称为回环地址，它代表的是本机。下面的`guest`是我提前创建好的用户，该用户拥有对`hrs`数据库的`insert`、`delete`、`update`和`select`权限。我们不建议大家在项目中直接使用`root`超级管理员账号访问数据库，这样做实在是太危险了。我们可以使用下面的命令创建名为`guest`的用户并为其授权。\n",
    ">\n",
    "> ```SQL\n",
    "> create user 'guest'@'%' identified by 'Guest.618';\n",
    "> grant insert, delete, update, select on `hrs`.* to 'guest'@'%';\n",
    "> ```\n",
    "\n",
    "如果要插入大量数据，建议使用游标对象的`executemany`方法做批处理（一个`insert`操作后面跟上多组数据），大家可以尝试向一张表插入10000条记录，然后看看不使用批处理一条条的插入和使用批处理有什么差别。游标对象的`executemany`方法第一个参数仍然是 SQL 语句，第二个参数可以是包含多组数据的列表或元组。\n",
    "\n",
    "#### 删除数据"
   ]
  },
  {
   "cell_type": "code",
   "execution_count": null,
   "id": "1051e853",
   "metadata": {
    "attributes": {
     "classes": [
      "Python"
     ],
     "id": ""
    }
   },
   "outputs": [],
   "source": [
    "import pymysql\n",
    "\n",
    "no = int(input('部门编号: '))\n",
    "\n",
    "# 1. 创建连接（Connection）\n",
    "conn = pymysql.connect(host='127.0.0.1', port=3306,\n",
    "                       user='guest', password='Guest.618',\n",
    "                       database='hrs', charset='utf8mb4',\n",
    "                       autocommit=True)\n",
    "try:\n",
    "    # 2. 获取游标对象（Cursor）\n",
    "    with conn.cursor() as cursor:\n",
    "        # 3. 通过游标对象向数据库服务器发出SQL语句\n",
    "        affected_rows = cursor.execute(\n",
    "            'delete from `tb_dept` where `dno`=%s',\n",
    "            (no, )\n",
    "        )\n",
    "        if affected_rows == 1:\n",
    "            print('删除部门成功!!!')\n",
    "finally:\n",
    "    # 5. 关闭连接释放资源\n",
    "    conn.close()"
   ]
  },
  {
   "cell_type": "markdown",
   "id": "496996e7",
   "metadata": {},
   "source": [
    "> **说明**：如果不希望每次 SQL 操作之后手动提交或回滚事务，可以`connect`函数中加一个名为`autocommit`的参数并将它的值设置为`True`，表示每次执行 SQL 成功后自动提交。但是我们建议大家手动提交或回滚，这样可以根据实际业务需要来构造事务环境。如果不愿意捕获异常并进行处理，可以在`try`代码块后直接跟`finally`块，省略`except`意味着发生异常时，代码会直接崩溃并将异常栈显示在终端中。\n",
    "\n",
    "#### 更新数据"
   ]
  },
  {
   "cell_type": "code",
   "execution_count": null,
   "id": "c12c1766",
   "metadata": {
    "attributes": {
     "classes": [
      "Python"
     ],
     "id": ""
    }
   },
   "outputs": [],
   "source": [
    "import pymysql\n",
    "\n",
    "no = int(input('部门编号: '))\n",
    "name = input('部门名称: ')\n",
    "location = input('部门所在地: ')\n",
    "\n",
    "# 1. 创建连接（Connection）\n",
    "conn = pymysql.connect(host='127.0.0.1', port=3306,\n",
    "                       user='guest', password='Guest.618',\n",
    "                       database='hrs', charset='utf8mb4')\n",
    "try:\n",
    "    # 2. 获取游标对象（Cursor）\n",
    "    with conn.cursor() as cursor:\n",
    "        # 3. 通过游标对象向数据库服务器发出SQL语句\n",
    "        affected_rows = cursor.execute(\n",
    "            'update `tb_dept` set `dname`=%s, `dloc`=%s where `dno`=%s',\n",
    "            (name, location, no)\n",
    "        )\n",
    "        if affected_rows == 1:\n",
    "            print('更新部门信息成功!!!')\n",
    "    # 4. 提交事务\n",
    "    conn.commit()\n",
    "except pymysql.MySQLError as err:\n",
    "    # 4. 回滚事务\n",
    "    conn.rollback()\n",
    "    print(type(err), err)\n",
    "finally:\n",
    "    # 5. 关闭连接释放资源\n",
    "    conn.close()"
   ]
  },
  {
   "cell_type": "markdown",
   "id": "77b82840",
   "metadata": {},
   "source": [
    "#### 查询数据\n",
    "\n",
    "1. 查询部门表的数据。"
   ]
  },
  {
   "cell_type": "code",
   "execution_count": null,
   "id": "246d3848",
   "metadata": {
    "attributes": {
     "classes": [
      "Python"
     ],
     "id": ""
    }
   },
   "outputs": [],
   "source": [
    "import pymysql\n",
    "\n",
    "# 1. 创建连接（Connection）\n",
    "conn = pymysql.connect(host='127.0.0.1', port=3306,\n",
    "                       user='guest', password='Guest.618',\n",
    "                       database='hrs', charset='utf8mb4')\n",
    "try:\n",
    "    # 2. 获取游标对象（Cursor）\n",
    "    with conn.cursor() as cursor:\n",
    "        # 3. 通过游标对象向数据库服务器发出SQL语句\n",
    "        cursor.execute('select `dno`, `dname`, `dloc` from `tb_dept`')\n",
    "        # 4. 通过游标对象抓取数据\n",
    "        row = cursor.fetchone()\n",
    "        while row:\n",
    "            print(row)\n",
    "            row = cursor.fetchone()\n",
    "except pymysql.MySQLError as err:\n",
    "    print(type(err), err)\n",
    "finally:\n",
    "    # 5. 关闭连接释放资源\n",
    "    conn.close()"
   ]
  },
  {
   "cell_type": "markdown",
   "id": "8cbfed86",
   "metadata": {},
   "source": [
    ">**说明**：上面的代码中，我们通过构造一个`while`循环实现了逐行抓取查询结果的操作。这种方式特别适合查询结果有非常多行的场景。因为如果使用`fetchall`一次性将所有记录抓取到一个嵌套元组中，会造成非常大的内存开销，这在很多场景下并不是一个好主意。如果不愿意使用`while`循环，还可以考虑使用`iter`函数构造一个迭代器来逐行抓取数据，有兴趣的读者可以自行研究。\n",
    "\n",
    "2. 分页查询员工表的数据。"
   ]
  },
  {
   "cell_type": "code",
   "execution_count": null,
   "id": "430915cf",
   "metadata": {
    "attributes": {
     "classes": [
      "Python"
     ],
     "id": ""
    }
   },
   "outputs": [],
   "source": [
    "import pymysql\n",
    "\n",
    "page = int(input('页码: '))\n",
    "size = int(input('大小: '))\n",
    "\n",
    "# 1. 创建连接（Connection）\n",
    "con = pymysql.connect(host='127.0.0.1', port=3306,\n",
    "                      user='guest', password='Guest.618',\n",
    "                      database='hrs', charset='utf8')\n",
    "try:\n",
    "    # 2. 获取游标对象（Cursor）\n",
    "    with con.cursor(pymysql.cursors.DictCursor) as cursor:\n",
    "        # 3. 通过游标对象向数据库服务器发出SQL语句\n",
    "        cursor.execute(\n",
    "            'select `eno`, `ename`, `job`, `sal` from `tb_emp` order by `sal` desc limit %s,%s',\n",
    "            ((page - 1) * size, size)\n",
    "        )\n",
    "        # 4. 通过游标对象抓取数据\n",
    "        for emp_dict in cursor.fetchall():\n",
    "            print(emp_dict)\n",
    "finally:\n",
    "    # 5. 关闭连接释放资源\n",
    "    con.close()"
   ]
  },
  {
   "cell_type": "markdown",
   "id": "d054cab7",
   "metadata": {},
   "source": [
    "### 案例讲解\n",
    "\n",
    "下面我们为大家讲解一个将数据库表数据导出到 Excel 文件的例子，我们需要先安装`openpyxl`三方库，命令如下所示。"
   ]
  },
  {
   "cell_type": "code",
   "execution_count": null,
   "id": "1b12f741",
   "metadata": {
    "attributes": {
     "classes": [
      "Bash"
     ],
     "id": ""
    }
   },
   "outputs": [],
   "source": [
    "pip install openpyxl"
   ]
  },
  {
   "cell_type": "markdown",
   "id": "001d3d14",
   "metadata": {},
   "source": [
    "接下来，我们通过下面的代码实现了将数据库`hrs`中所有员工的编号、姓名、职位、月薪、补贴和部门名称导出到一个 Excel 文件中。"
   ]
  },
  {
   "cell_type": "code",
   "execution_count": null,
   "id": "55836537",
   "metadata": {
    "attributes": {
     "classes": [
      "Python"
     ],
     "id": ""
    }
   },
   "outputs": [],
   "source": [
    "import openpyxl\n",
    "import pymysql\n",
    "\n",
    "# 创建工作簿对象\n",
    "workbook = openpyxl.Workbook()\n",
    "# 获得默认的工作表\n",
    "sheet = workbook.active\n",
    "# 修改工作表的标题\n",
    "sheet.title = '员工基本信息'\n",
    "# 给工作表添加表头\n",
    "sheet.append(('工号', '姓名', '职位', '月薪', '补贴', '部门'))\n",
    "# 创建连接（Connection）\n",
    "conn = pymysql.connect(host='127.0.0.1', port=3306,\n",
    "                       user='guest', password='Guest.618',\n",
    "                       database='hrs', charset='utf8mb4')\n",
    "try:\n",
    "    # 获取游标对象（Cursor）\n",
    "    with conn.cursor() as cursor:\n",
    "        # 通过游标对象执行SQL语句\n",
    "        cursor.execute(\n",
    "            'select `eno`, `ename`, `job`, `sal`, coalesce(`comm`, 0), `dname` '\n",
    "            'from `tb_emp` natural join `tb_dept`'\n",
    "        )\n",
    "        # 通过游标抓取数据\n",
    "        row = cursor.fetchone()\n",
    "        while row:\n",
    "            # 将数据逐行写入工作表中\n",
    "            sheet.append(row)\n",
    "            row = cursor.fetchone()\n",
    "    # 保存工作簿\n",
    "    workbook.save('hrs.xlsx')\n",
    "except pymysql.MySQLError as err:\n",
    "    print(err)\n",
    "finally:\n",
    "    # 关闭连接释放资源\n",
    "    conn.close()"
   ]
  },
  {
   "cell_type": "markdown",
   "id": "c1e92c3e",
   "metadata": {},
   "source": [
    "大家可以参考上面的例子，试一试把 Excel 文件的数据导入到指定数据库的指定表中，看看是否可以成功。"
   ]
  }
 ],
 "metadata": {},
 "nbformat": 4,
 "nbformat_minor": 5
}
