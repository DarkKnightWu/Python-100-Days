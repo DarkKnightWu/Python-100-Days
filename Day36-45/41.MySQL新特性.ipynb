{
 "cells": [
  {
   "cell_type": "markdown",
   "id": "4c52cd7b",
   "metadata": {},
   "source": [
    "## MySQL新特性\n",
    "\n",
    "### JSON类型\n",
    "\n",
    "很多开发者在使用关系型数据库做数据持久化的时候，常常感到结构化的存储缺乏灵活性，因为必须事先设计好所有的列以及对应的数据类型。在业务发展和变化的过程中，如果需要修改表结构，这绝对是比较麻烦和难受的事情。从 MySQL 5.7 版本开始，MySQL引入了对 JSON 数据类型的支持（MySQL 8.0 解决了 JSON 的日志性能瓶颈问题），用好 JSON 类型，其实就是打破了关系型数据库和非关系型数据库之间的界限，为数据持久化操作带来了更多的便捷。\n",
    "\n",
    "JSON 类型主要分为 JSON 对象和 JSON数组两种，如下所示。\n",
    "\n",
    "1. JSON 对象"
   ]
  },
  {
   "cell_type": "code",
   "execution_count": null,
   "id": "3e9718d5",
   "metadata": {
    "attributes": {
     "classes": [
      "JSON"
     ],
     "id": ""
    }
   },
   "outputs": [],
   "source": [
    "{\"name\": \"骆昊\", \"tel\": \"13122335566\", \"QQ\": \"957658\"}"
   ]
  },
  {
   "cell_type": "markdown",
   "id": "3802ac25",
   "metadata": {},
   "source": [
    "2. JSON 数组"
   ]
  },
  {
   "cell_type": "code",
   "execution_count": null,
   "id": "fd8ff99c",
   "metadata": {
    "attributes": {
     "classes": [
      "JSON"
     ],
     "id": ""
    }
   },
   "outputs": [],
   "source": [
    "[1, 2, 3]"
   ]
  },
  {
   "cell_type": "code",
   "execution_count": null,
   "id": "6a655afc",
   "metadata": {
    "attributes": {
     "classes": [
      "JSON"
     ],
     "id": ""
    }
   },
   "outputs": [],
   "source": [
    "[{\"name\": \"骆昊\", \"tel\": \"13122335566\"}, {\"name\": \"王大锤\", \"QQ\": \"123456\"}]"
   ]
  },
  {
   "cell_type": "markdown",
   "id": "a1d5fbbb",
   "metadata": {},
   "source": [
    "哪些地方需要用到JSON类型呢？举一个简单的例子，现在很多产品的用户登录都支持多种方式，例如手机号、微信、QQ、新浪微博等，但是一般情况下我们又不会要求用户提供所有的这些信息，那么用传统的设计方式，就需要设计多个列来对应多种登录方式，可能还需要允许这些列存在空值，这显然不是很好的选择；另一方面，如果产品又增加了一种登录方式，那么就必然要修改之前的表结构，这就更让人痛苦了。但是，有了 JSON 类型，刚才的问题就迎刃而解了，我们可以做出如下所示的设计。"
   ]
  },
  {
   "cell_type": "code",
   "execution_count": null,
   "id": "42cd2b16",
   "metadata": {
    "attributes": {
     "classes": [
      "SQL"
     ],
     "id": ""
    }
   },
   "outputs": [],
   "source": [
    "CREATE TABLE `tb_test`\n",
    "(\n",
    "`user_id`    bigint unsigned,\n",
    "`login_info` json,\n",
    "PRIMARY KEY (`user_id`)\n",
    ");\n",
    "\n",
    "INSERT INTO `tb_test` \n",
    "VALUES \n",
    "    (1, '{\"tel\": \"13122335566\", \"QQ\": \"654321\", \"wechat\": \"jackfrued\"}'),\n",
    "    (2, '{\"tel\": \"13599876543\", \"weibo\": \"wangdachui123\"}');"
   ]
  },
  {
   "cell_type": "markdown",
   "id": "ceeddb16",
   "metadata": {},
   "source": [
    "如果要查询用户的手机和微信号，可以用如下所示的 SQL 语句。"
   ]
  },
  {
   "cell_type": "code",
   "execution_count": null,
   "id": "02a7c182",
   "metadata": {
    "attributes": {
     "classes": [
      "SQL"
     ],
     "id": ""
    }
   },
   "outputs": [],
   "source": [
    "SELECT `user_id`\n",
    "     , JSON_UNQUOTE(JSON_EXTRACT(`login_info`, '$.tel')) AS 手机号\n",
    "     , JSON_UNQUOTE(JSON_EXTRACT(`login_info`, '$.wechat')) AS 微信 \n",
    "FROM `tb_test`;"
   ]
  },
  {
   "cell_type": "code",
   "execution_count": null,
   "id": "50cb4a6e",
   "metadata": {},
   "outputs": [],
   "source": [
    "+---------+-------------+-----------+\n",
    "| user_id | 手机号      | 微信       |\n",
    "+---------+-------------+-----------+\n",
    "|       1 | 13122335566 | jackfrued |\n",
    "|       2 | 13599876543 | NULL      |\n",
    "+---------+-------------+-----------+"
   ]
  },
  {
   "cell_type": "markdown",
   "id": "ef1fd80f",
   "metadata": {},
   "source": [
    "因为支持 JSON 类型，MySQL 也提供了配套的处理 JSON 数据的函数，就像上面用到的`json_extract`和`json_unquote`。当然，上面的 SQL 还有更为便捷的写法，如下所示。"
   ]
  },
  {
   "cell_type": "code",
   "execution_count": null,
   "id": "febe1276",
   "metadata": {
    "attributes": {
     "classes": [
      "SQL"
     ],
     "id": ""
    }
   },
   "outputs": [],
   "source": [
    "SELECT `user_id`\n",
    "     , `login_info` ->> '$.tel' AS 手机号\n",
    "     , `login_info` ->> '$.wechat' AS 微信\n",
    "  FROM `tb_test`;"
   ]
  },
  {
   "cell_type": "markdown",
   "id": "65da14a2",
   "metadata": {},
   "source": [
    "再举个例子，如果我们的产品要实现用户画像功能（给用户打标签），然后基于用户画像给用户推荐平台的服务或消费品之类的东西，我们也可以使用 JSON 类型来保存用户画像数据，示意代码如下所示。\n",
    "\n",
    "创建画像标签表。"
   ]
  },
  {
   "cell_type": "code",
   "execution_count": null,
   "id": "72282e58",
   "metadata": {
    "attributes": {
     "classes": [
      "SQL"
     ],
     "id": ""
    }
   },
   "outputs": [],
   "source": [
    "CREATE TABLE `tb_tags`\n",
    "(\n",
    "`tag_id`   int unsigned NOT NULL COMMENT '标签ID',\n",
    "`tag_name` varchar(20)  NOT NULL COMMENT '标签名',\n",
    "PRIMARY KEY (`tag_id`)\n",
    ");\n",
    "\n",
    "INSERT INTO `tb_tags` (`tag_id`, `tag_name`) \n",
    "VALUES\n",
    "    (1, '70后'),\n",
    "    (2, '80后'),\n",
    "    (3, '90后'),\n",
    "    (4, '00后'),\n",
    "    (5, '爱运动'),\n",
    "    (6, '高学历'),\n",
    "    (7, '小资'),\n",
    "    (8, '有房'),\n",
    "    (9, '有车'),\n",
    "    (10, '爱看电影'),\n",
    "    (11, '爱网购'),\n",
    "    (12, '常点外卖');"
   ]
  },
  {
   "cell_type": "markdown",
   "id": "46b9d641",
   "metadata": {},
   "source": [
    "为用户打标签。"
   ]
  },
  {
   "cell_type": "code",
   "execution_count": null,
   "id": "0889e8d6",
   "metadata": {
    "attributes": {
     "classes": [
      "SQL"
     ],
     "id": ""
    }
   },
   "outputs": [],
   "source": [
    "CREATE TABLE `tb_users_tags`\n",
    "(\n",
    "`user_id`   bigint unsigned NOT NULL COMMENT '用户ID',\n",
    "`user_tags` json            NOT NULL COMMENT '用户标签'\n",
    ");\n",
    "\n",
    "INSERT INTO `tb_users_tags`\n",
    "VALUES\n",
    "    (1, '[2, 6, 8, 10]'),\n",
    "    (2, '[3, 10, 12]'),\n",
    "    (3, '[3, 8, 9, 11]');"
   ]
  },
  {
   "cell_type": "markdown",
   "id": "aec95711",
   "metadata": {},
   "source": [
    "接下来，我们通过一组查询来了解 JSON 类型的巧妙之处。\n",
    "\n",
    "1. 查询爱看电影（有`10`这个标签）的用户ID。"
   ]
  },
  {
   "cell_type": "code",
   "execution_count": null,
   "id": "378f385f",
   "metadata": {},
   "outputs": [],
   "source": [
    "```SQL\n",
    "SELECT `user_id`\n",
    "  FROM `tb_users_tags`\n",
    " WHERE 10 MEMBER OF (`user_tags`->'$');\n",
    "```"
   ]
  },
  {
   "cell_type": "markdown",
   "id": "07b33d55",
   "metadata": {},
   "source": [
    "2. 查询爱看电影（有`10`这个标签）的80后（有`2`这个标签）用户ID。"
   ]
  },
  {
   "cell_type": "code",
   "execution_count": null,
   "id": "826488bc",
   "metadata": {},
   "outputs": [],
   "source": [
    "```SQL\n",
    "SELECT `user_id`\n",
    "  FROM `tb_users_tags`\n",
    " WHERE JSON_CONTAINS(`user_tags`->'$', '[2, 10]');\n",
    "```"
   ]
  },
  {
   "cell_type": "markdown",
   "id": "ed9028f3",
   "metadata": {},
   "source": [
    "3. 查询爱看电影或80后或90后的用户ID。"
   ]
  },
  {
   "cell_type": "code",
   "execution_count": null,
   "id": "1044c9ab",
   "metadata": {},
   "outputs": [],
   "source": [
    "```SQL\n",
    "SELECT `user_id`\n",
    "  FROM `tb_users_tags`\n",
    " WHERE JSON_OVERLAPS(user_tags->'$', '[2, 3, 10]');\n",
    "```"
   ]
  },
  {
   "cell_type": "markdown",
   "id": "e0eb23ca",
   "metadata": {},
   "source": [
    "> **说明**：上面的查询用到了`member of`谓词和两个 JSON 函数，`json_contains`可以检查 JSON 数组是否包含了指定的元素，而`json_overlaps`可以检查 JSON 数组是否与指定的数组有重叠部分。\n",
    "\n",
    "### 窗口函数\n",
    "\n",
    "MySQL 从8.0开始支持窗口函数，大多数商业数据库和一些开源数据库早已提供了对窗口函数的支持，有的也将其称之为 OLAP（联机分析和处理）函数，听名字就知道跟统计和分析相关。为了帮助大家理解窗口函数，我们先说说窗口的概念。\n",
    "\n",
    "窗口可以理解为记录的集合，窗口函数也就是在满足某种条件的记录集合上执行的特殊函数，对于每条记录都要在此窗口内执行函数。窗口函数和我们上面讲到的聚合函数比较容易混淆，二者的区别主要在于聚合函数是将多条记录聚合为一条记录，窗口函数是每条记录都会执行，执行后记录条数不会变。窗口函数不仅仅是几个函数，它是一套完整的语法，函数只是该语法的一部分，基本语法如下所示："
   ]
  },
  {
   "cell_type": "code",
   "execution_count": null,
   "id": "bb42920c",
   "metadata": {
    "attributes": {
     "classes": [
      "SQL"
     ],
     "id": ""
    }
   },
   "outputs": [],
   "source": [
    "<窗口函数> OVER (PARTITION BY <用于分组的列名> ORDER BY <用于排序的列名>  ROWS BETWEEN ... AND ...)\n",
    "<窗口函数> OVER (PARTITION BY <用于分组的列名> ORDER BY <用于排序的列名> RANGE BETWEEN ... AND ...)"
   ]
  },
  {
   "cell_type": "markdown",
   "id": "c2dde901",
   "metadata": {},
   "source": [
    "上面语法中，窗口函数的位置可以放以下两种函数：\n",
    "\n",
    "1. 专用窗口函数，包括：`lead`、`lag`、`first_value`、`last_value`、`rank`、`dense_rank`和`row_number`等。\n",
    "2. 聚合函数，包括：`sum`、`avg`、`max`、`min`和`count`等。\n",
    "\n",
    "下面为大家举几个使用窗口函数的简单例子，我们直接使用上一课创建的 hrs 数据库。\n",
    "\n",
    "例子1：查询按月薪从高到低排在第4到第6名的员工的姓名和月薪。"
   ]
  },
  {
   "cell_type": "code",
   "execution_count": null,
   "id": "301e22b5",
   "metadata": {
    "attributes": {
     "classes": [
      "SQL"
     ],
     "id": ""
    }
   },
   "outputs": [],
   "source": [
    "SELECT * \n",
    "  FROM (SELECT `ename`\n",
    "             , `sal`\n",
    "             , ROW_NUMBER() over (ORDER BY `sal` DESC) AS `rk`\n",
    "\t      FROM `tb_emp`) AS `temp`\n",
    " WHERE `rk` between 4 and 6;"
   ]
  },
  {
   "cell_type": "markdown",
   "id": "9d8a17e8",
   "metadata": {},
   "source": [
    "> **说明**：上面使用的函数`row_number()`可以为每条记录生成一个行号，在实际工作中可以根据需要将其替换为`rank()`或`dense_rank()`函数，三者的区别可以参考官方文档或阅读[《通俗易懂的学会：SQL窗口函数》](https://zhuanlan.zhihu.com/p/92654574)进行了解。在MySQL 8以前的版本，我们可以通过下面的方式来完成类似的操作。\n",
    ">\n",
    "> ```SQL\n",
    "> select `rank`, `ename`, `sal` from (\n",
    ">        select @a:=@a+1 as `rank`, `ename`, `sal` \n",
    ">        from `tb_emp`, (select @a:=0) as t1 order by `sal` desc\n",
    "> ) as `temp` where `rank` between 4 and 6;\n",
    "> ```\n",
    "\n",
    "例子2：查询每个部门月薪最高的两名的员工的姓名和部门名称。"
   ]
  },
  {
   "cell_type": "code",
   "execution_count": null,
   "id": "ffd16aeb",
   "metadata": {
    "attributes": {
     "classes": [
      "SQL"
     ],
     "id": ""
    }
   },
   "outputs": [],
   "source": [
    "select `ename`, `sal`, `dname` \n",
    "from (\n",
    "    select \n",
    "        `ename`, `sal`, `dno`,\n",
    "        rank() over (partition by `dno` order by `sal` desc) as `rank`\n",
    "    from `tb_emp`\n",
    ") as `temp` natural join `tb_dept` where `rank`<=2;"
   ]
  },
  {
   "cell_type": "markdown",
   "id": "74350cfe",
   "metadata": {},
   "source": [
    "> 说明：在MySQL 8以前的版本，我们可以通过下面的方式来完成类似的操作。\n",
    ">\n",
    "> ```SQL\n",
    "> select `ename`, `sal`, `dname` from `tb_emp` as `t1` \n",
    "natural join `tb_dept` \n",
    "where (\n",
    "        select count(*) from `tb_emp` as `t2` \n",
    "        where `t1`.`dno`=`t2`.`dno` and `t2`.`sal`>`t1`.`sal` \n",
    ")<2 order by `dno` asc, `sal` desc;\n",
    "> ```"
   ]
  }
 ],
 "metadata": {},
 "nbformat": 4,
 "nbformat_minor": 5
}
