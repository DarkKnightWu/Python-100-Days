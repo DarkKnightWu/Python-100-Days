{
 "cells": [
  {
   "cell_type": "markdown",
   "id": "95d32ab1",
   "metadata": {},
   "source": [
    "## 深入浅出pandas-1\n",
    "\n",
    "Pandas 是 Wes McKinney 在2008年开发的一个强大的**分析结构化数据**的工具集。Pandas 以 NumPy 为基础（实现数据存储和运算），提供了专门用于数据分析的类型、方法和函数，对数据分析和数据挖掘提供了很好的支持；同时 pandas 还可以跟数据可视化工具 matplotlib 很好的整合在一起，非常轻松愉快的实现数据可视化呈现。\n",
    "\n",
    "Pandas 核心的数据类型是`Series`（数据系列）、`DataFrame`（数据窗/数据框），分别用于处理一维和二维的数据，除此之外，还有一个名为`Index`的类型及其子类型，它们为`Series`和`DataFrame`提供了索引功能。日常工作中`DataFrame`使用得最为广泛，因为二维的数据结构刚好可以对应有行有列的表格。`Series`和`DataFrame`都提供了大量的处理数据的方法，数据分析师以此为基础，可以实现对数据的筛选、合并、拼接、清洗、预处理、聚合、透视和可视化等各种操作。\n",
    "\n",
    "### 创建Series对象\n",
    "\n",
    "Pandas 库中的`Series`对象可以用来表示一维数据结构，但是多了索引和一些额外的功能。`Series`类型的内部结构包含了两个数组，其中一个用来保存数据，另一个用来保存数据的索引。我们可以通过列表或数组创建`Series`对象，代码如下所示。\n",
    "\n",
    "代码："
   ]
  },
  {
   "cell_type": "code",
   "execution_count": null,
   "id": "0d7631cd",
   "metadata": {
    "attributes": {
     "classes": [
      "Python"
     ],
     "id": ""
    }
   },
   "outputs": [],
   "source": [
    "import numpy as np\n",
    "import pandas as pd\n",
    "\n",
    "ser1 = pd.Series(data=[120, 380, 250, 360], index=['一季度', '二季度', '三季度', '四季度'])\n",
    "ser1"
   ]
  },
  {
   "cell_type": "markdown",
   "id": "dfa7f578",
   "metadata": {},
   "source": [
    "> **说明**：`Series`构造器中的`data`参数表示数据，`index`参数表示数据的索引，相当于数据对应的标签。\n",
    "\n",
    "输出："
   ]
  },
  {
   "cell_type": "code",
   "execution_count": null,
   "id": "0186999a",
   "metadata": {},
   "outputs": [],
   "source": [
    "一季度    120\n",
    "二季度    380\n",
    "三季度    250\n",
    "四季度    360\n",
    "dtype: int64"
   ]
  },
  {
   "cell_type": "markdown",
   "id": "4484dd08",
   "metadata": {},
   "source": [
    "通过字典创建Series对象。\n",
    "\n",
    "代码："
   ]
  },
  {
   "cell_type": "code",
   "execution_count": null,
   "id": "44e35678",
   "metadata": {
    "attributes": {
     "classes": [
      "Python"
     ],
     "id": ""
    }
   },
   "outputs": [],
   "source": [
    "ser2 = pd.Series({'一季度': 320, '二季度': 180, '三季度': 300, '四季度': 405})\n",
    "ser2"
   ]
  },
  {
   "cell_type": "markdown",
   "id": "8271bae0",
   "metadata": {},
   "source": [
    "> **说明**：通过字典创建`Series`对象时，字典的键就是数据的标签（索引），键对应的值就是数据。\n",
    "\n",
    "输出："
   ]
  },
  {
   "cell_type": "code",
   "execution_count": null,
   "id": "3e08cb03",
   "metadata": {},
   "outputs": [],
   "source": [
    "一季度    320\n",
    "二季度    180\n",
    "三季度    300\n",
    "四季度    405\n",
    "dtype: int64"
   ]
  },
  {
   "cell_type": "markdown",
   "id": "4c7d6fa1",
   "metadata": {},
   "source": [
    "### Series对象的运算\n",
    "\n",
    "#### 标量运算\n",
    "\n",
    "我们尝试给刚才的`ser1`每个季度加上`10`，代码如下所示。\n",
    "\n",
    "代码："
   ]
  },
  {
   "cell_type": "code",
   "execution_count": null,
   "id": "55634b84",
   "metadata": {},
   "outputs": [],
   "source": [
    "ser1 += 10\n",
    "ser1"
   ]
  },
  {
   "cell_type": "markdown",
   "id": "b2d641e9",
   "metadata": {},
   "source": [
    "输出："
   ]
  },
  {
   "cell_type": "code",
   "execution_count": null,
   "id": "7005e855",
   "metadata": {},
   "outputs": [],
   "source": [
    "一季度    130\n",
    "二季度    390\n",
    "三季度    260\n",
    "四季度    370\n",
    "dtype: int64"
   ]
  },
  {
   "cell_type": "markdown",
   "id": "f34c3a2e",
   "metadata": {},
   "source": [
    "#### 矢量运算\n",
    "\n",
    "我们尝试把`ser1`和`ser2`对应季度的数据加起来，代码如下所示。\n",
    "\n",
    "代码："
   ]
  },
  {
   "cell_type": "code",
   "execution_count": null,
   "id": "1b4fbf8c",
   "metadata": {},
   "outputs": [],
   "source": [
    "ser1 + ser2"
   ]
  },
  {
   "cell_type": "markdown",
   "id": "8355ca32",
   "metadata": {},
   "source": [
    "输出："
   ]
  },
  {
   "cell_type": "code",
   "execution_count": null,
   "id": "9ecbc842",
   "metadata": {},
   "outputs": [],
   "source": [
    "一季度    450\n",
    "二季度    570\n",
    "三季度    560\n",
    "四季度    775\n",
    "dtype: int64"
   ]
  },
  {
   "cell_type": "markdown",
   "id": "c3407382",
   "metadata": {},
   "source": [
    "#### 索引运算\n",
    "\n",
    "##### 普通索引\n",
    "\n",
    "跟数组一样，`Series`对象也可以进行索引和切片操作，不同的是`Series`对象因为内部维护了一个保存索引的数组，所以除了可以使用整数索引检索数据外，还可以通过自己设置的索引（标签）获取对应的数据。\n",
    "\n",
    "使用整数索引。\n",
    "\n",
    "代码："
   ]
  },
  {
   "cell_type": "code",
   "execution_count": null,
   "id": "7a8870f7",
   "metadata": {
    "attributes": {
     "classes": [
      "Python"
     ],
     "id": ""
    }
   },
   "outputs": [],
   "source": [
    "ser1[2]"
   ]
  },
  {
   "cell_type": "markdown",
   "id": "972ceb63",
   "metadata": {},
   "source": [
    "输出："
   ]
  },
  {
   "cell_type": "code",
   "execution_count": null,
   "id": "ea4ae8f7",
   "metadata": {},
   "outputs": [],
   "source": [
    "260"
   ]
  },
  {
   "cell_type": "markdown",
   "id": "0d139b03",
   "metadata": {},
   "source": [
    "使用自定义索引。\n",
    "\n",
    "代码："
   ]
  },
  {
   "cell_type": "code",
   "execution_count": null,
   "id": "f55956a3",
   "metadata": {
    "attributes": {
     "classes": [
      "Python"
     ],
     "id": ""
    }
   },
   "outputs": [],
   "source": [
    "ser1['三季度']"
   ]
  },
  {
   "cell_type": "markdown",
   "id": "e7161d4f",
   "metadata": {},
   "source": [
    "输出："
   ]
  },
  {
   "cell_type": "code",
   "execution_count": null,
   "id": "fabd3422",
   "metadata": {},
   "outputs": [],
   "source": [
    "260"
   ]
  },
  {
   "cell_type": "markdown",
   "id": "9e7bccec",
   "metadata": {},
   "source": [
    "代码："
   ]
  },
  {
   "cell_type": "code",
   "execution_count": null,
   "id": "9c599570",
   "metadata": {
    "attributes": {
     "classes": [
      "Python"
     ],
     "id": ""
    }
   },
   "outputs": [],
   "source": [
    "ser1['一季度'] = 380\n",
    "ser1"
   ]
  },
  {
   "cell_type": "markdown",
   "id": "d9b83a42",
   "metadata": {},
   "source": [
    "输出："
   ]
  },
  {
   "cell_type": "code",
   "execution_count": null,
   "id": "14d317c2",
   "metadata": {},
   "outputs": [],
   "source": [
    "一季度    380\n",
    "二季度    390\n",
    "三季度    260\n",
    "四季度    370\n",
    "dtype: int64"
   ]
  },
  {
   "cell_type": "markdown",
   "id": "bfda6977",
   "metadata": {},
   "source": [
    "##### 切片索引\n",
    "\n",
    "`Series`对象的切片操作跟列表、数组类似，通过给出起始和结束索引，从原来的`Series`对象中取出或修改部分数据，这里也可以使用整数索引和自定义的索引，代码如下所示。\n",
    "\n",
    "代码："
   ]
  },
  {
   "cell_type": "code",
   "execution_count": null,
   "id": "24ddab07",
   "metadata": {
    "attributes": {
     "classes": [
      "Python"
     ],
     "id": ""
    }
   },
   "outputs": [],
   "source": [
    "ser2[1:3]"
   ]
  },
  {
   "cell_type": "markdown",
   "id": "c48a140f",
   "metadata": {},
   "source": [
    "输出："
   ]
  },
  {
   "cell_type": "code",
   "execution_count": null,
   "id": "905144fc",
   "metadata": {},
   "outputs": [],
   "source": [
    "二季度    180\n",
    "三季度    300\n",
    "dtype: int64"
   ]
  },
  {
   "cell_type": "markdown",
   "id": "74c4560a",
   "metadata": {},
   "source": [
    "代码："
   ]
  },
  {
   "cell_type": "code",
   "execution_count": null,
   "id": "d60759b2",
   "metadata": {
    "attributes": {
     "classes": [
      "Python"
     ],
     "id": ""
    }
   },
   "outputs": [],
   "source": [
    "ser2['二季度':'四季度']"
   ]
  },
  {
   "cell_type": "markdown",
   "id": "5c062823",
   "metadata": {},
   "source": [
    "输出："
   ]
  },
  {
   "cell_type": "code",
   "execution_count": null,
   "id": "0541ede5",
   "metadata": {},
   "outputs": [],
   "source": [
    "二季度    180\n",
    "三季度    300\n",
    "四季度    405\n",
    "dtype: int64"
   ]
  },
  {
   "cell_type": "markdown",
   "id": "1b9af2a7",
   "metadata": {},
   "source": [
    ">**提示**：在使用自定义索引进行切片时，结束索引对应的元素也是可以取到的。\n",
    "\n",
    "代码："
   ]
  },
  {
   "cell_type": "code",
   "execution_count": null,
   "id": "87776fb4",
   "metadata": {
    "attributes": {
     "classes": [
      "Python"
     ],
     "id": ""
    }
   },
   "outputs": [],
   "source": [
    "ser2[1:3] = 400, 500\n",
    "ser2"
   ]
  },
  {
   "cell_type": "markdown",
   "id": "be300919",
   "metadata": {},
   "source": [
    "输出："
   ]
  },
  {
   "cell_type": "code",
   "execution_count": null,
   "id": "7221d525",
   "metadata": {},
   "outputs": [],
   "source": [
    "一季度    320\n",
    "二季度    400\n",
    "三季度    500\n",
    "四季度    405\n",
    "dtype: int64"
   ]
  },
  {
   "cell_type": "markdown",
   "id": "6158282b",
   "metadata": {},
   "source": [
    "##### 花式索引\n",
    "\n",
    "代码："
   ]
  },
  {
   "cell_type": "code",
   "execution_count": null,
   "id": "1aae86e7",
   "metadata": {
    "attributes": {
     "classes": [
      "Python"
     ],
     "id": ""
    }
   },
   "outputs": [],
   "source": [
    "ser2[['二季度', '四季度']]"
   ]
  },
  {
   "cell_type": "markdown",
   "id": "109ce9aa",
   "metadata": {},
   "source": [
    "输出："
   ]
  },
  {
   "cell_type": "code",
   "execution_count": null,
   "id": "c6988b12",
   "metadata": {},
   "outputs": [],
   "source": [
    "二季度    400\n",
    "四季度    405\n",
    "dtype: int64"
   ]
  },
  {
   "cell_type": "markdown",
   "id": "7466c58b",
   "metadata": {},
   "source": [
    "代码："
   ]
  },
  {
   "cell_type": "code",
   "execution_count": null,
   "id": "56d54482",
   "metadata": {
    "attributes": {
     "classes": [
      "Python"
     ],
     "id": ""
    }
   },
   "outputs": [],
   "source": [
    "ser2[['二季度', '四季度']] = 600, 520\n",
    "ser2"
   ]
  },
  {
   "cell_type": "markdown",
   "id": "d83e6922",
   "metadata": {},
   "source": [
    "输出："
   ]
  },
  {
   "cell_type": "code",
   "execution_count": null,
   "id": "8851c42a",
   "metadata": {},
   "outputs": [],
   "source": [
    "一季度    320\n",
    "二季度    600\n",
    "三季度    500\n",
    "四季度    520\n",
    "dtype: int64"
   ]
  },
  {
   "cell_type": "markdown",
   "id": "ed127b8f",
   "metadata": {},
   "source": [
    "##### 布尔索引\n",
    "\n",
    "代码："
   ]
  },
  {
   "cell_type": "code",
   "execution_count": null,
   "id": "3822b98b",
   "metadata": {
    "attributes": {
     "classes": [
      "Python"
     ],
     "id": ""
    }
   },
   "outputs": [],
   "source": [
    "ser2[ser2 >= 500]"
   ]
  },
  {
   "cell_type": "markdown",
   "id": "a40c2214",
   "metadata": {},
   "source": [
    "输出："
   ]
  },
  {
   "cell_type": "code",
   "execution_count": null,
   "id": "74aa580e",
   "metadata": {},
   "outputs": [],
   "source": [
    "二季度    600\n",
    "三季度    500\n",
    "四季度    520\n",
    "dtype: int64"
   ]
  },
  {
   "cell_type": "markdown",
   "id": "6744dc23",
   "metadata": {},
   "source": [
    "### Series对象的属性和方法\n",
    "\n",
    "`Series`对象的属性和方法非常多，我们就捡着重要的跟大家讲吧。先看看下面的表格，它展示了`Series`对象常用的属性。\n",
    "\n",
    "| 属性                      | 说明                                    |\n",
    "| ------------------------- | --------------------------------------- |\n",
    "| `dtype` / `dtypes`        | 返回`Series`对象的数据类型              |\n",
    "| `hasnans`                 | 判断`Series`对象中有没有空值            |\n",
    "| `at` / `iat`              | 通过索引访问`Series`对象中的单个值      |\n",
    "| `loc` / `iloc`            | 通过索引访问`Series`对象中的单个值或一组值 |\n",
    "| `index`                   | 返回`Series`对象的索引（`Index`对象）     |\n",
    "| `is_monotonic`            | 判断`Series`对象中的数据是否单调        |\n",
    "| `is_monotonic_increasing` | 判断`Series`对象中的数据是否单调递增    |\n",
    "| `is_monotonic_decreasing` | 判断`Series`对象中的数据是否单调递减    |\n",
    "| `is_unique`               | 判断`Series`对象中的数据是否独一无二    |\n",
    "| `size`                    | 返回`Series`对象中元素的个数            |\n",
    "| `values`                  | 以`ndarray`的方式返回`Series`对象中的值（`ndarray`对象） |\n",
    "\n",
    "我们可以通过下面的代码来了解`Series`对象的属性。\n",
    "\n",
    "代码："
   ]
  },
  {
   "cell_type": "code",
   "execution_count": null,
   "id": "1c92271f",
   "metadata": {},
   "outputs": [],
   "source": [
    "print(ser2.dtype)                    # 数据类型\n",
    "print(ser2.hasnans)                  # 有没有空值\n",
    "print(ser2.index)                    # 索引\n",
    "print(ser2.values)                   # 值\n",
    "print(ser2.is_monotonic_increasing)  # 是否单调递增\n",
    "print(ser2.is_unique)                # 是否每个值都独一无二"
   ]
  },
  {
   "cell_type": "markdown",
   "id": "1757e5b6",
   "metadata": {},
   "source": [
    "输出："
   ]
  },
  {
   "cell_type": "code",
   "execution_count": null,
   "id": "a482ea0b",
   "metadata": {},
   "outputs": [],
   "source": [
    "int64\n",
    "False\n",
    "Index(['一季度', '二季度', '三季度', '四季度'], dtype='object')\n",
    "[320 600 500 520]\n",
    "False\n",
    "True"
   ]
  },
  {
   "cell_type": "markdown",
   "id": "bd834c62",
   "metadata": {},
   "source": [
    "`Series`对象的方法很多，下面我们通过一些代码片段为大家介绍常用的方法。\n",
    "\n",
    "#### 统计相关\n",
    "\n",
    "`Series`对象支持各种获取描述性统计信息的方法。\n",
    "\n",
    "代码："
   ]
  },
  {
   "cell_type": "code",
   "execution_count": null,
   "id": "c17a0d37",
   "metadata": {
    "attributes": {
     "classes": [
      "Python"
     ],
     "id": ""
    }
   },
   "outputs": [],
   "source": [
    "print(ser2.count())   # 计数\n",
    "print(ser2.sum())     # 求和\n",
    "print(ser2.mean())    # 求平均\n",
    "print(ser2.median())  # 找中位数\n",
    "print(ser2.max())     # 找最大\n",
    "print(ser2.min())     # 找最小\n",
    "print(ser2.std())     # 求标准差\n",
    "print(ser2.var())     # 求方差"
   ]
  },
  {
   "cell_type": "markdown",
   "id": "cbd8fb80",
   "metadata": {},
   "source": [
    "输出："
   ]
  },
  {
   "cell_type": "code",
   "execution_count": null,
   "id": "30dbfc7a",
   "metadata": {},
   "outputs": [],
   "source": [
    "4\n",
    "1940\n",
    "485.0\n",
    "510.0\n",
    "600\n",
    "320\n",
    "118.18065267490557\n",
    "13966.666666666666"
   ]
  },
  {
   "cell_type": "markdown",
   "id": "70312795",
   "metadata": {},
   "source": [
    "`Series`对象还有一个名为`describe()`的方法，可以获得上述所有的描述性统计信息，如下所示。\n",
    "\n",
    "代码："
   ]
  },
  {
   "cell_type": "code",
   "execution_count": null,
   "id": "0ab4f438",
   "metadata": {
    "attributes": {
     "classes": [
      "Python"
     ],
     "id": ""
    }
   },
   "outputs": [],
   "source": [
    "ser2.describe()"
   ]
  },
  {
   "cell_type": "markdown",
   "id": "d194e9d5",
   "metadata": {},
   "source": [
    "输出："
   ]
  },
  {
   "cell_type": "code",
   "execution_count": null,
   "id": "9295572d",
   "metadata": {},
   "outputs": [],
   "source": [
    "count      4.000000\n",
    "mean     485.000000\n",
    "std      118.180653\n",
    "min      320.000000\n",
    "25%      455.000000\n",
    "50%      510.000000\n",
    "75%      540.000000\n",
    "max      600.000000\n",
    "dtype: float64"
   ]
  },
  {
   "cell_type": "markdown",
   "id": "a7441ae7",
   "metadata": {},
   "source": [
    "> **提示**：因为`describe()`返回的也是一个`Series`对象，所以也可以用`ser2.describe()['mean']`来获取平均值，用`ser2.describe()[['max', 'min']]`来获取最大值和最小值。\n",
    "\n",
    "如果`Series`对象有重复的值，我们可以使用`unique()`方法获得由独一无二的值构成的数组；可以使用`nunique()`方法统计不重复值的数量；如果想要统计每个值重复的次数，可以使用`value_counts()`方法，这个方法会返回一个`Series`对象，它的索引就是原来的`Series`对象中的值，而每个值出现的次数就是返回的`Series`对象中的数据，在默认情况下会按照出现次数做降序排列，如下所示。\n",
    "\n",
    "代码："
   ]
  },
  {
   "cell_type": "code",
   "execution_count": null,
   "id": "45b2b034",
   "metadata": {
    "attributes": {
     "classes": [
      "Python"
     ],
     "id": ""
    }
   },
   "outputs": [],
   "source": [
    "ser3 = pd.Series(data=['apple', 'banana', 'apple', 'pitaya', 'apple', 'pitaya', 'durian'])\n",
    "ser3.value_counts()"
   ]
  },
  {
   "cell_type": "markdown",
   "id": "a8b3ddbf",
   "metadata": {},
   "source": [
    "输出："
   ]
  },
  {
   "cell_type": "code",
   "execution_count": null,
   "id": "858dc924",
   "metadata": {},
   "outputs": [],
   "source": [
    "apple     3\n",
    "pitaya    2\n",
    "durian    1\n",
    "banana    1\n",
    "dtype: int64"
   ]
  },
  {
   "cell_type": "markdown",
   "id": "b3a6bb5a",
   "metadata": {},
   "source": [
    "代码："
   ]
  },
  {
   "cell_type": "code",
   "execution_count": null,
   "id": "ef4f33a8",
   "metadata": {
    "attributes": {
     "classes": [
      "Python"
     ],
     "id": ""
    }
   },
   "outputs": [],
   "source": [
    "ser3.nunique()"
   ]
  },
  {
   "cell_type": "markdown",
   "id": "b42901c3",
   "metadata": {},
   "source": [
    "输出："
   ]
  },
  {
   "cell_type": "code",
   "execution_count": null,
   "id": "7003190d",
   "metadata": {},
   "outputs": [],
   "source": [
    "4"
   ]
  },
  {
   "cell_type": "markdown",
   "id": "1e697eaa",
   "metadata": {},
   "source": [
    "对于`ser3`，我们还可以用`mode()`方法来找出数据的众数，由于众数可能不唯一，所以`mode()`方法的返回值仍然是一个`Series`对象。\n",
    "\n",
    "代码："
   ]
  },
  {
   "cell_type": "code",
   "execution_count": null,
   "id": "c5d7a965",
   "metadata": {},
   "outputs": [],
   "source": [
    "ser3.mode()"
   ]
  },
  {
   "cell_type": "markdown",
   "id": "6527e659",
   "metadata": {},
   "source": [
    "输出："
   ]
  },
  {
   "cell_type": "code",
   "execution_count": null,
   "id": "d5a047a8",
   "metadata": {},
   "outputs": [],
   "source": [
    "0    apple\n",
    "dtype: object"
   ]
  },
  {
   "cell_type": "markdown",
   "id": "7fe28714",
   "metadata": {},
   "source": [
    "#### 处理数据\n",
    "\n",
    "`Series`对象的`isna()`和`isnull()`方法可以用于空值的判断，`notna()`和`notnull()`方法可以用于非空值的判断，代码如下所示。\n",
    "\n",
    "代码："
   ]
  },
  {
   "cell_type": "code",
   "execution_count": null,
   "id": "53a93356",
   "metadata": {
    "attributes": {
     "classes": [
      "Python"
     ],
     "id": ""
    }
   },
   "outputs": [],
   "source": [
    "ser4 = pd.Series(data=[10, 20, np.nan, 30, np.nan])\n",
    "ser4.isna()"
   ]
  },
  {
   "cell_type": "markdown",
   "id": "f5cba1b5",
   "metadata": {},
   "source": [
    "> **说明**：`np.nan`是一个IEEE 754标准的浮点小数，专门用来表示“不是一个数”，在上面的代码中我们用它来代表空值；当然，也可以用 Python 中的`None`来表示空值，在 pandas 中`None`也会被处理为`np.nan`。\n",
    "\n",
    "输出："
   ]
  },
  {
   "cell_type": "code",
   "execution_count": null,
   "id": "43481a3c",
   "metadata": {},
   "outputs": [],
   "source": [
    "0    False\n",
    "1    False\n",
    "2     True\n",
    "3    False\n",
    "4     True\n",
    "dtype: bool"
   ]
  },
  {
   "cell_type": "markdown",
   "id": "7f2b0d99",
   "metadata": {},
   "source": [
    "代码："
   ]
  },
  {
   "cell_type": "code",
   "execution_count": null,
   "id": "3167f61e",
   "metadata": {
    "attributes": {
     "classes": [
      "Python"
     ],
     "id": ""
    }
   },
   "outputs": [],
   "source": [
    "ser4.notna()"
   ]
  },
  {
   "cell_type": "markdown",
   "id": "68204b11",
   "metadata": {},
   "source": [
    "输出："
   ]
  },
  {
   "cell_type": "code",
   "execution_count": null,
   "id": "7b3242a9",
   "metadata": {},
   "outputs": [],
   "source": [
    "0     True\n",
    "1     True\n",
    "2    False\n",
    "3     True\n",
    "4    False\n",
    "dtype: bool"
   ]
  },
  {
   "cell_type": "markdown",
   "id": "ae3a6eb4",
   "metadata": {},
   "source": [
    "`Series`对象的`dropna()`和`fillna()`方法分别用来删除空值和填充空值，具体的用法如下所示。\n",
    "\n",
    "代码："
   ]
  },
  {
   "cell_type": "code",
   "execution_count": null,
   "id": "e29971f2",
   "metadata": {
    "attributes": {
     "classes": [
      "Python"
     ],
     "id": ""
    }
   },
   "outputs": [],
   "source": [
    "ser4.dropna()"
   ]
  },
  {
   "cell_type": "markdown",
   "id": "1a9a6421",
   "metadata": {},
   "source": [
    "输出："
   ]
  },
  {
   "cell_type": "code",
   "execution_count": null,
   "id": "0f35aac8",
   "metadata": {},
   "outputs": [],
   "source": [
    "0    10.0\n",
    "1    20.0\n",
    "3    30.0\n",
    "dtype: float64"
   ]
  },
  {
   "cell_type": "markdown",
   "id": "10153956",
   "metadata": {},
   "source": [
    "代码："
   ]
  },
  {
   "cell_type": "code",
   "execution_count": null,
   "id": "b432e864",
   "metadata": {
    "attributes": {
     "classes": [
      "Python"
     ],
     "id": ""
    }
   },
   "outputs": [],
   "source": [
    "ser4.fillna(value=40)  # 将空值填充为40"
   ]
  },
  {
   "cell_type": "markdown",
   "id": "fe3e663d",
   "metadata": {},
   "source": [
    "输出："
   ]
  },
  {
   "cell_type": "code",
   "execution_count": null,
   "id": "3545e4b4",
   "metadata": {},
   "outputs": [],
   "source": [
    "0    10.0\n",
    "1    20.0\n",
    "2    40.0\n",
    "3    30.0\n",
    "4    40.0\n",
    "dtype: float64"
   ]
  },
  {
   "cell_type": "markdown",
   "id": "9bfe300c",
   "metadata": {},
   "source": [
    "代码："
   ]
  },
  {
   "cell_type": "code",
   "execution_count": null,
   "id": "88230b12",
   "metadata": {
    "attributes": {
     "classes": [
      "Python"
     ],
     "id": ""
    }
   },
   "outputs": [],
   "source": [
    "ser4.fillna(method='ffill')  # 用空值前面的非空值填充"
   ]
  },
  {
   "cell_type": "markdown",
   "id": "32a85f12",
   "metadata": {},
   "source": [
    "输出："
   ]
  },
  {
   "cell_type": "code",
   "execution_count": null,
   "id": "5d436ec0",
   "metadata": {},
   "outputs": [],
   "source": [
    "0    10.0\n",
    "1    20.0\n",
    "2    20.0\n",
    "3    30.0\n",
    "4    30.0\n",
    "dtype: float64"
   ]
  },
  {
   "cell_type": "markdown",
   "id": "dc3a857c",
   "metadata": {},
   "source": [
    "需要提醒大家注意的是，`dropna()`和`fillna()`方法都有一个名为`inplace`的参数，它的默认值是`False`，表示删除空值或填充空值不会修改原来的`Series`对象，而是返回一个新的`Series`对象。如果将`inplace`参数的值修改为`True`，那么删除或填充空值会就地操作，直接修改原来的`Series`对象，此时方法的返回值是`None`。后面我们会接触到的很多方法，包括`DataFrame`对象的很多方法都会有这个参数，它们的意义跟这里是一样的。\n",
    "\n",
    "`Series`对象的`mask()`和`where()`方法可以将满足或不满足条件的值进行替换，如下所示。\n",
    "\n",
    "代码："
   ]
  },
  {
   "cell_type": "code",
   "execution_count": null,
   "id": "6436384e",
   "metadata": {
    "attributes": {
     "classes": [
      "Python"
     ],
     "id": ""
    }
   },
   "outputs": [],
   "source": [
    "ser5 = pd.Series(range(5))\n",
    "ser5.where(ser5 > 0)"
   ]
  },
  {
   "cell_type": "markdown",
   "id": "a1dd37af",
   "metadata": {},
   "source": [
    "输出："
   ]
  },
  {
   "cell_type": "code",
   "execution_count": null,
   "id": "33f4cba3",
   "metadata": {},
   "outputs": [],
   "source": [
    "0    NaN\n",
    "1    1.0\n",
    "2    2.0\n",
    "3    3.0\n",
    "4    4.0\n",
    "dtype: float64"
   ]
  },
  {
   "cell_type": "markdown",
   "id": "8c697ac4",
   "metadata": {},
   "source": [
    "代码："
   ]
  },
  {
   "cell_type": "code",
   "execution_count": null,
   "id": "c5bfae06",
   "metadata": {
    "attributes": {
     "classes": [
      "Python"
     ],
     "id": ""
    }
   },
   "outputs": [],
   "source": [
    "ser5.where(ser5 > 1, 10)"
   ]
  },
  {
   "cell_type": "markdown",
   "id": "b5f1853f",
   "metadata": {},
   "source": [
    "输出："
   ]
  },
  {
   "cell_type": "code",
   "execution_count": null,
   "id": "0d951d15",
   "metadata": {},
   "outputs": [],
   "source": [
    "0    10\n",
    "1    10\n",
    "2     2\n",
    "3     3\n",
    "4     4\n",
    "dtype: int64"
   ]
  },
  {
   "cell_type": "markdown",
   "id": "9bc7e5c0",
   "metadata": {},
   "source": [
    "代码："
   ]
  },
  {
   "cell_type": "code",
   "execution_count": null,
   "id": "5384335f",
   "metadata": {
    "attributes": {
     "classes": [
      "Python"
     ],
     "id": ""
    }
   },
   "outputs": [],
   "source": [
    "ser5.mask(ser5 > 1, 10)"
   ]
  },
  {
   "cell_type": "markdown",
   "id": "4e9dd38c",
   "metadata": {},
   "source": [
    "输出："
   ]
  },
  {
   "cell_type": "code",
   "execution_count": null,
   "id": "570ae5d2",
   "metadata": {},
   "outputs": [],
   "source": [
    "0     0\n",
    "1     1\n",
    "2    10\n",
    "3    10\n",
    "4    10\n",
    "dtype: int64"
   ]
  },
  {
   "cell_type": "markdown",
   "id": "76ca9927",
   "metadata": {},
   "source": [
    "`Series`对象的`duplicated()`方法可以帮助我们找出重复的数据，而`drop_duplicates()`方法可以帮我们删除重复数据。\n",
    "\n",
    "代码："
   ]
  },
  {
   "cell_type": "code",
   "execution_count": null,
   "id": "f614795e",
   "metadata": {
    "attributes": {
     "classes": [
      "Python"
     ],
     "id": ""
    }
   },
   "outputs": [],
   "source": [
    "ser3.duplicated()"
   ]
  },
  {
   "cell_type": "markdown",
   "id": "4122ea4f",
   "metadata": {},
   "source": [
    "输出："
   ]
  },
  {
   "cell_type": "code",
   "execution_count": null,
   "id": "8f18faa0",
   "metadata": {},
   "outputs": [],
   "source": [
    "0    False\n",
    "1    False\n",
    "2     True\n",
    "3    False\n",
    "4     True\n",
    "5     True\n",
    "6    False\n",
    "dtype: bool"
   ]
  },
  {
   "cell_type": "markdown",
   "id": "5c08146c",
   "metadata": {},
   "source": [
    "代码："
   ]
  },
  {
   "cell_type": "code",
   "execution_count": null,
   "id": "8b0972d7",
   "metadata": {
    "attributes": {
     "classes": [
      "Python"
     ],
     "id": ""
    }
   },
   "outputs": [],
   "source": [
    "ser3.drop_duplicates()"
   ]
  },
  {
   "cell_type": "markdown",
   "id": "123c0a3e",
   "metadata": {},
   "source": [
    "输出："
   ]
  },
  {
   "cell_type": "code",
   "execution_count": null,
   "id": "b89f0ef4",
   "metadata": {},
   "outputs": [],
   "source": [
    "0     apple\n",
    "1    banana\n",
    "3    pitaya\n",
    "6    durian\n",
    "dtype: object"
   ]
  },
  {
   "cell_type": "markdown",
   "id": "c2ef2425",
   "metadata": {},
   "source": [
    "`Series`对象的`apply()`和`map()`方法非常重要，它们可以通过字典或者指定的函数来处理数据，把数据映射或转换成我们想要的样子。这两个方法在数据准备阶段非常重要，我们先来试一试这个名为`map`的方法。\n",
    "\n",
    "代码："
   ]
  },
  {
   "cell_type": "code",
   "execution_count": null,
   "id": "0e2351c2",
   "metadata": {
    "attributes": {
     "classes": [
      "Python"
     ],
     "id": ""
    }
   },
   "outputs": [],
   "source": [
    "ser6 = pd.Series(['cat', 'dog', np.nan, 'rabbit'])\n",
    "ser6"
   ]
  },
  {
   "cell_type": "markdown",
   "id": "bcd0baad",
   "metadata": {},
   "source": [
    "输出："
   ]
  },
  {
   "cell_type": "code",
   "execution_count": null,
   "id": "376602a2",
   "metadata": {},
   "outputs": [],
   "source": [
    "0       cat\n",
    "1       dog\n",
    "2       NaN\n",
    "3    rabbit\n",
    "dtype: object"
   ]
  },
  {
   "cell_type": "markdown",
   "id": "b0440201",
   "metadata": {},
   "source": [
    "代码："
   ]
  },
  {
   "cell_type": "code",
   "execution_count": null,
   "id": "6b9be8e3",
   "metadata": {
    "attributes": {
     "classes": [
      "Python"
     ],
     "id": ""
    }
   },
   "outputs": [],
   "source": [
    "ser6.map({'cat': 'kitten', 'dog': 'puppy'})"
   ]
  },
  {
   "cell_type": "markdown",
   "id": "6f722dce",
   "metadata": {},
   "source": [
    "> **说明**：通过字典给出的映射规则对数据进行处理。\n",
    "\n",
    "输出："
   ]
  },
  {
   "cell_type": "code",
   "execution_count": null,
   "id": "ea77cbd9",
   "metadata": {},
   "outputs": [],
   "source": [
    "0    kitten\n",
    "1     puppy\n",
    "2       NaN\n",
    "3       NaN\n",
    "dtype: object"
   ]
  },
  {
   "cell_type": "markdown",
   "id": "97cc9d5e",
   "metadata": {},
   "source": [
    "代码："
   ]
  },
  {
   "cell_type": "code",
   "execution_count": null,
   "id": "33f4ac8d",
   "metadata": {
    "attributes": {
     "classes": [
      "Python"
     ],
     "id": ""
    }
   },
   "outputs": [],
   "source": [
    "ser6.map('I am a {}'.format, na_action='ignore')"
   ]
  },
  {
   "cell_type": "markdown",
   "id": "eea1d75e",
   "metadata": {},
   "source": [
    "> **说明**：将指定字符串的`format`方法作用到数据系列的数据上，忽略掉所有的空值。\n",
    "\n",
    "输出："
   ]
  },
  {
   "cell_type": "code",
   "execution_count": null,
   "id": "635207c0",
   "metadata": {},
   "outputs": [],
   "source": [
    "0       I am a cat\n",
    "1       I am a dog\n",
    "2              NaN\n",
    "3    I am a rabbit\n",
    "dtype: object"
   ]
  },
  {
   "cell_type": "markdown",
   "id": "8ea6d530",
   "metadata": {},
   "source": [
    "我们创建一个新的`Series`对象，"
   ]
  },
  {
   "cell_type": "code",
   "execution_count": null,
   "id": "c7a90336",
   "metadata": {
    "attributes": {
     "classes": [
      "Python"
     ],
     "id": ""
    }
   },
   "outputs": [],
   "source": [
    "ser7 = pd.Series([20, 21, 12],  index=['London', 'New York', 'Helsinki'])\n",
    "ser7"
   ]
  },
  {
   "cell_type": "markdown",
   "id": "24247778",
   "metadata": {},
   "source": [
    "输出："
   ]
  },
  {
   "cell_type": "code",
   "execution_count": null,
   "id": "afd7f920",
   "metadata": {},
   "outputs": [],
   "source": [
    "London      20\n",
    "New York    21\n",
    "Helsinki    12\n",
    "dtype: int64"
   ]
  },
  {
   "cell_type": "markdown",
   "id": "c00344cb",
   "metadata": {},
   "source": [
    "代码："
   ]
  },
  {
   "cell_type": "code",
   "execution_count": null,
   "id": "a19c0539",
   "metadata": {
    "attributes": {
     "classes": [
      "Python"
     ],
     "id": ""
    }
   },
   "outputs": [],
   "source": [
    "ser7.apply(np.square)"
   ]
  },
  {
   "cell_type": "markdown",
   "id": "e4ad41f9",
   "metadata": {},
   "source": [
    "> **说明**：将求平方的函数作用到数据系列的数据上，也可以将参数`np.square`替换为`lambda x: x ** 2`。\n",
    "\n",
    "输出："
   ]
  },
  {
   "cell_type": "code",
   "execution_count": null,
   "id": "19d34ea0",
   "metadata": {},
   "outputs": [],
   "source": [
    "London      400\n",
    "New York    441\n",
    "Helsinki    144\n",
    "dtype: int64"
   ]
  },
  {
   "cell_type": "markdown",
   "id": "44eb3b89",
   "metadata": {},
   "source": [
    "代码："
   ]
  },
  {
   "cell_type": "code",
   "execution_count": null,
   "id": "6fa59397",
   "metadata": {
    "attributes": {
     "classes": [
      "Python"
     ],
     "id": ""
    }
   },
   "outputs": [],
   "source": [
    "ser7.apply(lambda x, value: x - value, args=(5, ))"
   ]
  },
  {
   "cell_type": "markdown",
   "id": "03392226",
   "metadata": {},
   "source": [
    "> 注意：上面`apply`方法中的`lambda`函数有两个参数，第一个参数是数据系列中的数据，而第二个参数需要我们传入，所以我们给`apply`方法增加了`args`参数，用于给`lambda`函数的第二个参数传值。\n",
    "\n",
    "输出："
   ]
  },
  {
   "cell_type": "code",
   "execution_count": null,
   "id": "bd21f47b",
   "metadata": {},
   "outputs": [],
   "source": [
    "London      15\n",
    "New York    16\n",
    "Helsinki     7\n",
    "dtype: int64"
   ]
  },
  {
   "cell_type": "markdown",
   "id": "6501ae76",
   "metadata": {},
   "source": [
    "#### 取头部值和排序\n",
    "\n",
    "`Series`对象的`sort_index()`和`sort_values()`方法可以用于对索引和数据的排序，排序方法有一个名为`ascending`的布尔类型参数，该参数用于控制排序的结果是升序还是降序；而名为`kind`的参数则用来控制排序使用的算法，默认使用了`quicksort`，也可以选择`mergesort`或`heapsort`；如果存在空值，那么可以用`na_position`参数空值放在最前还是最后，默认是`last`，代码如下所示。\n",
    "\n",
    "代码："
   ]
  },
  {
   "cell_type": "code",
   "execution_count": null,
   "id": "f34c0a84",
   "metadata": {
    "attributes": {
     "classes": [
      "Python"
     ],
     "id": ""
    }
   },
   "outputs": [],
   "source": [
    "ser8 = pd.Series(\n",
    "    data=[35, 96, 12, 57, 25, 89], \n",
    "    index=['grape', 'banana', 'pitaya', 'apple', 'peach', 'orange']\n",
    ")\n",
    "ser8.sort_values()  # 按值从小到大排序"
   ]
  },
  {
   "cell_type": "markdown",
   "id": "bcb51b50",
   "metadata": {},
   "source": [
    "输出："
   ]
  },
  {
   "cell_type": "code",
   "execution_count": null,
   "id": "c4f76b13",
   "metadata": {},
   "outputs": [],
   "source": [
    "pitaya    12\n",
    "peach     25\n",
    "grape     35\n",
    "apple     57\n",
    "orange    89\n",
    "banana    96\n",
    "dtype: int64"
   ]
  },
  {
   "cell_type": "markdown",
   "id": "fa908254",
   "metadata": {},
   "source": [
    "代码："
   ]
  },
  {
   "cell_type": "code",
   "execution_count": null,
   "id": "8649c78c",
   "metadata": {
    "attributes": {
     "classes": [
      "Python"
     ],
     "id": ""
    }
   },
   "outputs": [],
   "source": [
    "ser8.sort_index(ascending=False)  # 按索引从大到小排序"
   ]
  },
  {
   "cell_type": "markdown",
   "id": "e1e2f1cb",
   "metadata": {},
   "source": [
    "输出："
   ]
  },
  {
   "cell_type": "code",
   "execution_count": null,
   "id": "a44c3670",
   "metadata": {},
   "outputs": [],
   "source": [
    "pitaya    12\n",
    "peach     25\n",
    "orange    89\n",
    "grape     35\n",
    "banana    96\n",
    "apple     57\n",
    "dtype: int64"
   ]
  },
  {
   "cell_type": "markdown",
   "id": "8912e081",
   "metadata": {},
   "source": [
    "如果要从`Series`对象中找出元素中最大或最小的“Top-N”，我们不需要对所有的值进行排序的，可以使用`nlargest()`和`nsmallest()`方法来完成，如下所示。\n",
    "\n",
    "代码："
   ]
  },
  {
   "cell_type": "code",
   "execution_count": null,
   "id": "e5fdec03",
   "metadata": {
    "attributes": {
     "classes": [
      "Python"
     ],
     "id": ""
    }
   },
   "outputs": [],
   "source": [
    "ser8.nlargest(3)  # 值最大的3个"
   ]
  },
  {
   "cell_type": "markdown",
   "id": "2285408e",
   "metadata": {},
   "source": [
    "输出："
   ]
  },
  {
   "cell_type": "code",
   "execution_count": null,
   "id": "840f2f65",
   "metadata": {},
   "outputs": [],
   "source": [
    "banana    96\n",
    "orange    89\n",
    "apple     57\n",
    "dtype: int64"
   ]
  },
  {
   "cell_type": "markdown",
   "id": "61388f79",
   "metadata": {},
   "source": [
    "代码："
   ]
  },
  {
   "cell_type": "code",
   "execution_count": null,
   "id": "1a201d0e",
   "metadata": {
    "attributes": {
     "classes": [
      "Python"
     ],
     "id": ""
    }
   },
   "outputs": [],
   "source": [
    "ser8.nsmallest(2)  # 值最小的2个"
   ]
  },
  {
   "cell_type": "markdown",
   "id": "6367f639",
   "metadata": {},
   "source": [
    "输出："
   ]
  },
  {
   "cell_type": "code",
   "execution_count": null,
   "id": "5a03d25d",
   "metadata": {},
   "outputs": [],
   "source": [
    "pitaya    12\n",
    "peach     25\n",
    "dtype: int64"
   ]
  },
  {
   "cell_type": "markdown",
   "id": "87a25a2d",
   "metadata": {},
   "source": [
    "#### 绘制图表\n",
    "\n",
    "`Series`对象有一个名为`plot`的方法可以用来生成图表，如果选择生成折线图、饼图、柱状图等，默认会使用`Series`对象的索引作为横坐标，使用`Series`对象的数据作为纵坐标。下面我们创建一个`Series`对象并基于它绘制柱状图，代码如下所示。\n",
    "\n",
    "代码："
   ]
  },
  {
   "cell_type": "code",
   "execution_count": null,
   "id": "20139cec",
   "metadata": {
    "attributes": {
     "classes": [
      "Python"
     ],
     "id": ""
    }
   },
   "outputs": [],
   "source": [
    "import matplotlib.pyplot as plt\n",
    "\n",
    "ser9 = pd.Series({'Q1': 400, 'Q2': 520, 'Q3': 180, 'Q4': 380})\n",
    "# 通过plot方法的kind指定图表类型为柱状图\n",
    "ser9.plot(kind='bar')\n",
    "# 定制纵轴的取值范围\n",
    "plt.ylim(0, 600)\n",
    "# 定制横轴刻度（旋转到0度）\n",
    "plt.xticks(rotation=0)\n",
    "# 为柱子增加数据标签\n",
    "for i in range(ser9.size):\n",
    "    plt.text(i, ser9[i] + 5, ser9[i], ha='center')\n",
    "plt.show()"
   ]
  },
  {
   "cell_type": "markdown",
   "id": "b9673f66",
   "metadata": {},
   "source": [
    "输出：\n",
    "\n",
    "<img src=\"res/ser_bar_graph.png\" style=\"zoom:35%;\">\n",
    "\n",
    "我们也可以将其绘制为饼图，代码如下所示。\n",
    "\n",
    "代码："
   ]
  },
  {
   "cell_type": "code",
   "execution_count": null,
   "id": "830ba8d2",
   "metadata": {
    "attributes": {
     "classes": [
      "Python"
     ],
     "id": ""
    }
   },
   "outputs": [],
   "source": [
    "# plot方法的kind参数指定了图表类型为饼图\n",
    "# autopct会自动计算并显示百分比\n",
    "# pctdistance用来控制百分比到圆心的距离\n",
    "ser9.plot(kind='pie', autopct='%.1f%%', pctdistance=0.65)\n",
    "plt.show()"
   ]
  },
  {
   "cell_type": "markdown",
   "id": "553cc139",
   "metadata": {},
   "source": [
    "输出：\n",
    "\n",
    "<img src=\"res/ser_pie_graph.png\" style=\"zoom:35%;\">"
   ]
  }
 ],
 "metadata": {},
 "nbformat": 4,
 "nbformat_minor": 5
}
