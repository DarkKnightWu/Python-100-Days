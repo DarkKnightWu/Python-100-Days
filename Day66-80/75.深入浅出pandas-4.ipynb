{
 "cells": [
  {
   "cell_type": "markdown",
   "id": "2d692115",
   "metadata": {},
   "source": [
    "## 深入浅出pandas-4\n",
    "\n",
    "### 数据透视\n",
    "\n",
    "经过前面的学习，我们已经将数据准备就绪而且变成了我们想要的样子，接下来就是最为重要的数据透视阶段了。当我们拿到一大堆数据的时候，如何从数据中迅速的解读出有价值的信息，把繁杂的数据变成容易解读的统计图表并再此基础上产生业务洞察，这就是数据分析要解决的核心问题。\n",
    "\n",
    "#### 获取描述性统计信息\n",
    "\n",
    "首先，我们可以获取数据的描述性统计信息，通过描述性统计信息，我们可以了解数据的集中趋势和离散趋势。\n",
    "\n",
    "例如，我们有如下所示的学生成绩表。"
   ]
  },
  {
   "cell_type": "code",
   "execution_count": null,
   "id": "750cf0d9",
   "metadata": {
    "attributes": {
     "classes": [
      "Python"
     ],
     "id": ""
    }
   },
   "outputs": [],
   "source": [
    "scores = np.random.randint(50, 101, (5, 3))\n",
    "names = ('关羽', '张飞', '赵云', '马超', '黄忠')\n",
    "courses = ('语文', '数学', '英语')\n",
    "df = pd.DataFrame(data=scores, columns=courses, index=names)\n",
    "df"
   ]
  },
  {
   "cell_type": "markdown",
   "id": "b9dd75c5",
   "metadata": {},
   "source": [
    "输出："
   ]
  },
  {
   "cell_type": "code",
   "execution_count": null,
   "id": "1ee97377",
   "metadata": {},
   "outputs": [],
   "source": [
    "     语文   数学   英语\n",
    "关羽  96    72    73\n",
    "张飞  72    70\t97\n",
    "赵云  74    51\t79\n",
    "马超  100   54\t54\n",
    "黄忠  89    100\t88"
   ]
  },
  {
   "cell_type": "markdown",
   "id": "3d60cc0a",
   "metadata": {},
   "source": [
    "我们可以通过`DataFrame`对象的方法`mean`、`max`、`min`、`std`、`var`等方法分别获取每个学生或每门课程的平均分、最高分、最低分、标准差、方差等信息，也可以直接通过`describe`方法直接获取描述性统计信息，代码如下所示。\n",
    "\n",
    "计算每门课程成绩的平均分。"
   ]
  },
  {
   "cell_type": "code",
   "execution_count": null,
   "id": "234027cc",
   "metadata": {
    "attributes": {
     "classes": [
      "Python"
     ],
     "id": ""
    }
   },
   "outputs": [],
   "source": [
    "df.mean()"
   ]
  },
  {
   "cell_type": "markdown",
   "id": "32510869",
   "metadata": {},
   "source": [
    "输出："
   ]
  },
  {
   "cell_type": "code",
   "execution_count": null,
   "id": "abf75e61",
   "metadata": {},
   "outputs": [],
   "source": [
    "语文    86.2\n",
    "数学    69.4\n",
    "英语    78.2\n",
    "dtype: float64"
   ]
  },
  {
   "cell_type": "markdown",
   "id": "c4192bcc",
   "metadata": {},
   "source": [
    "计算每个学生成绩的平均分。"
   ]
  },
  {
   "cell_type": "code",
   "execution_count": null,
   "id": "a42d2330",
   "metadata": {
    "attributes": {
     "classes": [
      "Python"
     ],
     "id": ""
    }
   },
   "outputs": [],
   "source": [
    "df.mean(axis=1)"
   ]
  },
  {
   "cell_type": "markdown",
   "id": "5d4a2dbd",
   "metadata": {},
   "source": [
    "输出："
   ]
  },
  {
   "cell_type": "code",
   "execution_count": null,
   "id": "f77b2368",
   "metadata": {},
   "outputs": [],
   "source": [
    "关羽    80.333333\n",
    "张飞    79.666667\n",
    "赵云    68.000000\n",
    "马超    69.333333\n",
    "黄忠    92.333333\n",
    "dtype: float64"
   ]
  },
  {
   "cell_type": "markdown",
   "id": "8af14801",
   "metadata": {},
   "source": [
    "计算每门课程成绩的方差。"
   ]
  },
  {
   "cell_type": "code",
   "execution_count": null,
   "id": "054d8e55",
   "metadata": {
    "attributes": {
     "classes": [
      "Python"
     ],
     "id": ""
    }
   },
   "outputs": [],
   "source": [
    "df.var()"
   ]
  },
  {
   "cell_type": "markdown",
   "id": "b5cbc9a6",
   "metadata": {},
   "source": [
    "输出："
   ]
  },
  {
   "cell_type": "code",
   "execution_count": null,
   "id": "33f3ec64",
   "metadata": {},
   "outputs": [],
   "source": [
    "语文    161.2\n",
    "数学    379.8\n",
    "英语    265.7\n",
    "dtype: float64"
   ]
  },
  {
   "cell_type": "markdown",
   "id": "0b643494",
   "metadata": {},
   "source": [
    "> **说明**：通过方差可以看出，数学成绩波动最大，两极分化可能更严重。\n",
    "\n",
    "获取每门课程的描述性统计信息。"
   ]
  },
  {
   "cell_type": "code",
   "execution_count": null,
   "id": "55f72aa9",
   "metadata": {
    "attributes": {
     "classes": [
      "Python"
     ],
     "id": ""
    }
   },
   "outputs": [],
   "source": [
    "df.describe()"
   ]
  },
  {
   "cell_type": "markdown",
   "id": "31207470",
   "metadata": {},
   "source": [
    "输出："
   ]
  },
  {
   "cell_type": "code",
   "execution_count": null,
   "id": "03f3b1f6",
   "metadata": {},
   "outputs": [],
   "source": [
    "        语文        数学         英语\n",
    "count   5.000000\t5.000000\t5.000000\n",
    "mean    86.200000\t69.400000\t78.200000\n",
    "std     12.696456\t19.488458\t16.300307\n",
    "min     72.000000\t51.000000\t54.000000\n",
    "25%     74.000000\t54.000000\t73.000000\n",
    "50%     89.000000\t70.000000\t79.000000\n",
    "75%     96.000000\t72.000000\t88.000000\n",
    "max     100.000000\t100.000000\t97.000000"
   ]
  },
  {
   "cell_type": "markdown",
   "id": "51874ce7",
   "metadata": {},
   "source": [
    "#### 排序和取头部值\n",
    "\n",
    "如果需要对数据进行排序，可以使用`DataFrame`对象的`sort_values`方法，该方法的`by`参数可以指定根据哪个列或哪些列进行排序，而`ascending`参数可以指定升序或是降序。例如，下面的代码展示了如何将学生表按语文成绩排降序。"
   ]
  },
  {
   "cell_type": "code",
   "execution_count": null,
   "id": "51a0fd4f",
   "metadata": {
    "attributes": {
     "classes": [
      "Python"
     ],
     "id": ""
    }
   },
   "outputs": [],
   "source": [
    "df.sort_values(by='语文', ascending=False)"
   ]
  },
  {
   "cell_type": "markdown",
   "id": "5839379a",
   "metadata": {},
   "source": [
    "输出："
   ]
  },
  {
   "cell_type": "code",
   "execution_count": null,
   "id": "80fecbee",
   "metadata": {},
   "outputs": [],
   "source": [
    "      语文   数学   英语\n",
    "马超\t100    54\t  54\n",
    "关羽\t96     72     73\n",
    "黄忠\t89     100    88\n",
    "赵云\t74     51     79\n",
    "张飞\t72     70     97"
   ]
  },
  {
   "cell_type": "markdown",
   "id": "9dbdd1a1",
   "metadata": {},
   "source": [
    "如果`DataFrame`数据量很大，排序将是一个非常耗费时间的操作。有的时候我们只需要获得排前N名或后N名的数据，这个时候其实没有必要对整个数据进行排序，而是直接利用堆结构找出Top-N的数据。`DataFrame`的`nlargest`和`nsmallest`方法就提供对Top-N操作的支持，代码如下所示。\n",
    "\n",
    "找出语文成绩前3名的学生信息。"
   ]
  },
  {
   "cell_type": "code",
   "execution_count": null,
   "id": "3ac827ae",
   "metadata": {
    "attributes": {
     "classes": [
      "Python"
     ],
     "id": ""
    }
   },
   "outputs": [],
   "source": [
    "df.nlargest(3, '语文')"
   ]
  },
  {
   "cell_type": "markdown",
   "id": "ca6a9a84",
   "metadata": {},
   "source": [
    "输出："
   ]
  },
  {
   "cell_type": "code",
   "execution_count": null,
   "id": "c70eed45",
   "metadata": {},
   "outputs": [],
   "source": [
    "      语文   数学   英语\n",
    "马超\t100    54\t  54\n",
    "关羽\t96     72     73\n",
    "黄忠\t89     100    88"
   ]
  },
  {
   "cell_type": "markdown",
   "id": "be60a850",
   "metadata": {},
   "source": [
    "找出数学成绩最低的3名学生的信息。"
   ]
  },
  {
   "cell_type": "code",
   "execution_count": null,
   "id": "d1fdd34d",
   "metadata": {
    "attributes": {
     "classes": [
      "Python"
     ],
     "id": ""
    }
   },
   "outputs": [],
   "source": [
    "df.nsmallest(3, '数学')"
   ]
  },
  {
   "cell_type": "markdown",
   "id": "82665aa9",
   "metadata": {},
   "source": [
    "输出："
   ]
  },
  {
   "cell_type": "code",
   "execution_count": null,
   "id": "689d0c81",
   "metadata": {},
   "outputs": [],
   "source": [
    "      语文  数学  英语\n",
    "赵云  74    51\t79\n",
    "马超  100   54\t54\n",
    "张飞  72    70\t97"
   ]
  },
  {
   "cell_type": "markdown",
   "id": "7a74c9d9",
   "metadata": {},
   "source": [
    "#### 分组聚合\n",
    "\n",
    "我们先从之前使用过的 Excel 文件中读取2020年销售数据，然后再为大家演示如何进行分组聚合操作。"
   ]
  },
  {
   "cell_type": "code",
   "execution_count": null,
   "id": "d30c8cbf",
   "metadata": {
    "attributes": {
     "classes": [
      "Python"
     ],
     "id": ""
    }
   },
   "outputs": [],
   "source": [
    "df = pd.read_excel('data/2020年销售数据.xlsx')\n",
    "df.head()"
   ]
  },
  {
   "cell_type": "markdown",
   "id": "aa2fe5ba",
   "metadata": {},
   "source": [
    "输出："
   ]
  },
  {
   "cell_type": "code",
   "execution_count": null,
   "id": "bc2429ca",
   "metadata": {},
   "outputs": [],
   "source": [
    "    销售日期\t 销售区域   销售渠道  销售订单     品牌    售价  销售数量\n",
    "0   2020-01-01  上海       拼多多    182894-455  八匹马  99    83\n",
    "1   2020-01-01  上海       抖音      205635-402  八匹马  219   29\n",
    "2   2020-01-01  上海       天猫      205654-021  八匹马  169   85\n",
    "3   2020-01-01  上海       天猫      205654-519  八匹马  169   14\n",
    "4   2020-01-01  上海       天猫      377781-010  皮皮虾  249   61"
   ]
  },
  {
   "cell_type": "markdown",
   "id": "3eddfb78",
   "metadata": {},
   "source": [
    "如果我们要统计每个销售区域的销售总额，可以先通过“售价”和“销售数量”计算出销售额，为`DataFrame`添加一个列，代码如下所示。"
   ]
  },
  {
   "cell_type": "code",
   "execution_count": null,
   "id": "3c266155",
   "metadata": {
    "attributes": {
     "classes": [
      "Python"
     ],
     "id": ""
    }
   },
   "outputs": [],
   "source": [
    "df['销售额'] = df['售价'] * df['销售数量']\n",
    "df.head()"
   ]
  },
  {
   "cell_type": "markdown",
   "id": "af3d97e6",
   "metadata": {},
   "source": [
    "输出："
   ]
  },
  {
   "cell_type": "code",
   "execution_count": null,
   "id": "8830a1ae",
   "metadata": {},
   "outputs": [],
   "source": [
    "    销售日期\t 销售区域   销售渠道  销售订单     品牌    售价  销售数量  销售额\n",
    "0   2020-01-01  上海       拼多多    182894-455  八匹马  99    83        8217\n",
    "1   2020-01-01  上海       抖音      205635-402  八匹马  219   29        6351\n",
    "2   2020-01-01  上海       天猫      205654-021  八匹马  169   85        14365\n",
    "3   2020-01-01  上海       天猫      205654-519  八匹马  169   14        2366\n",
    "4   2020-01-01  上海       天猫      377781-010  皮皮虾  249   61        15189"
   ]
  },
  {
   "cell_type": "markdown",
   "id": "85b839d7",
   "metadata": {},
   "source": [
    "然后再根据“销售区域”列对数据进行分组，这里我们使用的是`DataFrame`对象的`groupby`方法。分组之后，我们取“销售额”这个列在分组内进行求和处理，代码和结果如下所示。"
   ]
  },
  {
   "cell_type": "code",
   "execution_count": null,
   "id": "ee131612",
   "metadata": {
    "attributes": {
     "classes": [
      "Python"
     ],
     "id": ""
    }
   },
   "outputs": [],
   "source": [
    "df.groupby('销售区域').销售额.sum()"
   ]
  },
  {
   "cell_type": "markdown",
   "id": "c4a31086",
   "metadata": {},
   "source": [
    "输出："
   ]
  },
  {
   "cell_type": "code",
   "execution_count": null,
   "id": "1397e812",
   "metadata": {},
   "outputs": [],
   "source": [
    "销售区域\n",
    "上海    11610489\n",
    "北京    12477717\n",
    "安徽      895463\n",
    "广东     1617949\n",
    "江苏     2304380\n",
    "浙江      687862\n",
    "福建    10178227\n",
    "Name: 销售额, dtype: int64"
   ]
  },
  {
   "cell_type": "markdown",
   "id": "e81046d8",
   "metadata": {},
   "source": [
    "如果我们要统计每个月的销售总额，我们可以将“销售日期”作为groupby`方法的参数，当然这里需要先将“销售日期”处理成月，代码和结果如下所示。"
   ]
  },
  {
   "cell_type": "code",
   "execution_count": null,
   "id": "3b3e4e37",
   "metadata": {
    "attributes": {
     "classes": [
      "Python"
     ],
     "id": ""
    }
   },
   "outputs": [],
   "source": [
    "df.groupby(df['销售日期'].dt.month).销售额.sum()"
   ]
  },
  {
   "cell_type": "markdown",
   "id": "89f27a90",
   "metadata": {},
   "source": [
    "输出："
   ]
  },
  {
   "cell_type": "code",
   "execution_count": null,
   "id": "a8b256e7",
   "metadata": {},
   "outputs": [],
   "source": [
    "销售日期\n",
    "1     5409855\n",
    "2     4608455\n",
    "3     4164972\n",
    "4     3996770\n",
    "5     3239005\n",
    "6     2817936\n",
    "7     3501304\n",
    "8     2948189\n",
    "9     2632960\n",
    "10    2375385\n",
    "11    2385283\n",
    "12    1691973\n",
    "Name: 销售额, dtype: int64"
   ]
  },
  {
   "cell_type": "markdown",
   "id": "be3cd680",
   "metadata": {},
   "source": [
    "接下来我们将难度升级，统计每个销售区域每个月的销售总额，这又该如何处理呢？事实上，`groupby`方法的第一个参数可以是一个列表，列表中可以指定多个分组的依据，大家看看下面的代码和输出结果就明白了。"
   ]
  },
  {
   "cell_type": "code",
   "execution_count": null,
   "id": "d584272b",
   "metadata": {
    "attributes": {
     "classes": [
      "Python"
     ],
     "id": ""
    }
   },
   "outputs": [],
   "source": [
    "df.groupby(['销售区域', df['销售日期'].dt.month]).销售额.sum()"
   ]
  },
  {
   "cell_type": "markdown",
   "id": "f39fabf6",
   "metadata": {},
   "source": [
    "输出："
   ]
  },
  {
   "cell_type": "code",
   "execution_count": null,
   "id": "9146240e",
   "metadata": {},
   "outputs": [],
   "source": [
    "销售区域  销售日期\n",
    "上海    1       1679125\n",
    "        2       1689527\n",
    "        3       1061193\n",
    "        4       1082187\n",
    "        5        841199\n",
    "        6        785404\n",
    "        7        863906\n",
    "        8        734937\n",
    "        9       1107693\n",
    "        10       412108\n",
    "       11       825169\n",
    "       12       528041\n",
    "北京    1       1878234\n",
    "        2       1807787\n",
    "        3       1360666\n",
    "        4       1205989\n",
    "        5        807300\n",
    "        6       1216432\n",
    "        7       1219083\n",
    "        8        645727\n",
    "        9        390077\n",
    "        10       671608\n",
    "        11       678668\n",
    "        12       596146\n",
    "安徽    4        341308\n",
    "        5        554155\n",
    "广东    3        388180\n",
    "        8        469390\n",
    "        9        365191\n",
    "        11       395188\n",
    "江苏    4        537079\n",
    "        7        841032\n",
    "        10       710962\n",
    "        12       215307\n",
    "浙江    3        248354\n",
    "        8        439508\n",
    "福建    1       1852496\n",
    "        2       1111141\n",
    "        3       1106579\n",
    "        4        830207\n",
    "        5       1036351\n",
    "        6        816100\n",
    "        7        577283\n",
    "        8        658627\n",
    "        9        769999\n",
    "        10       580707\n",
    "        11       486258\n",
    "        12       352479\n",
    "Name: 销售额, dtype: int64"
   ]
  },
  {
   "cell_type": "markdown",
   "id": "d8ff6c1d",
   "metadata": {},
   "source": [
    "如果希望统计出每个区域的销售总额以及每个区域单笔金额的最高和最低，我们可以在`DataFrame`或`Series`对象上使用`agg`方法并指定多个聚合函数，代码和结果如下所示。"
   ]
  },
  {
   "cell_type": "code",
   "execution_count": null,
   "id": "c783648a",
   "metadata": {
    "attributes": {
     "classes": [
      "Python"
     ],
     "id": ""
    }
   },
   "outputs": [],
   "source": [
    "df.groupby('销售区域').销售额.agg(['sum', 'max', 'min'])"
   ]
  },
  {
   "cell_type": "markdown",
   "id": "e1793ab8",
   "metadata": {},
   "source": [
    "输出："
   ]
  },
  {
   "cell_type": "code",
   "execution_count": null,
   "id": "61f69352",
   "metadata": {},
   "outputs": [],
   "source": [
    "           sum     max   min\n",
    "销售区域                        \n",
    "上海    11610489  116303   948\n",
    "北京    12477717  133411   690\n",
    "安徽      895463   68502  1683\n",
    "广东     1617949  120807   990\n",
    "江苏     2304380  114312  1089\n",
    "浙江      687862   90909  3927\n",
    "福建    10178227   87527   897"
   ]
  },
  {
   "cell_type": "markdown",
   "id": "08f5fccb",
   "metadata": {},
   "source": [
    "如果希望自定义聚合后的列的名字，可以使用如下所示的方法。"
   ]
  },
  {
   "cell_type": "code",
   "execution_count": null,
   "id": "01503da7",
   "metadata": {
    "attributes": {
     "classes": [
      "Python"
     ],
     "id": ""
    }
   },
   "outputs": [],
   "source": [
    "df.groupby('销售区域').销售额.agg(销售总额='sum', 单笔最高='max', 单笔最低='min')"
   ]
  },
  {
   "cell_type": "markdown",
   "id": "f0b009cc",
   "metadata": {},
   "source": [
    "输出："
   ]
  },
  {
   "cell_type": "code",
   "execution_count": null,
   "id": "21857ca4",
   "metadata": {},
   "outputs": [],
   "source": [
    "          销售总额    单笔最高  单笔最低\n",
    "销售区域                        \n",
    "上海      11610489     116303     948\n",
    "北京      12477717     133411     690\n",
    "安徽        895463      68502    1683\n",
    "广东       1617949     120807     990\n",
    "江苏       2304380     114312    1089\n",
    "浙江        687862      90909    3927\n",
    "福建      10178227      87527     897"
   ]
  },
  {
   "cell_type": "markdown",
   "id": "b795e57f",
   "metadata": {},
   "source": [
    "如果需要对多个列使用不同的聚合函数，例如“统计每个销售区域销售额的总和以及销售数量的最低值和最高值”，我们可以按照下面的方式来操作。"
   ]
  },
  {
   "cell_type": "code",
   "execution_count": null,
   "id": "5ec74307",
   "metadata": {
    "attributes": {
     "classes": [
      "Python"
     ],
     "id": ""
    }
   },
   "outputs": [],
   "source": [
    "df.groupby('销售区域')[['销售额', '销售数量']].agg({\n",
    "    '销售额': 'sum', '销售数量': ['max', 'min']\n",
    "})"
   ]
  },
  {
   "cell_type": "markdown",
   "id": "2b5f2424",
   "metadata": {},
   "source": [
    "输出："
   ]
  },
  {
   "cell_type": "code",
   "execution_count": null,
   "id": "def76579",
   "metadata": {},
   "outputs": [],
   "source": [
    "           销售额  销售数量    \n",
    "           sum    max min\n",
    "销售区域                   \n",
    "上海    11610489  100  10\n",
    "北京    12477717  100  10\n",
    "安徽      895463   98  16\n",
    "广东     1617949   98  10\n",
    "江苏     2304380  100  11\n",
    "浙江      687862   95  20\n",
    "福建    10178227  100  10"
   ]
  },
  {
   "cell_type": "markdown",
   "id": "c9e5180b",
   "metadata": {},
   "source": [
    "#### 透视表和交叉表\n",
    "\n",
    "上面的例子中，“统计每个销售区域每个月的销售总额”会产生一个看起来很长的结果，在实际工作中我们通常把那些行很多列很少的表成为“窄表”，如果我们不想得到这样的一个“窄表”，可以使用`DataFrame`的`pivot_table`方法或者是`pivot_table`函数来生成透视表。透视表的本质就是对数据进行分组聚合操作，**根据 A 列对 B 列进行统计**，如果大家有使用 Excel 的经验，相信对透视表这个概念一定不会陌生。例如，我们要“统计每个销售区域的销售总额”，那么“销售区域”就是我们的 A 列，而“销售额”就是我们的 B 列，在`pivot_table`函数中分别对应`index`和`values`参数，这两个参数都可以是单个列或者多个列。"
   ]
  },
  {
   "cell_type": "code",
   "execution_count": null,
   "id": "0eec0533",
   "metadata": {
    "attributes": {
     "classes": [
      "Python"
     ],
     "id": ""
    }
   },
   "outputs": [],
   "source": [
    "pd.pivot_table(df, index='销售区域', values='销售额', aggfunc='sum')"
   ]
  },
  {
   "cell_type": "markdown",
   "id": "3ded33f9",
   "metadata": {},
   "source": [
    "输出："
   ]
  },
  {
   "cell_type": "code",
   "execution_count": null,
   "id": "532b8694",
   "metadata": {},
   "outputs": [],
   "source": [
    "           销售额\n",
    "销售区域          \n",
    "上海    11610489\n",
    "北京    12477717\n",
    "安徽      895463\n",
    "广东     1617949\n",
    "江苏     2304380\n",
    "浙江      687862\n",
    "福建    10178227"
   ]
  },
  {
   "cell_type": "markdown",
   "id": "d6d57cf0",
   "metadata": {},
   "source": [
    "> **注意**：上面的结果操作跟之前用`groupby`的方式得到的结果有一些区别，`groupby`操作后，如果对单个列进行聚合，得到的结果是一个`Series`对象，而上面的结果是一个`DataFrame` 对象。\n",
    "\n",
    "如果要统计每个销售区域每个月的销售总额，也可以使用`pivot_table`函数，代码如下所示。"
   ]
  },
  {
   "cell_type": "code",
   "execution_count": null,
   "id": "3b38f015",
   "metadata": {
    "attributes": {
     "classes": [
      "Python"
     ],
     "id": ""
    }
   },
   "outputs": [],
   "source": [
    "df['月份'] = df['销售日期'].dt.month\n",
    "pd.pivot_table(df, index=['销售区域', '月份'], values='销售额', aggfunc='sum')"
   ]
  },
  {
   "cell_type": "markdown",
   "id": "e49e61cd",
   "metadata": {},
   "source": [
    "上面的操作结果是一个`DataFrame`，但也是一个长长的“窄表”，如果希望做成一个行比较少列比较多的“宽表”，可以将`index`参数中的列放到`columns`参数中，代码如下所示。"
   ]
  },
  {
   "cell_type": "code",
   "execution_count": null,
   "id": "dcfd46d0",
   "metadata": {
    "attributes": {
     "classes": [
      "Python"
     ],
     "id": ""
    }
   },
   "outputs": [],
   "source": [
    "pd.pivot_table(df, index='销售区域', columns='月份', values='销售额', aggfunc='sum', fill_value=0)"
   ]
  },
  {
   "cell_type": "markdown",
   "id": "a5629510",
   "metadata": {},
   "source": [
    "> **说明**：`pivot_table`函数的`fill_value=0`会将空值处理为`0`。\n",
    "\n",
    "输出：\n",
    "\n",
    "<img src=\"res/pivot_table_1.png\" style=\"zoom:50%;\">\n",
    "\n",
    "使用`pivot_table`函数时，还可以通过添加`margins`和`margins_name`参数对分组聚合的结果做一个汇总，具体的操作和效果如下所示。"
   ]
  },
  {
   "cell_type": "code",
   "execution_count": null,
   "id": "c888af5d",
   "metadata": {
    "attributes": {
     "classes": [
      "Python"
     ],
     "id": ""
    }
   },
   "outputs": [],
   "source": [
    "pd.pivot_table(df, index='销售区域', columns='月份', values='销售额', aggfunc='sum', fill_value=0, margins=True, margins_name='总计')"
   ]
  },
  {
   "cell_type": "markdown",
   "id": "e4839502",
   "metadata": {},
   "source": [
    "输出：\n",
    "\n",
    "<img src=\"res/pivot_table_2.png\" style=\"zoom:50%;\">\n",
    "\n",
    "交叉表就是一种特殊的透视表，它不需要先构造一个`DataFrame`对象，而是直接通过数组或`Series`对象指定两个或多个因素进行运算得到统计结果。例如，我们要统计每个销售区域的销售总额，也可以按照如下所示的方式来完成，我们先准备三组数据。"
   ]
  },
  {
   "cell_type": "code",
   "execution_count": null,
   "id": "eb3ebd43",
   "metadata": {
    "attributes": {
     "classes": [
      "Python"
     ],
     "id": ""
    }
   },
   "outputs": [],
   "source": [
    "sales_area, sales_month, sales_amount = df['销售区域'], df['月份'], df['销售额']"
   ]
  },
  {
   "cell_type": "markdown",
   "id": "dcf12465",
   "metadata": {},
   "source": [
    "使用`crosstab`函数生成交叉表。"
   ]
  },
  {
   "cell_type": "code",
   "execution_count": null,
   "id": "d4eec3a0",
   "metadata": {
    "attributes": {
     "classes": [
      "Python"
     ],
     "id": ""
    }
   },
   "outputs": [],
   "source": [
    "pd.crosstab(index=sales_area, columns=sales_month, values=sales_amount, aggfunc='sum').fillna(0).astype('i8')"
   ]
  },
  {
   "cell_type": "markdown",
   "id": "b3d536ee",
   "metadata": {},
   "source": [
    "> **说明**：上面的代码使用了`DataFrame`对象的`fillna`方法将空值处理为0，再使用`astype`方法将数据类型处理成整数。\n",
    "\n",
    "### 数据呈现\n",
    "\n",
    "一图胜千言，我们对数据进行透视的结果，最终要通过图表的方式呈现出来，因为图表具有极强的表现力，能够让我们迅速的解读数据中隐藏的价值。和`Series`一样，`DataFrame`对象提供了`plot`方法来支持绘图，底层仍然是通过`matplotlib`库实现图表的渲染。关于`matplotlib`的内容，我们在下一个章节进行详细的探讨，这里我们只简单的讲解`plot`方法的用法。 \n",
    "\n",
    "例如，我们想通过一张柱状图来比较“每个销售区域的销售总额”，可以直接在透视表上使用`plot`方法生成柱状图。我们先导入`matplotlib.pyplot`模块，通过修改绘图的参数使其支持中文显示。"
   ]
  },
  {
   "cell_type": "code",
   "execution_count": null,
   "id": "1eb43d1c",
   "metadata": {
    "attributes": {
     "classes": [
      "Python"
     ],
     "id": ""
    }
   },
   "outputs": [],
   "source": [
    "import matplotlib.pyplot as plt\n",
    "\n",
    "plt.rcParams['font.sans-serif'] = 'FZJKai-Z03S'"
   ]
  },
  {
   "cell_type": "markdown",
   "id": "bb35ddcd",
   "metadata": {},
   "source": [
    "> **说明**：上面的`FZJKai-Z03S`是我电脑上已经安装的一种支持中文的字体的名称，字体的名称可以通过查看用户主目录下`.matplotlib`文件夹下名为`fontlist-v330.json`的文件来获得，而这个文件在执行上面的命令后就会生成。\n",
    "\n",
    "使用魔法指令配置生成矢量图。"
   ]
  },
  {
   "cell_type": "code",
   "execution_count": null,
   "id": "059c9a94",
   "metadata": {
    "attributes": {
     "classes": [
      "Python"
     ],
     "id": ""
    }
   },
   "outputs": [],
   "source": [
    "%config InlineBackend.figure_format = 'svg'"
   ]
  },
  {
   "cell_type": "markdown",
   "id": "bc6ea848",
   "metadata": {},
   "source": [
    "绘制“每个销售区域销售总额”的柱状图。"
   ]
  },
  {
   "cell_type": "code",
   "execution_count": null,
   "id": "57f0ae4d",
   "metadata": {
    "attributes": {
     "classes": [
      "Python"
     ],
     "id": ""
    }
   },
   "outputs": [],
   "source": [
    "temp = pd.pivot_table(df, index='销售区域', values='销售额', aggfunc='sum')\n",
    "temp.plot(figsize=(8, 4), kind='bar')\n",
    "plt.xticks(rotation=0)\n",
    "plt.show()"
   ]
  },
  {
   "cell_type": "markdown",
   "id": "d28556b8",
   "metadata": {},
   "source": [
    "> **说明**：上面的第3行代码会将横轴刻度上的文字旋转到0度，第4行代码会显示图像。\n",
    "\n",
    "输出：\n",
    "\n",
    "<img src=\"res/sales_bar_graph.png\" style=\"zoom:45%;\">\n",
    "\n",
    "如果要绘制饼图，可以修改`plot`方法的`kind`参数为`pie`，然后使用定制饼图的参数对图表加以定制，代码如下所示。"
   ]
  },
  {
   "cell_type": "code",
   "execution_count": null,
   "id": "5d116ecf",
   "metadata": {
    "attributes": {
     "classes": [
      "Python"
     ],
     "id": ""
    }
   },
   "outputs": [],
   "source": [
    "temp.sort_values(by='销售额', ascending=False).plot(\n",
    "    figsize=(6, 6),\n",
    "    kind='pie',\n",
    "    y='销售额',\n",
    "    ylabel='',\n",
    "    autopct='%.2f%%',\n",
    "    pctdistance=0.8,\n",
    "    wedgeprops=dict(linewidth=1, width=0.35),\n",
    "    legend=False\n",
    ")\n",
    "plt.show()"
   ]
  },
  {
   "cell_type": "markdown",
   "id": "9d30a8f9",
   "metadata": {},
   "source": [
    "输出：\n",
    "\n",
    "<img src=\"res/sales_pie_graph.png\" style=\"zoom:35%;\">"
   ]
  }
 ],
 "metadata": {},
 "nbformat": 4,
 "nbformat_minor": 5
}
