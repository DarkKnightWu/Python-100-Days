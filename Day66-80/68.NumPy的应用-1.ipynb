{
 "cells": [
  {
   "cell_type": "markdown",
   "id": "95d5406e",
   "metadata": {},
   "source": [
    "## NumPy的应用-1\n",
    "\n",
    "Numpy 是一个开源的 Python 科学计算库，**用于快速处理任意维度的数组**。Numpy **支持常见的数组和矩阵操作**，对于同样的数值计算任务，使用 NumPy 不仅代码要简洁的多，而且 NumPy 在性能上也远远优于原生 Python，至少是一到两个数量级的差距，而且数据量越大，NumPy 的优势就越明显。\n",
    "\n",
    "NumPy 最为核心的数据类型是`ndarray`，使用`ndarray`可以处理一维、二维和多维数组，该对象相当于是一个快速而灵活的大数据容器。NumPy 底层代码使用 C 语言编写，解决了 GIL 的限制，`ndarray`在存取数据的时候，数据与数据的地址都是连续的，这确保了可以进行高效率的批量操作，性能上远远优于 Python 中的`list`；另一方面`ndarray`对象提供了更多的方法来处理数据，尤其获取数据统计特征的方法，这些方法也是 Python 原生的`list`没有的。\n",
    "\n",
    " ### 准备工作\n",
    "\n",
    "1. 启动 JupyterLab"
   ]
  },
  {
   "cell_type": "code",
   "execution_count": null,
   "id": "b7f64ccd",
   "metadata": {},
   "outputs": [],
   "source": [
    "```Bash\n",
    "jupyter lab\n",
    "```\n",
    "\n",
    "> **提示**：在启动 JupyterLab 之前，建议先安装好数据分析相关依赖项，包括之前提到的三大神器以及相关依赖项。如果使用 Anaconda，则无需单独安装，可以通过 Anaconda 的 Navigator 来启动。"
   ]
  },
  {
   "cell_type": "markdown",
   "id": "50199a81",
   "metadata": {},
   "source": [
    "2. 导入"
   ]
  },
  {
   "cell_type": "code",
   "execution_count": null,
   "id": "d574bcd2",
   "metadata": {},
   "outputs": [],
   "source": [
    "```Python\n",
    "import numpy as np\n",
    "import pandas as pd\n",
    "import matplotlib.pyplot as plt\n",
    "```\n",
    "\n",
    "> **说明**：如果已经启动了 JupyterLab 但尚未安装相关依赖库，例如尚未安装`numpy`，可以在单元格中输入`%pip install numpy`并运行该单元格来安装 NumPy。当然，我们也可以在单元格中输入`%pip install numpy pandas matplotlib`把 Python 数据分析三个核心的三方库都安装上。注意上面的代码，我们不仅导入了 NumPy，还将 pandas 和 matplotlib 库一并导入了。"
   ]
  },
  {
   "cell_type": "markdown",
   "id": "5401ff6c",
   "metadata": {},
   "source": [
    "### 创建数组对象\n",
    "\n",
    "创建`ndarray`对象有很多种方法，下面我们介绍一些常用的方法。\n",
    "\n",
    "方法一：使用`array`函数，通过`list`创建数组对象\n",
    "\n",
    "代码："
   ]
  },
  {
   "cell_type": "code",
   "execution_count": null,
   "id": "345a0a04",
   "metadata": {
    "attributes": {
     "classes": [
      "Python"
     ],
     "id": ""
    }
   },
   "outputs": [],
   "source": [
    "array1 = np.array([1, 2, 3, 4, 5])\n",
    "array1"
   ]
  },
  {
   "cell_type": "markdown",
   "id": "860776a5",
   "metadata": {},
   "source": [
    "输出："
   ]
  },
  {
   "cell_type": "code",
   "execution_count": null,
   "id": "1b2cab0d",
   "metadata": {},
   "outputs": [],
   "source": [
    "array([1, 2, 3, 4, 5])"
   ]
  },
  {
   "cell_type": "markdown",
   "id": "06f00d24",
   "metadata": {},
   "source": [
    "代码："
   ]
  },
  {
   "cell_type": "code",
   "execution_count": null,
   "id": "b30271d2",
   "metadata": {
    "attributes": {
     "classes": [
      "Python"
     ],
     "id": ""
    }
   },
   "outputs": [],
   "source": [
    "array2 = np.array([[1, 2, 3], [4, 5, 6]])\n",
    "array2"
   ]
  },
  {
   "cell_type": "markdown",
   "id": "07d28735",
   "metadata": {},
   "source": [
    "输出："
   ]
  },
  {
   "cell_type": "code",
   "execution_count": null,
   "id": "134b4c60",
   "metadata": {},
   "outputs": [],
   "source": [
    "array([[1, 2, 3],\n",
    "       [4, 5, 6]])"
   ]
  },
  {
   "cell_type": "markdown",
   "id": "d070c05e",
   "metadata": {},
   "source": [
    "方法二：使用`arange`函数，指定取值范围和跨度创建数组对象\n",
    "\n",
    "代码："
   ]
  },
  {
   "cell_type": "code",
   "execution_count": null,
   "id": "92d8ab4f",
   "metadata": {
    "attributes": {
     "classes": [
      "Python"
     ],
     "id": ""
    }
   },
   "outputs": [],
   "source": [
    "array3 = np.arange(0, 20, 2)\n",
    "array3"
   ]
  },
  {
   "cell_type": "markdown",
   "id": "6a206717",
   "metadata": {},
   "source": [
    "输出："
   ]
  },
  {
   "cell_type": "code",
   "execution_count": null,
   "id": "a3d4fc54",
   "metadata": {},
   "outputs": [],
   "source": [
    "array([ 0,  2,  4,  6,  8, 10, 12, 14, 16, 18])"
   ]
  },
  {
   "cell_type": "markdown",
   "id": "e3185c7b",
   "metadata": {},
   "source": [
    "方法三：使用`linspace`函数，用指定范围和元素个数创建数组对象，生成等差数列\n",
    "\n",
    "代码："
   ]
  },
  {
   "cell_type": "code",
   "execution_count": null,
   "id": "543f2cec",
   "metadata": {
    "attributes": {
     "classes": [
      "Python"
     ],
     "id": ""
    }
   },
   "outputs": [],
   "source": [
    "array4 = np.linspace(-1, 1, 11)\n",
    "array4"
   ]
  },
  {
   "cell_type": "markdown",
   "id": "bebe3b2a",
   "metadata": {},
   "source": [
    "输出："
   ]
  },
  {
   "cell_type": "code",
   "execution_count": null,
   "id": "f2013b2a",
   "metadata": {},
   "outputs": [],
   "source": [
    "array([-1. , -0.8, -0.6, -0.4, -0.2,  0. ,  0.2,  0.4,  0.6,  0.8,  1. ])"
   ]
  },
  {
   "cell_type": "markdown",
   "id": "b72f9aa3",
   "metadata": {},
   "source": [
    "方法四：使用`logspace`函数，生成等比数列\n",
    "\n",
    "代码："
   ]
  },
  {
   "cell_type": "code",
   "execution_count": null,
   "id": "34bde50f",
   "metadata": {},
   "outputs": [],
   "source": [
    "array5 = np.logspace(1, 10, num=10, base=2)\n",
    "array5"
   ]
  },
  {
   "cell_type": "markdown",
   "id": "cbdb7f92",
   "metadata": {},
   "source": [
    "> **注意**：等比数列的起始值是 $\\small{2^1}$ ，等比数列的终止值是 $\\small{2^{10}}$ ，`num`是元素的个数，`base`就是底数。\n",
    "\n",
    "输出："
   ]
  },
  {
   "cell_type": "code",
   "execution_count": null,
   "id": "0d1b3f5a",
   "metadata": {},
   "outputs": [],
   "source": [
    "array([   2.,    4.,    8.,   16.,   32.,   64.,  128.,  256.,  512., 1024.])"
   ]
  },
  {
   "cell_type": "markdown",
   "id": "e82dab7d",
   "metadata": {},
   "source": [
    "方法五：通过`fromstring`函数从字符串提取数据创建数组对象\n",
    "\n",
    "代码："
   ]
  },
  {
   "cell_type": "code",
   "execution_count": null,
   "id": "22587f94",
   "metadata": {
    "attributes": {
     "classes": [
      "Python"
     ],
     "id": ""
    }
   },
   "outputs": [],
   "source": [
    "array6 = np.fromstring('1, 2, 3, 4, 5', sep=',', dtype='i8')\n",
    "array6 "
   ]
  },
  {
   "cell_type": "markdown",
   "id": "74eeb7ac",
   "metadata": {},
   "source": [
    "输出："
   ]
  },
  {
   "cell_type": "code",
   "execution_count": null,
   "id": "b87ff76c",
   "metadata": {},
   "outputs": [],
   "source": [
    "array([1, 2, 3, 4, 5])"
   ]
  },
  {
   "cell_type": "markdown",
   "id": "17b14c38",
   "metadata": {},
   "source": [
    "方法六：通过`fromiter`函数从生成器（迭代器）中获取数据创建数组对象\n",
    "\n",
    "代码："
   ]
  },
  {
   "cell_type": "code",
   "execution_count": null,
   "id": "c9ef07ac",
   "metadata": {
    "attributes": {
     "classes": [
      "Python"
     ],
     "id": ""
    }
   },
   "outputs": [],
   "source": [
    "def fib(how_many):\n",
    "    a, b = 0, 1\n",
    "    for _ in range(how_many):\n",
    "        a, b = b, a + b\n",
    "        yield a\n",
    "\n",
    "\n",
    "gen = fib(20)\n",
    "array7 = np.fromiter(gen, dtype='i8')\n",
    "array7"
   ]
  },
  {
   "cell_type": "markdown",
   "id": "9d9b14e1",
   "metadata": {},
   "source": [
    "输出："
   ]
  },
  {
   "cell_type": "code",
   "execution_count": null,
   "id": "ef2ef072",
   "metadata": {},
   "outputs": [],
   "source": [
    "array([   1,    1,    2,    3,    5,    8,   13,   21,   34,   55,   89,\n",
    "        144,  233,  377,  610,  987, 1597, 2584, 4181, 6765])"
   ]
  },
  {
   "cell_type": "markdown",
   "id": "147c895d",
   "metadata": {},
   "source": [
    "方法七：使用`numpy.random`模块的函数生成随机数创建数组对象\n",
    "\n",
    "产生 10 个 $\\small{[0, 1)}$ 范围的随机小数，代码："
   ]
  },
  {
   "cell_type": "code",
   "execution_count": null,
   "id": "eea7e1a5",
   "metadata": {
    "attributes": {
     "classes": [
      "Python"
     ],
     "id": ""
    }
   },
   "outputs": [],
   "source": [
    "array8 = np.random.rand(10)\n",
    "array8"
   ]
  },
  {
   "cell_type": "markdown",
   "id": "ea48bf85",
   "metadata": {},
   "source": [
    "输出："
   ]
  },
  {
   "cell_type": "code",
   "execution_count": null,
   "id": "2319fc19",
   "metadata": {},
   "outputs": [],
   "source": [
    "array([0.45556132, 0.67871326, 0.4552213 , 0.96671509, 0.44086463,\n",
    "       0.72650875, 0.79877188, 0.12153022, 0.24762739, 0.6669852 ])"
   ]
  },
  {
   "cell_type": "markdown",
   "id": "3d4b4a96",
   "metadata": {},
   "source": [
    "产生 10 个 $\\small{[1, 100)}$ 范围的随机整数，代码："
   ]
  },
  {
   "cell_type": "code",
   "execution_count": null,
   "id": "f3681dba",
   "metadata": {
    "attributes": {
     "classes": [
      "Python"
     ],
     "id": ""
    }
   },
   "outputs": [],
   "source": [
    "array9 = np.random.randint(1, 100, 10)\n",
    "array9"
   ]
  },
  {
   "cell_type": "markdown",
   "id": "7948fc12",
   "metadata": {},
   "source": [
    "输出："
   ]
  },
  {
   "cell_type": "code",
   "execution_count": null,
   "id": "112e43bd",
   "metadata": {},
   "outputs": [],
   "source": [
    "array([29, 97, 87, 47, 39, 19, 71, 32, 79, 34])"
   ]
  },
  {
   "cell_type": "markdown",
   "id": "cf9f3ecd",
   "metadata": {},
   "source": [
    "产生 20 个 $\\small{\\mu=50}$ ， $\\small{\\sigma=10}$ 的正态分布随机数，代码："
   ]
  },
  {
   "cell_type": "code",
   "execution_count": null,
   "id": "0f9e012b",
   "metadata": {
    "attributes": {
     "classes": [
      "Python"
     ],
     "id": ""
    }
   },
   "outputs": [],
   "source": [
    "array10 = np.random.normal(50, 10, 20)\n",
    "array10"
   ]
  },
  {
   "cell_type": "markdown",
   "id": "c1ae023a",
   "metadata": {},
   "source": [
    "输出："
   ]
  },
  {
   "cell_type": "code",
   "execution_count": null,
   "id": "ee0241a3",
   "metadata": {},
   "outputs": [],
   "source": [
    "array([55.04155586, 46.43510797, 20.28371158, 62.67884053, 61.23185964,\n",
    "       38.22682148, 53.17126151, 43.54741592, 36.11268017, 40.94086676,\n",
    "       63.27911699, 46.92688903, 37.1593374 , 67.06525656, 67.47269463,\n",
    "       23.37925889, 31.45312239, 48.34532466, 55.09180924, 47.95702787])"
   ]
  },
  {
   "cell_type": "markdown",
   "id": "a9d238ee",
   "metadata": {},
   "source": [
    "产生 $\\small{[0, 1)}$ 范围的随机小数构成的 3 行 4 列的二维数组，代码："
   ]
  },
  {
   "cell_type": "code",
   "execution_count": null,
   "id": "1a31f77f",
   "metadata": {
    "attributes": {
     "classes": [
      "Python"
     ],
     "id": ""
    }
   },
   "outputs": [],
   "source": [
    "array11 = np.random.rand(3, 4)\n",
    "array11"
   ]
  },
  {
   "cell_type": "markdown",
   "id": "34dc773d",
   "metadata": {},
   "source": [
    "输出："
   ]
  },
  {
   "cell_type": "code",
   "execution_count": null,
   "id": "6be097bf",
   "metadata": {},
   "outputs": [],
   "source": [
    "array([[0.54017809, 0.46797771, 0.78291445, 0.79501326],\n",
    "       [0.93973783, 0.21434806, 0.03592874, 0.88838892],\n",
    "       [0.84130479, 0.3566601 , 0.99935473, 0.26353598]])"
   ]
  },
  {
   "cell_type": "markdown",
   "id": "dce79fab",
   "metadata": {},
   "source": [
    "产生 $\\small{[1, 100)}$ 范围的随机整数构成的三维数组，代码："
   ]
  },
  {
   "cell_type": "code",
   "execution_count": null,
   "id": "4a4ed1db",
   "metadata": {
    "attributes": {
     "classes": [
      "Python"
     ],
     "id": ""
    }
   },
   "outputs": [],
   "source": [
    "array12 = np.random.randint(1, 100, (3, 4, 5))\n",
    "array12"
   ]
  },
  {
   "cell_type": "markdown",
   "id": "ddea49b3",
   "metadata": {},
   "source": [
    "输出："
   ]
  },
  {
   "cell_type": "code",
   "execution_count": null,
   "id": "0656a86f",
   "metadata": {},
   "outputs": [],
   "source": [
    "array([[[94, 26, 49, 24, 43],\n",
    "        [27, 27, 33, 98, 33],\n",
    "        [13, 73,  6,  1, 77],\n",
    "        [54, 32, 51, 86, 59]],\n",
    "\n",
    "       [[62, 75, 62, 29, 87],\n",
    "        [90, 26,  6, 79, 41],\n",
    "        [31, 15, 32, 56, 64],\n",
    "        [37, 84, 61, 71, 71]],\n",
    "\n",
    "       [[45, 24, 78, 77, 41],\n",
    "        [75, 37,  4, 74, 93],\n",
    "        [ 1, 36, 36, 60, 43],\n",
    "        [23, 84, 44, 89, 79]]])"
   ]
  },
  {
   "cell_type": "markdown",
   "id": "de4b51ef",
   "metadata": {},
   "source": [
    "方法八：创建全0、全1或指定元素的数组\n",
    "\n",
    "使用`zeros`函数，代码："
   ]
  },
  {
   "cell_type": "code",
   "execution_count": null,
   "id": "ab87c090",
   "metadata": {
    "attributes": {
     "classes": [
      "Python"
     ],
     "id": ""
    }
   },
   "outputs": [],
   "source": [
    "array13 = np.zeros((3, 4))\n",
    "array13"
   ]
  },
  {
   "cell_type": "markdown",
   "id": "f49470cb",
   "metadata": {},
   "source": [
    "输出："
   ]
  },
  {
   "cell_type": "code",
   "execution_count": null,
   "id": "787ef192",
   "metadata": {},
   "outputs": [],
   "source": [
    "array([[0., 0., 0., 0.],\n",
    "       [0., 0., 0., 0.],\n",
    "       [0., 0., 0., 0.]])"
   ]
  },
  {
   "cell_type": "markdown",
   "id": "dfafbba5",
   "metadata": {},
   "source": [
    "使用`ones`函数，代码："
   ]
  },
  {
   "cell_type": "code",
   "execution_count": null,
   "id": "311cca26",
   "metadata": {
    "attributes": {
     "classes": [
      "Python"
     ],
     "id": ""
    }
   },
   "outputs": [],
   "source": [
    "array14 = np.ones((3, 4))\n",
    "array14"
   ]
  },
  {
   "cell_type": "markdown",
   "id": "7590cda7",
   "metadata": {},
   "source": [
    "输出："
   ]
  },
  {
   "cell_type": "code",
   "execution_count": null,
   "id": "af68011c",
   "metadata": {},
   "outputs": [],
   "source": [
    "array([[1., 1., 1., 1.],\n",
    "       [1., 1., 1., 1.],\n",
    "       [1., 1., 1., 1.]])"
   ]
  },
  {
   "cell_type": "markdown",
   "id": "6d2d6926",
   "metadata": {},
   "source": [
    "使用`full`函数，代码："
   ]
  },
  {
   "cell_type": "code",
   "execution_count": null,
   "id": "a2835475",
   "metadata": {
    "attributes": {
     "classes": [
      "Python"
     ],
     "id": ""
    }
   },
   "outputs": [],
   "source": [
    "array15 = np.full((3, 4), 10)\n",
    "array15"
   ]
  },
  {
   "cell_type": "markdown",
   "id": "8f4e32cf",
   "metadata": {},
   "source": [
    "输出："
   ]
  },
  {
   "cell_type": "code",
   "execution_count": null,
   "id": "58d4bfec",
   "metadata": {},
   "outputs": [],
   "source": [
    "array([[10, 10, 10, 10],\n",
    "       [10, 10, 10, 10],\n",
    "       [10, 10, 10, 10]])"
   ]
  },
  {
   "cell_type": "markdown",
   "id": "81c41d2a",
   "metadata": {},
   "source": [
    "方法九：使用`eye`函数创建单位矩阵\n",
    "\n",
    "代码："
   ]
  },
  {
   "cell_type": "code",
   "execution_count": null,
   "id": "aafe8f0f",
   "metadata": {
    "attributes": {
     "classes": [
      "Python"
     ],
     "id": ""
    }
   },
   "outputs": [],
   "source": [
    "np.eye(4)"
   ]
  },
  {
   "cell_type": "markdown",
   "id": "b96e34b3",
   "metadata": {},
   "source": [
    "输出："
   ]
  },
  {
   "cell_type": "code",
   "execution_count": null,
   "id": "50a5a249",
   "metadata": {},
   "outputs": [],
   "source": [
    "array([[1., 0., 0., 0.],\n",
    "       [0., 1., 0., 0.],\n",
    "       [0., 0., 1., 0.],\n",
    "       [0., 0., 0., 1.]])"
   ]
  },
  {
   "cell_type": "markdown",
   "id": "d777071c",
   "metadata": {},
   "source": [
    "方法十：读取图片获得对应的三维数组\n",
    "\n",
    "代码："
   ]
  },
  {
   "cell_type": "code",
   "execution_count": null,
   "id": "b0226275",
   "metadata": {
    "attributes": {
     "classes": [
      "Python"
     ],
     "id": ""
    }
   },
   "outputs": [],
   "source": [
    "array16 = plt.imread('guido.jpg')\n",
    "array16"
   ]
  },
  {
   "cell_type": "markdown",
   "id": "1cea254d",
   "metadata": {},
   "source": [
    "输出："
   ]
  },
  {
   "cell_type": "code",
   "execution_count": null,
   "id": "b25e4250",
   "metadata": {},
   "outputs": [],
   "source": [
    "array([[[ 36,  33,  28],\n",
    "        [ 36,  33,  28],\n",
    "        [ 36,  33,  28],\n",
    "        ...,\n",
    "        [ 32,  31,  29],\n",
    "        [ 32,  31,  27],\n",
    "        [ 31,  32,  26]],\n",
    "\n",
    "       [[ 37,  34,  29],\n",
    "        [ 38,  35,  30],\n",
    "        [ 38,  35,  30],\n",
    "        ...,\n",
    "        [ 31,  30,  28],\n",
    "        [ 31,  30,  26],\n",
    "        [ 30,  31,  25]],\n",
    "\n",
    "       [[ 38,  35,  30],\n",
    "        [ 38,  35,  30],\n",
    "        [ 38,  35,  30],\n",
    "        ...,\n",
    "        [ 30,  29,  27],\n",
    "        [ 30,  29,  25],\n",
    "        [ 29,  30,  25]],\n",
    "\n",
    "       ...,\n",
    "\n",
    "       [[239, 178, 123],\n",
    "        [237, 176, 121],\n",
    "        [235, 174, 119],\n",
    "        ...,\n",
    "        [ 78,  68,  56],\n",
    "        [ 75,  67,  54],\n",
    "        [ 73,  65,  52]],\n",
    "\n",
    "       [[238, 177, 120],\n",
    "        [236, 175, 118],\n",
    "        [234, 173, 116],\n",
    "        ...,\n",
    "        [ 82,  70,  58],\n",
    "        [ 78,  68,  56],\n",
    "        [ 75,  66,  51]],\n",
    "\n",
    "       [[238, 176, 119],\n",
    "        [236, 175, 118],\n",
    "        [234, 173, 116],\n",
    "        ...,\n",
    "        [ 84,  70,  61],\n",
    "        [ 81,  69,  57],\n",
    "        [ 79,  67,  53]]], dtype=uint8)"
   ]
  },
  {
   "cell_type": "markdown",
   "id": "4ae58b91",
   "metadata": {},
   "source": [
    "> **说明**：上面的代码读取了当前路径下名为`guido.jpg` 的图片文件，计算机系统中的图片通常由若干行若干列的像素点构成，而每个像素点又是由红绿蓝三原色构成的，刚好可以用三维数组来表示。读取图片用到了`matplotlib`库的`imread`函数。\n",
    "\n",
    "### 数组对象的属性\n",
    "\n",
    "`size`属性：获取数组元素个数。\n",
    "\n",
    "代码："
   ]
  },
  {
   "cell_type": "code",
   "execution_count": null,
   "id": "548b21d8",
   "metadata": {
    "attributes": {
     "classes": [
      "Python"
     ],
     "id": ""
    }
   },
   "outputs": [],
   "source": [
    "array17 = np.arange(1, 100, 2)\n",
    "array18 = np.random.rand(3, 4)\n",
    "print(array16.size)\n",
    "print(array17.size)\n",
    "print(array18.size)"
   ]
  },
  {
   "cell_type": "markdown",
   "id": "e03aaff4",
   "metadata": {},
   "source": [
    "输出："
   ]
  },
  {
   "cell_type": "code",
   "execution_count": null,
   "id": "45e87e59",
   "metadata": {},
   "outputs": [],
   "source": [
    "1125000\n",
    "50\n",
    "12"
   ]
  },
  {
   "cell_type": "markdown",
   "id": "84492bbf",
   "metadata": {},
   "source": [
    "`shape`属性：获取数组的形状。\n",
    "\n",
    "代码："
   ]
  },
  {
   "cell_type": "code",
   "execution_count": null,
   "id": "08601791",
   "metadata": {
    "attributes": {
     "classes": [
      "Python"
     ],
     "id": ""
    }
   },
   "outputs": [],
   "source": [
    "print(array16.shape)\n",
    "print(array17.shape)\n",
    "print(array18.shape)"
   ]
  },
  {
   "cell_type": "markdown",
   "id": "ff4eb15f",
   "metadata": {},
   "source": [
    "输出："
   ]
  },
  {
   "cell_type": "code",
   "execution_count": null,
   "id": "797828d3",
   "metadata": {},
   "outputs": [],
   "source": [
    "(750, 500, 3)\n",
    "(50,)\n",
    "(3, 4)"
   ]
  },
  {
   "cell_type": "markdown",
   "id": "8498933e",
   "metadata": {},
   "source": [
    "`dtype`属性：获取数组元素的数据类型。\n",
    "\n",
    "代码："
   ]
  },
  {
   "cell_type": "code",
   "execution_count": null,
   "id": "c9b1cf89",
   "metadata": {
    "attributes": {
     "classes": [
      "Python"
     ],
     "id": ""
    }
   },
   "outputs": [],
   "source": [
    "print(array16.dtype)\n",
    "print(array17.dtype)\n",
    "print(array18.dtype)"
   ]
  },
  {
   "cell_type": "markdown",
   "id": "0e44cba9",
   "metadata": {},
   "source": [
    "输出："
   ]
  },
  {
   "cell_type": "code",
   "execution_count": null,
   "id": "d28b9630",
   "metadata": {},
   "outputs": [],
   "source": [
    "uint8\n",
    "int64\n",
    "float64"
   ]
  },
  {
   "cell_type": "markdown",
   "id": "8868dd5d",
   "metadata": {},
   "source": [
    "`ndarray`对象元素的数据类型可以参考如下所示的表格。\n",
    "\n",
    "<img src=\"res/dtype.jpg\" style=\"zoom:50%;\">\n",
    "\n",
    "`ndim`属性：获取数组的维度。\n",
    "\n",
    "代码："
   ]
  },
  {
   "cell_type": "code",
   "execution_count": null,
   "id": "caf29310",
   "metadata": {
    "attributes": {
     "classes": [
      "Python"
     ],
     "id": ""
    }
   },
   "outputs": [],
   "source": [
    "print(array16.ndim)\n",
    "print(array17.ndim)\n",
    "print(array18.ndim)"
   ]
  },
  {
   "cell_type": "markdown",
   "id": "64eb9e2b",
   "metadata": {},
   "source": [
    "输出："
   ]
  },
  {
   "cell_type": "code",
   "execution_count": null,
   "id": "e39543de",
   "metadata": {},
   "outputs": [],
   "source": [
    "3\n",
    "1\n",
    "2"
   ]
  },
  {
   "cell_type": "markdown",
   "id": "4e5323fc",
   "metadata": {},
   "source": [
    "`itemsize`属性：获取数组单个元素占用内存空间的字节数。\n",
    "\n",
    "代码："
   ]
  },
  {
   "cell_type": "code",
   "execution_count": null,
   "id": "2ac83139",
   "metadata": {
    "attributes": {
     "classes": [
      "Python"
     ],
     "id": ""
    }
   },
   "outputs": [],
   "source": [
    "print(array16.itemsize)\n",
    "print(array17.itemsize)\n",
    "print(array18.itemsize)"
   ]
  },
  {
   "cell_type": "markdown",
   "id": "eee0be71",
   "metadata": {},
   "source": [
    "输出："
   ]
  },
  {
   "cell_type": "code",
   "execution_count": null,
   "id": "b02e4f9f",
   "metadata": {},
   "outputs": [],
   "source": [
    "1\n",
    "8\n",
    "8"
   ]
  },
  {
   "cell_type": "markdown",
   "id": "534abba3",
   "metadata": {},
   "source": [
    "`nbytes`属性：获取数组所有元素占用内存空间的字节数。\n",
    "\n",
    "代码："
   ]
  },
  {
   "cell_type": "code",
   "execution_count": null,
   "id": "24cae0d5",
   "metadata": {
    "attributes": {
     "classes": [
      "Python"
     ],
     "id": ""
    }
   },
   "outputs": [],
   "source": [
    "print(array16.nbytes)\n",
    "print(array17.nbytes)\n",
    "print(array18.nbytes)"
   ]
  },
  {
   "cell_type": "markdown",
   "id": "aaac0d16",
   "metadata": {},
   "source": [
    "输出："
   ]
  },
  {
   "cell_type": "code",
   "execution_count": null,
   "id": "21dab616",
   "metadata": {},
   "outputs": [],
   "source": [
    "1125000\n",
    "400\n",
    "96"
   ]
  },
  {
   "cell_type": "markdown",
   "id": "a9c6f5ab",
   "metadata": {},
   "source": [
    "### 数组的索引运算\n",
    "\n",
    "和 Python 中的列表类似，NumPy 的`ndarray`对象可以进行索引和切片操作，通过索引可以获取或修改数组中的元素，通过切片操作可以取出数组的一部分，我们把切片操作也称为切片索引。\n",
    "\n",
    "#### 普通索引\n",
    "\n",
    "类似于 Python 中`list`类型的索引运算。\n",
    "\n",
    "代码："
   ]
  },
  {
   "cell_type": "code",
   "execution_count": null,
   "id": "7c7c7165",
   "metadata": {
    "attributes": {
     "classes": [
      "Python"
     ],
     "id": ""
    }
   },
   "outputs": [],
   "source": [
    "array19 = np.arange(1, 10)\n",
    "print(array19[0], array19[array19.size - 1])\n",
    "print(array19[-array20.size], array19[-1])"
   ]
  },
  {
   "cell_type": "markdown",
   "id": "aeddf848",
   "metadata": {},
   "source": [
    "输出："
   ]
  },
  {
   "cell_type": "code",
   "execution_count": null,
   "id": "7386644d",
   "metadata": {},
   "outputs": [],
   "source": [
    "1 9\n",
    "1 9"
   ]
  },
  {
   "cell_type": "markdown",
   "id": "9564df02",
   "metadata": {},
   "source": [
    "代码："
   ]
  },
  {
   "cell_type": "code",
   "execution_count": null,
   "id": "0bcb8522",
   "metadata": {
    "attributes": {
     "classes": [
      "Python"
     ],
     "id": ""
    }
   },
   "outputs": [],
   "source": [
    "array20 = np.array([[1, 2, 3], [4, 5, 6], [7, 8, 9]])\n",
    "array20[2]"
   ]
  },
  {
   "cell_type": "markdown",
   "id": "24a7aeaa",
   "metadata": {},
   "source": [
    "输出："
   ]
  },
  {
   "cell_type": "code",
   "execution_count": null,
   "id": "2550f544",
   "metadata": {},
   "outputs": [],
   "source": [
    "array([7, 8, 9])"
   ]
  },
  {
   "cell_type": "markdown",
   "id": "9ddabc00",
   "metadata": {},
   "source": [
    "代码："
   ]
  },
  {
   "cell_type": "code",
   "execution_count": null,
   "id": "d04b994b",
   "metadata": {
    "attributes": {
     "classes": [
      "Python"
     ],
     "id": ""
    }
   },
   "outputs": [],
   "source": [
    "print(array20[0][0])\n",
    "print(array20[-1][-1])"
   ]
  },
  {
   "cell_type": "markdown",
   "id": "020f3f7e",
   "metadata": {},
   "source": [
    "输出："
   ]
  },
  {
   "cell_type": "code",
   "execution_count": null,
   "id": "72b580bd",
   "metadata": {},
   "outputs": [],
   "source": [
    "1\n",
    "9"
   ]
  },
  {
   "cell_type": "markdown",
   "id": "7ae67950",
   "metadata": {},
   "source": [
    "代码："
   ]
  },
  {
   "cell_type": "code",
   "execution_count": null,
   "id": "a899d988",
   "metadata": {
    "attributes": {
     "classes": [
      "Python"
     ],
     "id": ""
    }
   },
   "outputs": [],
   "source": [
    "print(array20[1][1])\n",
    "print(array20[1, 1])"
   ]
  },
  {
   "cell_type": "markdown",
   "id": "04df3971",
   "metadata": {},
   "source": [
    "输出："
   ]
  },
  {
   "cell_type": "code",
   "execution_count": null,
   "id": "0979d08c",
   "metadata": {},
   "outputs": [],
   "source": [
    "5\n",
    "5"
   ]
  },
  {
   "cell_type": "markdown",
   "id": "95210c9e",
   "metadata": {},
   "source": [
    "代码："
   ]
  },
  {
   "cell_type": "code",
   "execution_count": null,
   "id": "d941abf0",
   "metadata": {
    "attributes": {
     "classes": [
      "Python"
     ],
     "id": ""
    }
   },
   "outputs": [],
   "source": [
    "array20[1][1] = 10\n",
    "array20"
   ]
  },
  {
   "cell_type": "markdown",
   "id": "11d734c9",
   "metadata": {},
   "source": [
    "输出："
   ]
  },
  {
   "cell_type": "code",
   "execution_count": null,
   "id": "5b2c755c",
   "metadata": {},
   "outputs": [],
   "source": [
    "array([[ 1,  2,  3],\n",
    "       [ 4, 10,  6],\n",
    "       [ 7,  8,  9]])"
   ]
  },
  {
   "cell_type": "markdown",
   "id": "58864dfa",
   "metadata": {},
   "source": [
    "代码："
   ]
  },
  {
   "cell_type": "code",
   "execution_count": null,
   "id": "e9c89be1",
   "metadata": {
    "attributes": {
     "classes": [
      "Python"
     ],
     "id": ""
    }
   },
   "outputs": [],
   "source": [
    "array20[1] = [10, 11, 12]\n",
    "array20"
   ]
  },
  {
   "cell_type": "markdown",
   "id": "2507cc9f",
   "metadata": {},
   "source": [
    "输出："
   ]
  },
  {
   "cell_type": "code",
   "execution_count": null,
   "id": "9e5c3c2f",
   "metadata": {},
   "outputs": [],
   "source": [
    "array([[ 1,  2,  3],\n",
    "       [10, 11, 12],\n",
    "       [ 7,  8,  9]])"
   ]
  },
  {
   "cell_type": "markdown",
   "id": "a3960d8d",
   "metadata": {},
   "source": [
    "#### 切片索引\n",
    "\n",
    "切片索引是形如`[开始索引:结束索引:跨度]`的语法，通过指定**开始索引**（默认值无穷小）、**结束索引**（默认值无穷大）和**跨度**（默认值1），从数组中取出指定部分的元素并构成新的数组。因为开始索引、结束索引和步长都有默认值，所以它们都可以省略，如果不指定步长，第二个冒号也可以省略。一维数组的切片运算跟 Python 中的`list`类型的切片非常类似，此处不再赘述，二维数组的切片可以参考下面的代码，相信非常容易理解。\n",
    "\n",
    "代码："
   ]
  },
  {
   "cell_type": "code",
   "execution_count": null,
   "id": "76fc03cd",
   "metadata": {
    "attributes": {
     "classes": [
      "Python"
     ],
     "id": ""
    }
   },
   "outputs": [],
   "source": [
    "array20[:2, 1:]"
   ]
  },
  {
   "cell_type": "markdown",
   "id": "6b7b57f2",
   "metadata": {},
   "source": [
    "输出："
   ]
  },
  {
   "cell_type": "code",
   "execution_count": null,
   "id": "63151589",
   "metadata": {},
   "outputs": [],
   "source": [
    "array([[ 2,  3],\n",
    "       [11, 12]])"
   ]
  },
  {
   "cell_type": "markdown",
   "id": "831d4383",
   "metadata": {},
   "source": [
    "代码："
   ]
  },
  {
   "cell_type": "code",
   "execution_count": null,
   "id": "ce049647",
   "metadata": {
    "attributes": {
     "classes": [
      "Python"
     ],
     "id": ""
    }
   },
   "outputs": [],
   "source": [
    "array20[2, :]"
   ]
  },
  {
   "cell_type": "markdown",
   "id": "976d9423",
   "metadata": {},
   "source": [
    "输出："
   ]
  },
  {
   "cell_type": "code",
   "execution_count": null,
   "id": "aa5cd1e5",
   "metadata": {},
   "outputs": [],
   "source": [
    "array([7, 8, 9])"
   ]
  },
  {
   "cell_type": "markdown",
   "id": "86670d3c",
   "metadata": {},
   "source": [
    "代码："
   ]
  },
  {
   "cell_type": "code",
   "execution_count": null,
   "id": "598f5950",
   "metadata": {
    "attributes": {
     "classes": [
      "Python"
     ],
     "id": ""
    }
   },
   "outputs": [],
   "source": [
    "array20[2:, :]"
   ]
  },
  {
   "cell_type": "markdown",
   "id": "227be3f8",
   "metadata": {},
   "source": [
    "输出："
   ]
  },
  {
   "cell_type": "code",
   "execution_count": null,
   "id": "91a22dc9",
   "metadata": {},
   "outputs": [],
   "source": [
    "array([[7, 8, 9]])"
   ]
  },
  {
   "cell_type": "markdown",
   "id": "11a27107",
   "metadata": {},
   "source": [
    "代码："
   ]
  },
  {
   "cell_type": "code",
   "execution_count": null,
   "id": "8f653074",
   "metadata": {
    "attributes": {
     "classes": [
      "Python"
     ],
     "id": ""
    }
   },
   "outputs": [],
   "source": [
    "array20[:, :2]"
   ]
  },
  {
   "cell_type": "markdown",
   "id": "ca5c142e",
   "metadata": {},
   "source": [
    "输出："
   ]
  },
  {
   "cell_type": "code",
   "execution_count": null,
   "id": "a748d75e",
   "metadata": {},
   "outputs": [],
   "source": [
    "array([[ 1,  2],\n",
    "       [10, 11],\n",
    "       [ 7,  8]])"
   ]
  },
  {
   "cell_type": "markdown",
   "id": "cb687c8f",
   "metadata": {},
   "source": [
    "代码："
   ]
  },
  {
   "cell_type": "code",
   "execution_count": null,
   "id": "fbdf17d9",
   "metadata": {
    "attributes": {
     "classes": [
      "Python"
     ],
     "id": ""
    }
   },
   "outputs": [],
   "source": [
    "array20[::2, ::2]"
   ]
  },
  {
   "cell_type": "markdown",
   "id": "b4ce259a",
   "metadata": {},
   "source": [
    "输出："
   ]
  },
  {
   "cell_type": "code",
   "execution_count": null,
   "id": "872c910f",
   "metadata": {},
   "outputs": [],
   "source": [
    "array([[1, 3],\n",
    "       [7, 9]])"
   ]
  },
  {
   "cell_type": "markdown",
   "id": "29550f47",
   "metadata": {},
   "source": [
    "代码："
   ]
  },
  {
   "cell_type": "code",
   "execution_count": null,
   "id": "971b6577",
   "metadata": {
    "attributes": {
     "classes": [
      "Python"
     ],
     "id": ""
    }
   },
   "outputs": [],
   "source": [
    "array20[::-2, ::-2]"
   ]
  },
  {
   "cell_type": "markdown",
   "id": "87142a61",
   "metadata": {},
   "source": [
    "输出："
   ]
  },
  {
   "cell_type": "code",
   "execution_count": null,
   "id": "39f3c828",
   "metadata": {},
   "outputs": [],
   "source": [
    "array([[9, 7],\n",
    "       [3, 1]])"
   ]
  },
  {
   "cell_type": "markdown",
   "id": "f9a1cbaf",
   "metadata": {},
   "source": [
    "关于数组的索引和切片运算，大家可以通过下面的两张图来增强印象，这两张图来自[《利用Python进行数据分析》](https://item.jd.com/12398725.html)一书，它是 pandas 库的作者 Wes McKinney 撰写的 Python 数据分析领域的经典教科书，有兴趣的读者可以购买和阅读原书。\n",
    "\n",
    "图1：二维数组的普通索引\n",
    "\n",
    "<img src=\"res/ndarray-index.png\" style=\"zoom:60%;\">\n",
    "\n",
    "图2：二维数组的切片索引\n",
    "\n",
    "<img src=\"res/ndarray-slice.png\" style=\"zoom:60%;\">\n",
    "\n",
    "#### 花式索引\n",
    "\n",
    "花式索引是用保存整数的数组充当一个数组的索引，这里所说的数组可以是 NumPy 的`ndarray`，也可以是 Python 中`list`、`tuple`等可迭代类型，可以使用正向或负向索引。\n",
    "\n",
    "代码："
   ]
  },
  {
   "cell_type": "code",
   "execution_count": null,
   "id": "2e7a38b2",
   "metadata": {
    "attributes": {
     "classes": [
      "Python"
     ],
     "id": ""
    }
   },
   "outputs": [],
   "source": [
    "array19[[0, 1, 1, -1, 4, -1]]"
   ]
  },
  {
   "cell_type": "markdown",
   "id": "585f4e89",
   "metadata": {},
   "source": [
    "输出："
   ]
  },
  {
   "cell_type": "code",
   "execution_count": null,
   "id": "260e502d",
   "metadata": {},
   "outputs": [],
   "source": [
    "array([1, 2, 2, 9, 5, 9])"
   ]
  },
  {
   "cell_type": "markdown",
   "id": "6160f7d8",
   "metadata": {},
   "source": [
    "代码："
   ]
  },
  {
   "cell_type": "code",
   "execution_count": null,
   "id": "70fbd522",
   "metadata": {
    "attributes": {
     "classes": [
      "Python"
     ],
     "id": ""
    }
   },
   "outputs": [],
   "source": [
    "array20[[0, 2]]"
   ]
  },
  {
   "cell_type": "markdown",
   "id": "7a5e06c4",
   "metadata": {},
   "source": [
    "输出："
   ]
  },
  {
   "cell_type": "code",
   "execution_count": null,
   "id": "6cc3651f",
   "metadata": {},
   "outputs": [],
   "source": [
    "array([[1, 2, 3],\n",
    "       [7, 8, 9]])"
   ]
  },
  {
   "cell_type": "markdown",
   "id": "fa5c0bf3",
   "metadata": {},
   "source": [
    "代码："
   ]
  },
  {
   "cell_type": "code",
   "execution_count": null,
   "id": "670804b5",
   "metadata": {
    "attributes": {
     "classes": [
      "Python"
     ],
     "id": ""
    }
   },
   "outputs": [],
   "source": [
    "array20[[0, 2], [1, 2]]"
   ]
  },
  {
   "cell_type": "markdown",
   "id": "61de416c",
   "metadata": {},
   "source": [
    "输出："
   ]
  },
  {
   "cell_type": "code",
   "execution_count": null,
   "id": "2a6f7827",
   "metadata": {},
   "outputs": [],
   "source": [
    "array([2, 9])"
   ]
  },
  {
   "cell_type": "markdown",
   "id": "fe02ad83",
   "metadata": {},
   "source": [
    "代码："
   ]
  },
  {
   "cell_type": "code",
   "execution_count": null,
   "id": "053a65c6",
   "metadata": {
    "attributes": {
     "classes": [
      "Python"
     ],
     "id": ""
    }
   },
   "outputs": [],
   "source": [
    "array20[[0, 2], 1]"
   ]
  },
  {
   "cell_type": "markdown",
   "id": "14ba44e8",
   "metadata": {},
   "source": [
    "输出："
   ]
  },
  {
   "cell_type": "code",
   "execution_count": null,
   "id": "dbffa71e",
   "metadata": {},
   "outputs": [],
   "source": [
    "array([2, 8])"
   ]
  },
  {
   "cell_type": "markdown",
   "id": "9d0466d5",
   "metadata": {},
   "source": [
    "#### 布尔索引\n",
    "\n",
    "布尔索引就是通过保存布尔值的数组充当一个数组的索引，布尔值为`True`的元素保留，布尔值为`False`的元素不会被选中。布尔值的数组可以手动构造，也可以通过关系运算来产生。\n",
    "\n",
    "代码："
   ]
  },
  {
   "cell_type": "code",
   "execution_count": null,
   "id": "663cdf44",
   "metadata": {
    "attributes": {
     "classes": [
      "Python"
     ],
     "id": ""
    }
   },
   "outputs": [],
   "source": [
    "array19[[True, True, False, False, True, False, False, True, True]]"
   ]
  },
  {
   "cell_type": "markdown",
   "id": "ac05be09",
   "metadata": {},
   "source": [
    "输出："
   ]
  },
  {
   "cell_type": "code",
   "execution_count": null,
   "id": "465f23ab",
   "metadata": {},
   "outputs": [],
   "source": [
    "array([1, 2, 5, 8, 9])"
   ]
  },
  {
   "cell_type": "markdown",
   "id": "24902dc7",
   "metadata": {},
   "source": [
    "代码："
   ]
  },
  {
   "cell_type": "code",
   "execution_count": null,
   "id": "6e78c48b",
   "metadata": {
    "attributes": {
     "classes": [
      "Python"
     ],
     "id": ""
    }
   },
   "outputs": [],
   "source": [
    "array19 > 5"
   ]
  },
  {
   "cell_type": "markdown",
   "id": "9cd39c5f",
   "metadata": {},
   "source": [
    "输出："
   ]
  },
  {
   "cell_type": "code",
   "execution_count": null,
   "id": "92409320",
   "metadata": {},
   "outputs": [],
   "source": [
    "array([False, False, False, False, False,  True,  True,  True,  True])"
   ]
  },
  {
   "cell_type": "markdown",
   "id": "6e59a6ba",
   "metadata": {},
   "source": [
    "代码："
   ]
  },
  {
   "cell_type": "code",
   "execution_count": null,
   "id": "792ff950",
   "metadata": {
    "attributes": {
     "classes": [
      "Python"
     ],
     "id": ""
    }
   },
   "outputs": [],
   "source": [
    "~(array19 > 5)"
   ]
  },
  {
   "cell_type": "markdown",
   "id": "9b08b1ec",
   "metadata": {},
   "source": [
    "输出："
   ]
  },
  {
   "cell_type": "code",
   "execution_count": null,
   "id": "5a6cdd20",
   "metadata": {},
   "outputs": [],
   "source": [
    "array([ True,  True,  True,  True,  True, False, False, False, False])"
   ]
  },
  {
   "cell_type": "markdown",
   "id": "13113107",
   "metadata": {},
   "source": [
    "> **说明**：`~`运算符可以对布尔数组中的布尔值进行逻辑取反，也就是原来的`True`会变成`False`，原来的`False`会变成`True`。\n",
    "\n",
    "代码："
   ]
  },
  {
   "cell_type": "code",
   "execution_count": null,
   "id": "088d4922",
   "metadata": {
    "attributes": {
     "classes": [
      "Python"
     ],
     "id": ""
    }
   },
   "outputs": [],
   "source": [
    "array19[array19 > 5]"
   ]
  },
  {
   "cell_type": "markdown",
   "id": "cec91ddb",
   "metadata": {},
   "source": [
    "输出："
   ]
  },
  {
   "cell_type": "code",
   "execution_count": null,
   "id": "a66df8a7",
   "metadata": {},
   "outputs": [],
   "source": [
    "array([6, 7, 8, 9])"
   ]
  },
  {
   "cell_type": "markdown",
   "id": "fd2abf2b",
   "metadata": {},
   "source": [
    "代码："
   ]
  },
  {
   "cell_type": "code",
   "execution_count": null,
   "id": "9d9a6275",
   "metadata": {
    "attributes": {
     "classes": [
      "Python"
     ],
     "id": ""
    }
   },
   "outputs": [],
   "source": [
    "array19 % 2 == 0"
   ]
  },
  {
   "cell_type": "markdown",
   "id": "04b26992",
   "metadata": {},
   "source": [
    "输出："
   ]
  },
  {
   "cell_type": "code",
   "execution_count": null,
   "id": "7c1e4333",
   "metadata": {},
   "outputs": [],
   "source": [
    "array([False,  True, False,  True, False,  True, False,  True, False])"
   ]
  },
  {
   "cell_type": "markdown",
   "id": "3ba3fe77",
   "metadata": {},
   "source": [
    "代码："
   ]
  },
  {
   "cell_type": "code",
   "execution_count": null,
   "id": "cf3e97f3",
   "metadata": {
    "attributes": {
     "classes": [
      "Python"
     ],
     "id": ""
    }
   },
   "outputs": [],
   "source": [
    "array19[array19 % 2 == 0]"
   ]
  },
  {
   "cell_type": "markdown",
   "id": "45ed063e",
   "metadata": {},
   "source": [
    "输出："
   ]
  },
  {
   "cell_type": "code",
   "execution_count": null,
   "id": "3eb60b3a",
   "metadata": {},
   "outputs": [],
   "source": [
    "array([2, 4, 6, 8])"
   ]
  },
  {
   "cell_type": "markdown",
   "id": "f3e75523",
   "metadata": {},
   "source": [
    "代码："
   ]
  },
  {
   "cell_type": "code",
   "execution_count": null,
   "id": "da702825",
   "metadata": {
    "attributes": {
     "classes": [
      "Python"
     ],
     "id": ""
    }
   },
   "outputs": [],
   "source": [
    "(array19 > 5) & (array19 % 2 == 0)"
   ]
  },
  {
   "cell_type": "markdown",
   "id": "c8736ca0",
   "metadata": {},
   "source": [
    "输出："
   ]
  },
  {
   "cell_type": "code",
   "execution_count": null,
   "id": "3752618a",
   "metadata": {},
   "outputs": [],
   "source": [
    "array([False, False, False, False, False,  True, False,  True, False])"
   ]
  },
  {
   "cell_type": "markdown",
   "id": "04fbedb8",
   "metadata": {},
   "source": [
    "> **说明**：`&`运算符可以作用于两个布尔数组，如果两个数组对应元素都是`True`，那么运算的结果就是`True`，否则就是`False`，该运算符的运算规则类似于 Python 中的 `and` 运算符，只不过作用的对象是两个布尔数组。\n",
    "\n",
    "代码："
   ]
  },
  {
   "cell_type": "code",
   "execution_count": null,
   "id": "7d452b56",
   "metadata": {
    "attributes": {
     "classes": [
      "Python"
     ],
     "id": ""
    }
   },
   "outputs": [],
   "source": [
    "array19[(array19 > 5) & (array19 % 2 == 0)]"
   ]
  },
  {
   "cell_type": "markdown",
   "id": "90bf171d",
   "metadata": {},
   "source": [
    "输出："
   ]
  },
  {
   "cell_type": "code",
   "execution_count": null,
   "id": "4f78bdf5",
   "metadata": {},
   "outputs": [],
   "source": [
    "array([6, 8])"
   ]
  },
  {
   "cell_type": "markdown",
   "id": "74c4a85a",
   "metadata": {},
   "source": [
    "代码："
   ]
  },
  {
   "cell_type": "code",
   "execution_count": null,
   "id": "1aaf4f07",
   "metadata": {
    "attributes": {
     "classes": [
      "Python"
     ],
     "id": ""
    }
   },
   "outputs": [],
   "source": [
    "array19[(array19 > 5) | (array19 % 2 == 0)]"
   ]
  },
  {
   "cell_type": "markdown",
   "id": "f4ba1a9c",
   "metadata": {},
   "source": [
    "输出："
   ]
  },
  {
   "cell_type": "code",
   "execution_count": null,
   "id": "7c97b53a",
   "metadata": {},
   "outputs": [],
   "source": [
    "array([2, 4, 6, 7, 8, 9])"
   ]
  },
  {
   "cell_type": "markdown",
   "id": "e7071170",
   "metadata": {},
   "source": [
    "> **说明**：`|`运算符可以作用于两个布尔数组，如果两个数组对应元素都是`False`，那么运算的结果就是`False`，否则就是`True`，该运算符的运算规则类似于 Python 中的 `or` 运算符，只不过作用的对象是两个布尔数组。\n",
    "\n",
    "代码："
   ]
  },
  {
   "cell_type": "code",
   "execution_count": null,
   "id": "6759c0e4",
   "metadata": {
    "attributes": {
     "classes": [
      "Python"
     ],
     "id": ""
    }
   },
   "outputs": [],
   "source": [
    "array20[array21 % 2 != 0]"
   ]
  },
  {
   "cell_type": "markdown",
   "id": "f1b95472",
   "metadata": {},
   "source": [
    "输出："
   ]
  },
  {
   "cell_type": "code",
   "execution_count": null,
   "id": "3dd04164",
   "metadata": {},
   "outputs": [],
   "source": [
    "array([1, 3, 5, 7, 9])"
   ]
  },
  {
   "cell_type": "markdown",
   "id": "3ad98316",
   "metadata": {},
   "source": [
    "关于索引运算需要说明的是，切片索引虽然创建了新的数组对象，但是新数组和原数组共享了数组中的数据，简单的说，无论你通过新数组对象或原数组对象修改数组中的数据，修改的其实是内存中的同一块数据。花式索引和布尔索引也会创建新的数组对象，而且新数组复制了原数组的元素，新数组和原数组并不是共享数据的关系，这一点可以查看数组对象的`base`属性，有兴趣的读者可以自行探索。\n",
    "\n",
    "### 案例：通过数组切片处理图像\n",
    "\n",
    "学习基础知识总是比较枯燥且没有成就感的，所以我们还是来个案例为大家演示下上面学习的数组索引和切片操作到底有什么用。前面我们说到过，可以用三维数组来表示图像，那么通过图像对应的三维数组进行操作，就可以实现对图像的处理，如下所示。\n",
    "\n",
    "读入图片创建三维数组对象。"
   ]
  },
  {
   "cell_type": "code",
   "execution_count": null,
   "id": "9f9ba6aa",
   "metadata": {
    "attributes": {
     "classes": [
      "Python"
     ],
     "id": ""
    }
   },
   "outputs": [],
   "source": [
    "guido_image = plt.imread('guido.jpg')\n",
    "plt.imshow(guido_image)"
   ]
  },
  {
   "cell_type": "markdown",
   "id": "5b5efb9d",
   "metadata": {},
   "source": [
    "<img src=\"res/guido_slice_1.png\" style=\"zoom:65%;\">\n",
    "\n",
    "对数组的0轴进行反向切片，实现图像的垂直翻转。"
   ]
  },
  {
   "cell_type": "code",
   "execution_count": null,
   "id": "5da83bc2",
   "metadata": {
    "attributes": {
     "classes": [
      "Python"
     ],
     "id": ""
    }
   },
   "outputs": [],
   "source": [
    "plt.imshow(guido_image[::-1])"
   ]
  },
  {
   "cell_type": "markdown",
   "id": "32fe3492",
   "metadata": {},
   "source": [
    "<img src=\"res/guido_slice_2.png\" style=\"zoom:65%;\">\n",
    "\n",
    "对数组的1轴进行反向切片，实现图像的水平翻转。"
   ]
  },
  {
   "cell_type": "code",
   "execution_count": null,
   "id": "46562603",
   "metadata": {
    "attributes": {
     "classes": [
      "Python"
     ],
     "id": ""
    }
   },
   "outputs": [],
   "source": [
    "plt.imshow(guido_image[:,::-1])"
   ]
  },
  {
   "cell_type": "markdown",
   "id": "af7f7d87",
   "metadata": {},
   "source": [
    "<img src=\"res/guido_slice_3.png\" style=\"zoom:65%;\">\n",
    "\n",
    "通过切片操作实现抠图，将吉多大叔的头抠出来。"
   ]
  },
  {
   "cell_type": "code",
   "execution_count": null,
   "id": "0696bc9b",
   "metadata": {
    "attributes": {
     "classes": [
      "Python"
     ],
     "id": ""
    }
   },
   "outputs": [],
   "source": [
    "plt.imshow(guido_image[30:350, 90:300])"
   ]
  },
  {
   "cell_type": "markdown",
   "id": "74a5752f",
   "metadata": {},
   "source": [
    "<img src=\"res/guido_slice_4.png\" style=\"zoom:65%;\">\n",
    "\n",
    "通过切片操作实现降采样。"
   ]
  },
  {
   "cell_type": "code",
   "execution_count": null,
   "id": "be49deb1",
   "metadata": {
    "attributes": {
     "classes": [
      "Python"
     ],
     "id": ""
    }
   },
   "outputs": [],
   "source": [
    "plt.imshow(guido_image[::10, ::10])"
   ]
  },
  {
   "cell_type": "markdown",
   "id": "d9b1271f",
   "metadata": {},
   "source": [
    "<img src=\"res/guido_slice_5.png\" style=\"zoom:65%;\">"
   ]
  }
 ],
 "metadata": {},
 "nbformat": 4,
 "nbformat_minor": 5
}
