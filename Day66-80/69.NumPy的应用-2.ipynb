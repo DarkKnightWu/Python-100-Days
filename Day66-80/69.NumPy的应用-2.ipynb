{
 "cells": [
  {
   "cell_type": "markdown",
   "id": "fcdb4e30",
   "metadata": {},
   "source": [
    "## NumPy的应用-2\n",
    "\n",
    "### 数组对象的方法\n",
    "\n",
    "#### 获取描述统计信息\n",
    "\n",
    "描述统计信息主要包括数据的集中趋势、离散程度和频数分析等，其中集中趋势主要看均值和中位数，离散程度可以看极值、方差、标准差等，详细的内容大家可以阅读[《统计思维系列课程01：解读数据》](https://zhuanlan.zhihu.com/p/595273755)。"
   ]
  },
  {
   "cell_type": "code",
   "execution_count": null,
   "id": "41cec3cf",
   "metadata": {
    "attributes": {
     "classes": [
      "Python"
     ],
     "id": ""
    }
   },
   "outputs": [],
   "source": [
    "array1 = np.random.randint(1, 100, 10)\n",
    "array1"
   ]
  },
  {
   "cell_type": "markdown",
   "id": "165ef36a",
   "metadata": {},
   "source": [
    "输出："
   ]
  },
  {
   "cell_type": "code",
   "execution_count": null,
   "id": "ab3a9a12",
   "metadata": {},
   "outputs": [],
   "source": [
    "array([46, 51, 15, 42, 53, 71, 20, 62,  6, 94])"
   ]
  },
  {
   "cell_type": "markdown",
   "id": "0dc32bd7",
   "metadata": {},
   "source": [
    "**计算总和、均值和中位数。**\n",
    "\n",
    "代码："
   ]
  },
  {
   "cell_type": "code",
   "execution_count": null,
   "id": "f4f70967",
   "metadata": {
    "attributes": {
     "classes": [
      "Python"
     ],
     "id": ""
    }
   },
   "outputs": [],
   "source": [
    "print(array1.sum())\n",
    "print(np.sum(array1))\n",
    "print(array1.mean())\n",
    "print(np.mean(array1))\n",
    "print(np.median(array1))\n",
    "print(np.quantile(array1, 0.5))"
   ]
  },
  {
   "cell_type": "markdown",
   "id": "e3ad609e",
   "metadata": {},
   "source": [
    "> **说明**：上面代码中的`mean`、`median`和`quantile`分别是 NumPy 中计算算术平均值、中位数和分位数的函数，其中`quantitle`函数的第二个参数设置为0.5表示计算50%分位数，也就是中位数。\n",
    "\n",
    "输出："
   ]
  },
  {
   "cell_type": "code",
   "execution_count": null,
   "id": "5f0451bd",
   "metadata": {},
   "outputs": [],
   "source": [
    "460\n",
    "460\n",
    "46.0\n",
    "46.0\n",
    "48.5\n",
    "48.5"
   ]
  },
  {
   "cell_type": "markdown",
   "id": "9a09c0c4",
   "metadata": {},
   "source": [
    "**极值、全距和四分位距离。**\n",
    "\n",
    "代码："
   ]
  },
  {
   "cell_type": "code",
   "execution_count": null,
   "id": "55d5b88b",
   "metadata": {
    "attributes": {
     "classes": [
      "Python"
     ],
     "id": ""
    }
   },
   "outputs": [],
   "source": [
    "print(array1.max())\n",
    "print(np.amax(array1))\n",
    "print(array1.min())\n",
    "print(np.amin(array1))\n",
    "print(np.ptp(array1))\n",
    "print(np.ptp(array1))\n",
    "q1, q3 = np.quantile(array1, [0.25, 0.75])\n",
    "print(q3 - q1)"
   ]
  },
  {
   "cell_type": "markdown",
   "id": "38da53d1",
   "metadata": {},
   "source": [
    "输出："
   ]
  },
  {
   "cell_type": "code",
   "execution_count": null,
   "id": "71889719",
   "metadata": {},
   "outputs": [],
   "source": [
    "94\n",
    "94\n",
    "6\n",
    "6\n",
    "88\n",
    "88\n",
    "34.25"
   ]
  },
  {
   "cell_type": "markdown",
   "id": "3a872645",
   "metadata": {},
   "source": [
    "**方差、标准差和变异系数。**\n",
    "\n",
    "代码："
   ]
  },
  {
   "cell_type": "code",
   "execution_count": null,
   "id": "e92bcf2b",
   "metadata": {
    "attributes": {
     "classes": [
      "Python"
     ],
     "id": ""
    }
   },
   "outputs": [],
   "source": [
    "print(array1.var())\n",
    "print(np.var(array1))\n",
    "print(array1.std())\n",
    "print(np.std(array1))\n",
    "print(array1.std() / array1.mean())"
   ]
  },
  {
   "cell_type": "markdown",
   "id": "b90546c5",
   "metadata": {},
   "source": [
    "输出："
   ]
  },
  {
   "cell_type": "code",
   "execution_count": null,
   "id": "0361570d",
   "metadata": {},
   "outputs": [],
   "source": [
    "651.2\n",
    "651.2\n",
    "25.51862065237853\n",
    "25.51862065237853\n",
    "0.5547526228777941"
   ]
  },
  {
   "cell_type": "markdown",
   "id": "ef9bce67",
   "metadata": {},
   "source": [
    "**绘制箱线图。**\n",
    "\n",
    "箱线图又称为盒须图，是显示一组数据分散情况的统计图，因形状如箱子而得名。 它主要用于反映原始数据分布的特征，还可以进行多组数据分布特征的比较。\n",
    "\n",
    "代码："
   ]
  },
  {
   "cell_type": "code",
   "execution_count": null,
   "id": "fdfac56c",
   "metadata": {
    "attributes": {
     "classes": [
      "Python"
     ],
     "id": ""
    }
   },
   "outputs": [],
   "source": [
    "plt.boxplot(array1, showmeans=True)\n",
    "plt.ylim([-20, 120])\n",
    "plt.show()"
   ]
  },
  {
   "cell_type": "markdown",
   "id": "10d43925",
   "metadata": {},
   "source": [
    "输出：\n",
    "\n",
    "<img src=\"res/box_plot_1.png\" style=\"zoom:40%;\">\n",
    "\n",
    "值得注意的是，对于二维或更高维的数组，在获取描述统计信息时，可以通过名为`axis`的参数指定均值、方差等运算是沿着哪一个轴来执行，`axis`参数不同，执行的结果可能是大相径庭的，如下所示。\n",
    "\n",
    "代码："
   ]
  },
  {
   "cell_type": "code",
   "execution_count": null,
   "id": "85ced253",
   "metadata": {
    "attributes": {
     "classes": [
      "Python"
     ],
     "id": ""
    }
   },
   "outputs": [],
   "source": [
    "array2 = np.random.randint(60, 101, (5, 3))\n",
    "array2"
   ]
  },
  {
   "cell_type": "markdown",
   "id": "329bf168",
   "metadata": {},
   "source": [
    "输出："
   ]
  },
  {
   "cell_type": "code",
   "execution_count": null,
   "id": "68a487d5",
   "metadata": {},
   "outputs": [],
   "source": [
    "array([[72, 64, 73],\n",
    "       [61, 73, 61],\n",
    "       [76, 85, 77],\n",
    "       [97, 88, 90],\n",
    "       [63, 93, 82]])"
   ]
  },
  {
   "cell_type": "markdown",
   "id": "a6366492",
   "metadata": {},
   "source": [
    "代码："
   ]
  },
  {
   "cell_type": "code",
   "execution_count": null,
   "id": "4748e1ac",
   "metadata": {
    "attributes": {
     "classes": [
      "Python"
     ],
     "id": ""
    }
   },
   "outputs": [],
   "source": [
    "array2.mean()"
   ]
  },
  {
   "cell_type": "markdown",
   "id": "510c4ef8",
   "metadata": {},
   "source": [
    "输出："
   ]
  },
  {
   "cell_type": "code",
   "execution_count": null,
   "id": "a8b00aa9",
   "metadata": {},
   "outputs": [],
   "source": [
    "77.0"
   ]
  },
  {
   "cell_type": "markdown",
   "id": "e285630a",
   "metadata": {},
   "source": [
    "代码："
   ]
  },
  {
   "cell_type": "code",
   "execution_count": null,
   "id": "c76cab3d",
   "metadata": {
    "attributes": {
     "classes": [
      "Python"
     ],
     "id": ""
    }
   },
   "outputs": [],
   "source": [
    "array2.mean(axis=0)"
   ]
  },
  {
   "cell_type": "markdown",
   "id": "e64501e1",
   "metadata": {},
   "source": [
    "输出："
   ]
  },
  {
   "cell_type": "code",
   "execution_count": null,
   "id": "750372cb",
   "metadata": {},
   "outputs": [],
   "source": [
    "array([73.8, 80.6, 76.6])"
   ]
  },
  {
   "cell_type": "markdown",
   "id": "1ed988cc",
   "metadata": {},
   "source": [
    "代码："
   ]
  },
  {
   "cell_type": "code",
   "execution_count": null,
   "id": "efe6fc77",
   "metadata": {
    "attributes": {
     "classes": [
      "Python"
     ],
     "id": ""
    }
   },
   "outputs": [],
   "source": [
    "array2.mean(axis=1)"
   ]
  },
  {
   "cell_type": "markdown",
   "id": "49a4343e",
   "metadata": {},
   "source": [
    "输出："
   ]
  },
  {
   "cell_type": "code",
   "execution_count": null,
   "id": "449706cc",
   "metadata": {},
   "outputs": [],
   "source": [
    "array([69.66666667, 65.        , 79.33333333, 91.66666667, 79.33333333])"
   ]
  },
  {
   "cell_type": "markdown",
   "id": "25bd53c2",
   "metadata": {},
   "source": [
    "代码："
   ]
  },
  {
   "cell_type": "code",
   "execution_count": null,
   "id": "8c668efa",
   "metadata": {
    "attributes": {
     "classes": [
      "Python"
     ],
     "id": ""
    }
   },
   "outputs": [],
   "source": [
    "array2.max(axis=0)"
   ]
  },
  {
   "cell_type": "markdown",
   "id": "4b2dfebd",
   "metadata": {},
   "source": [
    "输出："
   ]
  },
  {
   "cell_type": "code",
   "execution_count": null,
   "id": "3295524b",
   "metadata": {},
   "outputs": [],
   "source": [
    "array([97, 93, 90])"
   ]
  },
  {
   "cell_type": "markdown",
   "id": "d1431739",
   "metadata": {},
   "source": [
    "代码："
   ]
  },
  {
   "cell_type": "code",
   "execution_count": null,
   "id": "1a141ff0",
   "metadata": {
    "attributes": {
     "classes": [
      "Python"
     ],
     "id": ""
    }
   },
   "outputs": [],
   "source": [
    "array2.max(axis=1)"
   ]
  },
  {
   "cell_type": "markdown",
   "id": "fbb102a2",
   "metadata": {},
   "source": [
    "输出："
   ]
  },
  {
   "cell_type": "code",
   "execution_count": null,
   "id": "17e65c9c",
   "metadata": {},
   "outputs": [],
   "source": [
    "array([73, 73, 85, 97, 93])"
   ]
  },
  {
   "cell_type": "markdown",
   "id": "b04f801a",
   "metadata": {},
   "source": [
    "再看看绘制箱线图，对于二维数组每一列都会产生一个统计图形，如下所示。\n",
    "\n",
    "代码："
   ]
  },
  {
   "cell_type": "code",
   "execution_count": null,
   "id": "f19c2af6",
   "metadata": {
    "attributes": {
     "classes": [
      "Python"
     ],
     "id": ""
    }
   },
   "outputs": [],
   "source": [
    "plt.boxplot(array2, showmeans=True)\n",
    "plt.ylim([-20, 120])\n",
    "plt.show()"
   ]
  },
  {
   "cell_type": "markdown",
   "id": "fbfdcb10",
   "metadata": {},
   "source": [
    "输出：\n",
    "\n",
    "<img src=\"res/box_plot_2.png\" style=\"zoom:75%;\">\n",
    "\n",
    "> **说明**：箱线图中的小圆圈用来表示离群点，也就是大于 $\\small{Q_3 + 1.5 \\times IQR}$ 或小于 $\\small{Q_1 - 1.5 \\times IQR}$ 的值。公式中的常量 1.5 可以通过绘制箱线图的`boxplot`函数的`whis`参数进行修改，常用的值是 1.5 和 3，修改为 3 通常是为了标识出极度离群点。\n",
    "\n",
    "需要说明的是，NumPy 的数组对象并没有提供计算几何平均值、调和平均值、去尾平均值等的方法，如果有这方面的需求，可以使用名为 scipy 的三方库，它的`stats`模块中提供了这些函数。此外，该模块还提供了计算众数、变异系数、偏态、峰度的函数，代码如下所示。\n",
    "\n",
    "代码："
   ]
  },
  {
   "cell_type": "code",
   "execution_count": null,
   "id": "58c9246f",
   "metadata": {},
   "outputs": [],
   "source": [
    "from scipy import stats\n",
    "\n",
    "print(np.mean(array1))                # 算术平均值\n",
    "print(stats.gmean(array1))            # 几何平均值\n",
    "print(stats.hmean(array1))            # 调和平均值\n",
    "print(stats.tmean(array1, [10, 90]))  # 去尾平均值\n",
    "print(stats.variation(array1))        # 变异系数\n",
    "print(stats.skew(array1))             # 偏态系数\n",
    "print(stats.kurtosis(array1))         # 峰度系数"
   ]
  },
  {
   "cell_type": "markdown",
   "id": "b327ee9a",
   "metadata": {},
   "source": [
    "输出："
   ]
  },
  {
   "cell_type": "code",
   "execution_count": null,
   "id": "49057263",
   "metadata": {},
   "outputs": [],
   "source": [
    "46.0\n",
    "36.22349548825599\n",
    "24.497219530825497\n",
    "45.0\n",
    "0.5547526228777941\n",
    "0.11644192634527782\n",
    "-0.7106251396024126"
   ]
  },
  {
   "cell_type": "markdown",
   "id": "a264aea2",
   "metadata": {},
   "source": [
    "#### 其他相关方法概述\n",
    "\n",
    "1. `all()` / `any()`方法：判断数组是否所有元素都是`True` / 判断数组是否有为`True`的元素。\n",
    "\n",
    "2. `astype()`方法：拷贝数组，并将数组中的元素转换为指定的类型。\n",
    "\n",
    "3. `reshape()`方法：调整数组对象的形状。\n",
    "\n",
    "4. `dump()`方法：保存数组到二进制文件中，可以通过 NumPy 中的`load()`函数从保存的文件中加载数据创建数组。"
   ]
  },
  {
   "cell_type": "code",
   "execution_count": null,
   "id": "92a8ab32",
   "metadata": {},
   "outputs": [],
   "source": [
    "代码：\n",
    "\n",
    "```Python\n",
    "array.dump('array1-data')\n",
    "array3 = np.load('array1-data', allow_pickle=True)\n",
    "array3\n",
    "```\n",
    "\n",
    "输出：\n",
    "\n",
    "```\n",
    "array([46, 51, 15, 42, 53, 71, 20, 62,  6, 94])\n",
    "```"
   ]
  },
  {
   "cell_type": "markdown",
   "id": "52d6c71a",
   "metadata": {},
   "source": [
    "5. `tofile()`方法：将数组对象写入文件中。\n",
    "\n",
    "   ```Python\n",
    "   array1.tofile('array.txt', sep=',')\n",
    "   ```\n",
    "\n",
    "6. `fill()`方法：向数组中填充指定的元素。\n",
    "\n",
    "7. `flatten()`方法：将多维数组扁平化为一维数组。"
   ]
  },
  {
   "cell_type": "code",
   "execution_count": null,
   "id": "7ce42e23",
   "metadata": {},
   "outputs": [],
   "source": [
    "代码：\n",
    "\n",
    "```Python\n",
    "array2.flatten()\n",
    "```\n",
    "\n",
    "输出：\n",
    "\n",
    "```\n",
    "array([1, 2, 3, 4, 5, 6, 7, 8, 9])\n",
    "```"
   ]
  },
  {
   "cell_type": "markdown",
   "id": "f9030e77",
   "metadata": {},
   "source": [
    "8. `nonzero()`方法：返回非0元素的索引。\n",
    "\n",
    "9. `round()`方法：对数组中的元素做四舍五入操作。\n",
    "\n",
    "10. `sort()`方法：对数组进行就地排序。"
   ]
  },
  {
   "cell_type": "code",
   "execution_count": null,
   "id": "f643165a",
   "metadata": {},
   "outputs": [],
   "source": [
    "代码：\n",
    "\n",
    "```Python\n",
    "array1.sort()\n",
    "array1\n",
    "```\n",
    "\n",
    "输出：\n",
    "\n",
    "```\n",
    "array([ 6, 15, 20, 42, 46, 51, 53, 62, 71, 94])\n",
    "```"
   ]
  },
  {
   "cell_type": "markdown",
   "id": "17ce093a",
   "metadata": {},
   "source": [
    "11. `swapaxes()`和`transpose()`方法：交换数组指定的轴和转置。"
   ]
  },
  {
   "cell_type": "code",
   "execution_count": null,
   "id": "5fade4e3",
   "metadata": {},
   "outputs": [],
   "source": [
    "代码：\n",
    "\n",
    "```Python\n",
    "array2.swapaxes(0, 1)\n",
    "```\n",
    "\n",
    "输出：\n",
    "\n",
    "```\n",
    "array([[1, 4, 7],\n",
    "       [2, 5, 8],\n",
    "       [3, 6, 9]])\n",
    "```\n",
    "\n",
    "代码：\n",
    "\n",
    "```Python\n",
    "array2.transpose()\n",
    "```\n",
    "\n",
    "输出：\n",
    "\n",
    "```\n",
    "array([[1, 4, 7],\n",
    "       [2, 5, 8],\n",
    "       [3, 6, 9]])\n",
    "```"
   ]
  },
  {
   "cell_type": "markdown",
   "id": "8dfd23ae",
   "metadata": {},
   "source": [
    "12. `tolist()`方法：将数组转成 Python 中的`list`。"
   ]
  },
  {
   "cell_type": "code",
   "execution_count": null,
   "id": "f72bdab4",
   "metadata": {},
   "outputs": [],
   "source": [
    "代码：\n",
    "\n",
    "```Python\n",
    "print(array2.tolist())\n",
    "print(type(array2.tolist()))\n",
    "```\n",
    "\n",
    "输出：\n",
    "\n",
    "```\n",
    "[[1, 2, 3], [4, 5, 6], [7, 8, 9]]\n",
    "<class 'list'>\n",
    "```"
   ]
  }
 ],
 "metadata": {},
 "nbformat": 4,
 "nbformat_minor": 5
}
