{
 "cells": [
  {
   "cell_type": "markdown",
   "id": "ce6848d8",
   "metadata": {},
   "source": [
    "## 深入浅出pandas-6\n",
    "\n",
    "我们再来看看`Index`类型，它为`Series`和`DataFrame`对象提供了索引服务，有了索引我们就可以排序数据（`sort_index`方法）、对齐数据（在运算和合并数据时非常重要）并实现对数据的快速检索（索引运算）。由于`DataFrame`类型表示的是二维数据，所以它的行和列都有索引，分别是`index`和`columns`。`Index`类型的创建的比较简单，通常给出`data`、`dtype`和`name`三个参数即可，分别表示作为索引的数据、索引的数据类型和索引的名称。由于`Index`本身也是一维的数据，索引它的方法和属性跟`Series`非常类似，你可以尝试创建一个`Index`对象，然后尝试一下之前学过的属性和方法在`Index`类型上是否生效。接下来，我们主要看看`Index`的几种子类型。\n",
    "\n",
    "### 范围索引\n",
    "\n",
    "范围索引是由具有单调性的整数构成的索引，我们可以通过`RangeIndex`构造器来创建范围索引，也可以通过`RangeIndex`类的类方法`from_range`来创建范围索引，代码如下所示。\n",
    "\n",
    "代码："
   ]
  },
  {
   "cell_type": "code",
   "execution_count": null,
   "id": "733d0335",
   "metadata": {
    "attributes": {
     "classes": [
      "Python"
     ],
     "id": ""
    }
   },
   "outputs": [],
   "source": [
    "sales_data = np.random.randint(400, 1000, 12)\n",
    "index = pd.RangeIndex(1, 13, name='月份')\n",
    "ser = pd.Series(data=sales_data, index=index)\n",
    "ser"
   ]
  },
  {
   "cell_type": "markdown",
   "id": "92c2a353",
   "metadata": {},
   "source": [
    "输出："
   ]
  },
  {
   "cell_type": "code",
   "execution_count": null,
   "id": "e50ca055",
   "metadata": {},
   "outputs": [],
   "source": [
    "月份\n",
    "1     703\n",
    "2     705\n",
    "3     557\n",
    "4     943\n",
    "5     961\n",
    "6     615\n",
    "7     788\n",
    "8     985\n",
    "9     921\n",
    "10    951\n",
    "11    874\n",
    "12    609\n",
    "dtype: int64"
   ]
  },
  {
   "cell_type": "markdown",
   "id": "de2168f6",
   "metadata": {},
   "source": [
    "### 分类索引\n",
    "\n",
    "分类索引是由定类尺度构成的索引。如果我们需要通过索引将数据分组，然后再进行聚合操作，分类索引就可以派上用场。分类索引还有一个名为`reorder_categories`的方法，可以给索引指定一个顺序，分组聚合的结果会按照这个指定的顺序进行呈现，代码如下所示。\n",
    "\n",
    "代码："
   ]
  },
  {
   "cell_type": "code",
   "execution_count": null,
   "id": "9e1c418b",
   "metadata": {
    "attributes": {
     "classes": [
      "Python"
     ],
     "id": ""
    }
   },
   "outputs": [],
   "source": [
    "sales_data = [6, 6, 7, 6, 8, 6]\n",
    "index = pd.CategoricalIndex(\n",
    "    data=['苹果', '香蕉', '苹果', '苹果', '桃子', '香蕉'],\n",
    "    categories=['苹果', '香蕉', '桃子'],\n",
    "    ordered=True\n",
    ")\n",
    "ser = pd.Series(data=sales_data, index=index)\n",
    "ser"
   ]
  },
  {
   "cell_type": "markdown",
   "id": "8c8ad578",
   "metadata": {},
   "source": [
    "输出："
   ]
  },
  {
   "cell_type": "code",
   "execution_count": null,
   "id": "47639fea",
   "metadata": {},
   "outputs": [],
   "source": [
    "苹果    6\n",
    "香蕉    6\n",
    "苹果    7\n",
    "苹果    6\n",
    "桃子    8\n",
    "香蕉    6\n",
    "dtype: int64"
   ]
  },
  {
   "cell_type": "markdown",
   "id": "1137fb1f",
   "metadata": {},
   "source": [
    "基于索引分组数据，然后使用`sum`进行求和。"
   ]
  },
  {
   "cell_type": "code",
   "execution_count": null,
   "id": "d028691e",
   "metadata": {
    "attributes": {
     "classes": [
      "Python"
     ],
     "id": ""
    }
   },
   "outputs": [],
   "source": [
    "ser.groupby(level=0).sum()"
   ]
  },
  {
   "cell_type": "markdown",
   "id": "b19dae7c",
   "metadata": {},
   "source": [
    "输出："
   ]
  },
  {
   "cell_type": "code",
   "execution_count": null,
   "id": "af679b26",
   "metadata": {},
   "outputs": [],
   "source": [
    "苹果    19\n",
    "香蕉    12\n",
    "桃子     8\n",
    "dtype: int64"
   ]
  },
  {
   "cell_type": "markdown",
   "id": "b7929a78",
   "metadata": {},
   "source": [
    "指定索引的顺序。"
   ]
  },
  {
   "cell_type": "code",
   "execution_count": null,
   "id": "73924820",
   "metadata": {},
   "outputs": [],
   "source": [
    "ser.index = index.reorder_categories(['香蕉', '桃子', '苹果'])\n",
    "ser.groupby(level=0).sum()"
   ]
  },
  {
   "cell_type": "markdown",
   "id": "cb45ccea",
   "metadata": {},
   "source": [
    "输出："
   ]
  },
  {
   "cell_type": "code",
   "execution_count": null,
   "id": "9568a426",
   "metadata": {},
   "outputs": [],
   "source": [
    "香蕉    12\n",
    "桃子     8\n",
    "苹果    19\n",
    "dtype: int64"
   ]
  },
  {
   "cell_type": "markdown",
   "id": "5007321d",
   "metadata": {},
   "source": [
    "### 多级索引\n",
    "\n",
    "Pandas 中的`MultiIndex`类型用来表示层次或多级索引。可以使用`MultiIndex`类的类方法`from_arrays`、`from_product`、`from_tuples`等来创建多级索引，我们给大家举几个例子。\n",
    "\n",
    "代码："
   ]
  },
  {
   "cell_type": "code",
   "execution_count": null,
   "id": "3bcb13c0",
   "metadata": {},
   "outputs": [],
   "source": [
    "tuples = [(1, 'red'), (1, 'blue'), (2, 'red'), (2, 'blue')]\n",
    "index = pd.MultiIndex.from_tuples(tuples, names=['no', 'color'])\n",
    "index"
   ]
  },
  {
   "cell_type": "markdown",
   "id": "d054e36a",
   "metadata": {},
   "source": [
    "输出："
   ]
  },
  {
   "cell_type": "code",
   "execution_count": null,
   "id": "8a53541b",
   "metadata": {},
   "outputs": [],
   "source": [
    "MultiIndex([(1,  'red'),\n",
    "            (1, 'blue'),\n",
    "            (2,  'red'),\n",
    "            (2, 'blue')],\n",
    "           names=['no', 'color'])"
   ]
  },
  {
   "cell_type": "markdown",
   "id": "09bf5ced",
   "metadata": {},
   "source": [
    "代码："
   ]
  },
  {
   "cell_type": "code",
   "execution_count": null,
   "id": "a33f2082",
   "metadata": {},
   "outputs": [],
   "source": [
    "arrays = [[1, 1, 2, 2], ['red', 'blue', 'red', 'blue']]\n",
    "index = pd.MultiIndex.from_arrays(arrays, names=['no', 'color'])\n",
    "index"
   ]
  },
  {
   "cell_type": "markdown",
   "id": "31793b82",
   "metadata": {},
   "source": [
    "输出："
   ]
  },
  {
   "cell_type": "code",
   "execution_count": null,
   "id": "f3705185",
   "metadata": {},
   "outputs": [],
   "source": [
    "MultiIndex([(1,  'red'),\n",
    "            (1, 'blue'),\n",
    "            (2,  'red'),\n",
    "            (2, 'blue')],\n",
    "           names=['no', 'color'])"
   ]
  },
  {
   "cell_type": "markdown",
   "id": "4f6218a6",
   "metadata": {},
   "source": [
    "代码："
   ]
  },
  {
   "cell_type": "code",
   "execution_count": null,
   "id": "424a2845",
   "metadata": {},
   "outputs": [],
   "source": [
    "sales_data = np.random.randint(1, 100, 4)\n",
    "ser = pd.Series(data=sales_data, index=index)\n",
    "ser"
   ]
  },
  {
   "cell_type": "markdown",
   "id": "746c8ebd",
   "metadata": {},
   "source": [
    "输出："
   ]
  },
  {
   "cell_type": "code",
   "execution_count": null,
   "id": "26d694ec",
   "metadata": {},
   "outputs": [],
   "source": [
    "no  color\n",
    "1   red      43\n",
    "    blue     31\n",
    "2   red      55\n",
    "    blue     75\n",
    "dtype: int64"
   ]
  },
  {
   "cell_type": "markdown",
   "id": "eaa13568",
   "metadata": {},
   "source": [
    "代码："
   ]
  },
  {
   "cell_type": "code",
   "execution_count": null,
   "id": "b7523228",
   "metadata": {},
   "outputs": [],
   "source": [
    "ser.groupby('no').sum()"
   ]
  },
  {
   "cell_type": "markdown",
   "id": "20b2bf56",
   "metadata": {},
   "source": [
    "输出："
   ]
  },
  {
   "cell_type": "code",
   "execution_count": null,
   "id": "091f3ad2",
   "metadata": {},
   "outputs": [],
   "source": [
    "no\n",
    "1     74\n",
    "2    130\n",
    "dtype: int64"
   ]
  },
  {
   "cell_type": "markdown",
   "id": "3ddc64fd",
   "metadata": {},
   "source": [
    "代码："
   ]
  },
  {
   "cell_type": "code",
   "execution_count": null,
   "id": "ddde4a12",
   "metadata": {},
   "outputs": [],
   "source": [
    "ser.groupby(level=1).sum()"
   ]
  },
  {
   "cell_type": "markdown",
   "id": "d2bfd9e0",
   "metadata": {},
   "source": [
    "输出："
   ]
  },
  {
   "cell_type": "code",
   "execution_count": null,
   "id": "d4450585",
   "metadata": {},
   "outputs": [],
   "source": [
    "color\n",
    "blue    106\n",
    "red      98\n",
    "dtype: int64"
   ]
  },
  {
   "cell_type": "markdown",
   "id": "2d5d44d9",
   "metadata": {},
   "source": [
    "代码："
   ]
  },
  {
   "cell_type": "code",
   "execution_count": null,
   "id": "ec24c646",
   "metadata": {
    "attributes": {
     "classes": [
      "Python"
     ],
     "id": ""
    }
   },
   "outputs": [],
   "source": [
    "stu_ids = np.arange(1001, 1006)\n",
    "semisters = ['期中', '期末']\n",
    "index = pd.MultiIndex.from_product((stu_ids, semisters), names=['学号', '学期'])\n",
    "courses = ['语文', '数学', '英语']\n",
    "scores = np.random.randint(60, 101, (10, 3))\n",
    "df = pd.DataFrame(data=scores, columns=courses, index=index)\n",
    "df"
   ]
  },
  {
   "cell_type": "markdown",
   "id": "d5d1492a",
   "metadata": {},
   "source": [
    "输出："
   ]
  },
  {
   "cell_type": "code",
   "execution_count": null,
   "id": "2af4e988",
   "metadata": {},
   "outputs": [],
   "source": [
    "             语文 数学 英语\n",
    "学号\t学期\t\t\t\n",
    "1001  期中\t93\t77\t60\n",
    "      期末\t93\t98\t84\n",
    "1002  期中\t64\t78\t71\n",
    "      期末\t70\t71\t97\n",
    "1003  期中\t72\t88\t97\n",
    "      期末\t99\t100\t63\n",
    "1004  期中\t80\t71\t61\n",
    "      期末\t91\t62\t72\n",
    "1005  期中\t82\t95\t67\n",
    "      期末\t84\t78\t86"
   ]
  },
  {
   "cell_type": "markdown",
   "id": "67915fa7",
   "metadata": {},
   "source": [
    "根据第一级索引分组数据，按照期中成绩占`25%`，期末成绩占`75%` 的方式计算每个学生每门课的成绩。\n",
    "\n",
    "代码："
   ]
  },
  {
   "cell_type": "code",
   "execution_count": null,
   "id": "58dee338",
   "metadata": {
    "attributes": {
     "classes": [
      "Python"
     ],
     "id": ""
    }
   },
   "outputs": [],
   "source": [
    "df.groupby(level=0).agg(lambda x: x.values[0] * 0.25 + x.values[1] * 0.75)"
   ]
  },
  {
   "cell_type": "markdown",
   "id": "99589ffb",
   "metadata": {},
   "source": [
    "输出："
   ]
  },
  {
   "cell_type": "code",
   "execution_count": null,
   "id": "fe2dac28",
   "metadata": {},
   "outputs": [],
   "source": [
    "        语文    数学    英语\n",
    "学号\t\t\t\n",
    "1001\t93.00\t92.75\t78.00\n",
    "1002\t68.50\t72.75\t90.50\n",
    "1003\t92.25\t97.00\t71.50\n",
    "1004\t88.25\t64.25\t69.25\n",
    "1005\t83.50\t82.25\t81.25"
   ]
  },
  {
   "cell_type": "markdown",
   "id": "ed86e953",
   "metadata": {},
   "source": [
    "### 间隔索引\n",
    "\n",
    "间隔索引顾名思义是使用固定的间隔范围充当索引，我们通常会使用`interval_range`函数来创建间隔索引，代码如下所示。\n",
    "\n",
    "代码："
   ]
  },
  {
   "cell_type": "code",
   "execution_count": null,
   "id": "ce3a7b00",
   "metadata": {},
   "outputs": [],
   "source": [
    "index = pd.interval_range(start=0, end=5)\n",
    "index"
   ]
  },
  {
   "cell_type": "markdown",
   "id": "08692551",
   "metadata": {},
   "source": [
    "输出："
   ]
  },
  {
   "cell_type": "code",
   "execution_count": null,
   "id": "96dcde67",
   "metadata": {},
   "outputs": [],
   "source": [
    "IntervalIndex([(0, 1], (1, 2], (2, 3], (3, 4], (4, 5]], dtype='interval[int64, right]')"
   ]
  },
  {
   "cell_type": "markdown",
   "id": "de2c4423",
   "metadata": {},
   "source": [
    "`IntervalIndex`有一个名为`contains`的方法，可以检查范围内是否包含了某个元素，如下所示。\n",
    "\n",
    "代码："
   ]
  },
  {
   "cell_type": "code",
   "execution_count": null,
   "id": "1f993fa3",
   "metadata": {},
   "outputs": [],
   "source": [
    "index.contains(1.5)"
   ]
  },
  {
   "cell_type": "markdown",
   "id": "2c4e4895",
   "metadata": {},
   "source": [
    "输出："
   ]
  },
  {
   "cell_type": "code",
   "execution_count": null,
   "id": "3f26e954",
   "metadata": {},
   "outputs": [],
   "source": [
    "array([False,  True, False, False, False])"
   ]
  },
  {
   "cell_type": "markdown",
   "id": "b6b79a78",
   "metadata": {},
   "source": [
    "`IntervalIndex`还有一个名为`overlaps`的方法，可以检查一个范围跟其他的范围是否有重叠，如下所示。\n",
    "\n",
    "代码："
   ]
  },
  {
   "cell_type": "code",
   "execution_count": null,
   "id": "f587dd7b",
   "metadata": {},
   "outputs": [],
   "source": [
    "index.overlaps(pd.Interval(1.5, 3.5))"
   ]
  },
  {
   "cell_type": "markdown",
   "id": "f78efce0",
   "metadata": {},
   "source": [
    "输出："
   ]
  },
  {
   "cell_type": "code",
   "execution_count": null,
   "id": "e099e1f2",
   "metadata": {},
   "outputs": [],
   "source": [
    "array([False,  True,  True,  True, False])"
   ]
  },
  {
   "cell_type": "markdown",
   "id": "2f2da835",
   "metadata": {},
   "source": [
    "如果希望间隔范围是左闭右开的状态，可以在创建间隔索引时通过`closed='left'`来做到；如果希望两边都是关闭状态，可以将`close`参数的值赋值为`both`，代码如下所示。\n",
    "\n",
    "代码："
   ]
  },
  {
   "cell_type": "code",
   "execution_count": null,
   "id": "db3790e2",
   "metadata": {},
   "outputs": [],
   "source": [
    "index = pd.interval_range(start=0, end=5, closed='left')\n",
    "index"
   ]
  },
  {
   "cell_type": "markdown",
   "id": "393f9d73",
   "metadata": {},
   "source": [
    "输出："
   ]
  },
  {
   "cell_type": "code",
   "execution_count": null,
   "id": "9ac61f84",
   "metadata": {},
   "outputs": [],
   "source": [
    "IntervalIndex([[0, 1), [1, 2), [2, 3), [3, 4), [4, 5)], dtype='interval[int64, left]')"
   ]
  },
  {
   "cell_type": "markdown",
   "id": "195a0294",
   "metadata": {},
   "source": [
    "代码："
   ]
  },
  {
   "cell_type": "code",
   "execution_count": null,
   "id": "7d4218af",
   "metadata": {},
   "outputs": [],
   "source": [
    "index = pd.interval_range(start=pd.Timestamp('2022-01-01'), end=pd.Timestamp('2022-01-04'), closed='both')\n",
    "index"
   ]
  },
  {
   "cell_type": "markdown",
   "id": "6eac54a1",
   "metadata": {},
   "source": [
    "输出："
   ]
  },
  {
   "cell_type": "code",
   "execution_count": null,
   "id": "536e2109",
   "metadata": {},
   "outputs": [],
   "source": [
    "IntervalIndex([[2022-01-01, 2022-01-02], [2022-01-02, 2022-01-03], [2022-01-03, 2022-01-04]], dtype='interval[datetime64[ns], both]')"
   ]
  },
  {
   "cell_type": "markdown",
   "id": "9cf37b61",
   "metadata": {},
   "source": [
    "### 日期时间索引\n",
    "\n",
    "`DatetimeIndex`应该是众多索引中最复杂最重要的一种索引，我们通常会使用`date_range()`函数来创建日期时间索引，该函数有几个非常重要的参数`start`、`end`、`periods`、`freq`、`tz`，分别代表起始日期时间、结束日期时间、生成周期、采样频率和时区。我们先来看看如何创建`DatetimeIndex`对象，再来讨论它的相关运算和操作，代码如下所示。\n",
    "\n",
    "代码："
   ]
  },
  {
   "cell_type": "code",
   "execution_count": null,
   "id": "e86818a4",
   "metadata": {
    "attributes": {
     "classes": [
      "Python"
     ],
     "id": ""
    }
   },
   "outputs": [],
   "source": [
    "pd.date_range('2021-1-1', '2021-6-30', periods=10)"
   ]
  },
  {
   "cell_type": "markdown",
   "id": "1cca3588",
   "metadata": {},
   "source": [
    "输出："
   ]
  },
  {
   "cell_type": "code",
   "execution_count": null,
   "id": "90aaf987",
   "metadata": {},
   "outputs": [],
   "source": [
    "DatetimeIndex(['2021-01-01', '2021-01-21', '2021-02-10', '2021-03-02',\n",
    "               '2021-03-22', '2021-04-11', '2021-05-01', '2021-05-21',\n",
    "               '2021-06-10', '2021-06-30'],\n",
    "              dtype='datetime64[ns]', freq=None)"
   ]
  },
  {
   "cell_type": "markdown",
   "id": "c813bc5b",
   "metadata": {},
   "source": [
    "代码："
   ]
  },
  {
   "cell_type": "code",
   "execution_count": null,
   "id": "7da52243",
   "metadata": {
    "attributes": {
     "classes": [
      "Python"
     ],
     "id": ""
    }
   },
   "outputs": [],
   "source": [
    "pd.date_range('2021-1-1', '2021-6-30', freq='W')"
   ]
  },
  {
   "cell_type": "markdown",
   "id": "5067cd15",
   "metadata": {},
   "source": [
    "> **说明**：`freq=W`表示采样周期为一周，它会默认星期日是一周的开始；如果你希望星期一表示一周的开始，你可以将其修改为`freq=W-MON`；你也可以试着将该参数的值修改为`12H`，`M`，`Q`等，看看会发生什么，相信你不难猜到它们的含义。\n",
    "\n",
    "输出："
   ]
  },
  {
   "cell_type": "code",
   "execution_count": null,
   "id": "6953a45a",
   "metadata": {},
   "outputs": [],
   "source": [
    "DatetimeIndex(['2021-01-03', '2021-01-10', '2021-01-17', '2021-01-24',\n",
    "               '2021-01-31', '2021-02-07', '2021-02-14', '2021-02-21',\n",
    "               '2021-02-28', '2021-03-07', '2021-03-14', '2021-03-21',\n",
    "               '2021-03-28', '2021-04-04', '2021-04-11', '2021-04-18',\n",
    "               '2021-04-25', '2021-05-02', '2021-05-09', '2021-05-16',\n",
    "               '2021-05-23', '2021-05-30', '2021-06-06', '2021-06-13',\n",
    "               '2021-06-20', '2021-06-27'],\n",
    "              dtype='datetime64[ns]', freq='W-SUN')"
   ]
  },
  {
   "cell_type": "markdown",
   "id": "192754ce",
   "metadata": {},
   "source": [
    "`DatatimeIndex`可以跟`DateOffset`类型进行运算，这一点很好理解，以为我们可以设置一个时间差让时间向前或向后偏移，具体的操作如下所示。\n",
    "\n",
    "代码："
   ]
  },
  {
   "cell_type": "code",
   "execution_count": null,
   "id": "95ac5030",
   "metadata": {
    "attributes": {
     "classes": [
      "Python"
     ],
     "id": ""
    }
   },
   "outputs": [],
   "source": [
    "index = pd.date_range('2021-1-1', '2021-6-30', freq='W')\n",
    "index - pd.DateOffset(days=2)"
   ]
  },
  {
   "cell_type": "markdown",
   "id": "b1b90e75",
   "metadata": {},
   "source": [
    "输出："
   ]
  },
  {
   "cell_type": "code",
   "execution_count": null,
   "id": "90aa5281",
   "metadata": {},
   "outputs": [],
   "source": [
    "DatetimeIndex(['2021-01-01', '2021-01-08', '2021-01-15', '2021-01-22',\n",
    "               '2021-01-29', '2021-02-05', '2021-02-12', '2021-02-19',\n",
    "               '2021-02-26', '2021-03-05', '2021-03-12', '2021-03-19',\n",
    "               '2021-03-26', '2021-04-02', '2021-04-09', '2021-04-16',\n",
    "               '2021-04-23', '2021-04-30', '2021-05-07', '2021-05-14',\n",
    "               '2021-05-21', '2021-05-28', '2021-06-04', '2021-06-11',\n",
    "               '2021-06-18', '2021-06-25'],\n",
    "              dtype='datetime64[ns]', freq=None)"
   ]
  },
  {
   "cell_type": "markdown",
   "id": "6316947f",
   "metadata": {},
   "source": [
    "代码："
   ]
  },
  {
   "cell_type": "code",
   "execution_count": null,
   "id": "cf72f3c2",
   "metadata": {
    "attributes": {
     "classes": [
      "Python"
     ],
     "id": ""
    }
   },
   "outputs": [],
   "source": [
    "index + pd.DateOffset(hours=2, minutes=10)"
   ]
  },
  {
   "cell_type": "markdown",
   "id": "7151beaa",
   "metadata": {},
   "source": [
    "输出："
   ]
  },
  {
   "cell_type": "code",
   "execution_count": null,
   "id": "4dcf181e",
   "metadata": {},
   "outputs": [],
   "source": [
    "DatetimeIndex(['2021-01-03 02:10:00', '2021-01-10 02:10:00',\n",
    "               '2021-01-17 02:10:00', '2021-01-24 02:10:00',\n",
    "               '2021-01-31 02:10:00', '2021-02-07 02:10:00',\n",
    "               '2021-02-14 02:10:00', '2021-02-21 02:10:00',\n",
    "               '2021-02-28 02:10:00', '2021-03-07 02:10:00',\n",
    "               '2021-03-14 02:10:00', '2021-03-21 02:10:00',\n",
    "               '2021-03-28 02:10:00', '2021-04-04 02:10:00',\n",
    "               '2021-04-11 02:10:00', '2021-04-18 02:10:00',\n",
    "               '2021-04-25 02:10:00', '2021-05-02 02:10:00',\n",
    "               '2021-05-09 02:10:00', '2021-05-16 02:10:00',\n",
    "               '2021-05-23 02:10:00', '2021-05-30 02:10:00',\n",
    "               '2021-06-06 02:10:00', '2021-06-13 02:10:00',\n",
    "               '2021-06-20 02:10:00', '2021-06-27 02:10:00'],\n",
    "              dtype='datetime64[ns]', freq=None)"
   ]
  },
  {
   "cell_type": "markdown",
   "id": "ed21643d",
   "metadata": {},
   "source": [
    "如果`Series`对象或`DataFrame`对象使用了`DatetimeIndex`类型的索引，此时我们可以通过`asfreq()`方法指定一个时间频率来实现对数据的抽样，我们仍然以之前讲过的百度股票数据为例，给大家做一个演示。\n",
    "\n",
    "代码："
   ]
  },
  {
   "cell_type": "code",
   "execution_count": null,
   "id": "26402bba",
   "metadata": {
    "attributes": {
     "classes": [
      "Python"
     ],
     "id": ""
    }
   },
   "outputs": [],
   "source": [
    "baidu_df = pd.read_excel('data/2022年股票数据.xlsx', sheet_name='BIDU', index_col='Date')\n",
    "baidu_df.sort_index(inplace=True)\n",
    "baidu_df.asfreq('5D')"
   ]
  },
  {
   "cell_type": "markdown",
   "id": "f41a00b0",
   "metadata": {},
   "source": [
    "输出：\n",
    "\n",
    "<img src=\"res/baidu_stock_asfreq.png\" style=\"zoom:50%;\">\n",
    "\n",
    "大家可能注意到了，每5天抽取1天有可能会抽中非交易日，那么对应的列都变成了空值，为了解决这个问题，在使用`asfreq`方法时可以通过`method`参数来指定一种填充空值的方法，可以将相邻的交易日的数据填入进来。\n",
    "\n",
    "代码："
   ]
  },
  {
   "cell_type": "code",
   "execution_count": null,
   "id": "e1645a85",
   "metadata": {
    "attributes": {
     "classes": [
      "Python"
     ],
     "id": ""
    }
   },
   "outputs": [],
   "source": [
    "baidu_df.asfreq('5D', method='ffill')"
   ]
  },
  {
   "cell_type": "markdown",
   "id": "95c1469b",
   "metadata": {},
   "source": [
    "输出：\n",
    "\n",
    "<img src=\"res/baidu_stock_asfreq_ffill.png\" style=\"zoom:50%;\">\n",
    "\n",
    "当使用`DatetimeIndex`索引时，我们也可以通过`resample()`方法基于时间对数据进行重采样，相当于根据时间周期对数据进行了分组操作，分组之后还可以进行聚合统计，代码如下所示。\n",
    "\n",
    "代码："
   ]
  },
  {
   "cell_type": "code",
   "execution_count": null,
   "id": "e172e71c",
   "metadata": {
    "attributes": {
     "classes": [
      "Python"
     ],
     "id": ""
    }
   },
   "outputs": [],
   "source": [
    "baidu_df.resample('1M').mean()"
   ]
  },
  {
   "cell_type": "markdown",
   "id": "416e4c37",
   "metadata": {},
   "source": [
    "输出：\n",
    "\n",
    "<img src=\"res/baidu_stock_resample.png\" style=\"zoom:50%;\">\n",
    "\n",
    "代码："
   ]
  },
  {
   "cell_type": "code",
   "execution_count": null,
   "id": "ea378e2d",
   "metadata": {},
   "outputs": [],
   "source": [
    "baidu_df.resample('1M').agg(['mean', 'std'])"
   ]
  },
  {
   "cell_type": "markdown",
   "id": "7b912542",
   "metadata": {},
   "source": [
    "输出：\n",
    "\n",
    "<img src=\"res/baidu_stock_resample_agg.png\" style=\"zoom:100%;\">\n",
    "\n",
    "> **提示**：不知大家是否注意到，上面输出的`DataFrame` 的列索引是一个`MultiIndex`对象。你可以访问上面的`DataFrame`对象的`columns`属性看看。\n",
    "\n",
    "如果要实现日期时间的时区转换，我们可以先用`tz_localize()`方法将日期时间本地化，代码如下所示。\n",
    "\n",
    "代码："
   ]
  },
  {
   "cell_type": "code",
   "execution_count": null,
   "id": "2c5ee915",
   "metadata": {
    "attributes": {
     "classes": [
      "Python"
     ],
     "id": ""
    }
   },
   "outputs": [],
   "source": [
    "baidu_df = baidu_df.tz_localize('Asia/Chongqing')\n",
    "baidu_df"
   ]
  },
  {
   "cell_type": "markdown",
   "id": "3bff795b",
   "metadata": {},
   "source": [
    "输出：\n",
    "\n",
    "<img src=\"res/baidu_stock_tz_localize.png\" style=\"zoom:50%;\">\n",
    "\n",
    "在对时间本地化以后，我们再使用`tz_convert()`方法就可以实现转换时区，代码如下所示。\n",
    "\n",
    "代码："
   ]
  },
  {
   "cell_type": "code",
   "execution_count": null,
   "id": "db626313",
   "metadata": {
    "attributes": {
     "classes": [
      "Python"
     ],
     "id": ""
    }
   },
   "outputs": [],
   "source": [
    "baidu_df.tz_convert('America/New_York')"
   ]
  },
  {
   "cell_type": "markdown",
   "id": "0d1134b5",
   "metadata": {},
   "source": [
    "输出：\n",
    "\n",
    "<img src=\"res/baidu_stock_tz_convert.png\" style=\"zoom:50%;\">\n",
    "\n",
    "如果你的数据使用了`DatetimeIndex`类型的索引，那么你就很有可能要对数据进行时间序列分析，关于时间序列分析的方法和模型并不是本章节要探讨的内容，我们在其他的专栏中为大家分享。"
   ]
  }
 ],
 "metadata": {},
 "nbformat": 4,
 "nbformat_minor": 5
}
