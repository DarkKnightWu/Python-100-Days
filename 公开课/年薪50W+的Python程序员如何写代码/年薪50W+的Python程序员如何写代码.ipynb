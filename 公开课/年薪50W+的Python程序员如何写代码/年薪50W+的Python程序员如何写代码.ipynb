{
 "cells": [
  {
   "cell_type": "markdown",
   "id": "a027de01",
   "metadata": {},
   "source": [
    "## 年薪50W+的Python程序员如何写代码\n",
    "\n",
    "### 为什么要用Python写代码\n",
    "\n",
    "#### 没有对比就没有伤害\n",
    "\n",
    "> **很多互联网和移动互联网企业对开发效率的要求高于对执行效率的要求**。\n",
    "\n",
    "##### 例子1：hello, world\n",
    "\n",
    "C的版本："
   ]
  },
  {
   "cell_type": "code",
   "execution_count": null,
   "id": "1357f180",
   "metadata": {
    "attributes": {
     "classes": [
      "C"
     ],
     "id": ""
    }
   },
   "outputs": [],
   "source": [
    "#include <stdio.h>\n",
    "\n",
    "int main() {\n",
    "    printf(\"hello, world\\n\");\n",
    "    return 0;\n",
    "}"
   ]
  },
  {
   "cell_type": "markdown",
   "id": "6d3445f7",
   "metadata": {},
   "source": [
    "Java的版本："
   ]
  },
  {
   "cell_type": "code",
   "execution_count": null,
   "id": "27861644",
   "metadata": {
    "attributes": {
     "classes": [
      "Java"
     ],
     "id": ""
    }
   },
   "outputs": [],
   "source": [
    "class Example01 {\n",
    "    \n",
    "    public static void main(String[] args) {\n",
    "        System.out.println(\"hello, world\");\n",
    "    }\n",
    "}"
   ]
  },
  {
   "cell_type": "markdown",
   "id": "595b5efb",
   "metadata": {},
   "source": [
    "Python的版本："
   ]
  },
  {
   "cell_type": "code",
   "execution_count": null,
   "id": "ff40445b",
   "metadata": {
    "attributes": {
     "classes": [
      "Python"
     ],
     "id": ""
    }
   },
   "outputs": [],
   "source": [
    "print('hello, world')"
   ]
  },
  {
   "cell_type": "markdown",
   "id": "e835fdf4",
   "metadata": {},
   "source": [
    "#####  例子2：1-100求和\n",
    "\n",
    "C的版本："
   ]
  },
  {
   "cell_type": "code",
   "execution_count": null,
   "id": "99e828c6",
   "metadata": {
    "attributes": {
     "classes": [
      "C"
     ],
     "id": ""
    }
   },
   "outputs": [],
   "source": [
    "#include <stdio.h>\n",
    "\n",
    "int main() {\n",
    "    int total = 0;\n",
    "    for (int i = 1; i <= 100; ++i) {\n",
    "        total += i;\n",
    "    }\n",
    "    printf(\"%d\\n\", total);\n",
    "\treturn 0;\n",
    "}"
   ]
  },
  {
   "cell_type": "markdown",
   "id": "d6480235",
   "metadata": {},
   "source": [
    "Python的版本："
   ]
  },
  {
   "cell_type": "code",
   "execution_count": null,
   "id": "206b520d",
   "metadata": {
    "attributes": {
     "classes": [
      "Java"
     ],
     "id": ""
    }
   },
   "outputs": [],
   "source": [
    "print(sum(range(1, 101)))"
   ]
  },
  {
   "cell_type": "markdown",
   "id": "f5ccec2d",
   "metadata": {},
   "source": [
    "##### 例子3：创建和初始化数组（列表）\n",
    "\n",
    "Java的版本："
   ]
  },
  {
   "cell_type": "code",
   "execution_count": null,
   "id": "aeaa1541",
   "metadata": {
    "attributes": {
     "classes": [
      "Java"
     ],
     "id": ""
    }
   },
   "outputs": [],
   "source": [
    "import java.util.Arrays;\n",
    "\n",
    "public class Example03 {\n",
    "\n",
    "    public static void main(String[] args) {\n",
    "        boolean[] values = new boolean[10];\n",
    "        Arrays.fill(values, true);\n",
    "        System.out.println(Arrays.toString(values));\n",
    "\n",
    "        int[] numbers = new int[10];\n",
    "        for (int i = 0; i < numbers.length; ++i) {\n",
    "            numbers[i] = i + 1;\n",
    "        }\n",
    "        System.out.println(Arrays.toString(numbers));\n",
    "    }\n",
    "}"
   ]
  },
  {
   "cell_type": "markdown",
   "id": "a6fc7d36",
   "metadata": {},
   "source": [
    "Python的版本："
   ]
  },
  {
   "cell_type": "code",
   "execution_count": null,
   "id": "525dded7",
   "metadata": {
    "attributes": {
     "classes": [
      "Python"
     ],
     "id": ""
    }
   },
   "outputs": [],
   "source": [
    "values = [True] * 10\n",
    "print(values)\n",
    "numbers = [x for x in range(1, 11)]\n",
    "print(numbers)"
   ]
  },
  {
   "cell_type": "markdown",
   "id": "c5fd89fe",
   "metadata": {},
   "source": [
    "##### 例子4：双色球随机选号\n",
    "\n",
    "Java的版本："
   ]
  },
  {
   "cell_type": "code",
   "execution_count": null,
   "id": "2e6ca833",
   "metadata": {
    "attributes": {
     "classes": [
      "Java"
     ],
     "id": ""
    }
   },
   "outputs": [],
   "source": [
    "import java.util.List;\n",
    "import java.util.ArrayList;\n",
    "import java.util.Collections;\n",
    "import java.util.Scanner;\n",
    "\n",
    "class Example03 {\n",
    "\n",
    "    /**\n",
    "     * 产生[min, max)范围的随机整数\n",
    "     */\n",
    "    public static int randomInt(int min, int max) {\n",
    "        return (int) (Math.random() * (max - min) + min);\n",
    "    }\n",
    "    \n",
    "    /**\n",
    "     * 输出一组双色球号码\n",
    "     */\n",
    "    public static void display(List<Integer> balls) {\n",
    "        for (int i = 0; i < balls.size(); ++i) {\n",
    "            System.out.printf(\"%02d \", balls.get(i));\n",
    "            if (i == balls.size() - 2) {\n",
    "                System.out.print(\"| \");\n",
    "            }\n",
    "        }\n",
    "        System.out.println();\n",
    "    }\n",
    "\n",
    "    /**\n",
    "     * 生成一组随机号码\n",
    "     */\n",
    "    public static List<Integer> generate() {\n",
    "        List<Integer> redBalls = new ArrayList<>();\n",
    "        for (int i = 1; i <= 33; ++i) {\n",
    "            redBalls.add(i);\n",
    "        }\n",
    "        List<Integer> selectedBalls = new ArrayList<>();\n",
    "        for (int i = 0; i < 6; ++i) {\n",
    "            selectedBalls.add(redBalls.remove(randomInt(0, redBalls.size())));\n",
    "        }\n",
    "        Collections.sort(selectedBalls);\n",
    "        selectedBalls.add(randomInt(1, 17));\n",
    "        return selectedBalls;\n",
    "    }\n",
    "    \n",
    "    public static void main(String[] args) {\n",
    "        try (Scanner sc = new Scanner(System.in)) {\n",
    "            System.out.print(\"机选几注: \");\n",
    "            int num = sc.nextInt();\n",
    "            for (int i = 0; i < num; ++i) {\n",
    "                display(generate());\n",
    "            }\n",
    "        }\n",
    "    }\n",
    "}"
   ]
  },
  {
   "cell_type": "markdown",
   "id": "c6c949e9",
   "metadata": {},
   "source": [
    "Python的版本："
   ]
  },
  {
   "cell_type": "code",
   "execution_count": null,
   "id": "b8a02793",
   "metadata": {
    "attributes": {
     "classes": [
      "Python"
     ],
     "id": ""
    }
   },
   "outputs": [],
   "source": [
    "from random import randint, sample\n",
    "\n",
    "\n",
    "def generate():\n",
    "    \"\"\"生成一组随机号码\"\"\"\n",
    "    red_balls = [x for x in range(1, 34)]\n",
    "    selected_balls = sample(red_balls, 6)\n",
    "    selected_balls.sort()\n",
    "    selected_balls.append(randint(1, 16))\n",
    "    return selected_balls\n",
    "\n",
    "\n",
    "def display(balls):\n",
    "    \"\"\"输出一组双色球号码\"\"\"\n",
    "    for index, ball in enumerate(balls):\n",
    "        print(f'{ball:0>2d}', end=' ')\n",
    "        if index == len(balls) - 2:\n",
    "            print('|', end=' ')\n",
    "    print()\n",
    "\n",
    "\n",
    "num = int(input('机选几注: '))\n",
    "for _ in range(num):\n",
    "    display(generate())"
   ]
  },
  {
   "cell_type": "markdown",
   "id": "9a1f722c",
   "metadata": {},
   "source": [
    "> **温馨提示**：珍爱生命，远离任何形式的赌博。\n",
    "\n",
    "##### 例子5：实现一个简单的HTTP服务器。\n",
    "\n",
    "Java的版本：\n",
    "\n",
    "> **说明**：JDK 1.6以前，需要通过套接字编程来实现，具体又可以分为多线程和NIO两种做法。JDK 1.6以后，可以使用`com.sun.net.httpserver`包提供的`HttpServer`类来实现。"
   ]
  },
  {
   "cell_type": "code",
   "execution_count": null,
   "id": "fd018e75",
   "metadata": {
    "attributes": {
     "classes": [
      "Java"
     ],
     "id": ""
    }
   },
   "outputs": [],
   "source": [
    "import com.sun.net.httpserver.HttpExchange;\n",
    "import com.sun.net.httpserver.HttpHandler;\n",
    "import com.sun.net.httpserver.HttpServer;\n",
    "\n",
    "import java.io.IOException;\n",
    "import java.io.OutputStream;\n",
    "import java.net.InetSocketAddress;\n",
    "\n",
    "class Example05 {\n",
    "\n",
    "    public static void main(String[] arg) throws Exception {\n",
    "        HttpServer server = HttpServer.create(new InetSocketAddress(8000), 0);\n",
    "        server.createContext(\"/\", new RequestHandler());\n",
    "        server.start();\n",
    "    }\n",
    "\n",
    "    static class RequestHandler implements HttpHandler {\n",
    "        \n",
    "        @Override\n",
    "        public void handle(HttpExchange exchange) throws IOException {\n",
    "            String response = \"<h1>hello, world</h1>\";\n",
    "            exchange.sendResponseHeaders(200, 0);\n",
    "            try (OutputStream os = exchange.getResponseBody()) {\n",
    "                os.write(response.getBytes());\n",
    "            }\n",
    "        }\n",
    "    }\n",
    "}"
   ]
  },
  {
   "cell_type": "markdown",
   "id": "92e2b900",
   "metadata": {},
   "source": [
    "Python的版本："
   ]
  },
  {
   "cell_type": "code",
   "execution_count": null,
   "id": "5e3c5b53",
   "metadata": {
    "attributes": {
     "classes": [
      "Python"
     ],
     "id": ""
    }
   },
   "outputs": [],
   "source": [
    "from http.server import HTTPServer, SimpleHTTPRequestHandler\n",
    "\n",
    "\n",
    "class RequestHandler(SimpleHTTPRequestHandler):\n",
    "\n",
    "    def do_GET(self):\n",
    "        self.send_response(200)\n",
    "        self.end_headers()\n",
    "        self.wfile.write('<h1>hello, world</h1>'.encode())\n",
    "\n",
    "\n",
    "server = HTTPServer(('', 8000), RequestHandler)\n",
    "server.serve_forever()"
   ]
  },
  {
   "cell_type": "markdown",
   "id": "469a0a39",
   "metadata": {},
   "source": [
    "或"
   ]
  },
  {
   "cell_type": "code",
   "execution_count": null,
   "id": "1b535239",
   "metadata": {
    "attributes": {
     "classes": [
      "Python"
     ],
     "id": ""
    }
   },
   "outputs": [],
   "source": [
    "python3 -m http.server 8000"
   ]
  },
  {
   "cell_type": "markdown",
   "id": "ff655335",
   "metadata": {},
   "source": [
    "#### 一行Python代码可以做什么\n",
    "\n",
    "> **很多时候，你的问题只需一行Python代码就能解决**。"
   ]
  },
  {
   "cell_type": "code",
   "execution_count": null,
   "id": "6a4a7185",
   "metadata": {
    "attributes": {
     "classes": [
      "Python"
     ],
     "id": ""
    }
   },
   "outputs": [],
   "source": [
    "# 一行代码实现求阶乘函数\n",
    "fac = lambda x: __import__('functools').reduce(int.__mul__, range(1, x + 1), 1)\n",
    "\n",
    "# 一行代码实现求最大公约数函数\n",
    "gcd = lambda x, y: y % x and gcd(y % x, x) or x\n",
    "\n",
    "# 一行代码实现判断素数的函数\n",
    "is_prime = lambda x: x > 1 and not [f for f in range(2, int(x ** 0.5) + 1) if x % f == 0]\n",
    "\n",
    "# 一行代码实现快速排序\n",
    "quick_sort = lambda items: len(items) and quick_sort([x for x in items[1:] if x < items[0]]) + [items[0]] + quick_sort([x for x in items[1:] if x > items[0]]) or items\n",
    "\n",
    "# 生成FizzBuzz列表\n",
    "['Fizz'[x % 3 * 4:] + 'Buzz'[x % 5 * 4:] or x for x in range(1, 101)]"
   ]
  },
  {
   "cell_type": "markdown",
   "id": "8f77208b",
   "metadata": {},
   "source": [
    "#### 设计模式从未如此简单\n",
    "\n",
    "> **Python是动态类型语言，大量的设计模式在Python中被简化或弱化**。\n",
    "\n",
    "思考：如何优化下面的代码。"
   ]
  },
  {
   "cell_type": "code",
   "execution_count": null,
   "id": "be516b80",
   "metadata": {
    "attributes": {
     "classes": [
      "Python"
     ],
     "id": ""
    }
   },
   "outputs": [],
   "source": [
    "def fib(num):\n",
    "    if num in (1, 2):\n",
    "        return 1\n",
    "    return fib(num - 1) + fib(num - 2)"
   ]
  },
  {
   "cell_type": "markdown",
   "id": "6f622b53",
   "metadata": {},
   "source": [
    "代理模式在Python中可以通过内置的或自定义的装饰器来实现。"
   ]
  },
  {
   "cell_type": "code",
   "execution_count": null,
   "id": "9c624b56",
   "metadata": {
    "attributes": {
     "classes": [
      "Python"
     ],
     "id": ""
    }
   },
   "outputs": [],
   "source": [
    "from functools import lru_cache\n",
    "\n",
    "\n",
    "@lru_cache()\n",
    "def fib(num):\n",
    "    if num in (1, 2):\n",
    "        return 1\n",
    "    return fib(num - 1) + fib(num - 2)\n",
    "\n",
    "\n",
    "for n in range(1, 121):\n",
    "    print(f'{n}: {fib(n)}')"
   ]
  },
  {
   "cell_type": "markdown",
   "id": "592c4aa7",
   "metadata": {},
   "source": [
    "> **说明**：通过Python标准库`functools`模块的`lru_cache`装饰器为`fib`函数加上缓存代理，缓存函数执行的中间结果，优化代码的性能。\n",
    "\n",
    "单例模式在Python中可以通过自定义的装饰器或元类来实现。"
   ]
  },
  {
   "cell_type": "code",
   "execution_count": null,
   "id": "0435e3a9",
   "metadata": {
    "attributes": {
     "classes": [
      "Python"
     ],
     "id": ""
    }
   },
   "outputs": [],
   "source": [
    "from functools import wraps\n",
    "from threading import RLock\n",
    "\n",
    "\n",
    "def singleton(cls):\n",
    "    instances = {}\n",
    "    lock = RLock()\n",
    "\n",
    "    @wraps(cls)\n",
    "    def wrapper(*args, **kwargs):\n",
    "        if cls not in instances:\n",
    "            with lock:\n",
    "                if cls not in instances:\n",
    "                    instances[cls] = cls(*args, **kwargs)\n",
    "        return instances[cls]"
   ]
  },
  {
   "cell_type": "markdown",
   "id": "77d9f76c",
   "metadata": {},
   "source": [
    "> **说明**：需要实现单例模式的类只需要添加上面的装饰器即可。\n",
    "\n",
    "原型模式在Python中可以通过元类来实现。"
   ]
  },
  {
   "cell_type": "code",
   "execution_count": null,
   "id": "faee81df",
   "metadata": {
    "attributes": {
     "classes": [
      "Python"
     ],
     "id": ""
    }
   },
   "outputs": [],
   "source": [
    "import copy\n",
    "\n",
    "\n",
    "class PrototypeMeta(type):\n",
    "\n",
    "    def __init__(cls, *args, **kwargs):\n",
    "        super().__init__(*args, **kwargs)\n",
    "        cls.clone = lambda self, is_deep=True: \\\n",
    "            copy.deepcopy(self) if is_deep else copy.copy(self)"
   ]
  },
  {
   "cell_type": "markdown",
   "id": "77c38caf",
   "metadata": {},
   "source": [
    "> **说明**：通过元类给指定了`metaclass=PrototypeMeta`的类添加一个`clone`方法实现对象克隆，利用Python标准库`copy`模块的`copy`和`deepcopy`分别实现浅拷贝和深拷贝。\n",
    "\n",
    "#### 数据采集和数据分析从未如此简单\n",
    "\n",
    "> **网络数据采集是Python最擅长的领域之一。**\n",
    "\n",
    "例子：获取豆瓣电影“Top250”。"
   ]
  },
  {
   "cell_type": "code",
   "execution_count": null,
   "id": "abf7557f",
   "metadata": {
    "attributes": {
     "classes": [
      "Python"
     ],
     "id": ""
    }
   },
   "outputs": [],
   "source": [
    "import random\n",
    "import time\n",
    "\n",
    "import requests\n",
    "from bs4 import BeautifulSoup\n",
    "\n",
    "for page in range(10):\n",
    "    resp = requests.get(\n",
    "        url=f'https://movie.douban.com/top250?start={25 * page}',\n",
    "        headers={'User-Agent': 'BaiduSpider'}\n",
    "    )\n",
    "    soup = BeautifulSoup(resp.text, \"lxml\")\n",
    "    for elem in soup.select('a > span.title:nth-child(1)'):\n",
    "        print(elem.text)\n",
    "    time.sleep(random.random() * 5)"
   ]
  },
  {
   "cell_type": "markdown",
   "id": "3b1d4950",
   "metadata": {},
   "source": [
    "> **利用NumPy、Pandas、Matplotlib可以轻松实现数据分析和可视化**。\n",
    "\n",
    "![](res/use-pandas-in-jupyter-notebook.png)\n",
    "\n",
    "### 写出Python代码的正确姿势\n",
    "\n",
    "> **用Python写代码就要写出Pythonic的代码**。\n",
    "\n",
    "#### 姿势1：选择结构的正确姿势\n",
    "\n",
    "跨界开发者的代码："
   ]
  },
  {
   "cell_type": "code",
   "execution_count": null,
   "id": "86fff8d3",
   "metadata": {
    "attributes": {
     "classes": [
      "Python"
     ],
     "id": ""
    }
   },
   "outputs": [],
   "source": [
    "name = 'jackfrued'\n",
    "fruits = ['apple', 'orange', 'grape']\n",
    "owners = {'name': '骆昊', 'age': 40, 'gender': True}\n",
    "if name != '' and len(fruits) > 0 and len(owners.keys()) > 0:\n",
    "    print('Jackfrued love fruits.')"
   ]
  },
  {
   "cell_type": "markdown",
   "id": "221a2246",
   "metadata": {},
   "source": [
    "Pythonic的代码："
   ]
  },
  {
   "cell_type": "code",
   "execution_count": null,
   "id": "aec497f6",
   "metadata": {
    "attributes": {
     "classes": [
      "Python"
     ],
     "id": ""
    }
   },
   "outputs": [],
   "source": [
    "name = 'jackfrued'\n",
    "fruits = ['apple', 'orange', 'grape']\n",
    "owners = {'name': '骆昊', 'age': 40, 'gender': True}\n",
    "if name and fruits and owners:\n",
    "    print('Jackfrued love fruits.')"
   ]
  },
  {
   "cell_type": "markdown",
   "id": "69d6e736",
   "metadata": {},
   "source": [
    "#### 姿势2：交换两个变量的正确姿势\n",
    "\n",
    "跨界开发者的代码："
   ]
  },
  {
   "cell_type": "code",
   "execution_count": null,
   "id": "7db53f79",
   "metadata": {
    "attributes": {
     "classes": [
      "Python"
     ],
     "id": ""
    }
   },
   "outputs": [],
   "source": [
    "temp = a\n",
    "a = b\n",
    "b = temp"
   ]
  },
  {
   "cell_type": "markdown",
   "id": "234b01ca",
   "metadata": {},
   "source": [
    "或"
   ]
  },
  {
   "cell_type": "code",
   "execution_count": null,
   "id": "9363a18e",
   "metadata": {
    "attributes": {
     "classes": [
      "Python"
     ],
     "id": ""
    }
   },
   "outputs": [],
   "source": [
    "a = a ^ b\n",
    "b = a ^ b\n",
    "a = a ^ b"
   ]
  },
  {
   "cell_type": "markdown",
   "id": "485fa915",
   "metadata": {},
   "source": [
    "Pythonic的代码："
   ]
  },
  {
   "cell_type": "code",
   "execution_count": null,
   "id": "96f48002",
   "metadata": {
    "attributes": {
     "classes": [
      "Python"
     ],
     "id": ""
    }
   },
   "outputs": [],
   "source": [
    "a, b = b, a"
   ]
  },
  {
   "cell_type": "markdown",
   "id": "49c05d4b",
   "metadata": {},
   "source": [
    "#### 姿势3：用序列组装字符串的正确姿势\n",
    "\n",
    "跨界开发者的代码："
   ]
  },
  {
   "cell_type": "code",
   "execution_count": null,
   "id": "e19d324e",
   "metadata": {
    "attributes": {
     "classes": [
      "Python"
     ],
     "id": ""
    }
   },
   "outputs": [],
   "source": [
    "chars = ['j', 'a', 'c', 'k', 'f', 'r', 'u', 'e', 'd']\n",
    "name = ''\n",
    "for char in chars:\n",
    "    name += char"
   ]
  },
  {
   "cell_type": "markdown",
   "id": "785a6841",
   "metadata": {},
   "source": [
    "Pythonic的代码："
   ]
  },
  {
   "cell_type": "code",
   "execution_count": null,
   "id": "ea109eaf",
   "metadata": {
    "attributes": {
     "classes": [
      "Python"
     ],
     "id": ""
    }
   },
   "outputs": [],
   "source": [
    "chars = ['j', 'a', 'c', 'k', 'f', 'r', 'u', 'e', 'd']\n",
    "name = ''.join(chars)"
   ]
  },
  {
   "cell_type": "markdown",
   "id": "a16b7a87",
   "metadata": {},
   "source": [
    "#### 姿势4：遍历列表的正确姿势\n",
    "\n",
    "跨界开发者的代码："
   ]
  },
  {
   "cell_type": "code",
   "execution_count": null,
   "id": "a4535c6f",
   "metadata": {
    "attributes": {
     "classes": [
      "Python"
     ],
     "id": ""
    }
   },
   "outputs": [],
   "source": [
    "fruits = ['orange', 'grape', 'pitaya', 'blueberry']\n",
    "index = 0\n",
    "for fruit in fruits:\n",
    "    print(index, ':', fruit)\n",
    "    index += 1"
   ]
  },
  {
   "cell_type": "markdown",
   "id": "952ca7d3",
   "metadata": {},
   "source": [
    "Pythonic的代码："
   ]
  },
  {
   "cell_type": "code",
   "execution_count": null,
   "id": "8c1e2e42",
   "metadata": {
    "attributes": {
     "classes": [
      "Python"
     ],
     "id": ""
    }
   },
   "outputs": [],
   "source": [
    "fruits = ['orange', 'grape', 'pitaya', 'blueberry']\n",
    "for index, fruit in enumerate(fruits):\n",
    "    print(index, ':', fruit)"
   ]
  },
  {
   "cell_type": "markdown",
   "id": "b2ef3464",
   "metadata": {},
   "source": [
    "#### 姿势5：创建列表的正确姿势\n",
    "\n",
    "跨界开发者的代码："
   ]
  },
  {
   "cell_type": "code",
   "execution_count": null,
   "id": "06008e4d",
   "metadata": {
    "attributes": {
     "classes": [
      "Python"
     ],
     "id": ""
    }
   },
   "outputs": [],
   "source": [
    "data = [7, 20, 3, 15, 11]\n",
    "result = []\n",
    "for i in data:\n",
    "    if i > 10:\n",
    "        result.append(i * 3)"
   ]
  },
  {
   "cell_type": "markdown",
   "id": "483de5fe",
   "metadata": {},
   "source": [
    "Pythonic的代码："
   ]
  },
  {
   "cell_type": "code",
   "execution_count": null,
   "id": "34c80b6d",
   "metadata": {
    "attributes": {
     "classes": [
      "Python"
     ],
     "id": ""
    }
   },
   "outputs": [],
   "source": [
    "data = [7, 20, 3, 15, 11]\n",
    "result = [num * 3 for num in data if num > 10]"
   ]
  },
  {
   "cell_type": "markdown",
   "id": "090951cb",
   "metadata": {},
   "source": [
    "#### 姿势6：确保代码健壮性的正确姿势\n",
    "\n",
    "跨界开发者的代码："
   ]
  },
  {
   "cell_type": "code",
   "execution_count": null,
   "id": "ed03f27b",
   "metadata": {
    "attributes": {
     "classes": [
      "Python"
     ],
     "id": ""
    }
   },
   "outputs": [],
   "source": [
    "data = {'x': '5'}\n",
    "if 'x' in data and isinstance(data['x'], (str, int, float)) \\\n",
    "        and data['x'].isdigit():\n",
    "    value = int(data['x'])\n",
    "    print(value)\n",
    "else:\n",
    "    value = None"
   ]
  },
  {
   "cell_type": "markdown",
   "id": "ecea4624",
   "metadata": {},
   "source": [
    "Pythonic的代码："
   ]
  },
  {
   "cell_type": "code",
   "execution_count": null,
   "id": "ceaa5746",
   "metadata": {
    "attributes": {
     "classes": [
      "Python"
     ],
     "id": ""
    }
   },
   "outputs": [],
   "source": [
    "data = {'x': '5'}\n",
    "try:\n",
    "    value = int(data['x'])\n",
    "    print(value)\n",
    "except (KeyError, TypeError, ValueError):\n",
    "    value = None"
   ]
  },
  {
   "cell_type": "markdown",
   "id": "64ea1d61",
   "metadata": {},
   "source": [
    "### 使用Lint工具检查你的代码规范\n",
    "\n",
    "阅读下面的代码，看看你能看出哪些地方是有毛病的或者说不符合Python的编程规范的。"
   ]
  },
  {
   "cell_type": "code",
   "execution_count": null,
   "id": "027e219e",
   "metadata": {
    "attributes": {
     "classes": [
      "Python"
     ],
     "id": ""
    }
   },
   "outputs": [],
   "source": [
    "from enum import *\n",
    "\n",
    "@unique\n",
    "class Suite (Enum):\n",
    "    SPADE, HEART, CLUB, DIAMOND = range(4)\n",
    "\n",
    "class Card(object):\n",
    "    def __init__(self,suite,face ):\n",
    "        self.suite = suite\n",
    "        self.face = face\n",
    "\n",
    "\n",
    "    def __repr__(self):\n",
    "        suites='♠♥♣♦'\n",
    "        faces=['','A','2','3','4','5','6','7','8','9','10','J','Q','K']\n",
    "        return f'{suites[self.suite.value]}{faces[self.face]}'\n",
    "\n",
    "import random\n",
    "\n",
    "class Poker(object):\n",
    "    def __init__(self):\n",
    "        self.cards =[Card(suite, face) for suite in Suite\n",
    "            for face in range(1, 14)]\n",
    "        self.current=0\n",
    "    def shuffle (self):\n",
    "        self.current=0\n",
    "        random.shuffle(self.cards)\n",
    "    def deal (self):\n",
    "        card = self.cards[self.current]\n",
    "        self.current+=1\n",
    "        return card\n",
    "    def has_next (self):\n",
    "        if self.current<len(self.cards): return True\n",
    "        return False\n",
    "\n",
    "p = Poker()\n",
    "p.shuffle()\n",
    "print(p.cards)"
   ]
  },
  {
   "cell_type": "markdown",
   "id": "d3ffbd74",
   "metadata": {},
   "source": [
    "#### PyLint的安装和使用\n",
    "\n",
    "Pylint是Python代码分析工具，它分析Python代码中的错误，查找不符合代码风格标准（默认使用的代码风格是 PEP 8）和有潜在问题的代码。"
   ]
  },
  {
   "cell_type": "code",
   "execution_count": null,
   "id": "a9f24c88",
   "metadata": {
    "attributes": {
     "classes": [
      "Bash"
     ],
     "id": ""
    }
   },
   "outputs": [],
   "source": [
    "pip install pylint\n",
    "pylint [options] module_or_package"
   ]
  },
  {
   "cell_type": "markdown",
   "id": "f3b9458a",
   "metadata": {},
   "source": [
    "Pylint输出格式如下所示。\n",
    "\n",
    "> 模块名:行号:列号:    消息类型    消息\n",
    "\n",
    "消息类型有以下几种：\n",
    "\n",
    "1. C - 惯例：违反了Python编程惯例（PEP 8）的代码。\n",
    "2. R - 重构：写得比较糟糕需要重构的代码。\n",
    "3. W - 警告：代码中存在的不影响代码运行的问题。\n",
    "4. E - 错误：代码中存在的影响代码运行的错误。\n",
    "5. F - 致命错误：导致Pylint无法继续运行的错误。\n",
    "\n",
    "Pylint命令的常用参数：\n",
    "\n",
    "1. `--disable=<msg ids>`或`-d <msg ids>`：禁用指定类型的消息。\n",
    "2. `--errors-only`或`-E`：只显示错误。\n",
    "3. `--rcfile=<file>`：指定配置文件。\n",
    "4. `--list-msgs`：列出Pylint的消息清单。\n",
    "5. `--generate-rcfile`：生成配置文件的样例。\n",
    "6. `--reports=<y_or_n>`或`-r <y_or_n>`：是否生成检查报告。\n",
    "\n",
    "### 使用Profile工具剖析你的代码性能\n",
    "\n",
    "#### cProfile模块\n",
    "\n",
    "`example01.py`"
   ]
  },
  {
   "cell_type": "code",
   "execution_count": null,
   "id": "e36b28b1",
   "metadata": {
    "attributes": {
     "classes": [
      "Python"
     ],
     "id": ""
    }
   },
   "outputs": [],
   "source": [
    "import cProfile\n",
    "\n",
    "\n",
    "def is_prime(num):\n",
    "    for factor in range(2, int(num ** 0.5) + 1):\n",
    "        if num % factor == 0:\n",
    "            return False\n",
    "    return True\n",
    "\n",
    "\n",
    "class PrimeIter:\n",
    "\n",
    "    def __init__(self, total):\n",
    "        self.counter = 0\n",
    "        self.current = 1\n",
    "        self.total = total\n",
    "\n",
    "    def __iter__(self):\n",
    "        return self\n",
    "\n",
    "    def __next__(self):\n",
    "        if self.counter < self.total:\n",
    "            self.current += 1\n",
    "            while not is_prime(self.current):\n",
    "                self.current += 1\n",
    "            self.counter += 1\n",
    "            return self.current\n",
    "        raise StopIteration()\n",
    "\n",
    "        \n",
    "cProfile.run('list(PrimeIter(10000))')"
   ]
  },
  {
   "cell_type": "markdown",
   "id": "65e5b47a",
   "metadata": {},
   "source": [
    "执行结果："
   ]
  },
  {
   "cell_type": "code",
   "execution_count": null,
   "id": "d944eeac",
   "metadata": {},
   "outputs": [],
   "source": [
    "   114734 function calls in 0.573 seconds\n",
    "\n",
    "   Ordered by: standard name\n",
    "\n",
    "   ncalls  tottime  percall  cumtime  percall filename:lineno(function)\n",
    "        1    0.006    0.006    0.573    0.573 <string>:1(<module>)\n",
    "        1    0.000    0.000    0.000    0.000 example.py:14(__init__)\n",
    "        1    0.000    0.000    0.000    0.000 example.py:19(__iter__)\n",
    "    10001    0.086    0.000    0.567    0.000 example.py:22(__next__)\n",
    "   104728    0.481    0.000    0.481    0.000 example.py:5(is_prime)\n",
    "        1    0.000    0.000    0.573    0.573 {built-in method builtins.exec}\n",
    "        1    0.000    0.000    0.000    0.000 {method 'disable' of '_lsprof.Profiler' objects}"
   ]
  },
  {
   "cell_type": "markdown",
   "id": "9af0c16a",
   "metadata": {},
   "source": [
    "####line_profiler\n",
    "\n",
    "给需要剖析时间性能的函数加上一个`profile`装饰器，这个函数每行代码的执行次数和时间都会被剖析。\n",
    "\n",
    "`example02.py`"
   ]
  },
  {
   "cell_type": "code",
   "execution_count": null,
   "id": "62713daa",
   "metadata": {
    "attributes": {
     "classes": [
      "Python"
     ],
     "id": ""
    }
   },
   "outputs": [],
   "source": [
    "@profile\n",
    "def is_prime(num):\n",
    "    for factor in range(2, int(num ** 0.5) + 1):\n",
    "        if num % factor == 0:\n",
    "            return False\n",
    "    return True\n",
    "\n",
    "\n",
    "class PrimeIter:\n",
    "\n",
    "    def __init__(self, total):\n",
    "        self.counter = 0\n",
    "        self.current = 1\n",
    "        self.total = total\n",
    "\n",
    "    def __iter__(self):\n",
    "        return self\n",
    "\n",
    "    def __next__(self):\n",
    "        if self.counter < self.total:\n",
    "            self.current += 1\n",
    "            while not is_prime(self.current):\n",
    "                self.current += 1\n",
    "            self.counter += 1\n",
    "            return self.current\n",
    "        raise StopIteration()\n",
    "\n",
    "\n",
    "list(PrimeIter(1000))"
   ]
  },
  {
   "cell_type": "markdown",
   "id": "544d196c",
   "metadata": {},
   "source": [
    "安装和使用`line_profiler`三方库。"
   ]
  },
  {
   "cell_type": "code",
   "execution_count": null,
   "id": "2595237a",
   "metadata": {
    "attributes": {
     "classes": [
      "Bash"
     ],
     "id": ""
    }
   },
   "outputs": [],
   "source": [
    "pip install line_profiler\n",
    "kernprof -lv example.py\n",
    "\n",
    "Wrote profile results to example02.py.lprof\n",
    "Timer unit: 1e-06 s\n",
    "\n",
    "Total time: 0.089513 s\n",
    "File: example02.py\n",
    "Function: is_prime at line 1\n",
    "\n",
    " #      Hits         Time  Per Hit   % Time  Line Contents\n",
    "==============================================================\n",
    " 1                                           @profile\n",
    " 2                                           def is_prime(num):\n",
    " 3     86624      43305.0      0.5     48.4      for factor in range(2, int(num ** 0.5) + 1):\n",
    " 4     85624      42814.0      0.5     47.8          if num % factor == 0:\n",
    " 5      6918       3008.0      0.4      3.4              return False\n",
    " 6      1000        386.0      0.4      0.4      return True"
   ]
  },
  {
   "cell_type": "markdown",
   "id": "6b2a759b",
   "metadata": {},
   "source": [
    "####memory_profiler \n",
    "\n",
    "给需要剖析内存性能的函数加上一个`profile`装饰器，这个函数每行代码的内存使用情况都会被剖析。\n",
    "\n",
    "`example03.py`"
   ]
  },
  {
   "cell_type": "code",
   "execution_count": null,
   "id": "2903a5f8",
   "metadata": {
    "attributes": {
     "classes": [
      "Python"
     ],
     "id": ""
    }
   },
   "outputs": [],
   "source": [
    "@profile\n",
    "def eat_memory():\n",
    "    items = []\n",
    "    for _ in range(1000000):\n",
    "        items.append(object())\n",
    "    return items\n",
    "\n",
    "\n",
    "eat_memory()"
   ]
  },
  {
   "cell_type": "markdown",
   "id": "142920c3",
   "metadata": {},
   "source": [
    "安装和使用`memory_profiler`三方库。"
   ]
  },
  {
   "cell_type": "code",
   "execution_count": null,
   "id": "13003422",
   "metadata": {
    "attributes": {
     "classes": [
      "Python"
     ],
     "id": ""
    }
   },
   "outputs": [],
   "source": [
    "pip install memory_profiler\n",
    "python3 -m memory_profiler example.py\n",
    "\n",
    "Filename: example03.py\n",
    "\n",
    "Line #    Mem usage    Increment   Line Contents\n",
    "================================================\n",
    "     1   38.672 MiB   38.672 MiB   @profile\n",
    "     2                             def eat_memory():\n",
    "     3   38.672 MiB    0.000 MiB       items = []\n",
    "     4   68.727 MiB    0.000 MiB       for _ in range(1000000):\n",
    "     5   68.727 MiB    1.797 MiB           items.append(object())\n",
    "     6   68.727 MiB    0.000 MiB       return items"
   ]
  },
  {
   "cell_type": "markdown",
   "id": "0588745e",
   "metadata": {},
   "source": [
    "### 如何构建综合职业素养\n",
    "\n",
    "#### 学习总结\n",
    "\n",
    "1. 了解全局\n",
    "2. 确定范围\n",
    "3. 定义目标\n",
    "4. 寻找资源\n",
    "5. 创建学习计划\n",
    "6. 筛选资源\n",
    "7. 开始学习，浅尝辄止（YAGNI）\n",
    "8. 动手操作，边学边玩\n",
    "9. 全面掌握，学以致用\n",
    "10. 乐为人师，融会贯通\n",
    "\n",
    "#### 时间管理\n",
    "\n",
    "1. 提升专注力\n",
    "\n",
    "2. 充分利用碎片时间\n",
    "\n",
    "3. 使用番茄工作法\n",
    "\n",
    "4. 时间是怎么浪费掉的\n",
    "\n",
    "5. 任何行动都比不采取行动好\n",
    "\n",
    "   ![](res/action.png)\n",
    "\n",
    "\n",
    "#### 好书推荐\n",
    "\n",
    "1. 职业规划：《软技能 - 代码之外的生存指南》\n",
    "2. 吴军系列：《浪潮之巅》、《硅谷之谜》、《数学之美》、……\n",
    "3. 时间管理：《成为一个更高效的人》、《番茄工作法图解》"
   ]
  }
 ],
 "metadata": {},
 "nbformat": 4,
 "nbformat_minor": 5
}
