{
 "cells": [
  {
   "cell_type": "markdown",
   "id": "613f418c",
   "metadata": {},
   "source": [
    "## 算法入门系列2 - 在水一方\n",
    "\n",
    "在第一次的公开课中，我们讲到了穷举法。穷举法也被称为暴力搜索法，今天我们要讲的回溯法就是暴力搜索法的一种。接下来我们讲到的很多算法跟“递归”这个概念有或多或少的关系，所以我们先说说“递归”。\n",
    "\n",
    "### 现实中的递归\n",
    "\n",
    "从前有座山，山里有座庙，庙里有个老和尚，正在给小和尚讲故事呢！故事是什么呢？从前有座山，山里有座庙，庙里有个老和尚，正在给小和尚讲故事呢！故事是什么呢？从前有座山，山里有座庙，庙里有个老和尚，正在给小和尚讲故事呢！故事是什么呢？……\n",
    "\n",
    "野比大雄在房间里，用时光电视看着未来的情况。电视画面中，野比大雄在房间里，用时光电视看着未来的情况。电视画面中，野比大雄在房间里，用时光电视看着未来的情况……\n",
    "\n",
    "阶乘的递归定义：$$0! = 1$$，$$n!=n*(n-1)!$$ ，使用被定义对象的自身来为其下定义称为递归定义。\n",
    "\n",
    "[德罗斯特效应](https://zh.wikipedia.org/wiki/%E5%BE%B7%E7%BD%97%E6%96%AF%E7%89%B9%E6%95%88%E5%BA%94)是递归的一种视觉形式。图中女性手持的物体中有一幅她本人手持同一物体的小图片，进而小图片中还有更小的一幅她手持同一物体的图片……\n",
    "\n",
    "![](./res/droste.png)\n",
    "\n",
    "### 递归的应用\n",
    "\n",
    "在程序中，一个函数如果直接或者间接的调用了自身，我们就称之为递归函数。\n",
    "\n",
    "写递归函数有两个要点：\n",
    "\n",
    "1. 收敛条件 - 什么时候结束递归。\n",
    "2. 递归公式 - 每一项与前一项（前*N*项）的关系。\n",
    "\n",
    "例子1：求阶乘。"
   ]
  },
  {
   "cell_type": "code",
   "execution_count": null,
   "id": "630eecf6",
   "metadata": {
    "attributes": {
     "classes": [
      "Python"
     ],
     "id": ""
    }
   },
   "outputs": [],
   "source": [
    "def fac(num):\n",
    "    if num == 0:\n",
    "        return 1\n",
    "    return num * fac(num - 1)"
   ]
  },
  {
   "cell_type": "markdown",
   "id": "30f34e77",
   "metadata": {},
   "source": [
    "Python对递归的深度加以了限制（默认1000层函数调用），如果想突破这个限制，可以使用下面的方法。"
   ]
  },
  {
   "cell_type": "code",
   "execution_count": null,
   "id": "fd45d325",
   "metadata": {
    "attributes": {
     "classes": [
      "Python"
     ],
     "id": ""
    }
   },
   "outputs": [],
   "source": [
    "import sys\n",
    "\n",
    "sys.setrecursionlimit(10000)"
   ]
  },
  {
   "cell_type": "markdown",
   "id": "83ed29ab",
   "metadata": {},
   "source": [
    "例子2：爬楼梯 - 楼梯有*n*个台阶，一步可以走1阶、2阶或3阶，走完*n*个台阶共有多少种不同的走法。"
   ]
  },
  {
   "cell_type": "code",
   "execution_count": null,
   "id": "46846e1b",
   "metadata": {
    "attributes": {
     "classes": [
      "Python"
     ],
     "id": ""
    }
   },
   "outputs": [],
   "source": [
    "def climb(num):\n",
    "    if num == 0:\n",
    "        return 1\n",
    "    elif num < 0:\n",
    "        return 0\n",
    "    return climb(num - 1) + climb(num - 2) + climb(num - 3)"
   ]
  },
  {
   "cell_type": "markdown",
   "id": "b49ea93e",
   "metadata": {},
   "source": [
    "**注意**：上面的递归函数性能会非常的差，因为时间复杂度是几何级数级的。\n",
    "\n",
    "优化后的代码。"
   ]
  },
  {
   "cell_type": "code",
   "execution_count": null,
   "id": "46035569",
   "metadata": {
    "attributes": {
     "classes": [
      "Python"
     ],
     "id": ""
    }
   },
   "outputs": [],
   "source": [
    "from functools import lru_cache\n",
    "\n",
    "\n",
    "@lru_cache()\n",
    "def climb(num):\n",
    "    if num == 0:\n",
    "        return 1\n",
    "    elif num < 0:\n",
    "        return 0\n",
    "    return climb(num - 1) + climb(num - 2) + climb(num - 3)"
   ]
  },
  {
   "cell_type": "markdown",
   "id": "5cd10594",
   "metadata": {},
   "source": [
    "不使用的递归的代码。"
   ]
  },
  {
   "cell_type": "code",
   "execution_count": null,
   "id": "7fb8c3d4",
   "metadata": {
    "attributes": {
     "classes": [
      "Python"
     ],
     "id": ""
    }
   },
   "outputs": [],
   "source": [
    "def climb(num):\n",
    "    a, b, c = 1, 2, 4\n",
    "    for _ in range(num - 1):\n",
    "        a, b, c = b, c, a + b + c\n",
    "    return a"
   ]
  },
  {
   "cell_type": "markdown",
   "id": "f9bede8c",
   "metadata": {},
   "source": [
    "**重点**：有更好的办法的时候，请不要考虑递归。\n",
    "\n",
    "### 回溯法\n",
    "\n",
    "**回溯法**是[暴力搜索法](https://zh.wikipedia.org/wiki/%E6%9A%B4%E5%8A%9B%E6%90%9C%E5%B0%8B%E6%B3%95)中的一种。对于某些计算问题而言，回溯法是一种可以找出所有（或一部分）解的一般性算法，尤其适用于约束满足问题（在解决约束满足问题时，我们逐步构造更多的候选解，并且在确定某一部分候选解不可能补全成正确解之后放弃继续搜索这个部分候选解本身及其可以拓展出的子候选解，转而测试其他的部分候选解）。\n",
    "\n",
    "### 经典案例\n",
    "\n",
    "例子1：**迷宫寻路**。\n",
    "\n",
    "![](./res/maze.png)"
   ]
  },
  {
   "cell_type": "code",
   "execution_count": null,
   "id": "825aa82b",
   "metadata": {
    "attributes": {
     "classes": [
      "Python"
     ],
     "id": ""
    }
   },
   "outputs": [],
   "source": [
    "\"\"\"\n",
    "迷宫寻路\n",
    "\"\"\"\n",
    "import random\n",
    "import sys\n",
    "\n",
    "WALL = -1\n",
    "ROAD = 0\n",
    "\n",
    "ROWS = 10\n",
    "COLS = 10\n",
    "\n",
    "\n",
    "def find_way(maze, i=0, j=0, step=1):\n",
    "    \"\"\"走迷宫\"\"\"\n",
    "    if 0 <= i < ROWS and 0 <= j < COLS and maze[i][j] == 0:\n",
    "        maze[i][j] = step\n",
    "        if i == ROWS - 1 and j == COLS - 1:\n",
    "            print('=' * 20)\n",
    "            display(maze)\n",
    "            sys.exit(0)\n",
    "        find_way(maze, i + 1, j, step + 1)\n",
    "        find_way(maze, i, j + 1, step + 1)\n",
    "        find_way(maze, i - 1, j, step + 1)\n",
    "        find_way(maze, i, j - 1, step + 1)\n",
    "        maze[i][j] = ROAD\n",
    "\n",
    "\n",
    "def reset(maze):\n",
    "    \"\"\"重置迷宫\"\"\"\n",
    "    for i in range(ROWS):\n",
    "        for j in range(COLS):\n",
    "            num = random.randint(1, 10)\n",
    "            maze[i][j] = WALL if num > 7 else ROAD\n",
    "    maze[0][0] = maze[ROWS - 1][COLS - 1] = ROAD\n",
    "\n",
    "\n",
    "def display(maze):\n",
    "    \"\"\"显示迷宫\"\"\"\n",
    "    for row in maze:\n",
    "        for col in row:\n",
    "            if col == -1:\n",
    "                print('■', end=' ')\n",
    "            elif col == 0:\n",
    "                print('□', end=' ')\n",
    "            else:\n",
    "                print(f'{col}'.ljust(2), end='')\n",
    "        print()\n",
    "\n",
    "\n",
    "def main():\n",
    "    \"\"\"主函数\"\"\"\n",
    "    maze = [[0] * COLS for _ in range(ROWS)]\n",
    "    reset(maze)\n",
    "    display(maze)\n",
    "    find_way(maze)\n",
    "    print('没有出路!!!')\n",
    "\n",
    "\n",
    "if __name__ == '__main__':\n",
    "    main()"
   ]
  },
  {
   "cell_type": "markdown",
   "id": "df1441e5",
   "metadata": {},
   "source": [
    "**说明：**上面的代码用随机放置围墙的方式来生成迷宫，更好的生成迷宫的方式请参考[《简单的使用回溯法生成 Tile Based 迷宫》](<https://indienova.com/indie-game-development/generate-tile-based-maze-with-backtracking/>)一文。\n",
    "\n",
    "例子2：**骑士巡逻** - 国际象棋中的骑士（马），按照骑士的移动规则走遍整个棋盘的每一个方格，而且每个方格只能够经过一次。\n",
    "\n",
    "![](./res/knight_tour.gif)"
   ]
  },
  {
   "cell_type": "code",
   "execution_count": null,
   "id": "f050383d",
   "metadata": {
    "attributes": {
     "classes": [
      "Python"
     ],
     "id": ""
    }
   },
   "outputs": [],
   "source": [
    "\"\"\"\n",
    "骑士巡逻\n",
    "\"\"\"\n",
    "import sys\n",
    "\n",
    "SIZE = 8\n",
    "\n",
    "\n",
    "def display(board):\n",
    "    \"\"\"显示棋盘\"\"\"\n",
    "    for row in board:\n",
    "        for col in row:\n",
    "            print(f'{col}'.rjust(2, '0'), end=' ')\n",
    "        print()\n",
    "\n",
    "\n",
    "def patrol(board, i=0, j=0, step=1):\n",
    "    \"\"\"巡逻\"\"\"\n",
    "    if 0 <= i < SIZE and 0 <= j < SIZE and board[i][j] == 0:\n",
    "        board[i][j] = step\n",
    "        if step == SIZE * SIZE:\n",
    "            display(board)\n",
    "            sys.exit(0)\n",
    "        patrol(board, i + 1, j + 2, step + 1)\n",
    "        patrol(board, i + 2, j + 1, step + 1)\n",
    "        patrol(board, i + 2, j - 1, step + 1)\n",
    "        patrol(board, i + 1, j - 2, step + 1)\n",
    "        patrol(board, i - 1, j - 2, step + 1)\n",
    "        patrol(board, i - 2, j - 1, step + 1)\n",
    "        patrol(board, i - 2, j + 1, step + 1)\n",
    "        patrol(board, i - 1, j + 2, step + 1)\n",
    "        board[i][j] = 0\n",
    "\n",
    "\n",
    "def main():\n",
    "    \"\"\"主函数\"\"\"\n",
    "    board = [[0] * SIZE for _ in range(SIZE)]\n",
    "    patrol(board)\n",
    "\n",
    "\n",
    "if __name__ == '__main__':\n",
    "    main()"
   ]
  },
  {
   "cell_type": "markdown",
   "id": "69608619",
   "metadata": {},
   "source": [
    "例子3：**八皇后** - 如何能够在8×8的国际象棋棋盘上放置八个皇后，使得任何一个皇后都无法直接吃掉其他的皇后？为了达到此目的，任两个皇后都不能处于同一条横行、纵行或斜线上。\n",
    "\n",
    "![](./res/eight_queen.png)\n",
    "\n",
    "**说明**：这个问题太经典了，网上有大把的答案，留给大家自己搞定。"
   ]
  }
 ],
 "metadata": {},
 "nbformat": 4,
 "nbformat_minor": 5
}
