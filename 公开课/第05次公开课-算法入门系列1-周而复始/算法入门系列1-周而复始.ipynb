{
 "cells": [
  {
   "cell_type": "markdown",
   "id": "4980b78c",
   "metadata": {},
   "source": [
    "## 算法入门系列课程1 - 周而复始\n",
    "\n",
    "### 算法概述\n",
    "\n",
    "1. 什么是算法？\n",
    "\n",
    "   解决问题的正确方法和具体的实施步骤。\n",
    "\n",
    "   例子1：如何在两栋相距50m的大楼的两个房间牵一条线（两个房间都有窗）？\n",
    "\n",
    "   - 养一只鸟（如鸽子），将线送过去\n",
    "   - 用很长的杆子将线递过去\n",
    "   - 用无人机（遥控飞行器）将线送过去\n",
    "\n",
    "   如何评价这些方法的好坏？**少花钱，不费事**！\n",
    "\n",
    "   例子2：大教室里坐了几百名学生一起听课，如何快速的统计学生人数？\n",
    "\n",
    "   例子3：向列表容器中**逆向**插入100000个元素。\n",
    "\n",
    "   - 方法1："
   ]
  },
  {
   "cell_type": "code",
   "execution_count": null,
   "id": "d469acab",
   "metadata": {},
   "outputs": [],
   "source": [
    "```Python\n",
    "nums = []\n",
    "for i in range(100000):\n",
    "    nums.append(i)\n",
    "nums.reverse()\n",
    "```"
   ]
  },
  {
   "cell_type": "markdown",
   "id": "77d1494a",
   "metadata": {},
   "source": [
    "- 方法2："
   ]
  },
  {
   "cell_type": "code",
   "execution_count": null,
   "id": "080ed08a",
   "metadata": {},
   "outputs": [],
   "source": [
    "```Python\n",
    "nums = []\n",
    "for i in range(100000):\n",
    "    nums.insert(0, i)\n",
    "```"
   ]
  },
  {
   "cell_type": "markdown",
   "id": "e654d645",
   "metadata": {},
   "source": [
    "例子3：生成Fibonacci数列（前100个Fibonacci数）。\n",
    "\n",
    "   - 方法1 - 递推："
   ]
  },
  {
   "cell_type": "code",
   "execution_count": null,
   "id": "6c570c6d",
   "metadata": {},
   "outputs": [],
   "source": [
    "```Python\n",
    "a, b = 0, 1\n",
    "for num in range(1, 101):\n",
    "    a, b = b, a + b\n",
    "    print(f'{num}: {a}')\n",
    "```"
   ]
  },
  {
   "cell_type": "markdown",
   "id": "8bdd65ca",
   "metadata": {},
   "source": [
    "- 方法2 - 递归："
   ]
  },
  {
   "cell_type": "code",
   "execution_count": null,
   "id": "6c02fe85",
   "metadata": {},
   "outputs": [],
   "source": [
    "```Python\n",
    "def fib(num):\n",
    "    if num in (1, 2):\n",
    "        return 1\n",
    "    return fib(num - 1) + fib(num - 2)"
   ]
  },
  {
   "cell_type": "code",
   "execution_count": null,
   "id": "73ee6fa6",
   "metadata": {},
   "outputs": [],
   "source": [
    "for num in range(1, 101):\n",
    "    print(f'{num}: {fib(num)}')\n",
    "```"
   ]
  },
  {
   "cell_type": "markdown",
   "id": "f109a35e",
   "metadata": {},
   "source": [
    "- 方法3 - 改进的递归："
   ]
  },
  {
   "cell_type": "code",
   "execution_count": null,
   "id": "3e4d8d07",
   "metadata": {},
   "outputs": [],
   "source": [
    "```Python\n",
    "def fib(num, temp={}):\n",
    "    if num in (1, 2):\n",
    "        return 1\n",
    "    elif num not in temp:\n",
    "        temp[num] = fib(num - 1) + fib(num - 2)\n",
    "    return temp[num]\n",
    "```"
   ]
  },
  {
   "cell_type": "markdown",
   "id": "e9bfede5",
   "metadata": {},
   "source": [
    "- 方法4  - 改进的递归："
   ]
  },
  {
   "cell_type": "code",
   "execution_count": null,
   "id": "c712c808",
   "metadata": {},
   "outputs": [],
   "source": [
    "```Python\n",
    "from functools import lru_cache"
   ]
  },
  {
   "cell_type": "code",
   "execution_count": null,
   "id": "b7aee667",
   "metadata": {},
   "outputs": [],
   "source": [
    "@lru_cache()\n",
    "def fib(num):\n",
    "    if num in (1, 2):\n",
    "        return 1\n",
    "    return fib(num - 1) + fib(num - 2)\n",
    "```"
   ]
  },
  {
   "cell_type": "markdown",
   "id": "b48698bb",
   "metadata": {},
   "source": [
    "2. 如何评价算法的好坏？\n",
    "\n",
    "   [渐近时间复杂度](<https://zh.wikipedia.org/wiki/%E6%97%B6%E9%97%B4%E5%A4%8D%E6%9D%82%E5%BA%A6>)和渐近空间复杂度。\n",
    "\n",
    "3. 大***O***符号的意义？\n",
    "\n",
    "   表示一个函数相对于输入规模的增长速度，也可以称之为函数的数量级。\n",
    "\n",
    "   | 大*O*符号       | 说明               | 例子                                         |\n",
    "   | --------------- | ------------------ | -------------------------------------------- |\n",
    "   | $$O(c)$$        | 常量时间复杂度     | 布隆过滤器 / 哈希存储                        |\n",
    "   | $$O(log_2n)$$   | 对数时间复杂度     | 二分查找（折半查找）                         |\n",
    "   | $$O(n)$$        | 线性时间复杂度     | 顺序查找 / 桶排序                            |\n",
    "   | $$O(n*log_2n)$$ | 对数线性时间复杂度 | 高级排序算法（归并排序、快速排序）           |\n",
    "   | $$O(n^2)$$      | 平方时间复杂度     | 简单排序算法（选择排序、插入排序、冒泡排序） |\n",
    "   | $$O(n^3)$$      | 立方时间复杂度     | Floyd算法 / 矩阵乘法运算                     |\n",
    "   | $$O(2^n)$$      | 几何级数时间复杂度 | 汉诺塔                                       |\n",
    "   | $$O(n!)$$       | 阶乘时间复杂度     | 旅行经销商问题                               |\n",
    "\n",
    "### 穷举法\n",
    "\n",
    "在计算机科学中，**穷举法**或者**暴力搜索法**是一个非常非常直观的解决问题的方法，这种方法通过一项一项的列举解决方案所有可能的候选项以及检查每个候选项是否符合问题的描述，最终得到问题的解。\n",
    "\n",
    "虽然暴力搜索很容易实现，并且如果解决方案存在它就一定能够找到，但是它的代价是和候选方案的数量成比例的，由于这一点，在很多实际问题中，消耗的代价会随着问题规模的增加而快速地增长。因此，当问题规模有限或当存在可用于将候选解决方案的集合减少到可管理大小时，就可以使用暴力搜索。另外，当实现方法的简单度比速度更重要的时候，也可以考虑使用这种方法。\n",
    "\n",
    "### 经典例子\n",
    "\n",
    "1. **百钱百鸡**问题：公鸡5元一只，母鸡3元一只，小鸡1元三只，用100元买一百只鸡，问公鸡、母鸡、小鸡各有多少只？\n",
    "\n",
    "   ```Python\n",
    "   for x in range(21):\n",
    "       for y in range(34):\n",
    "           z = 100 - x - y\n",
    "           if z % 3 == 0 and 5 * x + 3 * y + z // 3 == 100:\n",
    "               print(x, y, z)\n",
    "   ```\n",
    "\n",
    "2. **五人分鱼**问题：ABCDE五人在某天夜里合伙捕鱼，最后疲惫不堪各自睡觉。第二天A第一个醒来，他将鱼分为5份，扔掉多余的1条，拿走了属于自己的一份；B第二个醒来，也将鱼分为5份，扔掉多余的1条，拿走属于自己的一份；然后C、D、E依次醒来，也按同样的方式分鱼，问他们至少捕了多少条鱼？\n",
    "\n",
    "   ```Python\n",
    "   fish = 6\n",
    "   while True:\n",
    "       total = fish\n",
    "       enough = True\n",
    "       for _ in range(5):\n",
    "           if (total - 1) % 5 == 0:\n",
    "               total = (total - 1) // 5 * 4\n",
    "           else:\n",
    "               enough = False\n",
    "               break\n",
    "       if enough:\n",
    "           print(fish)\n",
    "           break\n",
    "       fish += 5\n",
    "   ```\n",
    "\n",
    "3. **暴力破解口令**：\n",
    "\n",
    "   ```Python\n",
    "   import re\n",
    "   \n",
    "   import PyPDF2\n",
    "   \n",
    "   with open('Python_Tricks_encrypted.pdf', 'rb') as pdf_file_stream:\n",
    "       reader = PyPDF2.PdfFileReader(pdf_file_stream)\n",
    "       with open('dictionary.txt', 'r') as txt_file_stream:\n",
    "           file_iter = iter(lambda: txt_file_stream.readline(), '')\n",
    "           for word in file_iter:\n",
    "               word = re.sub(r'\\s', '', word)\n",
    "               if reader.decrypt(word):\n",
    "                   print(word)\n",
    "                   break\n",
    "   ```"
   ]
  }
 ],
 "metadata": {},
 "nbformat": 4,
 "nbformat_minor": 5
}
