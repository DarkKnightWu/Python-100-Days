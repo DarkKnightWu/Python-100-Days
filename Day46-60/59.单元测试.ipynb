{
 "cells": [
  {
   "cell_type": "markdown",
   "id": "397efa7f",
   "metadata": {},
   "source": [
    "## 单元测试\n",
    "\n",
    "请各位读者移步到[《使用Django开发商业项目》](../Day91-100/95.使用Django开发商业项目.md)一文。"
   ]
  }
 ],
 "metadata": {},
 "nbformat": 4,
 "nbformat_minor": 5
}
