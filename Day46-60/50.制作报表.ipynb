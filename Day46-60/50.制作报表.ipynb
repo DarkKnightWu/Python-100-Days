{
 "cells": [
  {
   "cell_type": "markdown",
   "id": "dc27ca24",
   "metadata": {},
   "source": [
    "## 制作报表\n",
    "\n",
    "### 导出Excel报表\n",
    "\n",
    "报表就是用表格、图表等格式来动态显示数据，所以有人用这样的公式来描述报表："
   ]
  },
  {
   "cell_type": "code",
   "execution_count": null,
   "id": "8d3ebbac",
   "metadata": {},
   "outputs": [],
   "source": [
    "报表 = 多样的格式 + 动态的数据"
   ]
  },
  {
   "cell_type": "markdown",
   "id": "5d76f0b4",
   "metadata": {},
   "source": [
    "有很多的三方库支持在Python程序中写Excel文件，包括[`xlwt`](<https://xlwt.readthedocs.io/en/latest/>)、[`xlwings`](<https://docs.xlwings.org/en/latest/quickstart.html>)、[`openpyxl`](<https://openpyxl.readthedocs.io/en/latest/>)、[`xlswriter`](<https://xlsxwriter.readthedocs.io/>)等，其中的xlwt虽然只支持写xls格式的Excel文件，但在性能方面的表现还是不错的。下面我们就以`xlwt`为例，来演示如何在Django项目中导出Excel报表。\n",
    "\n",
    "安装`xlwt`。"
   ]
  },
  {
   "cell_type": "code",
   "execution_count": null,
   "id": "3a7605a2",
   "metadata": {
    "attributes": {
     "classes": [
      "Bash"
     ],
     "id": ""
    }
   },
   "outputs": [],
   "source": [
    "pip install xlwt"
   ]
  },
  {
   "cell_type": "markdown",
   "id": "792607ce",
   "metadata": {},
   "source": [
    "导出包含所有老师信息的Excel表格的视图函数。"
   ]
  },
  {
   "cell_type": "code",
   "execution_count": null,
   "id": "64725fc6",
   "metadata": {
    "attributes": {
     "classes": [
      "Python"
     ],
     "id": ""
    }
   },
   "outputs": [],
   "source": [
    "def export_teachers_excel(request):\n",
    "    # 创建工作簿\n",
    "    wb = xlwt.Workbook()\n",
    "    # 添加工作表\n",
    "    sheet = wb.add_sheet('老师信息表')\n",
    "    # 查询所有老师的信息\n",
    "    queryset = Teacher.objects.all()\n",
    "    # 向Excel表单中写入表头\n",
    "    colnames = ('姓名', '介绍', '好评数', '差评数', '学科')\n",
    "    for index, name in enumerate(colnames):\n",
    "        sheet.write(0, index, name)\n",
    "    # 向单元格中写入老师的数据\n",
    "    props = ('name', 'detail', 'good_count', 'bad_count', 'subject')\n",
    "    for row, teacher in enumerate(queryset):\n",
    "        for col, prop in enumerate(props):\n",
    "            value = getattr(teacher, prop, '')\n",
    "            if isinstance(value, Subject):\n",
    "                value = value.name\n",
    "            sheet.write(row + 1, col, value)\n",
    "    # 保存Excel\n",
    "    buffer = BytesIO()\n",
    "    wb.save(buffer)\n",
    "    # 将二进制数据写入响应的消息体中并设置MIME类型\n",
    "    resp = HttpResponse(buffer.getvalue(), content_type='application/vnd.ms-excel')\n",
    "    # 中文文件名需要处理成百分号编码\n",
    "    filename = quote('老师.xls')\n",
    "    # 通过响应头告知浏览器下载该文件以及对应的文件名\n",
    "    resp['content-disposition'] = f'attachment; filename*=utf-8\\'\\'{filename}'\n",
    "    return resp"
   ]
  },
  {
   "cell_type": "markdown",
   "id": "11d3bcec",
   "metadata": {},
   "source": [
    "映射URL。"
   ]
  },
  {
   "cell_type": "code",
   "execution_count": null,
   "id": "bd41122a",
   "metadata": {
    "attributes": {
     "classes": [
      "Python"
     ],
     "id": ""
    }
   },
   "outputs": [],
   "source": [
    "urlpatterns = [\n",
    "    \n",
    "    path('excel/', views.export_teachers_excel),\n",
    "    \n",
    "]"
   ]
  },
  {
   "cell_type": "markdown",
   "id": "89fc240e",
   "metadata": {},
   "source": [
    "### 导出PDF报表\n",
    "\n",
    "在Django项目中，如果需要导出PDF报表，可以借助三方库`reportlab`来生成PDF文件的内容，再将文件的二进制数据输出给浏览器并指定MIME类型为`application/pdf`，具体的代码如下所示。"
   ]
  },
  {
   "cell_type": "code",
   "execution_count": null,
   "id": "864e4f51",
   "metadata": {
    "attributes": {
     "classes": [
      "Python"
     ],
     "id": ""
    }
   },
   "outputs": [],
   "source": [
    "def export_pdf(request: HttpRequest) -> HttpResponse:\n",
    "    buffer = io.BytesIO()\n",
    "    pdf = canvas.Canvas(buffer)\n",
    "    pdf.setFont(\"Helvetica\", 80)\n",
    "    pdf.setFillColorRGB(0.2, 0.5, 0.3)\n",
    "    pdf.drawString(100, 550, 'hello, world!')\n",
    "    pdf.showPage()\n",
    "    pdf.save()\n",
    "    resp = HttpResponse(buffer.getvalue(), content_type='application/pdf')\n",
    "    resp['content-disposition'] = 'inline; filename=\"demo.pdf\"'\n",
    "    return resp"
   ]
  },
  {
   "cell_type": "markdown",
   "id": "16a91e6a",
   "metadata": {},
   "source": [
    "关于如何用`reportlab`定制PDF报表的内容，可以参考reportlab的[官方文档](https://www.reportlab.com/docs/reportlab-userguide.pdf)。\n",
    "\n",
    "### 生成前端统计图表\n",
    "\n",
    "如果项目中需要生成前端统计图表，可以使用百度的[ECharts](<https://echarts.baidu.com/>)。具体的做法是后端通过提供数据接口返回统计图表所需的数据，前端使用ECharts来渲染出柱状图、折线图、饼图、散点图等图表。例如我们要生成一个统计所有老师好评数和差评数的报表，可以按照下面的方式来做。"
   ]
  },
  {
   "cell_type": "code",
   "execution_count": null,
   "id": "f5438c3e",
   "metadata": {
    "attributes": {
     "classes": [
      "Python"
     ],
     "id": ""
    }
   },
   "outputs": [],
   "source": [
    "def get_teachers_data(request):\n",
    "    queryset = Teacher.objects.all()\n",
    "    names = [teacher.name for teacher in queryset]\n",
    "    good_counts = [teacher.good_count for teacher in queryset]\n",
    "    bad_counts = [teacher.bad_count for teacher in queryset]\n",
    "    return JsonResponse({'names': names, 'good': good_counts, 'bad': bad_counts})"
   ]
  },
  {
   "cell_type": "markdown",
   "id": "9b438d93",
   "metadata": {},
   "source": [
    "映射URL。"
   ]
  },
  {
   "cell_type": "code",
   "execution_count": null,
   "id": "0ab2e6aa",
   "metadata": {
    "attributes": {
     "classes": [
      "Python"
     ],
     "id": ""
    }
   },
   "outputs": [],
   "source": [
    "urlpatterns = [\n",
    "    path('teachers_data/', views.get_teachers_data),\n",
    "]"
   ]
  },
  {
   "cell_type": "markdown",
   "id": "c30857a7",
   "metadata": {},
   "source": [
    "使用ECharts生成柱状图。"
   ]
  },
  {
   "cell_type": "code",
   "execution_count": null,
   "id": "a8d365f1",
   "metadata": {
    "attributes": {
     "classes": [
      "HTML"
     ],
     "id": ""
    }
   },
   "outputs": [],
   "source": [
    "<!DOCTYPE html>\n",
    "<html lang=\"en\">\n",
    "<head>\n",
    "    <meta charset=\"UTF-8\">\n",
    "    <title>老师评价统计</title>\n",
    "</head>\n",
    "<body>\n",
    "    <div id=\"main\" style=\"width: 600px; height: 400px\"></div>\n",
    "    <p>\n",
    "        <a href=\"/\">返回首页</a>\n",
    "    </p>\n",
    "    <script src=\"https://cdn.bootcss.com/echarts/4.2.1-rc1/echarts.min.js\"></script>\n",
    "    <script>\n",
    "        var myChart = echarts.init(document.querySelector('#main'))\n",
    "        fetch('/teachers_data/')\n",
    "            .then(resp => resp.json())\n",
    "            .then(json => {\n",
    "                var option = {\n",
    "                    color: ['#f00', '#00f'],\n",
    "                    title: {\n",
    "                        text: '老师评价统计图'\n",
    "                    },\n",
    "                    tooltip: {},\n",
    "                    legend: {\n",
    "                        data:['好评', '差评']\n",
    "                    },\n",
    "                    xAxis: {\n",
    "                        data: json.names\n",
    "                    },\n",
    "                    yAxis: {},\n",
    "                    series: [\n",
    "                        {\n",
    "                            name: '好评',\n",
    "                            type: 'bar',\n",
    "                            data: json.good\n",
    "                        },\n",
    "                        {\n",
    "                            name: '差评',\n",
    "                            type: 'bar',\n",
    "                            data: json.bad\n",
    "                        }\n",
    "                    ]\n",
    "                }\n",
    "                myChart.setOption(option)\n",
    "            })\n",
    "    </script>\n",
    "</body>\n",
    "</html>"
   ]
  },
  {
   "cell_type": "markdown",
   "id": "2e53bed7",
   "metadata": {},
   "source": [
    "运行效果如下图所示。\n",
    "\n",
    "![](./res/echarts_bar_graph.png)"
   ]
  }
 ],
 "metadata": {},
 "nbformat": 4,
 "nbformat_minor": 5
}
