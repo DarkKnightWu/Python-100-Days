{
 "cells": [
  {
   "cell_type": "markdown",
   "id": "532ad8f5",
   "metadata": {},
   "source": [
    "## 深入模型\n",
    "\n",
    "在上一个章节中，我们提到了Django是基于MVC架构的Web框架，MVC架构追求的是“模型”和“视图”的解耦合。所谓“模型”说得更直白一些就是数据（的表示），所以通常也被称作“数据模型”。在实际的项目中，数据模型通常通过数据库实现持久化操作，而关系型数据库在过去和当下都是持久化的首选方案，下面我们通过完成一个投票项目来讲解和模型相关的知识点。投票项目的首页会展示某在线教育平台所有的学科；点击学科可以查看到该学科的老师及其信息；用户登录后在查看老师的页面为老师投票，可以投赞成票和反对票；未登录的用户可以通过登录页进行登录；尚未注册的用户可以通过注册页输入个人信息进行注册。在这个项目中，我们使用MySQL数据库来实现数据持久化操作。\n",
    "\n",
    "### 创建项目和应用\n",
    "\n",
    "我们首先创建Django项目`vote`并为其添加虚拟环境和依赖项。接下来，在项目下创建名为`polls`的应用和保存模板页的文件夹`tempaltes`，项目文件夹的结构如下所示。\n",
    "\n",
    "![](res/pycharm-vote-project.png)\n",
    "\n",
    "根据上面描述的项目需求，我们准备了四个静态页面，分别是展示学科的页面`subjects.html`，显示学科老师的页面`teachers.html`，登录页面`login.html`，注册页面`register.html`，稍后我们会将静态页修改为Django项目所需的模板页。\n",
    "\n",
    "### 配置关系型数据库MySQL \n",
    "\n",
    "1. 在MySQL中创建数据库，创建用户，授权用户访问该数据库。\n",
    "\n",
    "   ```SQL\n",
    "   create database vote default charset utf8;\n",
    "   create user 'hellokitty'@'%' identified by 'Hellokitty.618';\n",
    "   grant all privileges on vote.* to 'hellokitty'@'%';\n",
    "   flush privileges;\n",
    "   ```\n",
    "\n",
    "2. 在MySQL中创建保存学科和老师信息的二维表（保存用户信息的表稍后处理）。\n",
    "\n",
    "   ```SQL\n",
    "   use vote;\n",
    "   \n",
    "   -- 创建学科表\n",
    "   create table `tb_subject`\n",
    "   (\n",
    "   \t`no` integer auto_increment comment '学科编号',\n",
    "       `name` varchar(50) not null comment '学科名称',\n",
    "       `intro` varchar(1000) not null default '' comment '学科介绍',\n",
    "       `is_hot` boolean not null default 0 comment '是不是热门学科',\n",
    "       primary key (`no`)\n",
    "   );\n",
    "   -- 创建老师表\n",
    "   create table `tb_teacher`\n",
    "   (\n",
    "       `no` integer auto_increment comment '老师编号',\n",
    "       `name` varchar(20) not null comment '老师姓名',\n",
    "       `sex` boolean not null default 1 comment '老师性别',\n",
    "       `birth` date not null comment '出生日期',\n",
    "       `intro` varchar(1000) not null default '' comment '老师介绍',\n",
    "       `photo` varchar(255) not null default '' comment '老师照片',\n",
    "       `gcount` integer not null default 0 comment '好评数',\n",
    "       `bcount` integer not null default 0 comment '差评数',\n",
    "       `sno` integer not null comment '所属学科',\n",
    "       primary key (`no`),\n",
    "       foreign key (`sno`) references `tb_subject` (`no`)\n",
    "   );\n",
    "   ```\n",
    "\n",
    "3. 在虚拟环境中安装连接MySQL数据库所需的依赖项。\n",
    "\n",
    "   ```Bash\n",
    "   pip install mysqlclient\n",
    "   ```\n",
    "\n",
    "   > **说明**：如果因为某些原因无法安装`mysqlclient`三方库，可以使用它的替代品`pymysql`，`pymysql`是用纯Python开发的连接MySQL的Python库，安装更容易成功，但是需要在Django项目文件夹的`__init__.py`中添加如下所示的代码。\n",
    "   >\n",
    "   > ```Python\n",
    "   > import pymysql\n",
    "   > \n",
    "   > pymysql.install_as_MySQLdb()\n",
    "   > ```\n",
    "   >\n",
    "   > 如果使用Django 2.2及以上版本，还会遇到PyMySQL跟Django框架的兼容性问题，兼容性问题会导致项目无法运行，需要按照GitHub上PyMySQL仓库[Issues](https://github.com/PyMySQL/PyMySQL/issues/790)中提供的方法进行处理。总体来说，使用`pymysql`会比较麻烦，强烈建议大家首选安装`mysqlclient`。\n",
    "\n",
    "4. 修改项目的settings.py文件，首先将我们创建的应用`polls`添加已安装的项目（`INSTALLED_APPS`）中，然后配置MySQL作为持久化方案。\n",
    "\n",
    "   ```Python\n",
    "   INSTALLED_APPS = [\n",
    "       'django.contrib.admin',\n",
    "       'django.contrib.auth',\n",
    "       'django.contrib.contenttypes',\n",
    "       'django.contrib.sessions',\n",
    "       'django.contrib.messages',\n",
    "       'django.contrib.staticfiles',\n",
    "       'polls',\n",
    "   ]\n",
    "   \n",
    "   DATABASES = {\n",
    "       'default': {\n",
    "           # 数据库引擎配置\n",
    "           'ENGINE': 'django.db.backends.mysql',\n",
    "           # 数据库的名字\n",
    "           'NAME': 'vote',\n",
    "           # 数据库服务器的IP地址（本机可以写localhost或127.0.0.1）\n",
    "           'HOST': 'localhost',\n",
    "           # 启动MySQL服务的端口号\n",
    "           'PORT': 3306,\n",
    "           # 数据库用户名和口令\n",
    "           'USER': 'hellokitty',\n",
    "           'PASSWORD': 'Hellokitty.618',\n",
    "           # 数据库使用的字符集\n",
    "           'CHARSET': 'utf8',\n",
    "           # 数据库时间日期的时区设定\n",
    "           'TIME_ZONE': 'Asia/Chongqing',\n",
    "       }\n",
    "   }\n",
    "   ```\n",
    "\n",
    "   在配置ENGINE属性时，常用的可选值包括：\n",
    "\n",
    "   - `'django.db.backends.sqlite3'`：SQLite嵌入式数据库。\n",
    "   - `'django.db.backends.postgresql'`：BSD许可证下发行的开源关系型数据库产品。\n",
    "   - `'django.db.backends.mysql'`：甲骨文公司经济高效的数据库产品。\n",
    "   - `'django.db.backends.oracle'`：甲骨文公司关系型数据库旗舰产品。\n",
    "\n",
    "   其他的配置可以参考官方文档中[数据库配置](https://docs.djangoproject.com/zh-hans/2.0/ref/databases/#third-party-notes)的部分。\n",
    "\n",
    "5. Django框架提供了ORM来解决数据持久化问题，ORM翻译成中文叫“对象关系映射”。因为Python是面向对象的编程语言，我们在Python程序中使用对象模型来保存数据，而关系型数据库使用关系模型，用二维表来保存数据，这两种模型并不匹配。使用ORM是为了实现对象模型到关系模型的**双向转换**，这样就不用在Python代码中书写SQL语句和游标操作，因为这些都会由ORM自动完成。利用Django的ORM，我们可以直接将刚才创建的学科表和老师表变成Django中的模型类。\n",
    "\n",
    "   ```Bash\n",
    "   python manage.py inspectdb > polls/models.py\n",
    "   ```\n",
    "\n",
    "   我们可以对自动生成的模型类稍作调整，代码如下所示。\n",
    "\n",
    "   ```Python\n",
    "   from django.db import models\n",
    "   \n",
    "   \n",
    "   class Subject(models.Model):\n",
    "       no = models.AutoField(primary_key=True, verbose_name='编号')\n",
    "       name = models.CharField(max_length=50, verbose_name='名称')\n",
    "       intro = models.CharField(max_length=1000, verbose_name='介绍')\n",
    "       is_hot = models.BooleanField(verbose_name='是否热门')"
   ]
  },
  {
   "cell_type": "code",
   "execution_count": null,
   "id": "8aa570be",
   "metadata": {},
   "outputs": [],
   "source": [
    "class Meta:\n",
    "    managed = False\n",
    "    db_table = 'tb_subject'"
   ]
  },
  {
   "cell_type": "markdown",
   "id": "52e3a2f0",
   "metadata": {},
   "source": [
    "class Teacher(models.Model):\n",
    "       no = models.AutoField(primary_key=True, verbose_name='编号')\n",
    "       name = models.CharField(max_length=20, verbose_name='姓名')\n",
    "       sex = models.BooleanField(default=True, verbose_name='性别')\n",
    "       birth = models.DateField(verbose_name='出生日期')\n",
    "       intro = models.CharField(max_length=1000, verbose_name='个人介绍')\n",
    "       photo = models.ImageField(max_length=255, verbose_name='照片')\n",
    "       good_count = models.IntegerField(default=0, db_column='gcount', verbose_name='好评数')\n",
    "       bad_count = models.IntegerField(default=0, db_column='bcount', verbose_name='差评数')\n",
    "       subject = models.ForeignKey(Subject, models.DO_NOTHING, db_column='sno')"
   ]
  },
  {
   "cell_type": "code",
   "execution_count": null,
   "id": "a237be3a",
   "metadata": {},
   "outputs": [],
   "source": [
    "class Meta:\n",
    "    managed = False\n",
    "    db_table = 'tb_teacher'\n",
    "   ```"
   ]
  },
  {
   "cell_type": "markdown",
   "id": "e0b95f11",
   "metadata": {},
   "source": [
    "> **说明**：模型类都直接或间接继承自`Model`类，模型类跟关系型数据库的二维表对应，模型对象跟表中的记录对应，模型对象的属性跟表中的字段对应。如果对上面模型类的属性定义不是特别理解，可以看看本文后面提供的“模型定义参考”部分的内容。\n",
    "\n",
    "### 使用ORM完成模型的CRUD操作\n",
    "\n",
    "有了Django框架的ORM，我们可以直接使用面向对象的方式来实现对数据的CRUD（增删改查）操作。我们可以在PyCharm的终端中输入下面的命令进入到Django项目的交互式环境，然后尝试对模型的操作。"
   ]
  },
  {
   "cell_type": "code",
   "execution_count": null,
   "id": "21c34b51",
   "metadata": {
    "attributes": {
     "classes": [
      "Bash"
     ],
     "id": ""
    }
   },
   "outputs": [],
   "source": [
    "python manage.py shell"
   ]
  },
  {
   "cell_type": "markdown",
   "id": "a5914b17",
   "metadata": {},
   "source": [
    "#### 新增"
   ]
  },
  {
   "cell_type": "code",
   "execution_count": null,
   "id": "861132a4",
   "metadata": {
    "attributes": {
     "classes": [
      "Python"
     ],
     "id": ""
    }
   },
   "outputs": [],
   "source": [
    "from polls.models import Subject\n",
    "\n",
    "subject1 = Subject(name='Python全栈开发', intro='当下最热门的学科', is_hot=True)\n",
    "subject1.save()\n",
    "subject2 = Subject(name='全栈软件测试', intro='学习自动化测试的学科', is_hot=False)\n",
    "subject2.save()\n",
    "subject3 = Subject(name='JavaEE分布式开发', intro='基于Java语言的服务器应用开发', is_hot=True)"
   ]
  },
  {
   "cell_type": "markdown",
   "id": "3af4aac7",
   "metadata": {},
   "source": [
    "#### 删除"
   ]
  },
  {
   "cell_type": "code",
   "execution_count": null,
   "id": "87232820",
   "metadata": {
    "attributes": {
     "classes": [
      "Python"
     ],
     "id": ""
    }
   },
   "outputs": [],
   "source": [
    "subject = Subject.objects.get(no=2)\n",
    "subject.delete()"
   ]
  },
  {
   "cell_type": "markdown",
   "id": "1547b508",
   "metadata": {},
   "source": [
    "#### 更新"
   ]
  },
  {
   "cell_type": "code",
   "execution_count": null,
   "id": "d1821585",
   "metadata": {
    "attributes": {
     "classes": [
      "Shell"
     ],
     "id": ""
    }
   },
   "outputs": [],
   "source": [
    "subject = Subject.objects.get(no=1)\n",
    "subject.name = 'Python全栈+人工智能'\n",
    "subject.save()"
   ]
  },
  {
   "cell_type": "markdown",
   "id": "f59ae192",
   "metadata": {},
   "source": [
    "#### 查询\n",
    "\n",
    "1. 查询所有对象。"
   ]
  },
  {
   "cell_type": "code",
   "execution_count": null,
   "id": "9f4badb1",
   "metadata": {
    "attributes": {
     "classes": [
      "Shell"
     ],
     "id": ""
    }
   },
   "outputs": [],
   "source": [
    "Subject.objects.all()"
   ]
  },
  {
   "cell_type": "markdown",
   "id": "78e1d112",
   "metadata": {},
   "source": [
    "2. 过滤数据。"
   ]
  },
  {
   "cell_type": "code",
   "execution_count": null,
   "id": "809a8573",
   "metadata": {
    "attributes": {
     "classes": [
      "Shell"
     ],
     "id": ""
    }
   },
   "outputs": [],
   "source": [
    "# 查询名称为“Python全栈+人工智能”的学科\n",
    "Subject.objects.filter(name='Python全栈+人工智能')\n",
    "\n",
    "# 查询名称包含“全栈”的学科（模糊查询）\n",
    "Subject.objects.filter(name__contains='全栈')\n",
    "Subject.objects.filter(name__startswith='全栈')\n",
    "Subject.objects.filter(name__endswith='全栈')\n",
    "\n",
    "# 查询所有热门学科\n",
    "Subject.objects.filter(is_hot=True)\n",
    "\n",
    "# 查询编号大于3小于10的学科\n",
    "Subject.objects.filter(no__gt=3).filter(no__lt=10)\n",
    "Subject.objects.filter(no__gt=3, no__lt=10)\n",
    "\n",
    "# 查询编号在3到7之间的学科\n",
    "Subject.objects.filter(no__ge=3, no__le=7)\n",
    "Subject.objects.filter(no__range=(3, 7))"
   ]
  },
  {
   "cell_type": "markdown",
   "id": "f690b4c9",
   "metadata": {},
   "source": [
    "3. 查询单个对象。"
   ]
  },
  {
   "cell_type": "code",
   "execution_count": null,
   "id": "2af8b12b",
   "metadata": {
    "attributes": {
     "classes": [
      "Shell"
     ],
     "id": ""
    }
   },
   "outputs": [],
   "source": [
    "# 查询主键为1的学科\n",
    "Subject.objects.get(pk=1)\n",
    "Subject.objects.get(no=1)\n",
    "Subject.objects.filter(no=1).first()\n",
    "Subject.objects.filter(no=1).last()"
   ]
  },
  {
   "cell_type": "markdown",
   "id": "53cf2808",
   "metadata": {},
   "source": [
    "4. 排序。"
   ]
  },
  {
   "cell_type": "code",
   "execution_count": null,
   "id": "5620d1d3",
   "metadata": {
    "attributes": {
     "classes": [
      "Shell"
     ],
     "id": ""
    }
   },
   "outputs": [],
   "source": [
    "# 查询所有学科按编号升序排列\n",
    "Subject.objects.order_by('no')\n",
    "# 查询所有部门按部门编号降序排列\n",
    "Subject.objects.order_by('-no')"
   ]
  },
  {
   "cell_type": "markdown",
   "id": "46a21c5d",
   "metadata": {},
   "source": [
    "5. 切片（分页查询）。"
   ]
  },
  {
   "cell_type": "code",
   "execution_count": null,
   "id": "70ee0256",
   "metadata": {
    "attributes": {
     "classes": [
      "Shell"
     ],
     "id": ""
    }
   },
   "outputs": [],
   "source": [
    "# 按编号从小到大查询前3个学科\n",
    "Subject.objects.order_by('no')[:3]"
   ]
  },
  {
   "cell_type": "markdown",
   "id": "e9f4e23a",
   "metadata": {},
   "source": [
    "6. 计数。"
   ]
  },
  {
   "cell_type": "code",
   "execution_count": null,
   "id": "57d67aa1",
   "metadata": {
    "attributes": {
     "classes": [
      "Python"
     ],
     "id": ""
    }
   },
   "outputs": [],
   "source": [
    "# 查询一共有多少个学科\n",
    "Subject.objects.count()"
   ]
  },
  {
   "cell_type": "markdown",
   "id": "29563961",
   "metadata": {},
   "source": [
    "7. 高级查询。"
   ]
  },
  {
   "cell_type": "code",
   "execution_count": null,
   "id": "782a3ea4",
   "metadata": {
    "attributes": {
     "classes": [
      "Shell"
     ],
     "id": ""
    }
   },
   "outputs": [],
   "source": [
    "# 查询编号为1的学科的老师\n",
    "Teacher.objects.filter(subject__no=1)\n",
    "Subject.objects.get(pk=1).teacher_set.all() \n",
    "\n",
    "# 查询学科名称有“全栈”二字的学科的老师\n",
    "Teacher.objects.filter(subject__name__contains='全栈') "
   ]
  },
  {
   "cell_type": "markdown",
   "id": "3714ba56",
   "metadata": {},
   "source": [
    "> **说明1**：由于老师与学科之间存在多对一外键关联，所以能通过学科反向查询到该学科的老师（从一对多关系中“一”的一方查询“多”的一方），反向查询属性默认的名字是`类名小写_set`（如上面例子中的`teacher_set`），当然也可以在创建模型时通过`ForeingKey`的`related_name`属性指定反向查询属性的名字。如果不希望执行反向查询可以将`related_name`属性设置为`'+'`或者以`'+'`开头的字符串。\n",
    "\n",
    "> **说明2**：ORM查询多个对象时会返回QuerySet对象，QuerySet使用了惰性查询，即在创建QuerySet对象的过程中不涉及任何数据库活动，等真正用到对象时（对QuerySet求值）才向数据库发送SQL语句并获取对应的结果，这一点在实际开发中需要引起注意！\n",
    "\n",
    "> **说明3**：如果希望更新多条数据，不用先逐一获取模型对象再修改对象属性，可以直接使用QuerySet对象的`update()`方法一次性更新多条数据。\n",
    "\n",
    "\n",
    "### 利用Django后台管理模型\n",
    "\n",
    "在创建好模型类之后，可以通过Django框架自带的后台管理应用（`admin`应用）实现对模型的管理。虽然实际应用中，这个后台可能并不能满足我们的需求，但是在学习Django框架时，我们可以利用`admin`应用来管理我们的模型，同时也通过它来了解一个项目的后台管理系统需要哪些功能。使用Django自带的`admin`应用步骤如下所示。\n",
    "\n",
    "1. 将`admin`应用所需的表迁移到数据库中。`admin`应用本身也需要数据库的支持，而且在`admin`应用中已经定义好了相关的数据模型类，我们只需要通过模型迁移操作就能自动在数据库中生成所需的二维表。\n",
    "\n",
    "   ```Bash\n",
    "   python manage.py migrate\n",
    "   ```\n",
    "   \n",
    "2. 创建访问`admin`应用的超级用户账号，这里需要输入用户名、邮箱和口令。\n",
    "\n",
    "   ```Shell\n",
    "   python manage.py createsuperuser\n",
    "   ```\n",
    "\n",
    "   > **说明**：输入口令时没有回显也不能退格，需要一气呵成完成输入。\n",
    "\n",
    "3. 运行项目，在浏览器中访问`http://127.0.0.1:8000/admin`，输入刚才创建的超级用户账号和密码进行登录。\n",
    "\n",
    "   ![](/Users/Hao/Desktop/Python-100-Days/Day41-55/res/django-admin-login.png)\n",
    "\n",
    "   登录后进入管理员操作平台。\n",
    "\n",
    "   ![](res/django-admin-apps.png)\n",
    "\n",
    "   注意，我们暂时还没能在`admin`应用中看到之前创建的模型类，为此需要在`polls`应用的`admin.py`文件中对需要管理的模型进行注册。\n",
    "\n",
    "4. 注册模型类。\n",
    "\n",
    "   ```Python\n",
    "   from django.contrib import admin\n",
    "   \n",
    "   from polls.models import Subject, Teacher\n",
    "\n",
    "   admin.site.register(Subject)\n",
    "   admin.site.register(Teacher)\n",
    "   ```\n",
    "   \n",
    "   注册模型类后，就可以在后台管理系统中看到它们。\n",
    "   \n",
    "   ![](./res/django-admin-models.png)\n",
    "\n",
    "5. 对模型进行CRUD操作。\n",
    "\n",
    "   可以在管理员平台对模型进行C（新增）、R（查看）、U（更新）、D（删除）操作，如下图所示。\n",
    "\n",
    "   - 添加学科。"
   ]
  },
  {
   "cell_type": "code",
   "execution_count": null,
   "id": "e9262b5e",
   "metadata": {},
   "outputs": [],
   "source": [
    "![](res/django-admin-add-model.png)"
   ]
  },
  {
   "cell_type": "markdown",
   "id": "cca2b11f",
   "metadata": {},
   "source": [
    "- 查看所有学科。"
   ]
  },
  {
   "cell_type": "code",
   "execution_count": null,
   "id": "56b40832",
   "metadata": {},
   "outputs": [],
   "source": [
    "![](res/django-admin-view-models.png)"
   ]
  },
  {
   "cell_type": "markdown",
   "id": "4d4badf6",
   "metadata": {},
   "source": [
    "- 删除和更新学科。"
   ]
  },
  {
   "cell_type": "code",
   "execution_count": null,
   "id": "0a1471f3",
   "metadata": {},
   "outputs": [],
   "source": [
    "![](res/django-admin-delete-update-model.png)"
   ]
  },
  {
   "cell_type": "markdown",
   "id": "884fb7e1",
   "metadata": {},
   "source": [
    "6. 注册模型管理类。\n",
    "\n",
    "   可能大家已经注意到了，刚才在后台查看部门信息的时候，显示的部门信息并不直观，为此我们再修改`admin.py`文件，通过注册模型管理类，可以在后台管理系统中更好的管理模型。\n",
    "\n",
    "   ```Python\n",
    "   from django.contrib import admin\n",
    "   \n",
    "   from polls.models import Subject, Teacher\n",
    "   \n",
    "   \n",
    "   class SubjectModelAdmin(admin.ModelAdmin):\n",
    "       list_display = ('no', 'name', 'intro', 'is_hot')\n",
    "       search_fields = ('name', )\n",
    "       ordering = ('no', )\n",
    "   \n",
    "   \n",
    "   class TeacherModelAdmin(admin.ModelAdmin):\n",
    "       list_display = ('no', 'name', 'sex', 'birth', 'good_count', 'bad_count', 'subject')\n",
    "       search_fields = ('name', )\n",
    "       ordering = ('no', )\n",
    "   \n",
    "   \n",
    "   admin.site.register(Subject, SubjectModelAdmin)\n",
    "   admin.site.register(Teacher, TeacherModelAdmin)\n",
    "   ```\n",
    "   \n",
    "   ![](res/django-admin-view-models-subject.png)\n",
    "   \n",
    "   ![](res/django-admin-view-models-teacher.png)\n",
    "   \n",
    "   为了更好的查看模型，我们为`Subject`类添加`__str__`魔法方法，并在该方法中返回学科名字。这样在如上图所示的查看老师的页面上显示老师所属学科时，就不再是`Subject object(1)`这样晦涩的信息，而是学科的名称。\n",
    "\n",
    "### 实现学科页和老师页效果\n",
    "\n",
    "1. 修改`polls/views.py`文件，编写视图函数实现对学科页和老师页的渲染。"
   ]
  },
  {
   "cell_type": "code",
   "execution_count": null,
   "id": "47d5b68d",
   "metadata": {},
   "outputs": [],
   "source": [
    "```Python\n",
    "from django.shortcuts import render, redirect\n",
    "\n",
    "from polls.models import Subject, Teacher"
   ]
  },
  {
   "cell_type": "code",
   "execution_count": null,
   "id": "48ee70a5",
   "metadata": {},
   "outputs": [],
   "source": [
    "def show_subjects(request):\n",
    "    subjects = Subject.objects.all().order_by('no')\n",
    "    return render(request, 'subjects.html', {'subjects': subjects})"
   ]
  },
  {
   "cell_type": "code",
   "execution_count": null,
   "id": "48d7c378",
   "metadata": {},
   "outputs": [],
   "source": [
    "def show_teachers(request):\n",
    "    try:\n",
    "        sno = int(request.GET.get('sno'))\n",
    "        teachers = []\n",
    "        if sno:\n",
    "            subject = Subject.objects.only('name').get(no=sno)\n",
    "            teachers = Teacher.objects.filter(subject=subject).order_by('no')\n",
    "        return render(request, 'teachers.html', {\n",
    "            'subject': subject,\n",
    "            'teachers': teachers\n",
    "        })\n",
    "    except (ValueError, Subject.DoesNotExist):\n",
    "        return redirect('/')\n",
    "   ```"
   ]
  },
  {
   "cell_type": "markdown",
   "id": "7276ce97",
   "metadata": {},
   "source": [
    "2. 修改`templates/subjects.html`和`templates/teachers.html`模板页。"
   ]
  },
  {
   "cell_type": "code",
   "execution_count": null,
   "id": "cfaba3ab",
   "metadata": {},
   "outputs": [],
   "source": [
    "`subjects.html`\n",
    "\n",
    " ```HTML\n",
    "<!DOCTYPE html>\n",
    "<html lang=\"en\">\n",
    "<head>\n",
    "    <meta charset=\"UTF-8\">\n",
    "    <title>学科信息</title>\n",
    "    <style>\n",
    "        #container {\n",
    "            width: 80%;\n",
    "            margin: 10px auto;\n",
    "        }\n",
    "        .user {\n",
    "            float: right;\n",
    "            margin-right: 10px;\n",
    "        }\n",
    "        .user>a {\n",
    "            margin-right: 10px;\n",
    "        }\n",
    "        #main>dl>dt {\n",
    "            font-size: 1.5em;\n",
    "            font-weight: bold;\n",
    "        }\n",
    "        #main>dl>dd {\n",
    "            font-size: 1.2em;\n",
    "        }\n",
    "        a {\n",
    "            text-decoration: none;\n",
    "            color: darkcyan;\n",
    "        }\n",
    "    </style>\n",
    "</head>\n",
    "<body>\n",
    "    <div id=\"container\">\n",
    "        <div class=\"user\">\n",
    "            <a href=\"login.html\">用户登录</a>\n",
    "            <a href=\"register.html\">快速注册</a>\n",
    "        </div>\n",
    "        <h1>扣丁学堂所有学科</h1>\n",
    "        <hr>\n",
    "        <div id=\"main\">\n",
    "            {% for subject in subjects %}\n",
    "            <dl>\n",
    "                <dt>\n",
    "                    <a href=\"/teachers/?sno={{ subject.no }}\">{{ subject.name }}</a>\n",
    "                    {% if subject.is_hot %}\n",
    "                    <img src=\"/static/images/hot-icon-small.png\">\n",
    "                    {% endif %}\n",
    "                </dt>\n",
    "                <dd>{{ subject.intro }}</dd>\n",
    "            </dl>\n",
    "            {% endfor %}\n",
    "        </div>\n",
    "    </div>\n",
    "</body>\n",
    "</html>\n",
    " ```\n",
    "\n",
    "`teachers.html`\n",
    "\n",
    "```HTML\n",
    "<!DOCTYPE html>\n",
    "<html lang=\"en\">\n",
    "<head>\n",
    "    <meta charset=\"UTF-8\">\n",
    "    <title>老师信息</title>\n",
    "    <style>\n",
    "        #container {\n",
    "            width: 80%;\n",
    "            margin: 10px auto;\n",
    "        }\n",
    "        .teacher {\n",
    "            width: 100%;\n",
    "            margin: 0 auto;\n",
    "            padding: 10px 0;\n",
    "            border-bottom: 1px dashed gray;\n",
    "            overflow: auto;\n",
    "        }\n",
    "        .teacher>div {\n",
    "            float: left;\n",
    "        }\n",
    "        .photo {\n",
    "            height: 140px;\n",
    "            border-radius: 75px;\n",
    "            overflow: hidden;\n",
    "            margin-left: 20px;\n",
    "        }\n",
    "        .info {\n",
    "            width: 75%;\n",
    "            margin-left: 30px;\n",
    "        }\n",
    "        .info div {\n",
    "            clear: both;\n",
    "            margin: 5px 10px;\n",
    "        }\n",
    "        .info span {\n",
    "            margin-right: 25px;\n",
    "        }\n",
    "        .info a {\n",
    "            text-decoration: none;\n",
    "            color: darkcyan;\n",
    "        }\n",
    "    </style>\n",
    "</head>\n",
    "<body>\n",
    "    <div id=\"container\">\n",
    "        <h1>{{ subject.name }}学科的老师信息</h1>\n",
    "        <hr>\n",
    "        {% if not teachers %}\n",
    "            <h2>暂无该学科老师信息</h2>\n",
    "        {% endif %}\n",
    "        {% for teacher in teachers %}\n",
    "        <div class=\"teacher\">\n",
    "            <div class=\"photo\">\n",
    "                <img src=\"/static/images/{{ teacher.photo }}\" height=\"140\" alt=\"\">\n",
    "            </div>\n",
    "            <div class=\"info\">\n",
    "                <div>\n",
    "                    <span><strong>姓名：{{ teacher.name }}</strong></span>\n",
    "                    <span>性别：{{ teacher.sex | yesno:'男,女' }}</span>\n",
    "                    <span>出生日期：{{ teacher.birth | date:'Y年n月j日'}}</span>\n",
    "                </div>\n",
    "                <div class=\"intro\">{{ teacher.intro }}</div>\n",
    "                <div class=\"comment\">\n",
    "                    <a href=\"\">好评</a>&nbsp;(<strong>{{ teacher.good_count }}</strong>)\n",
    "                    &nbsp;&nbsp;&nbsp;&nbsp;\n",
    "                    <a href=\"\">差评</a>&nbsp;<strong>{{ teacher.bad_count }}</strong>)\n",
    "                </div>\n",
    "            </div>\n",
    "        </div>\n",
    "        {% endfor %}\n",
    "        <a href=\"/\">返回首页</a>\n",
    "    </div>\n",
    "</body>\n",
    "</html>\n",
    "```"
   ]
  },
  {
   "cell_type": "markdown",
   "id": "3a40a9ab",
   "metadata": {},
   "source": [
    "3. 修改`vote/urls.py`文件，实现映射URL。"
   ]
  },
  {
   "cell_type": "code",
   "execution_count": null,
   "id": "00402159",
   "metadata": {},
   "outputs": [],
   "source": [
    "```Python\n",
    "from django.contrib import admin\n",
    "from django.urls import path\n",
    "\n",
    "from polls.views import show_subjects, show_teachers\n",
    "\n",
    "urlpatterns = [\n",
    "    path('admin/', admin.site.urls),\n",
    "    path('', show_subjects),\n",
    "    path('teachers/', show_teachers),\n",
    "]\n",
    "```"
   ]
  },
  {
   "cell_type": "markdown",
   "id": "cbba173c",
   "metadata": {},
   "source": [
    "到此为止，页面上需要的图片（静态资源）还没有能够正常展示，我们在下一章节中为大家介绍如何处理模板页上的需要的静态资源。\n",
    "\n",
    "### 补充内容\n",
    "\n",
    "#### Django模型最佳实践\n",
    "\n",
    "1. 正确的为模型和关系字段命名。\n",
    "2. 设置适当的`related_name`属性。\n",
    "3. 用`OneToOneField`代替`ForeignKeyField(unique=True)`。\n",
    "4. 通过“迁移操作”（migrate）来添加模型。\n",
    "5. 用NoSQL来应对需要降低范式级别的场景。\n",
    "6. 如果布尔类型可以为空要使用`NullBooleanField`。\n",
    "7. 在模型中放置业务逻辑。\n",
    "8. 用`<ModelName>.DoesNotExists`取代`ObjectDoesNotExists`。\n",
    "9. 在数据库中不要出现无效数据。\n",
    "10. 不要对`QuerySet`调用`len()`函数。\n",
    "11. 将`QuerySet`的`exists()`方法的返回值用于`if`条件。\n",
    "12. 用`DecimalField`来存储货币相关数据而不是`FloatField`。\n",
    "13. 定义`__str__`方法。\n",
    "14. 不要将数据文件放在同一个目录中。\n",
    "\n",
    "> **说明**：以上内容来自于STEELKIWI网站的[*Best Practice working with Django models in Python*](https://steelkiwi.com/blog/best-practices-working-django-models-python/)，有兴趣的小伙伴可以阅读原文。\n",
    "\n",
    "#### 模型定义参考\n",
    "\n",
    "##### 字段\n",
    "\n",
    "对字段名称的限制\n",
    "\n",
    "- 字段名不能是Python的保留字，否则会导致语法错误\n",
    "- 字段名不能有多个连续下划线，否则影响ORM查询操作\n",
    "\n",
    "Django模型字段类\n",
    "\n",
    "| 字段类                  | 说明                                                         |\n",
    "| ----------------------- | ------------------------------------------------------------ |\n",
    "| `AutoField`             | 自增ID字段                                                   |\n",
    "| `BigIntegerField`       | 64位有符号整数                                               |\n",
    "| `BinaryField`           | 存储二进制数据的字段，对应Python的`bytes`类型                |\n",
    "| `BooleanField`          | 存储`True`或`False`                                          |\n",
    "| `CharField`             | 长度较小的字符串                                             |\n",
    "| `DateField`             | 存储日期，有`auto_now`和`auto_now_add`属性                   |\n",
    "| `DateTimeField`         | 存储日期和日期，两个附加属性同上                             |\n",
    "| `DecimalField`          | 存储固定精度小数，有`max_digits`（有效位数）和`decimal_places`（小数点后面）两个必要的参数 |\n",
    "| `DurationField`         | 存储时间跨度                                                 |\n",
    "| `EmailField`            | 与`CharField`相同，可以用`EmailValidator`验证                |\n",
    "| `FileField`             | 文件上传字段                                                 |\n",
    "| `FloatField`            | 存储浮点数                                                   |\n",
    "| `ImageField`            | 其他同`FileFiled`，要验证上传的是不是有效图像                |\n",
    "| `IntegerField`          | 存储32位有符号整数。                                         |\n",
    "| `GenericIPAddressField` | 存储IPv4或IPv6地址                                           |\n",
    "| `NullBooleanField`      | 存储`True`、`False`或`null`值                                |\n",
    "| `PositiveIntegerField`  | 存储无符号整数（只能存储正数）                               |\n",
    "| `SlugField`             | 存储slug（简短标注）                                         |\n",
    "| `SmallIntegerField`     | 存储16位有符号整数                                           |\n",
    "| `TextField`             | 存储数据量较大的文本                                         |\n",
    "| `TimeField`             | 存储时间                                                     |\n",
    "| `URLField`              | 存储URL的`CharField`                                         |\n",
    "| `UUIDField`             | 存储全局唯一标识符                                           |\n",
    "\n",
    "##### 字段属性\n",
    "\n",
    "通用字段属性\n",
    "\n",
    "| 选项             | 说明                                                         |\n",
    "| ---------------- | ------------------------------------------------------------ |\n",
    "| `null`           | 数据库中对应的字段是否允许为`NULL`，默认为`False`            |\n",
    "| `blank`          | 后台模型管理验证数据时，是否允许为`NULL`，默认为`False`      |\n",
    "| `choices`        | 设定字段的选项，各元组中的第一个值是设置在模型上的值，第二值是人类可读的值 |\n",
    "| `db_column`      | 字段对应到数据库表中的列名，未指定时直接使用字段的名称       |\n",
    "| `db_index`       | 设置为`True`时将在该字段创建索引                             |\n",
    "| `db_tablespace`  | 为有索引的字段设置使用的表空间，默认为`DEFAULT_INDEX_TABLESPACE` |\n",
    "| `default`        | 字段的默认值                                                 |\n",
    "| `editable`       | 字段在后台模型管理或`ModelForm`中是否显示，默认为`True`      |\n",
    "| `error_messages` | 设定字段抛出异常时的默认消息的字典，其中的键包括`null`、`blank`、`invalid`、`invalid_choice`、`unique`和`unique_for_date` |\n",
    "| `help_text`      | 表单小组件旁边显示的额外的帮助文本。                         |\n",
    "| `primary_key`    | 将字段指定为模型的主键，未指定时会自动添加`AutoField`用于主键，只读。 |\n",
    "| `unique`         | 设置为`True`时，表中字段的值必须是唯一的                     |\n",
    "| `verbose_name`   | 字段在后台模型管理显示的名称，未指定时使用字段的名称         |\n",
    "\n",
    "`ForeignKey`属性\n",
    "\n",
    "1. `limit_choices_to`：值是一个Q对象或返回一个Q对象，用于限制后台显示哪些对象。\n",
    "2. `related_name`：用于获取关联对象的关联管理器对象（反向查询），如果不允许反向，该属性应该被设置为`'+'`，或者以`'+'`结尾。\n",
    "3. `to_field`：指定关联的字段，默认关联对象的主键字段。\n",
    "4. `db_constraint`：是否为外键创建约束，默认值为`True`。\n",
    "5. `on_delete`：外键关联的对象被删除时对应的动作，可取的值包括`django.db.models`中定义的：\n",
    "   - `CASCADE`：级联删除。\n",
    "   - `PROTECT`：抛出`ProtectedError`异常，阻止删除引用的对象。\n",
    "   - `SET_NULL`：把外键设置为`null`，当`null`属性被设置为`True`时才能这么做。\n",
    "   - `SET_DEFAULT`：把外键设置为默认值，提供了默认值才能这么做。\n",
    "\n",
    "`ManyToManyField`属性\n",
    "\n",
    "1. `symmetrical`：是否建立对称的多对多关系。\n",
    "2. `through`：指定维持多对多关系的中间表的Django模型。\n",
    "3. `throughfields`：定义了中间模型时可以指定建立多对多关系的字段。\n",
    "4. `db_table`：指定维持多对多关系的中间表的表名。\n",
    "\n",
    "##### 模型元数据选项\n",
    "\n",
    "| 选项                    | 说明                                                         |\n",
    "| ----------------------- | ------------------------------------------------------------ |\n",
    "| `abstract`              | 设置为True时模型是抽象父类                                   |\n",
    "| `app_label`             | 如果定义模型的应用不在INSTALLED_APPS中可以用该属性指定       |\n",
    "| `db_table`              | 模型使用的数据表名称                                         |\n",
    "| `db_tablespace`         | 模型使用的数据表空间                                         |\n",
    "| `default_related_name`  | 关联对象回指这个模型时默认使用的名称，默认为<model_name>_set |\n",
    "| `get_latest_by`         | 模型中可排序字段的名称。                                     |\n",
    "| `managed`               | 设置为True时，Django在迁移中创建数据表并在执行flush管理命令时把表移除 |\n",
    "| `order_with_respect_to` | 标记对象为可排序的                                           |\n",
    "| `ordering`              | 对象的默认排序                                               |\n",
    "| `permissions`           | 创建对象时写入权限表的额外权限                               |\n",
    "| `default_permissions`   | 默认为`('add', 'change', 'delete')`                          |\n",
    "| `unique_together`       | 设定组合在一起时必须独一无二的字段名                         |\n",
    "| `index_together`        | 设定一起建立索引的多个字段名                                 |\n",
    "| `verbose_name`          | 为对象设定人类可读的名称                                     |\n",
    "| `verbose_name_plural`   | 设定对象的复数名称                                           |\n",
    "\n",
    "#### 查询参考\n",
    "\n",
    "##### 按字段查找可以用的条件\n",
    "\n",
    "1. `exact` / `iexact`：精确匹配/忽略大小写的精确匹配查询\n",
    "2. `contains` / `icontains` / `startswith` / `istartswith` / `endswith` / `iendswith`：基于`like`的模糊查询\n",
    "3. `in` ：集合运算\n",
    "4. `gt` / `gte` / `lt` / `lte`：大于/大于等于/小于/小于等于关系运算\n",
    "5. `range`：指定范围查询（SQL中的`between…and…`）\n",
    "6. `year` / `month` / `day` / `week_day` / `hour` / `minute` / `second`：查询时间日期\n",
    "7. `isnull`：查询空值（True）或非空值（False）\n",
    "8. `search`：基于全文索引的全文检索（一般很少使用）\n",
    "9. `regex` / `iregex`：基于正则表达式的模糊匹配查询"
   ]
  }
 ],
 "metadata": {},
 "nbformat": 4,
 "nbformat_minor": 5
}
