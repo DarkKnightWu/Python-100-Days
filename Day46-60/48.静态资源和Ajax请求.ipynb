{
 "cells": [
  {
   "cell_type": "markdown",
   "id": "58d7dd22",
   "metadata": {},
   "source": [
    "## 静态资源和Ajax请求\n",
    "\n",
    "### 加载静态资源\n",
    "\n",
    "如果要在Django项目中使用静态资源，可以先创建一个用于保存静态资源的目录。在`vote`项目中，我们将静态资源置于名为`static`的文件夹中，在该文件夹包含了三个子文件夹：css、js和images，分别用来保存外部CSS文件、外部JavaScript文件和图片资源，如下图所示。\n",
    "\n",
    "![](res/pycharm-django-static.png)\n",
    "\n",
    "为了能够找到保存静态资源的文件夹，我们还需要修改Django项目的配置文件`settings.py`，如下所示："
   ]
  },
  {
   "cell_type": "code",
   "execution_count": null,
   "id": "f695a1cb",
   "metadata": {
    "attributes": {
     "classes": [
      "Python"
     ],
     "id": ""
    }
   },
   "outputs": [],
   "source": [
    "STATICFILES_DIRS = [os.path.join(BASE_DIR, 'static'), ]\n",
    "STATIC_URL = '/static/'"
   ]
  },
  {
   "cell_type": "markdown",
   "id": "f34cc69f",
   "metadata": {},
   "source": [
    "配置好静态资源之后，大家可以运行项目，然后看看之前我们写的页面上的图片是否能够正常加载出来。需要说明的是，在项目正式部署到线上环境后，我们通常会把静态资源交给专门的静态资源服务器（如Nginx、Apache）来处理，而不是有运行Python代码的服务器来管理静态资源，所以上面的配置并不适用于生产环境，仅供项目开发阶段测试使用。使用静态资源的正确姿势我们会在后续的章节为大家讲解。\n",
    "\n",
    "### Ajax概述\n",
    "\n",
    "接下来就可以实现“好评”和“差评”的功能了，很明显如果能够在不刷新页面的情况下实现这两个功能会带来更好的用户体验，因此我们考虑使用[Ajax](https://zh.wikipedia.org/wiki/AJAX)技术来实现“好评”和“差评”。Ajax是Asynchronous Javascript And XML的缩写 , 简单的说，使用Ajax技术可以在不重新加载整个页面的情况下对页面进行局部刷新。\n",
    "\n",
    "对于传统的Web应用，每次页面上需要加载新的内容都需要重新请求服务器并刷新整个页面，如果服务器短时间内无法给予响应或者网络状况并不理想，那么可能会造成浏览器长时间的空白并使得用户处于等待状态，在这个期间用户什么都做不了，如下图所示。很显然，这样的Web应用并不能带来很好的用户体验。\n",
    "\n",
    "![](res/synchronous-web-request.png)\n",
    "\n",
    "对于使用Ajax技术的Web应用，浏览器可以向服务器发起异步请求来获取数据。异步请求不会中断用户体验，当服务器返回了新的数据，我们可以通过JavaScript代码进行DOM操作来实现对页面的局部刷新，这样就相当于在不刷新整个页面的情况下更新了页面的内容，如下图所示。\n",
    "\n",
    "![](res/asynchronous-web-request.png)\n",
    "\n",
    "在使用Ajax技术时，浏览器跟服务器通常会交换XML或JSON格式的数据，XML是以前使用得非常多的一种数据格式，近年来几乎已经完全被JSON取代，下面是两种数据格式的对比。\n",
    "\n",
    "XML格式："
   ]
  },
  {
   "cell_type": "code",
   "execution_count": null,
   "id": "d1f20ae6",
   "metadata": {
    "attributes": {
     "classes": [
      "XML"
     ],
     "id": ""
    }
   },
   "outputs": [],
   "source": [
    "<?xml version=\"1.0\" encoding=\"utf-8\"?>\n",
    "<message>\n",
    "\t<from>Alice</from>\n",
    "    <to>Bob</to>\n",
    "    <content>Dinner is on me!</content>\n",
    "</message>"
   ]
  },
  {
   "cell_type": "markdown",
   "id": "773c3f08",
   "metadata": {},
   "source": [
    "JSON格式："
   ]
  },
  {
   "cell_type": "code",
   "execution_count": null,
   "id": "cd3604af",
   "metadata": {
    "attributes": {
     "classes": [
      "JSON"
     ],
     "id": ""
    }
   },
   "outputs": [],
   "source": [
    "{\n",
    "    \"from\": \"Alice\",\n",
    "    \"to\": \"Bob\",\n",
    "    \"content\": \"Dinner is on me!\"\n",
    "}"
   ]
  },
  {
   "cell_type": "markdown",
   "id": "542b9422",
   "metadata": {},
   "source": [
    "通过上面的对比，明显JSON格式的数据要紧凑得多，所以传输效率更高，而且JSON本身也是JavaScript中的一种对象表达式语法，在JavaScript代码中处理JSON格式的数据更加方便。\n",
    "\n",
    "### 用Ajax实现投票功能\n",
    "\n",
    "下面，我们使用Ajax技术来实现投票的功能，首先修改项目的`urls.py`文件，为“好评”和“差评”功能映射对应的URL。"
   ]
  },
  {
   "cell_type": "code",
   "execution_count": null,
   "id": "1881419e",
   "metadata": {
    "attributes": {
     "classes": [
      "Python"
     ],
     "id": ""
    }
   },
   "outputs": [],
   "source": [
    "from django.contrib import admin\n",
    "from django.urls import path\n",
    "\n",
    "from vote import views\n",
    "\n",
    "urlpatterns = [\n",
    "    path('', views.show_subjects),\n",
    "    path('teachers/', views.show_teachers),\n",
    "    path('praise/', views.praise_or_criticize),\n",
    "    path('criticize/', views.praise_or_criticize),\n",
    "    path('admin/', admin.site.urls),\n",
    "]"
   ]
  },
  {
   "cell_type": "markdown",
   "id": "3ac55f67",
   "metadata": {},
   "source": [
    "设计视图函数`praise_or_criticize`来支持“好评”和“差评”功能，该视图函数通过Django封装的JsonResponse类将字典序列化成JSON字符串作为返回给浏览器的响应内容。"
   ]
  },
  {
   "cell_type": "code",
   "execution_count": null,
   "id": "aa4dd5b9",
   "metadata": {
    "attributes": {
     "classes": [
      "Python"
     ],
     "id": ""
    }
   },
   "outputs": [],
   "source": [
    "def praise_or_criticize(request):\n",
    "    \"\"\"好评\"\"\"\n",
    "    try:\n",
    "        tno = int(request.GET.get('tno'))\n",
    "        teacher = Teacher.objects.get(no=tno)\n",
    "        if request.path.startswith('/praise'):\n",
    "            teacher.good_count += 1\n",
    "            count = teacher.good_count\n",
    "        else:\n",
    "            teacher.bad_count += 1\n",
    "            count = teacher.bad_count\n",
    "        teacher.save()\n",
    "        data = {'code': 20000, 'mesg': '操作成功', 'count': count}\n",
    "    except (ValueError, Teacher.DoseNotExist):\n",
    "        data = {'code': 20001, 'mesg': '操作失败'}\n",
    "    return JsonResponse(data)"
   ]
  },
  {
   "cell_type": "markdown",
   "id": "8efadd62",
   "metadata": {},
   "source": [
    "修改显示老师信息的模板页，引入jQuery库来实现事件处理、Ajax请求和DOM操作。"
   ]
  },
  {
   "cell_type": "code",
   "execution_count": null,
   "id": "64a50ace",
   "metadata": {
    "attributes": {
     "classes": [
      "HTML"
     ],
     "id": ""
    },
    "vscode": {
     "languageId": "html"
    }
   },
   "outputs": [],
   "source": [
    "<!DOCTYPE html>\n",
    "<html lang=\"en\">\n",
    "<head>\n",
    "    <meta charset=\"UTF-8\">\n",
    "    <title>老师信息</title>\n",
    "    <style>\n",
    "        #container {\n",
    "            width: 80%;\n",
    "            margin: 10px auto;\n",
    "        }\n",
    "        .teacher {\n",
    "            width: 100%;\n",
    "            margin: 0 auto;\n",
    "            padding: 10px 0;\n",
    "            border-bottom: 1px dashed gray;\n",
    "            overflow: auto;\n",
    "        }\n",
    "        .teacher>div {\n",
    "            float: left;\n",
    "        }\n",
    "        .photo {\n",
    "            height: 140px;\n",
    "            border-radius: 75px;\n",
    "            overflow: hidden;\n",
    "            margin-left: 20px;\n",
    "        }\n",
    "        .info {\n",
    "            width: 75%;\n",
    "            margin-left: 30px;\n",
    "        }\n",
    "        .info div {\n",
    "            clear: both;\n",
    "            margin: 5px 10px;\n",
    "        }\n",
    "        .info span {\n",
    "            margin-right: 25px;\n",
    "        }\n",
    "        .info a {\n",
    "            text-decoration: none;\n",
    "            color: darkcyan;\n",
    "        }\n",
    "    </style>\n",
    "</head>\n",
    "<body>\n",
    "    <div id=\"container\">\n",
    "        <h1>{{ subject.name }}学科的老师信息</h1>\n",
    "        <hr>\n",
    "        {% if not teachers %}\n",
    "            <h2>暂无该学科老师信息</h2>\n",
    "        {% endif %}\n",
    "        {% for teacher in teachers %}\n",
    "        <div class=\"teacher\">\n",
    "            <div class=\"photo\">\n",
    "                <img src=\"/static/images/{{ teacher.photo }}\" height=\"140\" alt=\"\">\n",
    "            </div>\n",
    "            <div class=\"info\">\n",
    "                <div>\n",
    "                    <span><strong>姓名：{{ teacher.name }}</strong></span>\n",
    "                    <span>性别：{{ teacher.sex | yesno:'男,女' }}</span>\n",
    "                    <span>出生日期：{{ teacher.birth }}</span>\n",
    "                </div>\n",
    "                <div class=\"intro\">{{ teacher.intro }}</div>\n",
    "                <div class=\"comment\">\n",
    "                    <a href=\"/praise/?tno={{ teacher.no }}\">好评</a>&nbsp;&nbsp;\n",
    "                    (<strong>{{ teacher.good_count }}</strong>)\n",
    "                    &nbsp;&nbsp;&nbsp;&nbsp;\n",
    "                    <a href=\"/criticize/?tno={{ teacher.no }}\">差评</a>&nbsp;&nbsp;\n",
    "                    (<strong>{{ teacher.bad_count }}</strong>)\n",
    "                </div>\n",
    "            </div>\n",
    "        </div>\n",
    "        {% endfor %}\n",
    "        <a href=\"/\">返回首页</a>\n",
    "    </div>\n",
    "    <script src=\"https://cdn.bootcss.com/jquery/3.4.1/jquery.min.js\"></script>\n",
    "    <script>\n",
    "        $(() => {\n",
    "            $('.comment>a').on('click', (evt) => {\n",
    "                evt.preventDefault()\n",
    "                let url = $(evt.target).attr('href')\n",
    "                $.getJSON(url, (json) => {\n",
    "                    if (json.code == 20000) {\n",
    "                        $(evt.target).next().text(json.count)\n",
    "                    } else {\n",
    "                        alert(json.mesg)\n",
    "                    }\n",
    "                })\n",
    "            })\n",
    "        })\n",
    "    </script>\n",
    "</body>\n",
    "</html>"
   ]
  },
  {
   "cell_type": "markdown",
   "id": "176ef507",
   "metadata": {},
   "source": [
    "上面的前端代码中，使用了jQuery库封装的`getJSON`方法向服务器发送异步请求，如果不熟悉前端的jQuery库，可以参考[《jQuery API手册》](https://www.runoob.com/manual/jquery/)。\n",
    "\n",
    "### 小结\n",
    "\n",
    "到此为止，这个投票项目的核心功能已然完成，在下面的章节中我们会要求用户必须登录才能投票，没有账号的用户可以通过注册功能注册一个账号。"
   ]
  }
 ],
 "metadata": {
  "language_info": {
   "name": "python"
  }
 },
 "nbformat": 4,
 "nbformat_minor": 5
}
