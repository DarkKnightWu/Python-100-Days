{
 "cells": [
  {
   "cell_type": "markdown",
   "id": "20242523",
   "metadata": {},
   "source": [
    "## 常见反爬策略及应对方案\n",
    "\n",
    "1. 构造合理的HTTP请求头。\n",
    "   - Accept\n",
    "\n",
    "   - User-Agent\n",
    "\n",
    "   - Referer\n",
    "   \n",
    "   - Accept-Encoding\n",
    "   \n",
    "   - Accept-Language\n",
    "2. 检查网站生成的Cookie。\n",
    "   - 有用的插件：[EditThisCookie](http://www.editthiscookie.com/)\n",
    "   - 如何处理脚本动态生成的Cookie\n",
    "3. 抓取动态内容。\n",
    "   - Selenium + WebDriver\n",
    "   - Chrome / Firefox - Driver\n",
    "4. 限制爬取的速度。\n",
    "5. 处理表单中的隐藏域。\n",
    "   - 在读取到隐藏域之前不要提交表单\n",
    "   - 用RoboBrowser这样的工具辅助提交表单\n",
    "6. 处理表单中的验证码。\n",
    "   - OCR（Tesseract） - 商业项目一般不考虑 \n",
    "\n",
    "   - 专业识别平台 - 超级鹰 / 云打码"
   ]
  },
  {
   "cell_type": "code",
   "execution_count": null,
   "id": "22becdfa",
   "metadata": {},
   "outputs": [],
   "source": [
    "```Python\n",
    "from hashlib import md5\n",
    "\n",
    "class ChaoClient(object):\n",
    "\n",
    "    def __init__(self, username, password, soft_id):\n",
    "        self.username = username\n",
    "        password =  password.encode('utf-8')\n",
    "        self.password = md5(password).hexdigest()\n",
    "        self.soft_id = soft_id\n",
    "        self.base_params = {\n",
    "            'user': self.username,\n",
    "            'pass2': self.password,\n",
    "            'softid': self.soft_id,\n",
    "        }\n",
    "        self.headers = {\n",
    "            'Connection': 'Keep-Alive',\n",
    "            'User-Agent': 'Mozilla/4.0 (compatible; MSIE 8.0; Windows NT 5.1; Trident/4.0)',\n",
    "        }\n",
    "\n",
    "    def post_pic(self, im, codetype):\n",
    "        params = {\n",
    "            'codetype': codetype,\n",
    "        }\n",
    "        params.update(self.base_params)\n",
    "        files = {'userfile': ('captcha.jpg', im)}\n",
    "        r = requests.post('http://upload.chaojiying.net/Upload/Processing.php', data=params, files=files, headers=self.headers)\n",
    "        return r.json()"
   ]
  },
  {
   "cell_type": "code",
   "execution_count": null,
   "id": "2fc9af9e",
   "metadata": {},
   "outputs": [],
   "source": [
    "if __name__ == '__main__':\n",
    "    client = ChaoClient('用户名', '密码', '软件ID')\n",
    "    with open('captcha.jpg', 'rb') as file:                                                \n",
    "        print(client.post_pic(file, 1902))                                          \n",
    "```"
   ]
  },
  {
   "cell_type": "markdown",
   "id": "d217979c",
   "metadata": {},
   "source": [
    "7. 绕开“陷阱”。\n",
    "   - 网页上有诱使爬虫爬取的爬取的隐藏链接（陷阱或蜜罐）\n",
    "   - 通过Selenium+WebDriver+Chrome判断链接是否可见或在可视区域\n",
    "8. 隐藏身份。\n",
    "   - 代理服务 -  快代理 / 讯代理 / 芝麻代理 / 蘑菇代理 / 云代理"
   ]
  },
  {
   "cell_type": "code",
   "execution_count": null,
   "id": "27b46a3a",
   "metadata": {},
   "outputs": [],
   "source": [
    "[《爬虫代理哪家强？十大付费代理详细对比评测出炉！》](https://cuiqingcai.com/5094.html)"
   ]
  },
  {
   "cell_type": "markdown",
   "id": "1cb5b65e",
   "metadata": {},
   "source": [
    "- 洋葱路由 - 国内需要翻墙才能使用"
   ]
  },
  {
   "cell_type": "code",
   "execution_count": null,
   "id": "a7efb025",
   "metadata": {},
   "outputs": [],
   "source": [
    "```Shell\n",
    "yum -y install tor\n",
    "useradd admin -d /home/admin\n",
    "passwd admin\n",
    "chown -R admin:admin /home/admin\n",
    "chown -R admin:admin /var/run/tor\n",
    "tor\n",
    "```"
   ]
  }
 ],
 "metadata": {
  "kernelspec": {
   "display_name": "venv",
   "language": "python",
   "name": "python3"
  },
  "language_info": {
   "name": "python",
   "version": "3.12.11"
  }
 },
 "nbformat": 4,
 "nbformat_minor": 5
}
