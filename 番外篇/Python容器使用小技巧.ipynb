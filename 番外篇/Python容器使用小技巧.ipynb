{
 "cells": [
  {
   "cell_type": "markdown",
   "id": "759c0d6f",
   "metadata": {},
   "source": [
    "## Python容器类型使用小技巧\n",
    "\n",
    "Python中提供了非常丰富的容器型数据类型，大家最为熟悉的有`list`、`tuple`、`set`、`dict`等。下面为大家分享一些使用这些类型的小技巧，希望帮助大家写出更加Pythonic的代码。\n",
    "\n",
    "#### 1. 从字典中取最大\n",
    "\n",
    "假设字典对象对应的变量名为`my_dict`。\n",
    "\n",
    "- 取出最大值"
   ]
  },
  {
   "cell_type": "code",
   "execution_count": null,
   "id": "52fdbd85",
   "metadata": {},
   "outputs": [],
   "source": [
    "```Python\n",
    "max(my_dict.values())\n",
    "```"
   ]
  },
  {
   "cell_type": "markdown",
   "id": "5aa8728d",
   "metadata": {},
   "source": [
    "- 取值最大值的键"
   ]
  },
  {
   "cell_type": "code",
   "execution_count": null,
   "id": "14cc4646",
   "metadata": {},
   "outputs": [],
   "source": [
    "```Python\n",
    "max(my_dict, key=my_dict.get)\n",
    "```"
   ]
  },
  {
   "cell_type": "markdown",
   "id": "56dca9c2",
   "metadata": {},
   "source": [
    "- 取出最大值的键和值"
   ]
  },
  {
   "cell_type": "code",
   "execution_count": null,
   "id": "699ffee3",
   "metadata": {},
   "outputs": [],
   "source": [
    "```python\n",
    " max(my_dict.items(), key=lambda x: x[1])\n",
    "```\n",
    "\n",
    "或\n",
    "\n",
    "```Python\n",
    "import operator\n",
    "\n",
    "max(my_dict.items(), key=operator.itemgetter(1))\n",
    "```\n",
    "\n",
    "> **说明**：上面用到了`operator`模块的`itemgetter`函数，这个函数的的作用如下所示。在上面的代码中，`itemgetter`帮我们获取到了二元组中的第2个元素。\n",
    ">\n",
    "> ```Python\n",
    "> def itemgetter(*items):\n",
    ">     if len(items) == 1:\n",
    ">         item = items[0]\n",
    ">         def g(obj):\n",
    ">             return obj[item]\n",
    ">     else:\n",
    ">         def g(obj):\n",
    ">             return tuple(obj[item] for item in items)\n",
    ">     return g\n",
    "> ```"
   ]
  },
  {
   "cell_type": "markdown",
   "id": "5c4704b0",
   "metadata": {},
   "source": [
    "#### 2. 统计列表元素出现次数\n",
    "\n",
    "假设列表对象对应的变量名为`my_list`。"
   ]
  },
  {
   "cell_type": "code",
   "execution_count": null,
   "id": "bc1c153e",
   "metadata": {
    "attributes": {
     "classes": [
      "Python"
     ],
     "id": ""
    }
   },
   "outputs": [],
   "source": [
    "{x: my_list.count(x) for x in set(my_list)}"
   ]
  },
  {
   "cell_type": "markdown",
   "id": "2ceda030",
   "metadata": {},
   "source": [
    "或"
   ]
  },
  {
   "cell_type": "code",
   "execution_count": null,
   "id": "d0176424",
   "metadata": {
    "attributes": {
     "classes": [
      "Python"
     ],
     "id": ""
    }
   },
   "outputs": [],
   "source": [
    "from itertools import groupby\n",
    "\n",
    "{key: len(list(group)) for key, group in groupby(sorted(my_list))}"
   ]
  },
  {
   "cell_type": "markdown",
   "id": "7566f5cd",
   "metadata": {},
   "source": [
    "> **说明**：`groupby`函数会将相邻相同元素分到一个组中，所以先用`sorted`函数排序就是为了将相同的元素放到一起。\n",
    "\n",
    "或"
   ]
  },
  {
   "cell_type": "code",
   "execution_count": null,
   "id": "d668da46",
   "metadata": {
    "attributes": {
     "classes": [
      "Python"
     ],
     "id": ""
    }
   },
   "outputs": [],
   "source": [
    "from collections import Counter\n",
    "\n",
    "dict(Counter(my_list))"
   ]
  },
  {
   "cell_type": "markdown",
   "id": "581dabac",
   "metadata": {},
   "source": [
    "#### 3. 截断列表元素\n",
    "\n",
    "假设列表对象对应的变量名为`my_list`，通常大家会想到用下面的方式来截断列表。"
   ]
  },
  {
   "cell_type": "code",
   "execution_count": null,
   "id": "f454cb85",
   "metadata": {
    "attributes": {
     "classes": [
      "Python"
     ],
     "id": ""
    }
   },
   "outputs": [],
   "source": [
    "my_list = my_list[:i]\n",
    "my_list = my_list[j:]"
   ]
  },
  {
   "cell_type": "markdown",
   "id": "80c72f56",
   "metadata": {},
   "source": [
    "然而，更好的方式使用下面的操作，大家可以认真想想为什么。"
   ]
  },
  {
   "cell_type": "code",
   "execution_count": null,
   "id": "e6c557fe",
   "metadata": {
    "attributes": {
     "classes": [
      "Python"
     ],
     "id": ""
    }
   },
   "outputs": [],
   "source": [
    "del my_list[i:]\n",
    "del my_list[:j]"
   ]
  },
  {
   "cell_type": "markdown",
   "id": "df5b5123",
   "metadata": {},
   "source": [
    "#### 4. 按最长列表实现zip操作\n",
    "\n",
    "Python的内置函数`zip`可以产生一个生成器对象，该生成器对象将两个或多个可迭代对象的元素组装到一起，如下所示。"
   ]
  },
  {
   "cell_type": "code",
   "execution_count": null,
   "id": "0dcaf8b4",
   "metadata": {
    "attributes": {
     "classes": [
      "Python"
     ],
     "id": ""
    }
   },
   "outputs": [],
   "source": [
    "list(zip('abc', [1, 2, 3, 4]))"
   ]
  },
  {
   "cell_type": "markdown",
   "id": "763fb49f",
   "metadata": {},
   "source": [
    "执行上面的代码会得到一个如下所示的列表，相信大家也注意到了，列表中元素的个数是由`zip`函数中长度最小的可迭代对象决定的，所以下面的列表中只有3个元素。"
   ]
  },
  {
   "cell_type": "code",
   "execution_count": null,
   "id": "816ad78f",
   "metadata": {
    "attributes": {
     "classes": [
      "Python"
     ],
     "id": ""
    }
   },
   "outputs": [],
   "source": [
    "[('a', 1), ('b', 2), ('c', 3)]"
   ]
  },
  {
   "cell_type": "markdown",
   "id": "493a23ce",
   "metadata": {},
   "source": [
    "如果希望由`zip`函数中长度最大的可迭代对象来决定最终迭代出的元素个数，可以试一试`itertools`模块的`zip_longest`函数，其用法如下所示。"
   ]
  },
  {
   "cell_type": "code",
   "execution_count": null,
   "id": "6546768d",
   "metadata": {
    "attributes": {
     "classes": [
      "Python"
     ],
     "id": ""
    }
   },
   "outputs": [],
   "source": [
    "from itertools import zip_longest\n",
    "\n",
    "list(zip_longest('abc', [1, 2, 3, 4]))"
   ]
  },
  {
   "cell_type": "markdown",
   "id": "d83a1939",
   "metadata": {},
   "source": [
    "上面的代码创建出的列表对象如下所示。"
   ]
  },
  {
   "cell_type": "code",
   "execution_count": null,
   "id": "30796223",
   "metadata": {
    "attributes": {
     "classes": [
      "Python"
     ],
     "id": ""
    }
   },
   "outputs": [],
   "source": [
    "[('a', 1), ('b', 2), ('c', 3), (None, 4)]"
   ]
  },
  {
   "cell_type": "markdown",
   "id": "b1e4130c",
   "metadata": {},
   "source": [
    "#### 5. 快速拷贝一个列表\n",
    "\n",
    "如果希望快速拷贝一个列表对象，可以通过切片操作来实现，但是切片操作仅实现了浅拷贝，简单的说就是切片创建了新的列表对象，但是新列表中的元素是和之前的列表共享的。如果希望实现深拷贝，可以使用`copy`模块的`deepcopy`函数。\n",
    "\n",
    "- 浅拷贝"
   ]
  },
  {
   "cell_type": "code",
   "execution_count": null,
   "id": "d74c50c3",
   "metadata": {},
   "outputs": [],
   "source": [
    "```Python\n",
    "thy_list = my_list[:]\n",
    "```\n",
    "\n",
    "或\n",
    "\n",
    "```Python\n",
    "import copy\n",
    "\n",
    "thy_list = copy.copy(my_list)\n",
    "```"
   ]
  },
  {
   "cell_type": "markdown",
   "id": "24878f2b",
   "metadata": {},
   "source": [
    "- 深拷贝"
   ]
  },
  {
   "cell_type": "code",
   "execution_count": null,
   "id": "f533f910",
   "metadata": {},
   "outputs": [],
   "source": [
    "```Python\n",
    "import copy\n",
    "\n",
    "thy_list = copy.deepcopy(my_list)\n",
    "```"
   ]
  },
  {
   "cell_type": "markdown",
   "id": "9e0e36c3",
   "metadata": {},
   "source": [
    "#### 6. 对两个或多个列表对应元素进行操作\n",
    "\n",
    "Python内置函数中的`map`函数可以对一个可迭代对象中的元素进行“映射”操作，这个函数在批量处理数据时非常有用。但是很多人都不知道，这个函数还可以作用于多个可迭代对象，通过传入的函数对多个可迭代对象中的对应元素进行处理，如下所示。"
   ]
  },
  {
   "cell_type": "code",
   "execution_count": null,
   "id": "4005d544",
   "metadata": {
    "attributes": {
     "classes": [
      "Python"
     ],
     "id": ""
    }
   },
   "outputs": [],
   "source": [
    "my_list = [11, 13, 15, 17]\n",
    "thy_list = [2, 4, 6, 8, 10]\n",
    "list(map(lambda x, y: x + y, my_list, thy_list))"
   ]
  },
  {
   "cell_type": "markdown",
   "id": "43ff1398",
   "metadata": {},
   "source": [
    "上面的操作会得到如下所示的列表。"
   ]
  },
  {
   "cell_type": "code",
   "execution_count": null,
   "id": "b3276884",
   "metadata": {
    "attributes": {
     "classes": [
      "Python"
     ],
     "id": ""
    }
   },
   "outputs": [],
   "source": [
    "[13, 17, 21, 25]"
   ]
  },
  {
   "cell_type": "markdown",
   "id": "51eb42d3",
   "metadata": {},
   "source": [
    "当然，同样的操作也可以用`zip`函数配合列表生成式来完成。"
   ]
  },
  {
   "cell_type": "code",
   "execution_count": null,
   "id": "3ad4dcda",
   "metadata": {
    "attributes": {
     "classes": [
      "Python"
     ],
     "id": ""
    }
   },
   "outputs": [],
   "source": [
    "my_list = [11, 13, 15, 17]\n",
    "thy_list = [2, 4, 6, 8, 10]\n",
    "[x + y for x, y in zip(my_list, thy_list)]"
   ]
  },
  {
   "cell_type": "markdown",
   "id": "8bd6eab9",
   "metadata": {},
   "source": [
    "#### 7. 处理列表中的空值和零值\n",
    "\n",
    "假设列表对象对应的变量名为`my_list`，如果列表中有空值（`None`）和零值，我们可以用下面的方式去掉空值和零值。"
   ]
  },
  {
   "cell_type": "code",
   "execution_count": null,
   "id": "3b988d39",
   "metadata": {
    "attributes": {
     "classes": [
      "Python"
     ],
     "id": ""
    }
   },
   "outputs": [],
   "source": [
    "list(filter(bool, my_list))"
   ]
  },
  {
   "cell_type": "markdown",
   "id": "6b30ed38",
   "metadata": {},
   "source": [
    "对应的列表生成式语法如下所示。"
   ]
  },
  {
   "cell_type": "code",
   "execution_count": null,
   "id": "3bf2a76e",
   "metadata": {
    "attributes": {
     "classes": [
      "Python"
     ],
     "id": ""
    }
   },
   "outputs": [],
   "source": [
    "[x for x in my_list if x]"
   ]
  },
  {
   "cell_type": "markdown",
   "id": "d6ca5d83",
   "metadata": {},
   "source": [
    "#### 8. 从嵌套列表中抽取指定列\n",
    "\n",
    "假设`my_list`是一个如下所示的嵌套列表，该嵌套列表可以用来表示数学上的矩阵，如果要取出矩阵第一列的元素构成一个列表，我们可以这样写。"
   ]
  },
  {
   "cell_type": "code",
   "execution_count": null,
   "id": "54e341bc",
   "metadata": {
    "attributes": {
     "classes": [
      "Python"
     ],
     "id": ""
    }
   },
   "outputs": [],
   "source": [
    "my_list = [\n",
    "    [1, 1, 2, 2],\n",
    "    [5, 6, 7, 8],\n",
    "    [3, 3, 4, 4],\n",
    "]\n",
    "col1, *_ = zip(*my_list)\n",
    "list(col1)"
   ]
  },
  {
   "cell_type": "markdown",
   "id": "1ed60629",
   "metadata": {},
   "source": [
    "这里我们会得到一个如下所示的列表，刚好是矩阵的第一列。"
   ]
  },
  {
   "cell_type": "code",
   "execution_count": null,
   "id": "2f11387f",
   "metadata": {
    "attributes": {
     "classes": [
      "Python"
     ],
     "id": ""
    }
   },
   "outputs": [],
   "source": [
    "[1, 5, 3]"
   ]
  },
  {
   "cell_type": "markdown",
   "id": "0a1dceae",
   "metadata": {},
   "source": [
    "以此类推，如果想取出矩阵第二列的元素构成一个列表，可以用如下所示的方法。"
   ]
  },
  {
   "cell_type": "code",
   "execution_count": null,
   "id": "9d637d59",
   "metadata": {
    "attributes": {
     "classes": [
      "Python"
     ],
     "id": ""
    }
   },
   "outputs": [],
   "source": [
    "_, col2, *_ = zip(*my_list)\n",
    "list(col2)"
   ]
  },
  {
   "cell_type": "markdown",
   "id": "4d778e30",
   "metadata": {},
   "source": [
    "至此，如果要实现矩阵的转置操作，我们也可以按照上面的思路写出下面的代码。"
   ]
  },
  {
   "cell_type": "code",
   "execution_count": null,
   "id": "641e5980",
   "metadata": {
    "attributes": {
     "classes": [
      "Python"
     ],
     "id": ""
    }
   },
   "outputs": [],
   "source": [
    "[list(x) for x in zip(*my_list)]"
   ]
  },
  {
   "cell_type": "markdown",
   "id": "121bd16e",
   "metadata": {},
   "source": [
    "经过上面的操作，我们会得到如下所示的列表。\n",
    "\n",
    "```Python\n",
    "[[1, 5, 3], \n",
    " [1, 6, 3], \n",
    " [2, 7, 4], \n",
    " [2, 8, 4]]\n",
    "```"
   ]
  }
 ],
 "metadata": {},
 "nbformat": 4,
 "nbformat_minor": 5
}
