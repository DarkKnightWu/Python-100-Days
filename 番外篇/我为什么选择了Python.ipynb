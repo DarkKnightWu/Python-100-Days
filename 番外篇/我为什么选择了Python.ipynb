{
 "cells": [
  {
   "cell_type": "markdown",
   "id": "99fe7b97",
   "metadata": {},
   "source": [
    "## 我为什么选择了Python\n",
    "\n",
    "目前，Python 语言的发展势头在国内国外都是不可阻挡的，Python 凭借其简单优雅的语法，强大的生态圈从众多语言中脱颖而出，如今已经是稳坐编程语言排行榜前三的位置。国内很多 Python 开发者都是从 Java 开发者跨界过来的，我自己也不例外。我简单的跟大家交代一下，我为什么选择了 Python。\n",
    "\n",
    "### Python vs. Java\n",
    "\n",
    "我们通过几个例子来比较一下，做同样的事情 Java 和 Python 的代码都是怎么写的。\n",
    "\n",
    "例子1：在终端中输出“hello, world”。\n",
    "\n",
    "Java 代码："
   ]
  },
  {
   "cell_type": "code",
   "execution_count": null,
   "id": "b55eb28f",
   "metadata": {
    "attributes": {
     "classes": [
      "Java"
     ],
     "id": ""
    }
   },
   "outputs": [],
   "source": [
    "class Test {\n",
    "\t\n",
    "    public static void main(String[] args) {\n",
    "        System.out.println(\"hello, world\");\n",
    "    }\n",
    "}"
   ]
  },
  {
   "cell_type": "markdown",
   "id": "993382db",
   "metadata": {},
   "source": [
    "Python 代码："
   ]
  },
  {
   "cell_type": "code",
   "execution_count": null,
   "id": "628e35f1",
   "metadata": {
    "attributes": {
     "classes": [
      "Python"
     ],
     "id": ""
    }
   },
   "outputs": [],
   "source": [
    "print('hello, world')"
   ]
  },
  {
   "cell_type": "markdown",
   "id": "b64fc273",
   "metadata": {},
   "source": [
    "例子2：从1到100求和。\n",
    "\n",
    "Java 代码："
   ]
  },
  {
   "cell_type": "code",
   "execution_count": null,
   "id": "a0d32ed4",
   "metadata": {
    "attributes": {
     "classes": [
      "Java"
     ],
     "id": ""
    }
   },
   "outputs": [],
   "source": [
    "class Test {\n",
    "    \n",
    "    public static void main(String[] args) {\n",
    "        int total = 0;\n",
    "        for (int i = 1; i <= 100; i += 1) {\n",
    "            total += i;\n",
    "        }\n",
    "        System.out.println(total);\n",
    "    }\n",
    "}"
   ]
  },
  {
   "cell_type": "markdown",
   "id": "9996e5db",
   "metadata": {},
   "source": [
    "Python 代码："
   ]
  },
  {
   "cell_type": "code",
   "execution_count": null,
   "id": "c89615dd",
   "metadata": {
    "attributes": {
     "classes": [
      "Python"
     ],
     "id": ""
    }
   },
   "outputs": [],
   "source": [
    "print(sum(range(1, 101)))"
   ]
  },
  {
   "cell_type": "markdown",
   "id": "748a2063",
   "metadata": {},
   "source": [
    "例子3：双色球随机选号。\n",
    "\n",
    "Java 代码："
   ]
  },
  {
   "cell_type": "code",
   "execution_count": null,
   "id": "1950d56a",
   "metadata": {
    "attributes": {
     "classes": [
      "Java"
     ],
     "id": ""
    }
   },
   "outputs": [],
   "source": [
    "import java.util.List;\n",
    "import java.util.ArrayList;\n",
    "import java.util.Collections;\n",
    "\n",
    "class Test {\n",
    "\n",
    "    /**\n",
    "     * 产生[min, max)范围的随机整数\n",
    "     */\n",
    "    public static int randomInt(int min, int max) {\n",
    "        return (int) (Math.random() * (max - min) + min);\n",
    "    }\n",
    "\n",
    "    public static void main(String[] args) {\n",
    "        // 初始化备选红色球\n",
    "        List<Integer> redBalls = new ArrayList<>();\n",
    "        for (int i = 1; i <= 33; ++i) {\n",
    "            redBalls.add(i);\n",
    "        }\n",
    "        List<Integer> selectedBalls = new ArrayList<>();\n",
    "        // 选出六个红色球\n",
    "        for (int i = 0; i < 6; ++i) {\n",
    "            selectedBalls.add(redBalls.remove(randomInt(0, redBalls.size())));\n",
    "        }\n",
    "        // 对红色球进行排序\n",
    "        Collections.sort(selectedBalls);\n",
    "        // 添加一个蓝色球\n",
    "        selectedBalls.add(randomInt(1, 17));\n",
    "        // 输出选中的随机号码\n",
    "        for (int i = 0; i < selectedBalls.size(); ++i) {\n",
    "            System.out.printf(\"%02d \", selectedBalls.get(i));\n",
    "            if (i == selectedBalls.size() - 2) {\n",
    "                System.out.print(\"| \");\n",
    "            }\n",
    "        }\n",
    "        System.out.println();\n",
    "    }\n",
    "}"
   ]
  },
  {
   "cell_type": "markdown",
   "id": "2ef54aef",
   "metadata": {},
   "source": [
    "Python 代码："
   ]
  },
  {
   "cell_type": "code",
   "execution_count": null,
   "id": "2177f557",
   "metadata": {
    "attributes": {
     "classes": [
      "Python"
     ],
     "id": ""
    }
   },
   "outputs": [],
   "source": [
    "from random import randint, sample\n",
    "\n",
    "# 初始化备选红色球\n",
    "red_balls = [x for x in range(1, 34)]\n",
    "# 选出六个红色球\n",
    "selected_balls = sample(red_balls, 6)\n",
    "# 对红色球进行排序\n",
    "selected_balls.sort()\n",
    "# 添加一个蓝色球\n",
    "selected_balls.append(randint(1, 16))\n",
    "# 输出选中的随机号码\n",
    "for index, ball in enumerate(selected_balls):\n",
    "    print('%02d' % ball, end=' ')\n",
    "    if index == len(selected_balls) - 2:\n",
    "        print('|', end=' ')\n",
    "print()"
   ]
  },
  {
   "cell_type": "markdown",
   "id": "15cdb1f7",
   "metadata": {},
   "source": [
    "相信，看完这些例子后，你一定感受到了我选择了Python是有道理的。"
   ]
  }
 ],
 "metadata": {},
 "nbformat": 4,
 "nbformat_minor": 5
}
