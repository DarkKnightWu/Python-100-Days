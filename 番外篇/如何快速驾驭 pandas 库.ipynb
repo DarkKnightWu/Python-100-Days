{
 "cells": [
  {
   "cell_type": "markdown",
   "id": "74ac2fcd",
   "metadata": {},
   "source": [
    "## 如何快速驾驭 pandas 库\n",
    "\n",
    "最近有小伙伴提到，Python 做数据分析的 pandas 库函数和方法实在太多，感觉学习和使用起来思路都非常混乱。之前回复过这个问题，今天把它更系统的整理一下，毕竟这个库是 Python 数据科学生态圈中扮演着极为重要的角色，虽然目前有很多 pandas 库的替代品（如：polars、cuDF等），但是使用方法跟 pandas 可以说是大同小异。\n",
    "\n",
    "### 三个核心类\n",
    "\n",
    "Pandas 库有三个最核心的类，其中最重要的是`DataFrame`类型，它是学习的重点，如下图所示。\n",
    "\n",
    "<img src=\"res/pandas_data_structures.png\" style=\"zoom:50%;\">\n",
    "\n",
    "1. `Series`：表示一维数据，跟一维数组类似（带标签的数组），每个数据都有自己的索引（标签），可以通过索引访问数据。\n",
    "2. `DataFrame`：表示二维数据，类似于 Excel 电子表格，行和列都有自己的索引（标签），可以通过索引访问行、列、单元格。\n",
    "3. `Index`：表示索引，为`Series`和`DataFrame` 提供索引服务，`Index`有很多的子类型，适用于需要不同类型的索引的场景。\n",
    "\n",
    "### 数据分析流程\n",
    "\n",
    "学习和使用 pandas 重点是`DataFrame`的应用，我们建议大家按照数据分析的流程来掌握对应的函数和方法，这样做往往会事半功倍。数据分析流程如下图所示，其中蓝色虚线圈中的部分就是可以通过 BI 工具（如：Power BI、Tableau等）或 Python 程序来完成的部分。\n",
    "\n",
    "<img src=\"res/data_analysis_steps.png\" style=\"zoom:38%;\">\n",
    "\n",
    "#### 数据获取\n",
    "\n",
    "数据获取也可以称为数据加载，其本质就是创建`DataFrame`对象，需要掌握以下几个函数：\n",
    "\n",
    "1. 从 CSV 文件加载数据。"
   ]
  },
  {
   "cell_type": "code",
   "execution_count": null,
   "id": "509ed442",
   "metadata": {},
   "outputs": [],
   "source": [
    "pd.read_csv(\n",
    "    filepath,      # CSV文件路径（可以本地绝对路径或相对路径，也可以是一个URL）\n",
    "    sep,           # 字段分隔符（默认是逗号）\n",
    "    header,        # 表头在第几行\n",
    "    encoding,      # 文件编码（默认utf-8）\n",
    "    quotechar,     # 包裹字符串的符号（默认是双引号）\n",
    "    usecols,       # 加载哪些列\n",
    "    index_col,     # 指定索引列\n",
    "    dtype,         # 指定列的数据类型\n",
    "    converters,    # 指定列的数据转换器\n",
    "    nrows,         # 加载多少行数据\n",
    "    skiprows,      # 指定需要跳过的行\n",
    "    parse_dates,   # 将哪些列解析为日期时间\n",
    "    date_format,   # 日期格式\n",
    "    true_values,   # 被视为布尔值True的值\n",
    "    false_values,  # 被视为布尔值False的值\n",
    "    na_values,     # 被视为空值的值\n",
    "    na_filter,     # 是否检测空值标记\n",
    "    on_bad_lines,  # 遇到有问题的行如何处理（可选项：'error'、'warn'、'skip'）\n",
    "    engine,        # 指定底层引擎（例如：可以使用更快的Arrow引擎来处理体量更大的数据）\n",
    "    iterator,      # 是否开启迭代器模式（处理大数据时减少内存开销）\n",
    "    chunksize,     # 迭代器模式下每次加载数量的体量\n",
    ")"
   ]
  },
  {
   "cell_type": "markdown",
   "id": "f266dd38",
   "metadata": {},
   "source": [
    "2. 从 Excel 文件加载数据。"
   ]
  },
  {
   "cell_type": "code",
   "execution_count": null,
   "id": "850a7250",
   "metadata": {},
   "outputs": [],
   "source": [
    "pd.read_excel(\n",
    "    io,           # 工作簿文件的路径\n",
    "    sheet_name,   # 工作表的名字\n",
    "    skip_footer,  # 跳过末尾多少行\n",
    ")"
   ]
  },
  {
   "cell_type": "markdown",
   "id": "6cfb2f70",
   "metadata": {},
   "source": [
    "> **说明**：`read_excel`函数跟`read_csv`有很多作用相同的参数，这里就没有赘述了。从 Excel 文件中加载数据时，没有迭代器模式。\n",
    "\n",
    "3. 从数据库或数仓加载数据。"
   ]
  },
  {
   "cell_type": "code",
   "execution_count": null,
   "id": "e43ba35a",
   "metadata": {},
   "outputs": [],
   "source": [
    "pd.read_sql(\n",
    "    sql,          # SQL查询或二维表的名字\n",
    "    con,          # 数据库连接\n",
    "    parse_dates,  # 指定需要解析成日期的列\n",
    "    index_col,    # 指定索隐裂\n",
    "    columns,      # 需要加载的列\n",
    "    chunksize,    # 加载数据的体量\n",
    "    dtype,        # 指定列的数据类型\n",
    ")"
   ]
  },
  {
   "cell_type": "markdown",
   "id": "c7a9a752",
   "metadata": {},
   "source": [
    "4. 其他创建`DataFrame`对象的方式。"
   ]
  },
  {
   "cell_type": "code",
   "execution_count": null,
   "id": "70740427",
   "metadata": {},
   "outputs": [],
   "source": [
    "pd.DataFrame(data=[[95, 87], [66, 78], [92, 89]], index=[1001, 1002, 1003], columns=['Verbal', 'Math'])\n",
    "pd.DataFrame(data={'Verbal': [95, 66, 92], 'Math': [87, 78, 89]}, index=[1001, 1002, 1003])"
   ]
  },
  {
   "cell_type": "markdown",
   "id": "0c9b6176",
   "metadata": {},
   "source": [
    "如果要对`DataFrame`中的数据或索引进行操作，需要掌握下面的运算和方法。\n",
    "\n",
    "1. 查看信息"
   ]
  },
  {
   "cell_type": "code",
   "execution_count": null,
   "id": "0b122e54",
   "metadata": {},
   "outputs": [],
   "source": [
    "df.info()"
   ]
  },
  {
   "cell_type": "markdown",
   "id": "34b6ed2a",
   "metadata": {},
   "source": [
    "2. 查看前/后 N 行"
   ]
  },
  {
   "cell_type": "code",
   "execution_count": null,
   "id": "ae08c749",
   "metadata": {},
   "outputs": [],
   "source": [
    "df.head(10)\n",
    "df.tail(5)"
   ]
  },
  {
   "cell_type": "markdown",
   "id": "37faf737",
   "metadata": {},
   "source": [
    "3. 操作列"
   ]
  },
  {
   "cell_type": "code",
   "execution_count": null,
   "id": "2ce6ebaa",
   "metadata": {},
   "outputs": [],
   "source": [
    "df['column_name']\n",
    "df.colume_name"
   ]
  },
  {
   "cell_type": "markdown",
   "id": "41d4fd26",
   "metadata": {},
   "source": [
    "4. 操作行"
   ]
  },
  {
   "cell_type": "code",
   "execution_count": null,
   "id": "6fafc98c",
   "metadata": {},
   "outputs": [],
   "source": [
    "df.loc['row_index']\n",
    "df.iloc[0]"
   ]
  },
  {
   "cell_type": "markdown",
   "id": "c366387e",
   "metadata": {},
   "source": [
    "5. 操作单元格"
   ]
  },
  {
   "cell_type": "code",
   "execution_count": null,
   "id": "dd645444",
   "metadata": {},
   "outputs": [],
   "source": [
    "df.at['row_index', 'column_name']\n",
    "df.iat[0, 0]"
   ]
  },
  {
   "cell_type": "markdown",
   "id": "3da4bb36",
   "metadata": {},
   "source": [
    "6. 删除行或列"
   ]
  },
  {
   "cell_type": "code",
   "execution_count": null,
   "id": "42edcef3",
   "metadata": {},
   "outputs": [],
   "source": [
    "df.drop(\n",
    "    labels,   # 要删除的行或列的索引\n",
    "    axis,     # axis=0，labels表示行索引；axis=1，labels表示列索引\n",
    "    index,    # 要删除的行的索引\n",
    "    columns,  # 要删除的列的索引\n",
    "    inplace,  # 是否就地删除（inplace=True，表示就地删除不返回新DataFrame对象）\n",
    ")"
   ]
  },
  {
   "cell_type": "markdown",
   "id": "22f75ee5",
   "metadata": {},
   "source": [
    "7. 筛选数据"
   ]
  },
  {
   "cell_type": "code",
   "execution_count": null,
   "id": "2fa21d44",
   "metadata": {},
   "outputs": [],
   "source": [
    "df.query(expr)  # 通过表达式指定筛选条件\n",
    "df[bool_index]  # 布尔索引"
   ]
  },
  {
   "cell_type": "markdown",
   "id": "4cd7c389",
   "metadata": {},
   "source": [
    "8. 随机抽样"
   ]
  },
  {
   "cell_type": "code",
   "execution_count": null,
   "id": "28c05a50",
   "metadata": {},
   "outputs": [],
   "source": [
    "df.sampe(\n",
    "    n,             # 样本容量\n",
    "    frac,          # 抽样比例\n",
    "    replace,       # 有放回或无放回抽样（默认值False）\n",
    "    random_state,  # 随机数种子（种子相同每次抽样的结果相同）\n",
    ")"
   ]
  },
  {
   "cell_type": "markdown",
   "id": "374708f1",
   "metadata": {},
   "source": [
    "9. 重置索引"
   ]
  },
  {
   "cell_type": "code",
   "execution_count": null,
   "id": "d7fd4670",
   "metadata": {},
   "outputs": [],
   "source": [
    "df.reset_index(\n",
    "    level,    # 对于多级索引指定重置哪一级的索引\n",
    "    drop,     # 是否丢弃索引（drop=False表示索引会被处理成普通列）\n",
    "    inplace,  # 是否就地处理（要不要返回新的DataFrame对象）\n",
    ")"
   ]
  },
  {
   "cell_type": "markdown",
   "id": "3ba9b215",
   "metadata": {},
   "source": [
    "10. 设置索引"
   ]
  },
  {
   "cell_type": "code",
   "execution_count": null,
   "id": "f6cb0f1a",
   "metadata": {},
   "outputs": [],
   "source": [
    "df.set_index(\n",
    "   keys,              # 指定作为索引的列\n",
    "   drop,              # 是否删除作为索引的列（默认值True）\n",
    "   append,            # 是否将指定列加入现有的索引（默认值False）\n",
    "   inplace,           # 是否就地处理（要不要返回新的DataFrame对象）\n",
    "   verify_integrity,  # 检查索引列是否存在重复值（默认值False）\n",
    ")"
   ]
  },
  {
   "cell_type": "markdown",
   "id": "afe9e5fe",
   "metadata": {},
   "source": [
    "11. 调整索引顺序"
   ]
  },
  {
   "cell_type": "code",
   "execution_count": null,
   "id": "e63f5e6b",
   "metadata": {},
   "outputs": [],
   "source": [
    "df.reindex()\n",
    "df[fancy_index]       # 花式索引\n",
    "df.loc[facy_index]    # 花式索引\n",
    "df.iloc[fancy_index]  # 花式索引"
   ]
  },
  {
   "cell_type": "markdown",
   "id": "88acc2b5",
   "metadata": {},
   "source": [
    "12. 索引排序"
   ]
  },
  {
   "cell_type": "code",
   "execution_count": null,
   "id": "37cac8dd",
   "metadata": {},
   "outputs": [],
   "source": [
    "df.sort_index(\n",
    "    axis,         # 确定行索引或列索引（默认值0）\n",
    "    level,        # 对于多级索引指定索引的级别\n",
    "    ascending,    # 升序或降序（默认值True）\n",
    "    inplace,      # 是否就地排序\n",
    "    kind,         # 排序算法（默认值'quicksort'）\n",
    "    na_position,  # 空值放在最前还是最后（默认值'last'）\n",
    "    key,          # 传入比较索引大小的函数（自定义比较规则）\n",
    ")"
   ]
  },
  {
   "cell_type": "markdown",
   "id": "9b2671c7",
   "metadata": {},
   "source": [
    "#### 数据重塑\n",
    "\n",
    "1. 拼接（类似于 SQL 中的 union 操作）"
   ]
  },
  {
   "cell_type": "code",
   "execution_count": null,
   "id": "8327ee4f",
   "metadata": {},
   "outputs": [],
   "source": [
    "pd.concat(\n",
    "    objs,          # 保存多个DataFrame对象的容器\n",
    "    axis,          # 沿着哪个轴进行拼接\n",
    "    ignore_index,  # 是否忽略原来的索引（默认值False）\n",
    ")"
   ]
  },
  {
   "cell_type": "markdown",
   "id": "29979b70",
   "metadata": {},
   "source": [
    "2. 合并（类似于 SQL 中的 join 操作）"
   ]
  },
  {
   "cell_type": "code",
   "execution_count": null,
   "id": "4bbb008d",
   "metadata": {},
   "outputs": [],
   "source": [
    "pd.merge(\n",
    "    left,         # 左表\n",
    "    right,        # 右表\n",
    "    how,          # 指定连表的方式（默认值'inner'表示内连接）\n",
    "    on,           # 指定连表字段（如果左右两表连表字段同名）\n",
    "    left_on,      # 指定左表的连表字段\n",
    "    right_on,     # 指定右表的连表字段\n",
    "    left_index,   # 是否使用左表的索引连表\n",
    "    right_index,  # 是否使用右表的索引连表\n",
    "    suffixes,     # 指定同名列的后缀（默认值('_x', '_y')）\n",
    ")"
   ]
  },
  {
   "cell_type": "markdown",
   "id": "bb035a64",
   "metadata": {},
   "source": [
    "#### 数据清洗\n",
    "\n",
    "1. 缺失值"
   ]
  },
  {
   "cell_type": "code",
   "execution_count": null,
   "id": "c746ae00",
   "metadata": {},
   "outputs": [],
   "source": [
    "# 甄别缺失值\n",
    "df.isna()\n",
    "df.notna()\n",
    "# 删除缺失值\n",
    "df.dropna(\n",
    "    axis,     # 删行或删列（默认值0）\n",
    "    how,      # 是否存在任意一个缺失值就删除（默认值'any'）\n",
    "    subset,   # 只对哪些行或列删除空值\n",
    "    inplace,  # 是否就地删除（要不要返回新的DataFrame对象）\n",
    ")\n",
    "# 填充缺失值\n",
    "df.fillna(\n",
    "    value,    # 填充的值\n",
    "    method,   # 填充空值的方法\n",
    "    inplace,  # 是否就地填充（要不要返回新的DataFrame对象）\n",
    ")\n",
    "# 使用插值算法插值\n",
    "df.interpolate(\n",
    "    method,   # 插值算法（默认值'linear'表示线性插值法） \n",
    "    axis,     # 沿着哪个轴插值\n",
    "    inplace,  # 是否就地插值（要不要返回新的DataFrame对象）\n",
    ")"
   ]
  },
  {
   "cell_type": "markdown",
   "id": "6b0e3a7f",
   "metadata": {},
   "source": [
    "2. 重复值"
   ]
  },
  {
   "cell_type": "code",
   "execution_count": null,
   "id": "b7e348f4",
   "metadata": {},
   "outputs": [],
   "source": [
    "# 甄别重复值\n",
    "df.duplicated(\n",
    "    subset,   # 用于判断重复的列标签\n",
    "    keep,     # 如何处理重复项（默认值'first'表示保留第一项）\n",
    ")\n",
    "# 删除重复值\n",
    "df.drop_duplicates(\n",
    "    subset,   # 用于判断重复的列标签\n",
    "    keep,     # 如何处理重复项（默认值'first'表示保留第一项）\n",
    "    inplace,  # 是否就地去重（默认值False）\n",
    ")\n",
    "# 统计非重复值\n",
    "df.nunique(axis)"
   ]
  },
  {
   "cell_type": "markdown",
   "id": "0831776f",
   "metadata": {},
   "source": [
    "3. 异常值\n",
    "\n",
    "异常值的处理重点在甄别，可以使用数值判定法、z-score 判定法、孤立森林等方法来进行甄别离群点，然后结合实际业务意义判定是不是异常值。对于异常值的处理，通常是替换或删除，删除可以用之前提到的`drop`方法删行或者删列。"
   ]
  },
  {
   "cell_type": "code",
   "execution_count": null,
   "id": "15dad505",
   "metadata": {},
   "outputs": [],
   "source": [
    "# 替换异常值\n",
    "df.replace(\n",
    "    to_replace,  # 被替换的值\n",
    "    value,       # 替换的值\n",
    "    inplace,     # 是否就地替换（要不要返回新的DataFrame对象）\n",
    "    regex,       # 是否启动正则表达式替换（默认值False）\n",
    ")"
   ]
  },
  {
   "cell_type": "markdown",
   "id": "3482f4e7",
   "metadata": {},
   "source": [
    "4. 预处理\n",
    "\n",
    "预处理通常在`Series`对象上对数据进行操作，假设变量`s`是一个`Series`对象，具体的操作包括：\n",
    "\n",
    "- 日期时间预处理"
   ]
  },
  {
   "cell_type": "code",
   "execution_count": null,
   "id": "cdbb3f46",
   "metadata": {},
   "outputs": [],
   "source": [
    "s.dt.year                   # 年\n",
    "s.dt.quarter                # 季度\n",
    "s.dt.month                  # 月\n",
    "s.dt.day                    # 日\n",
    "s.dt.hour                   # 时\n",
    "s.dt.minute                 # 分\n",
    "s.dt.second                 # 秒\n",
    "s.dt.weekday                # 星期几\n",
    "s.dt.to_period(freq)        # 以特定频率转换\n",
    "s.dt.floor(freq)            # 下取整\n",
    "s.dt.ceil(freq)             # 上取整\n",
    "s.dt.round(freq)            # 舍入\n",
    "s.dt.strftime(date_format)  # 格式化\n",
    "s.dt.tz_localize(tz)        # 时区本地化\n",
    "s.dt.tz_convert(tz)         # 转换时区"
   ]
  },
  {
   "cell_type": "markdown",
   "id": "77558ecd",
   "metadata": {},
   "source": [
    "- 字符串预处理"
   ]
  },
  {
   "cell_type": "code",
   "execution_count": null,
   "id": "eecd73a7",
   "metadata": {},
   "outputs": [],
   "source": [
    "s.str.lower()       # 字符串变小写\n",
    "s.str.upper()       # 字符串变大写\n",
    "s.str.title()       # 字符串首字母大写\n",
    "# 字符串拆分\n",
    "s.str.split(\n",
    "    pat,            # 拆分字符或正则表达式\n",
    "    n,              # 最大拆分次数\n",
    "    expand,         # 是否将拆分后的内容展开成多个列（默认值False）\n",
    ")\n",
    "# 从字符串中捕获内容\n",
    "s.str.extract(\n",
    "    pat,            # 正则表达式\n",
    "    flags,          # 正则表达式处理标记\n",
    "    expand,         # 是否将捕获内容展开成多个列（默认值True）\n",
    ")\n",
    "s.str.isalpha()     # 检查字符串是不是字母\n",
    "s.str.isnumeric()   # 检查字符串是不是数值\n",
    "s.str.isalnum()     # 检查字符串是不是字母数字\n",
    "s.str.isspace()     # 检查字符串是不是空白字符\n",
    "s.str.startswith()  # 检查字符串是否以指定内容开头 \n",
    "s.str.endswith()    # 检查字符串是否以指定内容结尾\n",
    "# 检查字符串是否跟正则表达式匹配\n",
    "s.str.match(\n",
    "    pat,            # 正则表达式\n",
    "    flags,          # 正则表达式处理标记\n",
    ")\n",
    "# 检查字符串是否包含指定内容\n",
    "s.str.contains(\n",
    "    pat,            # 字符串或正则表达式\n",
    "    flags,          # 正则表达式处理标记\n",
    "    regex,          # 是否使用正则表达式（默认值True）\n",
    ")\n",
    "# 替换\n",
    "s.str.replace(\n",
    "    pat,            # 被替换的内容（字符串或正则表达式）\n",
    "    repl,           # 替换的内容\n",
    "    n,              # 最大替换次数（默认值-1表示全部替换）\n",
    "    flags,          # 正则表达式处理标记\n",
    "    regex,          # 是否使用正则表达式（默认值True）\n",
    ")\n",
    "s.str.strip()       # 去掉字符串多余的空格\n",
    "s.str.join(sep)     # 用指定的分隔符将内容拼接成字符串\n",
    "# 字符串拼接\n",
    "s.str.cat(\n",
    "    others,         # 拼接的内容\n",
    "    sep,            # 分隔符\n",
    "    na_rep,         # 空值的替代符\n",
    ")\n",
    "s.str.len()         # 获得字符串长度\n",
    "# 查找子串的位置\n",
    "s.str.find(\n",
    "    sub,            # 子串\n",
    "    start,          # 起始位置\n",
    "    end,            # 结束位置\n",
    ")"
   ]
  },
  {
   "cell_type": "markdown",
   "id": "16084631",
   "metadata": {},
   "source": [
    "- 类别预处理"
   ]
  },
  {
   "cell_type": "code",
   "execution_count": null,
   "id": "65e20706",
   "metadata": {},
   "outputs": [],
   "source": [
    "# 类别重排序\n",
    "s.cat.reorder_categories(\n",
    "    new_categories,  # 新的类别顺序\n",
    "    inplace,         # 是否就地处理（默认值False）\n",
    ")\n",
    "# 添加类别\n",
    "s.cat.add_categories(\n",
    "    new_categories,  # 要添加的新类别\n",
    "    inplace,         # 是否就地处理（默认值False）\n",
    ")\n",
    "# 移除类别\n",
    "s.cat.remove_categories(\n",
    "    removals,        # 要移除的类别\n",
    "    inplace,         # 是否就地处理（默认值False）\n",
    ")\n",
    "# 移除没有使用的类别\n",
    "s.cat.remove_unused_categories(\n",
    "    inplace,         # 是否就地处理（默认值False）\n",
    ")\n",
    "# 类别重命名\n",
    "s.cat.rename_categories(\n",
    "    new_categories,  # 新的类别名称\n",
    "    inplace,         # 是否就地处理（默认值False）\n",
    ")"
   ]
  },
  {
   "cell_type": "markdown",
   "id": "dcec1ee5",
   "metadata": {},
   "source": [
    "- 二值化（虚拟变量）"
   ]
  },
  {
   "cell_type": "code",
   "execution_count": null,
   "id": "4e412497",
   "metadata": {},
   "outputs": [],
   "source": [
    "pd.get_dummies(\n",
    "    data,        # 需要转换为虚拟变量的Series或DataFrame\n",
    "    prefix,      # 指定生成的虚拟变量列的前缀\n",
    "    prefix_sep,  # 前缀和列名之间的分隔符\n",
    "    dummy_na,    # 是否为空值（NaN）生成一个列（默认值False）\n",
    "    columns,     # 指定要转换的列名\n",
    "    drop_first,  # 是否从生成的虚拟变量中删除第一个类别的列（默认值False）\n",
    ")"
   ]
  },
  {
   "cell_type": "markdown",
   "id": "e9b5c661",
   "metadata": {},
   "source": [
    "- 离散化（分箱）"
   ]
  },
  {
   "cell_type": "code",
   "execution_count": null,
   "id": "ffe4a2cf",
   "metadata": {},
   "outputs": [],
   "source": [
    "pd.cut(\n",
    "    x,        # 要分割的输入数据（一维数据）\n",
    "    bins,     # 分割的区间数或具体的区间边界\n",
    "    right,    # 区间是否包含右端点（默认值False）\n",
    "    labels,   # 指定每个区间的标签\n",
    "    retbins,  # 是否返回分割的边界数组（默认值False）\n",
    "    ordered,  # 返回的类别是否是有序的（默认值True）\n",
    ")\n",
    "pd.qcut(\n",
    "    x,        # 要分割的输入数据（一维数据）\n",
    "    q,        # 分割点的数量或具体的分位数\n",
    "    labels,   # 指定每个区间的标签\n",
    "    retbins,  # 是否返回分割的边界数组（默认值False）\n",
    ")"
   ]
  },
  {
   "cell_type": "markdown",
   "id": "ac8d634c",
   "metadata": {},
   "source": [
    "- 自定义转换"
   ]
  },
  {
   "cell_type": "code",
   "execution_count": null,
   "id": "00fa1797",
   "metadata": {},
   "outputs": [],
   "source": [
    "s.map(arg)          # 对数据进行元素级别的转换和映射\n",
    "df.map(func)        # 对数据进行元素级别的转换和映射\n",
    "# 通过指定函数对数据进行元素级别的转换\n",
    "s.apply(\n",
    "    func,           # 作用于每个元素的函数\n",
    "    convert_type,   # 尝试将结果转换为最适合的类型（默认值True）\n",
    "    args,           # 传递给func的额外位置参数\n",
    "    kwargs,         # 传递给func的额外关键字参数\n",
    ")   \n",
    "# 通过指定函数对数据进行行级或列级的转换\n",
    "df.apply(\n",
    "    func,           # 作用域行或列的函数\n",
    "    axis,           # 控制做行级还是列级转换\n",
    "    result_type,    # 指定返回的类型（'expand'表示扩展为列，'reduce'表示返回标量，'broadcast'表示广播为原始形状）\n",
    "    args,           # 传递给func的额外位置参数\n",
    "    kwargs,         # 传递给func的额外关键字参数\n",
    ")\n",
    "s.transform(func)   # 通过指定一个或多个函数对数据进行元素级别的转换\n",
    "df.transform(func)  # 通过指定一个或多个函数对数据进行行级或列级转换"
   ]
  },
  {
   "cell_type": "markdown",
   "id": "1d07d30d",
   "metadata": {},
   "source": [
    "#### 数据透视\n",
    "\n",
    "1. 描述性统计信息"
   ]
  },
  {
   "cell_type": "code",
   "execution_count": null,
   "id": "8e662201",
   "metadata": {},
   "outputs": [],
   "source": [
    "s.mean()     # 均值\n",
    "s.median()   # 中位数\n",
    "s.mode()     # 众数\n",
    "s.max()      # 最大值\n",
    "s.min()      # 最小值\n",
    "s.var(ddof)  # 方差（ddof代表自由度校正值）\n",
    "s.std(ddof)  # 标准差（ddof代表自由度校正值）\n",
    "s.skew()     # 偏态系数\n",
    "s.kurt()     # 峰度系数"
   ]
  },
  {
   "cell_type": "markdown",
   "id": "14128c01",
   "metadata": {},
   "source": [
    "2. 相关性分析"
   ]
  },
  {
   "cell_type": "code",
   "execution_count": null,
   "id": "38300a14",
   "metadata": {},
   "outputs": [],
   "source": [
    "df.cov()         # 协方差\n",
    "df.corr(method)  # 相关系数（默认'pearson'表示皮尔逊相关系数，可选值还有'kendall'和'spearman'）"
   ]
  },
  {
   "cell_type": "markdown",
   "id": "cac66aff",
   "metadata": {},
   "source": [
    "3. 排序和头部值"
   ]
  },
  {
   "cell_type": "code",
   "execution_count": null,
   "id": "657692ad",
   "metadata": {},
   "outputs": [],
   "source": [
    "# 排序\n",
    "s.sort_values(\n",
    "    asending,     # 升序或降序（默认值True）\n",
    "    inplace,      # 是否就地排序（默认值False）\n",
    "    kind,         # 排序算法（默认值'quicksort'）\n",
    "    na_position,  # 空值的位置（默认值'last'）\n",
    "    key,          # 指定比较元素的规则（函数）\n",
    ")\n",
    "# 排序\n",
    "df.sort_values(\n",
    "    by,           # 排序的依据\n",
    "    ascending,    # 升序或降序（默认值True）\n",
    "    inplace,      # 是否就地排序（默认值False）\n",
    "    kind,         # 排序算法（默认值'quicksort'）\n",
    "    na_position,  # 空值的位置（默认值'last'）\n",
    "    key,          # 指定比较元素的规则（函数）\n",
    ")\n",
    "# TopN元素（头部）\n",
    "s.nlargest(\n",
    "    n,            # 前N个最大值\n",
    "    keep,         # 如何处理重复值（默认值'first'）\n",
    ")\n",
    "# TopN元素（头部）\n",
    "df.nlargest(\n",
    "    n,            # 前N个最大值\n",
    "    columns,      # 指定用于排序的列名\n",
    "    keep,         # 如何处理重复值（默认值'first'）\n",
    ")\n",
    "# TopN元素（尾部）\n",
    "s.nsmallest(\n",
    "    n,            # 前N个最小值\n",
    "    keep,         # 如何处理重复值（默认值'first'）\n",
    ")\n",
    "# TopN元素（尾部）\n",
    "df.nsmallest(\n",
    "    n,            # 前N个最小值\n",
    "    columns,      # 指定用于排序的列名\n",
    "    keep,         # 如何处理重复值（默认值'first'）\n",
    ")"
   ]
  },
  {
   "cell_type": "markdown",
   "id": "1842981b",
   "metadata": {},
   "source": [
    "4. 分组聚合"
   ]
  },
  {
   "cell_type": "code",
   "execution_count": null,
   "id": "5c2e02b3",
   "metadata": {},
   "outputs": [],
   "source": [
    "df.groupby(\n",
    "    by,          # 指定用于分组的列名\n",
    "    level,       # 对于多级索引指定用哪一级分组\n",
    "    as_index,    # 是否将分组的列设置为索引（默认值True）\n",
    "    sort,        # 是否对分组的结果进行排序（默认值True）\n",
    "    observed,    # 只考虑在数据中实际出现的分组（默认值False）\n",
    ").aggregate(\n",
    "    func,        # 单个函数或函数列表\n",
    "    args,       # 函数的可变参数\n",
    "    kwargs,    # 函数的关键字参数\n",
    ")\n",
    "df.pivot(\n",
    "    index,       # 指定用作索引的列\n",
    "    columns,     # 要作为新列的列 \n",
    "    values,      # 用于填充新DataFrame中的值的列\n",
    ")\n",
    "df.melt(\n",
    "    id_vars,     # 在转换过程中保持不变的列\n",
    "    value_vars,  # 要转换为行的列\n",
    "    var_name,    # 指定存储原列名的新列名\n",
    "    value_name,  # 指定存储原数据值的新列名\n",
    ")"
   ]
  },
  {
   "cell_type": "markdown",
   "id": "78effb71",
   "metadata": {},
   "source": [
    "5. 透视表"
   ]
  },
  {
   "cell_type": "code",
   "execution_count": null,
   "id": "a8020c3d",
   "metadata": {},
   "outputs": [],
   "source": [
    "pd.pivot_table(\n",
    "    data,          # DataFrame对象\n",
    "    values,        # 需要聚合的列\n",
    "    index,         # 分组数据的字段（行索引）\n",
    "    columns,       # 分组数据的字段（列索引）\n",
    "    aggfunc,       # 聚合函数（默认值'mean'）\n",
    "    fill_value,    # 填充空值的值\n",
    "    margins,       # 是否计算行列总计（默认值False）\n",
    "    margins_name,  # 总计列的名字（默认值'All'）\n",
    "    observed       # 只考虑在数据中实际出现的分组（默认值False）\n",
    ")"
   ]
  },
  {
   "cell_type": "markdown",
   "id": "53339ba9",
   "metadata": {},
   "source": [
    "6. 交叉表"
   ]
  },
  {
   "cell_type": "code",
   "execution_count": null,
   "id": "787d49cb",
   "metadata": {},
   "outputs": [],
   "source": [
    "pd.crosstab(\n",
    "    index,         # 交叉表中的行变量\n",
    "    columns,       # 交叉表中的列变量\n",
    "    values,        # 用于填充交叉表的值（可选项）\n",
    "    aggfunc,       # 聚合函数（可选项）\n",
    "    margins,       # 是否计算行列总计（默认值False）\n",
    "    margins_name,  # 总计列的名字（默认值'All'）\n",
    ")"
   ]
  },
  {
   "cell_type": "markdown",
   "id": "b1fcbe34",
   "metadata": {},
   "source": [
    "#### 数据呈现"
   ]
  },
  {
   "cell_type": "code",
   "execution_count": null,
   "id": "41242fd0",
   "metadata": {},
   "outputs": [],
   "source": [
    "df.plot(\n",
    "    figsize,   # 图表尺寸（二元组）\n",
    "    kind,      # 图表类型\n",
    "    ax,        # 绘图的坐标系\n",
    "    x,         # 横轴数据\n",
    "    y,         # 纵轴数据\n",
    "    title,     # 图表标题\n",
    "    grid,      # 是否绘制网格\n",
    "    legend,    # 是否显示图例\n",
    "    xticks,    # 横轴刻度\n",
    "    yticks,    # 纵轴刻度\n",
    "    xlim,      # 横轴取值范围\n",
    "    ylim,      # 纵轴取值范围\n",
    "    xlabel,    # 横轴标签\n",
    "    ylabel,    # 纵轴标签\n",
    "    rot,       # 轴标签旋转角度\n",
    "    fontsize,  # 轴标签字体大小\n",
    "    colormap,  # 颜色系列\n",
    "    stacked,   # 是否绘制堆叠图（默认值False）\n",
    "    colorbar,  # 是否显示色彩条\n",
    ")"
   ]
  },
  {
   "cell_type": "markdown",
   "id": "0511bb85",
   "metadata": {},
   "source": [
    "`plot`方法最重要的参数是`kind`，它可以控制图表的类型，具体如下所示：\n",
    "\n",
    "1. 折线图：`kind='line'`\n",
    "2. 散点图：`kind='scatter'`\n",
    "3. 柱状图：`kind='bar'`\n",
    "4. 条状图（水平柱状图）：`kind='barh'`\n",
    "5. 饼状图：`kind='pie'`\n",
    "6. 直方图：`kind='hist'`\n",
    "7. 箱线图：`kind='box'`\n",
    "8. 面积图：`kind='area'`\n",
    "9. 核密度估计图：`kind='kde'`\n",
    "\n",
    "### 总结\n",
    "\n",
    "大家可以找一个数据集按照上面讲解的流程把这些最常用的类型、函数和方法过一遍，是不是印象就深刻一点了。更详细的内容还是推荐阅读我的专栏[《基于Python的数据分析》](https://www.zhihu.com/column/c_1217746527315496960)或者观看B站上的视频[《Python数据分析三剑客》](https://www.bilibili.com/video/BV13t4y1a7TV/)。"
   ]
  }
 ],
 "metadata": {},
 "nbformat": 4,
 "nbformat_minor": 5
}
