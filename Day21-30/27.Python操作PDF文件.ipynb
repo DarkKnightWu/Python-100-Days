{
 "cells": [
  {
   "cell_type": "markdown",
   "id": "aeffd2cc",
   "metadata": {},
   "source": [
    "## Python操作PDF文件\n",
    "\n",
    "PDF 是 Portable Document Format 的缩写，这类文件通常使用`.pdf`作为其扩展名。在日常开发工作中，最容易遇到的就是从 PDF 中读取文本内容以及用已有的内容生成PDF文档这两个任务。\n",
    "\n",
    "### 从PDF中提取文本\n",
    "\n",
    "在 Python 中，可以使用名为`PyPDF2`的三方库来读取 PDF 文件，可以使用下面的命令来安装它。"
   ]
  },
  {
   "cell_type": "code",
   "execution_count": null,
   "id": "2f12dd0c",
   "metadata": {
    "attributes": {
     "classes": [
      "Bash"
     ],
     "id": ""
    }
   },
   "outputs": [],
   "source": [
    "pip install PyPDF2"
   ]
  },
  {
   "cell_type": "markdown",
   "id": "fff27a55",
   "metadata": {},
   "source": [
    "`PyPDF2`没有办法从 PDF 文档中提取图像、图表或其他媒体，但它可以提取文本，并将其返回为 Python 字符串。"
   ]
  },
  {
   "cell_type": "code",
   "execution_count": null,
   "id": "9044aead",
   "metadata": {},
   "outputs": [],
   "source": [
    "import PyPDF2\n",
    "\n",
    "reader = PyPDF2.PdfReader('test.pdf')\n",
    "for page in reader.pages:\n",
    "    print(page.extract_text())"
   ]
  },
  {
   "cell_type": "markdown",
   "id": "4a00f56c",
   "metadata": {},
   "source": [
    "> **提示**：本章代码使用到的 PDF 文件都可以通过下面的百度云盘地址进行获取，链接：https://pan.baidu.com/s/1rQujl5RQn9R7PadB2Z5g_g，提取码：e7b4。\n",
    "\n",
    "当然，`PyPDF2`并不是什么样的 PDF 文档都能提取出文字来，这个问题就我所知并没有什么特别好的解决方法，尤其是在提取中文的时候。网上也有很多讲解从 PDF 中提取文字的文章，推荐大家自行阅读[《三大神器助力Python提取pdf文档信息》](https://cloud.tencent.com/developer/article/1395339)一文进行了解。\n",
    "\n",
    "要从 PDF 文件中提取文本也可以直接使用三方的命令行工具，具体的做法如下所示。"
   ]
  },
  {
   "cell_type": "code",
   "execution_count": null,
   "id": "5d701055",
   "metadata": {
    "attributes": {
     "classes": [
      "Bash"
     ],
     "id": ""
    }
   },
   "outputs": [],
   "source": [
    "pip install pdfminer.six\n",
    "pdf2text.py test.pdf"
   ]
  },
  {
   "cell_type": "markdown",
   "id": "cf368eec",
   "metadata": {},
   "source": [
    "### 旋转和叠加页面\n",
    "\n",
    "上面的代码中通过创建`PdfFileReader`对象的方式来读取 PDF 文档，该对象的`getPage`方法可以获得PDF文档的指定页并得到一个`PageObject`对象，通过`PageObject`对象的`rotateClockwise`和`rotateCounterClockwise`方法可以实现页面的顺时针和逆时针方向旋转，通过`PageObject`对象的`addBlankPage`方法可以添加一个新的空白页，代码如下所示。"
   ]
  },
  {
   "cell_type": "code",
   "execution_count": null,
   "id": "f17ba506",
   "metadata": {},
   "outputs": [],
   "source": [
    "reader = PyPDF2.PdfReader('XGBoost.pdf')\n",
    "writer = PyPDF2.PdfWriter()\n",
    "\n",
    "for no, page in enumerate(reader.pages):\n",
    "    if no % 2 == 0:\n",
    "        new_page = page.rotate(-90)\n",
    "    else:\n",
    "        new_page = page.rotate(90)\n",
    "    writer.add_page(new_page)\n",
    "\n",
    "with open('temp.pdf', 'wb') as file_obj:\n",
    "    writer.write(file_obj)"
   ]
  },
  {
   "cell_type": "markdown",
   "id": "b5ea2843",
   "metadata": {},
   "source": [
    "### 加密PDF文件\n",
    "\n",
    "使用`PyPDF2`中的`PdfFileWrite`对象可以为PDF文档加密，如果需要给一系列的PDF文档设置统一的访问口令，使用Python程序来处理就会非常的方便。"
   ]
  },
  {
   "cell_type": "code",
   "execution_count": null,
   "id": "767e4e7a",
   "metadata": {},
   "outputs": [],
   "source": [
    "import PyPDF2\n",
    "\n",
    "reader = PyPDF2.PdfReader('XGBoost.pdf')\n",
    "writer = PyPDF2.PdfWriter()\n",
    "\n",
    "for page in reader.pages:\n",
    "    writer.add_page(page)\n",
    "    \n",
    "writer.encrypt('foobared')\n",
    "\n",
    "with open('temp.pdf', 'wb') as file_obj:\n",
    "    writer.write(file_obj)"
   ]
  },
  {
   "cell_type": "markdown",
   "id": "4a5534a3",
   "metadata": {},
   "source": [
    "### 批量添加水印\n",
    "\n",
    "上面提到的`PageObject`对象还有一个名为`mergePage`的方法，可以两个 PDF 页面进行叠加，通过这个操作，我们很容易实现给PDF文件添加水印的功能。例如要给上面的“XGBoost.pdf”文件添加一个水印，我们可以先准备好一个提供水印页面的 PDF 文件，然后将包含水印的`PageObject`读取出来，然后再循环遍历“XGBoost.pdf”文件的每个页，获取到`PageObject`对象，然后通过`mergePage`方法实现水印页和原始页的合并，代码如下所示。"
   ]
  },
  {
   "cell_type": "code",
   "execution_count": null,
   "id": "a24a6ba7",
   "metadata": {},
   "outputs": [],
   "source": [
    "reader1 = PyPDF2.PdfReader('XGBoost.pdf')\n",
    "reader2 = PyPDF2.PdfReader('watermark.pdf')\n",
    "writer = PyPDF2.PdfWriter()\n",
    "watermark_page = reader2.pages[0]\n",
    "\n",
    "for page in reader1.pages:\n",
    "    page.merge_page(watermark_page)\n",
    "    writer.add_page(page)\n",
    "\n",
    "with open('temp.pdf', 'wb') as file_obj:\n",
    "    writer.write(file_obj)"
   ]
  },
  {
   "cell_type": "markdown",
   "id": "0dc57bdc",
   "metadata": {},
   "source": [
    "如果愿意，还可以让奇数页和偶数页使用不同的水印，大家可以自己思考下应该怎么做。\n",
    "\n",
    "### 创建PDF文件\n",
    "\n",
    "创建 PDF 文档需要三方库`reportlab`的支持，安装的方法如下所示。"
   ]
  },
  {
   "cell_type": "code",
   "execution_count": null,
   "id": "0e63b3e5",
   "metadata": {
    "attributes": {
     "classes": [
      "Bash"
     ],
     "id": ""
    }
   },
   "outputs": [],
   "source": [
    "pip install reportlab"
   ]
  },
  {
   "cell_type": "markdown",
   "id": "a748fbe9",
   "metadata": {},
   "source": [
    "下面通过一个例子为大家展示`reportlab`的用法。"
   ]
  },
  {
   "cell_type": "code",
   "execution_count": null,
   "id": "c6bc312c",
   "metadata": {},
   "outputs": [],
   "source": [
    "from reportlab.lib.pagesizes import A4\n",
    "from reportlab.pdfbase import pdfmetrics\n",
    "from reportlab.pdfbase.ttfonts import TTFont\n",
    "from reportlab.pdfgen import canvas\n",
    "\n",
    "pdf_canvas = canvas.Canvas('resources/demo.pdf', pagesize=A4)\n",
    "width, height = A4\n",
    "\n",
    "# 绘图\n",
    "image = canvas.ImageReader('resources/guido.jpg')\n",
    "pdf_canvas.drawImage(image, 20, height - 395, 250, 375)\n",
    "\n",
    "# 显示当前页\n",
    "pdf_canvas.showPage()\n",
    "\n",
    "# 注册字体文件\n",
    "pdfmetrics.registerFont(TTFont('Font1', 'resources/fonts/Vera.ttf'))\n",
    "pdfmetrics.registerFont(TTFont('Font2', 'resources/fonts/青呱石头体.ttf'))\n",
    "\n",
    "# 写字\n",
    "pdf_canvas.setFont('Font2', 40)\n",
    "pdf_canvas.setFillColorRGB(0.9, 0.5, 0.3, 1)\n",
    "pdf_canvas.drawString(width // 2 - 120, height // 2, '你好，世界！')\n",
    "pdf_canvas.setFont('Font1', 40)\n",
    "pdf_canvas.setFillColorRGB(0, 1, 0, 0.5)\n",
    "pdf_canvas.rotate(18)\n",
    "pdf_canvas.drawString(250, 250, 'hello, world!')\n",
    "\n",
    "# 保存\n",
    "pdf_canvas.save()"
   ]
  },
  {
   "cell_type": "markdown",
   "id": "5bc73bb2",
   "metadata": {},
   "source": [
    "上面的代码如果不太理解也没有关系，等真正需要用 Python 创建 PDF 文档的时候，再好好研读一下`reportlab`的[官方文档](https://www.reportlab.com/docs/reportlab-userguide.pdf)就可以了。\n",
    "\n",
    "> **提示**：上面代码中用到的图片和字体可以通过下面的百度云盘链接获取，链接：https://pan.baidu.com/s/1rQujl5RQn9R7PadB2Z5g_g，提取码：e7b4。\n",
    "\n",
    "###  总结\n",
    "\n",
    "在学习完上面的内容之后，相信大家已经知道像合并多个 PDF 文件这样的工作应该如何用 Python 代码来处理了，赶紧自己动手试一试吧。"
   ]
  }
 ],
 "metadata": {},
 "nbformat": 4,
 "nbformat_minor": 5
}
