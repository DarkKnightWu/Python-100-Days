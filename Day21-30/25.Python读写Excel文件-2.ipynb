{
 "cells": [
  {
   "cell_type": "markdown",
   "id": "5615b42f",
   "metadata": {},
   "source": [
    "## Python读写Excel文件-2\n",
    "\n",
    "### Excel简介\n",
    "\n",
    "Excel 是 Microsoft（微软）为使用 Windows 和 macOS 操作系统开发的一款电子表格软件。Excel 凭借其直观的界面、出色的计算功能和图表工具，再加上成功的市场营销，一直以来都是最为流行的个人计算机数据处理软件。当然，Excel 也有很多竞品，例如 Google Sheets、LibreOffice Calc、Numbers 等，这些竞品基本上也能够兼容 Excel，至少能够读写较新版本的 Excel 文件，当然这些不是我们讨论的重点。掌握用 Python 程序操作 Excel 文件，可以让日常办公自动化的工作更加轻松愉快，而且在很多商业项目中，导入导出 Excel 文件都是特别常见的功能。\n",
    "\n",
    "本章我们继续讲解基于另一个三方库`openpyxl`如何进行 Excel 文件操作，首先需要先安装它。"
   ]
  },
  {
   "cell_type": "code",
   "execution_count": null,
   "id": "e0eb2ddc",
   "metadata": {
    "attributes": {
     "classes": [
      "Bash"
     ],
     "id": ""
    }
   },
   "outputs": [],
   "source": [
    "pip install openpyxl"
   ]
  },
  {
   "cell_type": "markdown",
   "id": "b7364a3b",
   "metadata": {},
   "source": [
    "`openpyxl`的优点在于，当我们打开一个 Excel 文件后，既可以对它进行读操作，又可以对它进行写操作，而且在操作的便捷性上是优于`xlwt`和`xlrd`的。此外，如果要进行样式编辑和公式计算，使用`openpyxl`也远比上一个章节我们讲解的方式更为简单，而且`openpyxl`还支持数据透视和插入图表等操作，功能非常强大。有一点需要再次强调，`openpyxl`并不支持操作 Office 2007 以前版本的 Excel 文件。\n",
    "\n",
    "### 读取Excel文件\n",
    "\n",
    "例如在当前文件夹下有一个名为“阿里巴巴2020年股票数据.xlsx”的 Excel 文件，如果想读取并显示该文件的内容，可以通过如下所示的代码来完成。"
   ]
  },
  {
   "cell_type": "code",
   "execution_count": null,
   "id": "b56fd5e0",
   "metadata": {},
   "outputs": [],
   "source": [
    "import datetime\n",
    "\n",
    "import openpyxl\n",
    "\n",
    "# 加载一个工作簿 ---> Workbook\n",
    "wb = openpyxl.load_workbook('阿里巴巴2020年股票数据.xlsx')\n",
    "# 获取工作表的名字\n",
    "print(wb.sheetnames)\n",
    "# 获取工作表 ---> Worksheet\n",
    "sheet = wb.worksheets[0]\n",
    "# 获得单元格的范围\n",
    "print(sheet.dimensions)\n",
    "# 获得行数和列数\n",
    "print(sheet.max_row, sheet.max_column)\n",
    "\n",
    "# 获取指定单元格的值\n",
    "print(sheet.cell(3, 3).value)\n",
    "print(sheet['C3'].value)\n",
    "print(sheet['G255'].value)\n",
    "\n",
    "# 获取多个单元格（嵌套元组）\n",
    "print(sheet['A2:C5'])\n",
    "\n",
    "# 读取所有单元格的数据\n",
    "for row_ch in range(2, sheet.max_row + 1):\n",
    "    for col_ch in 'ABCDEFG':\n",
    "        value = sheet[f'{col_ch}{row_ch}'].value\n",
    "        if type(value) == datetime.datetime:\n",
    "            print(value.strftime('%Y年%m月%d日'), end='\\t')\n",
    "        elif type(value) == int:\n",
    "            print(f'{value:<10d}', end='\\t')\n",
    "        elif type(value) == float:\n",
    "            print(f'{value:.4f}', end='\\t')\n",
    "        else:\n",
    "            print(value, end='\\t')\n",
    "    print()"
   ]
  },
  {
   "cell_type": "markdown",
   "id": "e6f57446",
   "metadata": {},
   "source": [
    "> **提示**：上面代码中使用的Excel文件“阿里巴巴2020年股票数据.xlsx”可以通过后面的百度云盘地址进行获取。链接:https://pan.baidu.com/s/1rQujl5RQn9R7PadB2Z5g_g 提取码:e7b4。\n",
    "\n",
    "需要提醒大家一点，`openpyxl`获取指定的单元格有两种方式，一种是通过`cell`方法，需要注意，该方法的行索引和列索引都是从`1`开始的，这是为了照顾用惯了 Excel 的人的习惯；另一种是通过索引运算，通过指定单元格的坐标，例如`C3`、`G255`，也可以取得对应的单元格，再通过单元格对象的`value`属性，就可以获取到单元格的值。通过上面的代码，相信大家还注意到了，可以通过类似`sheet['A2:C5']`或`sheet['A2':'C5']`这样的切片操作获取多个单元格，该操作将返回嵌套的元组，相当于获取到了多行多列。\n",
    "\n",
    "### 写Excel文件\n",
    "\n",
    "下面我们使用`openpyxl`来进行写 Excel 操作。"
   ]
  },
  {
   "cell_type": "code",
   "execution_count": null,
   "id": "fe4dd733",
   "metadata": {},
   "outputs": [],
   "source": [
    "import random\n",
    "\n",
    "import openpyxl\n",
    "\n",
    "# 第一步：创建工作簿（Workbook）\n",
    "wb = openpyxl.Workbook()\n",
    "\n",
    "# 第二步：添加工作表（Worksheet）\n",
    "sheet = wb.active\n",
    "sheet.title = '期末成绩'\n",
    "\n",
    "titles = ('姓名', '语文', '数学', '英语')\n",
    "for col_index, title in enumerate(titles):\n",
    "    sheet.cell(1, col_index + 1, title)\n",
    "\n",
    "names = ('关羽', '张飞', '赵云', '马超', '黄忠')\n",
    "for row_index, name in enumerate(names):\n",
    "    sheet.cell(row_index + 2, 1, name)\n",
    "    for col_index in range(2, 5):\n",
    "        sheet.cell(row_index + 2, col_index, random.randrange(50, 101))\n",
    "\n",
    "# 第四步：保存工作簿\n",
    "wb.save('考试成绩表.xlsx')"
   ]
  },
  {
   "cell_type": "markdown",
   "id": "3d66072f",
   "metadata": {},
   "source": [
    "### 调整样式和公式计算\n",
    "\n",
    "在使用`openpyxl`操作 Excel 时，如果要调整单元格的样式，可以直接通过单元格对象（`Cell`对象）的属性进行操作。单元格对象的属性包括字体（`font`）、对齐（`alignment`）、边框（`border`）等，具体的可以参考`openpyxl`的[官方文档](https://openpyxl.readthedocs.io/en/stable/index.html)。在使用`openpyxl`时，如果需要做公式计算，可以完全按照 Excel 中的操作方式来进行，具体的代码如下所示。"
   ]
  },
  {
   "cell_type": "code",
   "execution_count": null,
   "id": "5d6ba0da",
   "metadata": {},
   "outputs": [],
   "source": [
    "import openpyxl\n",
    "from openpyxl.styles import Font, Alignment, Border, Side\n",
    "\n",
    "# 对齐方式\n",
    "alignment = Alignment(horizontal='center', vertical='center')\n",
    "# 边框线条\n",
    "side = Side(color='ff7f50', style='mediumDashed')\n",
    "\n",
    "wb = openpyxl.load_workbook('考试成绩表.xlsx')\n",
    "sheet = wb.worksheets[0]\n",
    "\n",
    "# 调整行高和列宽\n",
    "sheet.row_dimensions[1].height = 30\n",
    "sheet.column_dimensions['E'].width = 120\n",
    "\n",
    "sheet['E1'] = '平均分'\n",
    "# 设置字体\n",
    "sheet.cell(1, 5).font = Font(size=18, bold=True, color='ff1493', name='华文楷体')\n",
    "# 设置对齐方式\n",
    "sheet.cell(1, 5).alignment = alignment\n",
    "# 设置单元格边框\n",
    "sheet.cell(1, 5).border = Border(left=side, top=side, right=side, bottom=side)\n",
    "for i in range(2, 7):\n",
    "    # 公式计算每个学生的平均分\n",
    "    sheet[f'E{i}'] = f'=average(B{i}:D{i})'\n",
    "    sheet.cell(i, 5).font = Font(size=12, color='4169e1', italic=True)\n",
    "    sheet.cell(i, 5).alignment = alignment\n",
    "\n",
    "wb.save('考试成绩表.xlsx')"
   ]
  },
  {
   "cell_type": "markdown",
   "id": "fd5372dd",
   "metadata": {},
   "source": [
    "### 生成统计图表\n",
    "\n",
    "通过`openpyxl`库，可以直接向 Excel 中插入统计图表，具体的做法跟在 Excel 中插入图表大体一致。我们可以创建指定类型的图表对象，然后通过该对象的属性对图表进行设置。当然，最为重要的是为图表绑定数据，即横轴代表什么，纵轴代表什么，具体的数值是多少。最后，可以将图表对象添加到表单中，具体的代码如下所示。"
   ]
  },
  {
   "cell_type": "code",
   "execution_count": null,
   "id": "04fd7277",
   "metadata": {},
   "outputs": [],
   "source": [
    "from openpyxl import Workbook\n",
    "from openpyxl.chart import BarChart, Reference\n",
    "\n",
    "wb = Workbook(write_only=True)\n",
    "sheet = wb.create_sheet()\n",
    "\n",
    "rows = [\n",
    "    ('类别', '销售A组', '销售B组'),\n",
    "    ('手机', 40, 30),\n",
    "    ('平板', 50, 60),\n",
    "    ('笔记本', 80, 70),\n",
    "    ('外围设备', 20, 10),\n",
    "]\n",
    "\n",
    "# 向表单中添加行\n",
    "for row in rows:\n",
    "    sheet.append(row)\n",
    "\n",
    "# 创建图表对象\n",
    "chart = BarChart()\n",
    "chart.type = 'col'\n",
    "chart.style = 10\n",
    "# 设置图表的标题\n",
    "chart.title = '销售统计图'\n",
    "# 设置图表纵轴的标题\n",
    "chart.y_axis.title = '销量'\n",
    "# 设置图表横轴的标题\n",
    "chart.x_axis.title = '商品类别'\n",
    "# 设置数据的范围\n",
    "data = Reference(sheet, min_col=2, min_row=1, max_row=5, max_col=3)\n",
    "# 设置分类的范围\n",
    "cats = Reference(sheet, min_col=1, min_row=2, max_row=5)\n",
    "# 给图表添加数据\n",
    "chart.add_data(data, titles_from_data=True)\n",
    "# 给图表设置分类\n",
    "chart.set_categories(cats)\n",
    "chart.shape = 4\n",
    "# 将图表添加到表单指定的单元格中\n",
    "sheet.add_chart(chart, 'A10')\n",
    "\n",
    "wb.save('demo.xlsx')"
   ]
  },
  {
   "cell_type": "markdown",
   "id": "edcde847",
   "metadata": {},
   "source": [
    "运行上面的代码，打开生成的 Excel 文件，效果如下图所示。\n",
    "\n",
    "<img src=\"res/20210819235009.png\"  width=\"75%\">\n",
    "\n",
    "###  总结\n",
    "\n",
    "掌握了 Python 程序操作 Excel 的方法，可以解决日常办公中很多繁琐的处理 Excel 电子表格工作，最常见就是将多个数据格式相同的Excel 文件合并到一个文件以及从多个 Excel 文件或表单中提取指定的数据。如果数据体量较大或者处理数据的方式比较复杂，我们还是推荐大家使用 Python 数据分析神器之一的 pandas 库。"
   ]
  }
 ],
 "metadata": {},
 "nbformat": 4,
 "nbformat_minor": 5
}
