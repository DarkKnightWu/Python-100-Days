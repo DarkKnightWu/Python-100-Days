{
 "cells": [
  {
   "cell_type": "markdown",
   "id": "6deb70d2",
   "metadata": {},
   "source": [
    "## Python操作Word和PowerPoint文件\n",
    "\n",
    "在日常工作中，有很多简单重复的劳动其实完全可以交给 Python 程序，比如根据样板文件（模板文件）批量的生成很多个 Word 文件或 PowerPoint 文件。Word 是微软公司开发的文字处理程序，相信大家都不陌生，日常办公中很多正式的文档都是用 Word 进行撰写和编辑的，目前使用的 Word 文件后缀名一般为`.docx`。PowerPoint 是微软公司开发的演示文稿程序，是微软的 Office 系列软件中的一员，被商业人士、教师、学生等群体广泛使用，通常也将其称之为“幻灯片”。在 Python 中，可以使用名为`python-docx` 的三方库来操作 Word，可以使用名为`python-pptx`的三方库来生成 PowerPoint。\n",
    "\n",
    "### 操作Word文档\n",
    "\n",
    "我们可以先通过下面的命令来安装`python-docx`三方库。"
   ]
  },
  {
   "cell_type": "code",
   "execution_count": null,
   "id": "a004f277",
   "metadata": {},
   "outputs": [],
   "source": [
    "%%bash\n",
    "pip install python-docx"
   ]
  },
  {
   "cell_type": "markdown",
   "id": "d478da19",
   "metadata": {},
   "source": [
    "按照[官方文档](https://python-docx.readthedocs.io/en/latest/)的介绍，我们可以使用如下所示的代码来生成一个简单的 Word 文档。"
   ]
  },
  {
   "cell_type": "code",
   "execution_count": null,
   "id": "213f9a48",
   "metadata": {},
   "outputs": [],
   "source": [
    "from docx import Document\n",
    "from docx.shared import Cm, Pt\n",
    "\n",
    "from docx.document import Document as Doc\n",
    "\n",
    "# 创建代表Word文档的Doc对象\n",
    "document = Document()  # type: Doc\n",
    "# 添加大标题\n",
    "document.add_heading('快快乐乐学Python', 0)\n",
    "# 添加段落\n",
    "p = document.add_paragraph('Python是一门非常流行的编程语言，它')\n",
    "run = p.add_run('简单')\n",
    "run.bold = True\n",
    "run.font.size = Pt(18)\n",
    "p.add_run('而且')\n",
    "run = p.add_run('优雅')\n",
    "run.font.size = Pt(18)\n",
    "run.underline = True\n",
    "p.add_run('。')\n",
    "\n",
    "# 添加一级标题\n",
    "document.add_heading('Heading, level 1', level=1)\n",
    "# 添加带样式的段落\n",
    "document.add_paragraph('Intense quote', style='Intense Quote')\n",
    "# 添加无序列表\n",
    "document.add_paragraph(\n",
    "    'first item in unordered list', style='List Bullet'\n",
    ")\n",
    "document.add_paragraph(\n",
    "    'second item in ordered list', style='List Bullet'\n",
    ")\n",
    "# 添加有序列表\n",
    "document.add_paragraph(\n",
    "    'first item in ordered list', style='List Number'\n",
    ")\n",
    "document.add_paragraph(\n",
    "    'second item in ordered list', style='List Number'\n",
    ")\n",
    "\n",
    "# 添加图片（注意路径和图片必须要存在）\n",
    "document.add_picture('resources/guido.jpg', width=Cm(5.2))\n",
    "\n",
    "# 添加分节符\n",
    "document.add_section()\n",
    "\n",
    "records = (\n",
    "    ('骆昊', '男', '1995-5-5'),\n",
    "    ('孙美丽', '女', '1992-2-2')\n",
    ")\n",
    "# 添加表格\n",
    "table = document.add_table(rows=1, cols=3)\n",
    "table.style = 'Dark List'\n",
    "hdr_cells = table.rows[0].cells\n",
    "hdr_cells[0].text = '姓名'\n",
    "hdr_cells[1].text = '性别'\n",
    "hdr_cells[2].text = '出生日期'\n",
    "# 为表格添加行\n",
    "for name, sex, birthday in records:\n",
    "    row_cells = table.add_row().cells\n",
    "    row_cells[0].text = name\n",
    "    row_cells[1].text = sex\n",
    "    row_cells[2].text = birthday\n",
    "\n",
    "# 添加分页符\n",
    "document.add_page_break()\n",
    "\n",
    "# 保存文档\n",
    "document.save('demo.docx')"
   ]
  },
  {
   "cell_type": "markdown",
   "id": "bc784c11",
   "metadata": {},
   "source": [
    "> **提示**：上面代码第7行中的注释`# type: Doc`是为了在PyCharm中获得代码补全提示，因为如果不清楚对象具体的数据类型，PyCharm 无法在后续代码中给出`Doc`对象的代码补全提示。\n",
    "\n",
    "执行上面的代码，打开生成的 Word 文档，效果如下图所示。\n",
    "\n",
    "<img src=\"res/20210820002742.png\" width=\"40%\">&nbsp;&nbsp;<img src=\"res/20210820002843.png\" width=\"40%\">\n",
    "\n",
    "对于一个已经存在的 Word 文件，我们可以通过下面的代码去遍历它所有的段落并获取对应的内容。"
   ]
  },
  {
   "cell_type": "code",
   "execution_count": null,
   "id": "a870944e",
   "metadata": {},
   "outputs": [],
   "source": [
    "from docx import Document\n",
    "from docx.document import Document as Doc\n",
    "\n",
    "doc = Document('resources/离职证明.docx')  # type: Doc\n",
    "for no, p in enumerate(doc.paragraphs):\n",
    "    print(no, p.text)"
   ]
  },
  {
   "cell_type": "markdown",
   "id": "34bd4496",
   "metadata": {},
   "source": [
    "> **提示**：如果需要上面代码中的 Word 文件，可以通过下面的百度云盘地址进行获取。链接:https://pan.baidu.com/s/1rQujl5RQn9R7PadB2Z5g_g 提取码:e7b4。\n",
    "\n",
    "读取到的内容如下所示。"
   ]
  },
  {
   "cell_type": "code",
   "execution_count": null,
   "id": "c1b2cb3b",
   "metadata": {},
   "outputs": [],
   "source": [
    "0 \n",
    "1 离 职 证 明\n",
    "2 \n",
    "3 兹证明 王大锤 ，身份证号码： 100200199512120001 ，于 2018 年 8 月 7 日至 2020 年 6 月 28 日在我单位  开发部 部门担任 Java开发工程师 职务，在职期间无不良表现。因 个人 原因，于 2020 年 6 月 28 日起终止解除劳动合同。现已结清财务相关费用，办理完解除劳动关系相关手续，双方不存在任何劳动争议。\n",
    "4 \n",
    "5 特此证明！\n",
    "6 \n",
    "7 \n",
    "8 公司名称（盖章）:成都风车车科技有限公司\n",
    "9    \t\t\t2020 年 6 月 28 日"
   ]
  },
  {
   "cell_type": "markdown",
   "id": "ce49b020",
   "metadata": {},
   "source": [
    "讲到这里，相信很多读者已经想到了，我们可以把上面的离职证明制作成一个模板文件，把姓名、身份证号、入职和离职日期等信息用占位符代替，这样通过对占位符的替换，就可以根据实际需要写入对应的信息，这样就可以批量的生成 Word 文档。\n",
    "\n",
    "按照上面的思路，我们首先编辑一个离职证明的模板文件，如下图所示。\n",
    "\n",
    "<img src=\"res/20210820004223.png\" width=\"75%\" style=\"border:1px solid black\"/>\n",
    "\n",
    "接下来我们读取该文件，将占位符替换为真实信息，就可以生成一个新的 Word 文档，如下所示。"
   ]
  },
  {
   "cell_type": "code",
   "execution_count": null,
   "id": "d3f07fb2",
   "metadata": {},
   "outputs": [],
   "source": [
    "from docx import Document\n",
    "from docx.document import Document as Doc\n",
    "\n",
    "# 将真实信息用字典的方式保存在列表中\n",
    "employees = [\n",
    "    {\n",
    "        'name': '骆昊',\n",
    "        'id': '100200198011280001',\n",
    "        'sdate': '2008年3月1日',\n",
    "        'edate': '2012年2月29日',\n",
    "        'department': '产品研发',\n",
    "        'position': '架构师',\n",
    "        'company': '成都华为技术有限公司'\n",
    "    },\n",
    "    {\n",
    "        'name': '王大锤',\n",
    "        'id': '510210199012125566',\n",
    "        'sdate': '2019年1月1日',\n",
    "        'edate': '2021年4月30日',\n",
    "        'department': '产品研发',\n",
    "        'position': 'Python开发工程师',\n",
    "        'company': '成都谷道科技有限公司'\n",
    "    },\n",
    "    {\n",
    "        'name': '李元芳',\n",
    "        'id': '2102101995103221599',\n",
    "        'sdate': '2020年5月10日',\n",
    "        'edate': '2021年3月5日',\n",
    "        'department': '产品研发',\n",
    "        'position': 'Java开发工程师',\n",
    "        'company': '同城企业管理集团有限公司'\n",
    "    },\n",
    "]\n",
    "# 对列表进行循环遍历，批量生成Word文档 \n",
    "for emp_dict in employees:\n",
    "    # 读取离职证明模板文件\n",
    "    doc = Document('resources/离职证明模板.docx')  # type: Doc\n",
    "    # 循环遍历所有段落寻找占位符\n",
    "    for p in doc.paragraphs:\n",
    "        if '{' not in p.text:\n",
    "            continue\n",
    "        # 不能直接修改段落内容，否则会丢失样式\n",
    "        # 所以需要对段落中的元素进行遍历并进行查找替换\n",
    "        for run in p.runs:\n",
    "            if '{' not in run.text:\n",
    "                continue\n",
    "            # 将占位符换成实际内容\n",
    "            start, end = run.text.find('{'), run.text.find('}')\n",
    "            key, place_holder = run.text[start + 1:end], run.text[start:end + 1]\n",
    "            run.text = run.text.replace(place_holder, emp_dict[key])\n",
    "    # 每个人对应保存一个Word文档\n",
    "    doc.save(f'{emp_dict[\"name\"]}离职证明.docx')"
   ]
  },
  {
   "cell_type": "markdown",
   "id": "42d6fca0",
   "metadata": {},
   "source": [
    "执行上面的代码，会在当前路径下生成三个 Word 文档，如下图所示。\n",
    "\n",
    "<img src=\"res/20210820004825.png\" width=\"50%\">\n",
    "\n",
    "### 生成PowerPoint\n",
    "\n",
    "首先我们需要安装名为`python-pptx`的三方库，命令如下所示。"
   ]
  },
  {
   "cell_type": "code",
   "execution_count": null,
   "id": "928b6fa3",
   "metadata": {
    "attributes": {
     "classes": [
      "Bash"
     ],
     "id": ""
    }
   },
   "outputs": [],
   "source": [
    "pip install python-pptx"
   ]
  },
  {
   "cell_type": "markdown",
   "id": "2e894b06",
   "metadata": {},
   "source": [
    "用 Python 操作 PowerPoint 的内容，因为实际应用场景不算很多，我不打算在这里进行赘述，有兴趣的读者可以自行阅读`python-pptx`的[官方文档](https://python-pptx.readthedocs.io/en/latest/)，下面仅展示一段来自于官方文档的代码。"
   ]
  },
  {
   "cell_type": "code",
   "execution_count": null,
   "id": "66f4657e",
   "metadata": {},
   "outputs": [],
   "source": [
    "from pptx import Presentation\n",
    "\n",
    "# 创建幻灯片对象\n",
    "pres = Presentation()\n",
    "\n",
    "# 选择母版添加一页\n",
    "title_slide_layout = pres.slide_layouts[0]\n",
    "slide = pres.slides.add_slide(title_slide_layout)\n",
    "# 获取标题栏和副标题栏\n",
    "title = slide.shapes.title\n",
    "subtitle = slide.placeholders[1]\n",
    "# 编辑标题和副标题\n",
    "title.text = \"Welcome to Python\"\n",
    "subtitle.text = \"Life is short, I use Python\"\n",
    "\n",
    "# 选择母版添加一页\n",
    "bullet_slide_layout = pres.slide_layouts[1]\n",
    "slide = pres.slides.add_slide(bullet_slide_layout)\n",
    "# 获取页面上所有形状\n",
    "shapes = slide.shapes\n",
    "# 获取标题和主体\n",
    "title_shape = shapes.title\n",
    "body_shape = shapes.placeholders[1]\n",
    "# 编辑标题\n",
    "title_shape.text = 'Introduction'\n",
    "# 编辑主体内容\n",
    "tf = body_shape.text_frame\n",
    "tf.text = 'History of Python'\n",
    "# 添加一个一级段落\n",
    "p = tf.add_paragraph()\n",
    "p.text = 'X\\'max 1989'\n",
    "p.level = 1\n",
    "# 添加一个二级段落\n",
    "p = tf.add_paragraph()\n",
    "p.text = 'Guido began to write interpreter for Python.'\n",
    "p.level = 2\n",
    "\n",
    "# 保存幻灯片\n",
    "pres.save('test.pptx')"
   ]
  },
  {
   "cell_type": "markdown",
   "id": "feef6c8c",
   "metadata": {},
   "source": [
    "运行上面的代码，生成的 PowerPoint 文件如下图所示。\n",
    "\n",
    "<img src=\"res/20210820010306.png\" width=\"75%\" />\n",
    "\n",
    "### 总结\n",
    "\n",
    "用 Python 程序解决办公自动化的问题真的非常酷，它可以将我们从繁琐乏味的劳动中解放出来。写这类代码就是去做一件一劳永逸的事情，写代码的过程即便不怎么愉快，使用这些代码的时候应该是非常开心的。"
   ]
  }
 ],
 "metadata": {},
 "nbformat": 4,
 "nbformat_minor": 5
}
