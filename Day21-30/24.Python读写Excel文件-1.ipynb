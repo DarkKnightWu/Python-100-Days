{
 "cells": [
  {
   "cell_type": "markdown",
   "id": "a6e36652",
   "metadata": {},
   "source": [
    "## Python读写Excel文件-1\n",
    "\n",
    "### Excel简介\n",
    "\n",
    "Excel 是 Microsoft（微软）为使用 Windows 和 macOS 操作系统开发的一款电子表格软件。Excel 凭借其直观的界面、出色的计算功能和图表工具，再加上成功的市场营销，一直以来都是最为流行的个人计算机数据处理软件。当然，Excel 也有很多竞品，例如 Google Sheets、LibreOffice Calc、Numbers 等，这些竞品基本上也能够兼容 Excel，至少能够读写较新版本的 Excel 文件，当然这些不是我们讨论的重点。掌握用 Python 程序操作 Excel 文件，可以让日常办公自动化的工作更加轻松愉快，而且在很多商业项目中，导入导出 Excel 文件都是特别常见的功能。\n",
    "\n",
    "Python 操作 Excel 需要三方库的支持，如果要兼容 Excel 2007 以前的版本，也就是`xls`格式的 Excel 文件，可以使用三方库`xlrd`和`xlwt`，前者用于读 Excel 文件，后者用于写 Excel 文件。如果使用较新版本的 Excel，即`xlsx`格式的 Excel 文件，可以使用`openpyxl`库，当然这个库不仅仅可以操作Excel，还可以操作其他基于 Office Open XML 的电子表格文件。\n",
    "\n",
    "本章我们先讲解基于`xlwt`和`xlrd`操作 Excel 文件，大家可以先使用下面的命令安装这两个三方库以及配合使用的工具模块`xlutils`。"
   ]
  },
  {
   "cell_type": "code",
   "execution_count": null,
   "id": "e6bf7b3b",
   "metadata": {
    "attributes": {
     "classes": [
      "Bash"
     ],
     "id": ""
    }
   },
   "outputs": [],
   "source": [
    "pip install xlwt xlrd xlutils"
   ]
  },
  {
   "cell_type": "markdown",
   "id": "7b0564ad",
   "metadata": {},
   "source": [
    "### 读Excel文件\n",
    "\n",
    "例如在当前文件夹下有一个名为“阿里巴巴2020年股票数据.xls”的 Excel 文件，如果想读取并显示该文件的内容，可以通过如下所示的代码来完成。"
   ]
  },
  {
   "cell_type": "code",
   "execution_count": null,
   "id": "87960f56",
   "metadata": {},
   "outputs": [],
   "source": [
    "import xlrd\n",
    "\n",
    "# 使用xlrd模块的open_workbook函数打开指定Excel文件并获得Book对象（工作簿）\n",
    "wb = xlrd.open_workbook('阿里巴巴2020年股票数据.xls')\n",
    "# 通过Book对象的sheet_names方法可以获取所有表单名称\n",
    "sheetnames = wb.sheet_names()\n",
    "print(sheetnames)\n",
    "# 通过指定的表单名称获取Sheet对象（工作表）\n",
    "sheet = wb.sheet_by_name(sheetnames[0])\n",
    "# 通过Sheet对象的nrows和ncols属性获取表单的行数和列数\n",
    "print(sheet.nrows, sheet.ncols)\n",
    "for row in range(sheet.nrows):\n",
    "    for col in range(sheet.ncols):\n",
    "        # 通过Sheet对象的cell方法获取指定Cell对象（单元格）\n",
    "        # 通过Cell对象的value属性获取单元格中的值\n",
    "        value = sheet.cell(row, col).value\n",
    "        # 对除首行外的其他行进行数据格式化处理\n",
    "        if row > 0:\n",
    "            # 第1列的xldate类型先转成元组再格式化为“年月日”的格式\n",
    "            if col == 0:\n",
    "                # xldate_as_tuple函数的第二个参数只有0和1两个取值\n",
    "                # 其中0代表以1900-01-01为基准的日期，1代表以1904-01-01为基准的日期\n",
    "                value = xlrd.xldate_as_tuple(value, 0)\n",
    "                value = f'{value[0]}年{value[1]:>02d}月{value[2]:>02d}日'\n",
    "            # 其他列的number类型处理成小数点后保留两位有效数字的浮点数\n",
    "            else:\n",
    "                value = f'{value:.2f}'\n",
    "        print(value, end='\\t')\n",
    "    print()\n",
    "# 获取最后一个单元格的数据类型\n",
    "# 0 - 空值，1 - 字符串，2 - 数字，3 - 日期，4 - 布尔，5 - 错误\n",
    "last_cell_type = sheet.cell_type(sheet.nrows - 1, sheet.ncols - 1)\n",
    "print(last_cell_type)\n",
    "# 获取第一行的值（列表）\n",
    "print(sheet.row_values(0))\n",
    "# 获取指定行指定列范围的数据（列表）\n",
    "# 第一个参数代表行索引，第二个和第三个参数代表列的开始（含）和结束（不含）索引\n",
    "print(sheet.row_slice(3, 0, 5))"
   ]
  },
  {
   "cell_type": "markdown",
   "id": "9250cb12",
   "metadata": {},
   "source": [
    "> **提示**：上面代码中使用的Excel文件“阿里巴巴2020年股票数据.xls”可以通过后面的百度云盘地址进行获取。链接:https://pan.baidu.com/s/1rQujl5RQn9R7PadB2Z5g_g 提取码:e7b4。\n",
    "\n",
    "相信通过上面的代码，大家已经了解到了如何读取一个 Excel 文件，如果想知道更多关于`xlrd`模块的知识，可以阅读它的[官方文档](https://xlrd.readthedocs.io/en/latest/)。\n",
    "\n",
    "### 写Excel文件\n",
    "\n",
    "写入 Excel 文件可以通过`xlwt` 模块的`Workbook`类创建工作簿对象，通过工作簿对象的`add_sheet`方法可以添加工作表，通过工作表对象的`write`方法可以向指定单元格中写入数据，最后通过工作簿对象的`save`方法将工作簿写入到指定的文件或内存中。下面的代码实现了将5 个学生 3 门课程的考试成绩写入 Excel 文件的操作。"
   ]
  },
  {
   "cell_type": "code",
   "execution_count": null,
   "id": "e3e2b320",
   "metadata": {},
   "outputs": [],
   "source": [
    "import random\n",
    "\n",
    "import xlwt\n",
    "\n",
    "student_names = ['关羽', '张飞', '赵云', '马超', '黄忠']\n",
    "scores = [[random.randrange(50, 101) for _ in range(3)] for _ in range(5)]\n",
    "# 创建工作簿对象（Workbook）\n",
    "wb = xlwt.Workbook()\n",
    "# 创建工作表对象（Worksheet）\n",
    "sheet = wb.add_sheet('一年级二班')\n",
    "# 添加表头数据\n",
    "titles = ('姓名', '语文', '数学', '英语')\n",
    "for index, title in enumerate(titles):\n",
    "    sheet.write(0, index, title)\n",
    "# 将学生姓名和考试成绩写入单元格\n",
    "for row in range(len(scores)):\n",
    "    sheet.write(row + 1, 0, student_names[row])\n",
    "    for col in range(len(scores[row])):\n",
    "        sheet.write(row + 1, col + 1, scores[row][col])\n",
    "# 保存Excel工作簿\n",
    "wb.save('考试成绩表.xls')"
   ]
  },
  {
   "cell_type": "markdown",
   "id": "dc76fa6e",
   "metadata": {},
   "source": [
    "### 调整单元格样式\n",
    "\n",
    "在写Excel文件时，我们还可以为单元格设置样式，主要包括字体（Font）、对齐方式（Alignment）、边框（Border）和背景（Background）的设置，`xlwt`对这几项设置都封装了对应的类来支持。要设置单元格样式需要首先创建一个`XFStyle`对象，再通过该对象的属性对字体、对齐方式、边框等进行设定，例如在上面的例子中，如果希望将表头单元格的背景色修改为黄色，可以按照如下的方式进行操作。"
   ]
  },
  {
   "cell_type": "code",
   "execution_count": null,
   "id": "666b5e65",
   "metadata": {},
   "outputs": [],
   "source": [
    "header_style = xlwt.XFStyle()\n",
    "pattern = xlwt.Pattern()\n",
    "pattern.pattern = xlwt.Pattern.SOLID_PATTERN\n",
    "# 0 - 黑色、1 - 白色、2 - 红色、3 - 绿色、4 - 蓝色、5 - 黄色、6 - 粉色、7 - 青色\n",
    "pattern.pattern_fore_colour = 5\n",
    "header_style.pattern = pattern\n",
    "titles = ('姓名', '语文', '数学', '英语')\n",
    "for index, title in enumerate(titles):\n",
    "    sheet.write(0, index, title, header_style)"
   ]
  },
  {
   "cell_type": "markdown",
   "id": "d82490d4",
   "metadata": {},
   "source": [
    "如果希望为表头设置指定的字体，可以使用`Font`类并添加如下所示的代码。"
   ]
  },
  {
   "cell_type": "code",
   "execution_count": null,
   "id": "d1728f85",
   "metadata": {},
   "outputs": [],
   "source": [
    "font = xlwt.Font()\n",
    "# 字体名称\n",
    "font.name = '华文楷体'\n",
    "# 字体大小（20是基准单位，18表示18px）\n",
    "font.height = 20 * 18\n",
    "# 是否使用粗体\n",
    "font.bold = True\n",
    "# 是否使用斜体\n",
    "font.italic = False\n",
    "# 字体颜色\n",
    "font.colour_index = 1\n",
    "header_style.font = font"
   ]
  },
  {
   "cell_type": "markdown",
   "id": "95516fed",
   "metadata": {},
   "source": [
    "> **注意**：上面代码中指定的字体名（`font.name`）应当是本地系统有的字体，例如在我的电脑上有名为“华文楷体”的字体。\n",
    "\n",
    "如果希望表头垂直居中对齐，可以使用下面的代码进行设置。"
   ]
  },
  {
   "cell_type": "code",
   "execution_count": null,
   "id": "2e0fd83b",
   "metadata": {},
   "outputs": [],
   "source": [
    "align = xlwt.Alignment()\n",
    "# 垂直方向的对齐方式\n",
    "align.vert = xlwt.Alignment.VERT_CENTER\n",
    "# 水平方向的对齐方式\n",
    "align.horz = xlwt.Alignment.HORZ_CENTER\n",
    "header_style.alignment = align"
   ]
  },
  {
   "cell_type": "markdown",
   "id": "3be8cfdf",
   "metadata": {},
   "source": [
    "如果希望给表头加上黄色的虚线边框，可以使用下面的代码来设置。"
   ]
  },
  {
   "cell_type": "code",
   "execution_count": null,
   "id": "1ec57928",
   "metadata": {},
   "outputs": [],
   "source": [
    "borders = xlwt.Borders()\n",
    "props = (\n",
    "    ('top', 'top_colour'), ('right', 'right_colour'),\n",
    "    ('bottom', 'bottom_colour'), ('left', 'left_colour')\n",
    ")\n",
    "# 通过循环对四个方向的边框样式及颜色进行设定\n",
    "for position, color in props:\n",
    "    # 使用setattr内置函数动态给对象指定的属性赋值\n",
    "    setattr(borders, position, xlwt.Borders.DASHED)\n",
    "    setattr(borders, color, 5)\n",
    "header_style.borders = borders"
   ]
  },
  {
   "cell_type": "markdown",
   "id": "84574594",
   "metadata": {},
   "source": [
    "如果要调整单元格的宽度（列宽）和表头的高度（行高），可以按照下面的代码进行操作。"
   ]
  },
  {
   "cell_type": "code",
   "execution_count": null,
   "id": "921a7a52",
   "metadata": {},
   "outputs": [],
   "source": [
    "# 设置行高为40px\n",
    "sheet.row(0).set_style(xlwt.easyxf(f'font:height {20 * 40}'))\n",
    "titles = ('姓名', '语文', '数学', '英语')\n",
    "for index, title in enumerate(titles):\n",
    "    # 设置列宽为200px\n",
    "    sheet.col(index).width = 20 * 200\n",
    "    # 设置单元格的数据和样式\n",
    "    sheet.write(0, index, title, header_style)"
   ]
  },
  {
   "cell_type": "markdown",
   "id": "39aa09ff",
   "metadata": {},
   "source": [
    "### 公式计算\n",
    "\n",
    "对于前面打开的“阿里巴巴2020年股票数据.xls”文件，如果要统计全年收盘价（Close字段）的平均值以及全年交易量（Volume字段）的总和，可以使用Excel的公式计算即可。我们可以先使用`xlrd`读取Excel文件夹，然后通过`xlutils`三方库提供的`copy`函数将读取到的Excel文件转成`Workbook`对象进行写操作，在调用`write`方法时，可以将一个`Formula`对象写入单元格。\n",
    "\n",
    "实现公式计算的代码如下所示。"
   ]
  },
  {
   "cell_type": "code",
   "execution_count": null,
   "id": "83ab3d3e",
   "metadata": {},
   "outputs": [],
   "source": [
    "import xlrd\n",
    "import xlwt\n",
    "from xlutils.copy import copy\n",
    "\n",
    "wb_for_read = xlrd.open_workbook('阿里巴巴2020年股票数据.xls')\n",
    "sheet1 = wb_for_read.sheet_by_index(0)\n",
    "nrows, ncols = sheet1.nrows, sheet1.ncols\n",
    "wb_for_write = copy(wb_for_read)\n",
    "sheet2 = wb_for_write.get_sheet(0)\n",
    "sheet2.write(nrows, 4, xlwt.Formula(f'average(E2:E{nrows})'))\n",
    "sheet2.write(nrows, 6, xlwt.Formula(f'sum(G2:G{nrows})'))\n",
    "wb_for_write.save('阿里巴巴2020年股票数据汇总.xls')"
   ]
  },
  {
   "cell_type": "markdown",
   "id": "300e3010",
   "metadata": {},
   "source": [
    "> **说明**：上面的代码有一些小瑕疵，有兴趣的读者可以自行探索并思考如何解决。\n",
    "\n",
    "###  总结\n",
    "\n",
    "掌握了 Python 程序操作 Excel 的方法，可以解决日常办公中很多繁琐的处理 Excel 电子表格工作，最常见就是将多个数据格式相同的 Excel 文件合并到一个文件以及从多个 Excel 文件或表单中提取指定的数据。当然，如果要对表格数据进行处理，使用 Python 数据分析神器之一的 pandas 库可能更为方便。"
   ]
  }
 ],
 "metadata": {},
 "nbformat": 4,
 "nbformat_minor": 5
}
